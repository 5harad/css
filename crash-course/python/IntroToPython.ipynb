{
 "cells": [
  {
   "cell_type": "markdown",
   "metadata": {},
   "source": [
    "# Introduction to Python\n",
    "\n",
    "## Why `python`?\n",
    "- fast\n",
    "- modular\n",
    "- object oriented\n",
    "- tons of libraries\n",
    "- (relatively) easy to read\n",
    "- *gets the job done*\n",
    "\n",
    "Choice of primary programming language should really depend on your preferred style of thinking and tools of choice (e.g., linear models? decision trees?). But you'll never know if it's right (or wrong) for you unless you give it a try!\n",
    "\n",
    "### What do you mean by `python`?\n",
    "`Python` is the name of a programming language. Period. But different people could have different ideas about what '`python`' looks like. Three broad categories *I* have in mind are:\n",
    "1. Running interactive commands in the `python` interpreter (aka, the glorified calculator)\n",
    "<img src=\"img/ss_python_interp.png\" width=500>\n",
    "\n",
    "1. `Python` development in some kind of text editor or specialized environment\n",
    "<img src=\"img/ss_python_spyder.png\" width=500>\n",
    "\n",
    "1. Research-type scripting with heavy documentation and snippets of code (usually wrangling data)\n",
    "<img src=\"img/ss_python_notebook.png\" width=500>\n",
    "\n",
    "Today we'll be looking mostly at the third of these approaches, but i'll note that switching back and forth between a terminal and a python interpreter can also be a very powerful and quick way to accomplish some small tasks.\n",
    "\n",
    "**Prerequisites:**\n",
    "* Python 3.7\n",
    "* JupyterLab (see the [README](https://github.com/5harad/css) on the home page)\n",
    "\n",
    "If you're already looking at this notebook in your browser, you should be set.\n",
    "\n",
    "## Computing Word Frequencies\n",
    "\n",
    "One of the nice things about Python is that you really can start just diving in without understanding too much.\n",
    "\n",
    "Let's install and then import a useful library, `requests`, for working with files on the internet:"
   ]
  },
  {
   "cell_type": "code",
   "execution_count": null,
   "metadata": {},
   "outputs": [],
   "source": [
    "!pip3 install requests"
   ]
  },
  {
   "cell_type": "markdown",
   "metadata": {},
   "source": [
    "If the command above didn't work, you may need to open up a terminal window and run either `conda install requests` (if you're using the Anaconda distribution) or `pip install requests`."
   ]
  },
  {
   "cell_type": "code",
   "execution_count": null,
   "metadata": {},
   "outputs": [],
   "source": [
    "import requests"
   ]
  },
  {
   "cell_type": "markdown",
   "metadata": {},
   "source": [
    "Now we can use it to do some useful things.\n",
    "\n",
    "**Find an interesting book on [Project Gutenberg](https://www.gutenberg.org), and copy the link to the plain text (utf-8) file.** (Actually, anywhere you can find a plain text file of sufficient size is fine.)\n",
    "\n",
    "<img src=\"img/ttc-gutenberg-screenshot.png\" width=\"600\" />\n",
    "\n",
    "**Paste the link in place of the URL below.**"
   ]
  },
  {
   "cell_type": "code",
   "execution_count": null,
   "metadata": {},
   "outputs": [],
   "source": [
    "FULL_TXT_URL = \"https://www.gutenberg.org/files/98/98-0.txt\" # REPLACE THIS WITH YOUR OWN"
   ]
  },
  {
   "cell_type": "markdown",
   "metadata": {},
   "source": [
    "For this example, i'm using Charles Dickens's *A Tale of Two Cities*, because a past TA (Jongbin Jung) likes it so much."
   ]
  },
  {
   "cell_type": "code",
   "execution_count": null,
   "metadata": {},
   "outputs": [],
   "source": [
    "response = requests.get(FULL_TXT_URL)"
   ]
  },
  {
   "cell_type": "markdown",
   "metadata": {},
   "source": [
    "Okay, realistically, you probably didn't need a Python library for this---you could just have downloaded the file using your web browser or used a command-line utility like `curl` or `wget`---but later in the course, you'll see why it's useful to have this power from within Python. (For example: Interacting with web-based JSON APIs.)\n",
    "\n",
    "How long is the text?"
   ]
  },
  {
   "cell_type": "code",
   "execution_count": null,
   "metadata": {},
   "outputs": [],
   "source": [
    "len(response.text)"
   ]
  },
  {
   "cell_type": "markdown",
   "metadata": {},
   "source": [
    "That's pretty long. If we printed it all out, it'd take up our screen.\n",
    "\n",
    "Let's instead turn to a random \"page\". To do this, we'll need the `random` standard library module:"
   ]
  },
  {
   "cell_type": "code",
   "execution_count": null,
   "metadata": {},
   "outputs": [],
   "source": [
    "import random\n",
    "i = random.randint(1, len(response.text) - 1000)\n",
    "print(response.text[i:i+1000])"
   ]
  },
  {
   "cell_type": "markdown",
   "metadata": {},
   "source": [
    "Feel free to run the above cell multiple times to see different portions of the text."
   ]
  },
  {
   "cell_type": "markdown",
   "metadata": {},
   "source": [
    "### Sneak peek\n",
    "\n",
    "We're going to dig into this, but check out what we're going to build:"
   ]
  },
  {
   "cell_type": "code",
   "execution_count": null,
   "metadata": {},
   "outputs": [],
   "source": [
    "from lib import word_freqs\n",
    "print(word_freqs.compute_word_freqs(response.text)[:100])"
   ]
  },
  {
   "cell_type": "markdown",
   "metadata": {},
   "source": [
    "Wow. What was that?\n",
    "\n",
    "Let's spend some time building up to the solution."
   ]
  },
  {
   "cell_type": "markdown",
   "metadata": {},
   "source": [
    "### Strings\n",
    "\n",
    "We have this object, `response.text`, which is a string (type `str`) containing the full text of the book. What can we do with it?\n",
    "\n",
    "First, let's see some examples with a different string."
   ]
  },
  {
   "cell_type": "code",
   "execution_count": null,
   "metadata": {},
   "outputs": [],
   "source": [
    "MY_NAME = \"\" # put your name here\n",
    "s = \"Hello, my name is \" + MY_NAME + \". I have a feeling that Python is THE ANSWER to all my woes.\""
   ]
  },
  {
   "cell_type": "markdown",
   "metadata": {},
   "source": [
    "You can change everything to lower case:"
   ]
  },
  {
   "cell_type": "code",
   "execution_count": null,
   "metadata": {},
   "outputs": [],
   "source": [
    "s.lower()"
   ]
  },
  {
   "cell_type": "markdown",
   "metadata": {},
   "source": [
    "You can replace pieces of the string with others (note that *all* occurrences are replaced):"
   ]
  },
  {
   "cell_type": "code",
   "execution_count": null,
   "metadata": {},
   "outputs": [],
   "source": [
    "s.replace(\"is\", \"is NOT\")"
   ]
  },
  {
   "cell_type": "markdown",
   "metadata": {},
   "source": [
    "You can split it into a list:"
   ]
  },
  {
   "cell_type": "code",
   "execution_count": null,
   "metadata": {},
   "outputs": [],
   "source": [
    "s.split(\" \")"
   ]
  },
  {
   "cell_type": "markdown",
   "metadata": {},
   "source": [
    "To get an idea of what else you can do with a string, use some combination of `dir` and `help`, e.g.:"
   ]
  },
  {
   "cell_type": "code",
   "execution_count": null,
   "metadata": {},
   "outputs": [],
   "source": [
    "dir(s)"
   ]
  },
  {
   "cell_type": "code",
   "execution_count": null,
   "metadata": {},
   "outputs": [],
   "source": [
    "help(s.find)"
   ]
  },
  {
   "cell_type": "markdown",
   "metadata": {},
   "source": [
    "Okay, at this point we probably know enough to split our full text into a list of words.\n",
    "\n",
    "**Your turn: Split `response.text` into a list of words, saving it into a variable called `words`. How many words does your text contain?**"
   ]
  },
  {
   "cell_type": "code",
   "execution_count": null,
   "metadata": {},
   "outputs": [],
   "source": []
  },
  {
   "cell_type": "markdown",
   "metadata": {},
   "source": [
    "Any problems with this method? *(Discussion)*\n",
    "\n",
    "**Improve your solution above.**"
   ]
  },
  {
   "cell_type": "markdown",
   "metadata": {},
   "source": [
    "### Lists\n",
    "\n",
    "Okay, now we've got this object, `words`, which is a `list`:"
   ]
  },
  {
   "cell_type": "code",
   "execution_count": null,
   "metadata": {},
   "outputs": [],
   "source": [
    "type(words)"
   ]
  },
  {
   "cell_type": "markdown",
   "metadata": {},
   "source": [
    "What might we do with a list? Let's start with the obvious ones, like finding the length:"
   ]
  },
  {
   "cell_type": "code",
   "execution_count": null,
   "metadata": {},
   "outputs": [],
   "source": [
    "len(words)"
   ]
  },
  {
   "cell_type": "markdown",
   "metadata": {},
   "source": [
    "What about checking if a specific word is in the list?"
   ]
  },
  {
   "cell_type": "code",
   "execution_count": null,
   "metadata": {},
   "outputs": [],
   "source": [
    "'horse' in words"
   ]
  },
  {
   "cell_type": "code",
   "execution_count": null,
   "metadata": {},
   "outputs": [],
   "source": [
    "'iphone' in words"
   ]
  },
  {
   "cell_type": "markdown",
   "metadata": {},
   "source": [
    "If we're curious exactly where the element shows up in the list, we would do:"
   ]
  },
  {
   "cell_type": "code",
   "execution_count": null,
   "metadata": {},
   "outputs": [],
   "source": [
    "words.index('horse')"
   ]
  },
  {
   "cell_type": "markdown",
   "metadata": {},
   "source": [
    "To confirm things are working as expected, we could check the word at that index:"
   ]
  },
  {
   "cell_type": "code",
   "execution_count": null,
   "metadata": {},
   "outputs": [],
   "source": [
    "words[2389]"
   ]
  },
  {
   "cell_type": "markdown",
   "metadata": {},
   "source": [
    "Another super handy thing to do with lists, called *slicing*, is accessing a desired range of elements:"
   ]
  },
  {
   "cell_type": "code",
   "execution_count": null,
   "metadata": {},
   "outputs": [],
   "source": [
    "words[3000:3020]"
   ]
  },
  {
   "cell_type": "markdown",
   "metadata": {},
   "source": [
    "Indexing and slicing work from the back of the list, too, using negative numbers:"
   ]
  },
  {
   "cell_type": "code",
   "execution_count": null,
   "metadata": {},
   "outputs": [],
   "source": [
    "words[-10:]"
   ]
  },
  {
   "cell_type": "markdown",
   "metadata": {},
   "source": [
    "Everything above just treats `words` as *immutable* (unchanging). What if we want to add, remove, or modify elements of a list?"
   ]
  },
  {
   "cell_type": "code",
   "execution_count": null,
   "metadata": {},
   "outputs": [],
   "source": [
    "pets = [\"calico cat\", \"black labrador\", \"parakeet\", \"goldfish\"]"
   ]
  },
  {
   "cell_type": "markdown",
   "metadata": {},
   "source": [
    "Let's suppose our second-grade child begged and pleaded until we bought a gerbil:"
   ]
  },
  {
   "cell_type": "code",
   "execution_count": null,
   "metadata": {},
   "outputs": [],
   "source": [
    "pets.append(\"gerbil\")\n",
    "pets"
   ]
  },
  {
   "cell_type": "markdown",
   "metadata": {},
   "source": [
    "Unfortunately, said child was also in charge of feeding the gerbil, with predictable consequences:"
   ]
  },
  {
   "cell_type": "code",
   "execution_count": null,
   "metadata": {},
   "outputs": [],
   "source": [
    "pets.pop()"
   ]
  },
  {
   "cell_type": "markdown",
   "metadata": {},
   "source": [
    "We are back to our original list of pets:"
   ]
  },
  {
   "cell_type": "code",
   "execution_count": null,
   "metadata": {},
   "outputs": [],
   "source": [
    "pets"
   ]
  },
  {
   "cell_type": "markdown",
   "metadata": {},
   "source": [
    "You trade in your parakeet for something flashier:"
   ]
  },
  {
   "cell_type": "code",
   "execution_count": null,
   "metadata": {},
   "outputs": [],
   "source": [
    "pets[2] = 'scarlet macaw'\n",
    "pets"
   ]
  },
  {
   "cell_type": "markdown",
   "metadata": {},
   "source": [
    "The last obvious thing we might want to do is *iterate* over the list:"
   ]
  },
  {
   "cell_type": "code",
   "execution_count": null,
   "metadata": {},
   "outputs": [],
   "source": [
    "for pet in pets:\n",
    "    print(pet)"
   ]
  },
  {
   "cell_type": "markdown",
   "metadata": {},
   "source": [
    "**Your turn: Compute the fraction of words of even length by iterating over `words` and maintaining a counter variable.**\n",
    "\n",
    "*Hint 1:* `i % 2`, meaning \"`i` modulo 2\", is 1 if `i` is odd and 0 if `i` is even.\n",
    "\n",
    "*Hint 2:* `x += 1` is a convenient shorthand for `x = x + 1`. `x++` does not exist in Python."
   ]
  },
  {
   "cell_type": "code",
   "execution_count": null,
   "metadata": {},
   "outputs": [],
   "source": []
  },
  {
   "cell_type": "markdown",
   "metadata": {},
   "source": [
    "There's actually an even shorter way to write this with *list comprehensions*:"
   ]
  },
  {
   "cell_type": "code",
   "execution_count": null,
   "metadata": {},
   "outputs": [],
   "source": []
  },
  {
   "cell_type": "markdown",
   "metadata": {},
   "source": [
    "### Tangent: Sets\n",
    "\n",
    "In Python, a set of unique elements is known as a `set` (surprise, surprise). You also have its immutable counterpart, `frozenset`. For example:"
   ]
  },
  {
   "cell_type": "code",
   "execution_count": null,
   "metadata": {},
   "outputs": [],
   "source": [
    "set([1, 1, 2, 3, 47, 'red fish', 'blue fish', 'blue fish'])"
   ]
  },
  {
   "cell_type": "markdown",
   "metadata": {},
   "source": [
    "In Python 3, sets can also be constructed with bracket notation:"
   ]
  },
  {
   "cell_type": "code",
   "execution_count": null,
   "metadata": {},
   "outputs": [],
   "source": [
    "{1, 1, 2, 3, 47, 'red fish', 'blue fish', 'blue fish'}"
   ]
  },
  {
   "cell_type": "markdown",
   "metadata": {},
   "source": [
    "**Your turn: How many *unique* words are in your list of words?**"
   ]
  },
  {
   "cell_type": "code",
   "execution_count": null,
   "metadata": {},
   "outputs": [],
   "source": []
  },
  {
   "cell_type": "markdown",
   "metadata": {},
   "source": [
    "### Dictionaries\n",
    "\n",
    "We know how to iterate over lists, how to count, how to split into words. But how to maintain oodles of different counters? Enter the Python *dictionary*, or `dict` type.\n",
    "\n",
    "A `dict` associates *keys* with *values*. (We also say it \"maps\" keys to values.) It's a natural way to think about all sorts of things you might want to do, e.g. maintaining a store inventory:"
   ]
  },
  {
   "cell_type": "code",
   "execution_count": null,
   "metadata": {},
   "outputs": [],
   "source": [
    "inventory = {\n",
    "    'apples': 50,\n",
    "    'oranges': 60,\n",
    "    'pet food': 0,\n",
    "    'toilet paper': 1,\n",
    "    'burts bees': 'none, ever since it got bought out by clorox',\n",
    "}"
   ]
  },
  {
   "cell_type": "markdown",
   "metadata": {},
   "source": [
    "Now we can look things up:"
   ]
  },
  {
   "cell_type": "code",
   "execution_count": null,
   "metadata": {},
   "outputs": [],
   "source": [
    "inventory['apples']"
   ]
  },
  {
   "cell_type": "markdown",
   "metadata": {},
   "source": [
    "We can ask if we have an item:"
   ]
  },
  {
   "cell_type": "code",
   "execution_count": null,
   "metadata": {},
   "outputs": [],
   "source": [
    "'oranges' in inventory"
   ]
  },
  {
   "cell_type": "markdown",
   "metadata": {},
   "source": [
    "*Caution:* See what happens when we try to look up an item we don't have:"
   ]
  },
  {
   "cell_type": "code",
   "execution_count": null,
   "metadata": {},
   "outputs": [],
   "source": [
    "inventory['stereo systems']"
   ]
  },
  {
   "cell_type": "markdown",
   "metadata": {},
   "source": [
    "If someone buys a few oranges, we can update the inventory:"
   ]
  },
  {
   "cell_type": "code",
   "execution_count": null,
   "metadata": {},
   "outputs": [],
   "source": [
    "inventory['oranges'] -= 3\n",
    "inventory"
   ]
  },
  {
   "cell_type": "markdown",
   "metadata": {},
   "source": [
    "If we start stocking a new item, it's easy enough to add it:"
   ]
  },
  {
   "cell_type": "code",
   "execution_count": null,
   "metadata": {},
   "outputs": [],
   "source": [
    "inventory['gt kombucha'] = 36\n",
    "inventory"
   ]
  },
  {
   "cell_type": "markdown",
   "metadata": {},
   "source": [
    "Let's get rid of that silly Burt's Bees entry:"
   ]
  },
  {
   "cell_type": "code",
   "execution_count": null,
   "metadata": {},
   "outputs": [],
   "source": [
    "inventory.pop('burts bees')\n",
    "inventory"
   ]
  },
  {
   "cell_type": "markdown",
   "metadata": {},
   "source": [
    "Now let's say we wanted to compute the total value of our store inventory. I tell you that the unit prices are as follows:\n",
    "\n",
    "* apples: \\\\$0.40 ea\n",
    "* oranges: \\\\$0.35 ea\n",
    "* pet food: \\\\$80.00 ea\n",
    "* toilet paper: \\\\$11.00 ea\n",
    "* gt kombucha: \\\\$5.00 ea\n",
    "\n",
    "**Create a dictionary called `prices` with the unit prices of each item. The item should be used as the key, and the value should contain the price.**"
   ]
  },
  {
   "cell_type": "code",
   "execution_count": null,
   "metadata": {},
   "outputs": [],
   "source": []
  },
  {
   "cell_type": "markdown",
   "metadata": {},
   "source": [
    "Here are a few ways of looping over the items in the dictionary:"
   ]
  },
  {
   "cell_type": "code",
   "execution_count": null,
   "metadata": {},
   "outputs": [],
   "source": [
    "for item in prices:\n",
    "    print(item, '-', prices[item])"
   ]
  },
  {
   "cell_type": "code",
   "execution_count": null,
   "metadata": {},
   "outputs": [],
   "source": [
    "for item, unit_price in prices.items():\n",
    "    print(item, '-', unit_price)"
   ]
  },
  {
   "cell_type": "markdown",
   "metadata": {},
   "source": [
    "**Now: compute and output the total valuation of the store's inventory.**\n",
    "\n",
    "*Hint:* If you're trying to be concise, Python *does* have a `sum` function."
   ]
  },
  {
   "cell_type": "code",
   "execution_count": null,
   "metadata": {},
   "outputs": [],
   "source": []
  },
  {
   "cell_type": "markdown",
   "metadata": {},
   "source": [
    "Okay, back to our list of `words`. Given our knowledge, we should be able to do this!\n",
    "\n",
    "**Build a dictionary that associates each word with its number of occurrences in the text.**\n",
    "\n",
    "*Caution:* Think about what happens if you haven't seen a word before.\n",
    "\n",
    "*Super hacker hint:* If you want an extra concise solution, look into the `dict.get` method."
   ]
  },
  {
   "cell_type": "code",
   "execution_count": null,
   "metadata": {},
   "outputs": [],
   "source": []
  },
  {
   "cell_type": "markdown",
   "metadata": {},
   "source": [
    "### Builtins/functions\n",
    "\n",
    "One natural question you might ask is what the most frequent words are. For this, we probably want to sort and then examine the most common items. But how?\n",
    "\n",
    "Luckily, Python has a couple ways of going about this. Let's start with some random data:"
   ]
  },
  {
   "cell_type": "code",
   "execution_count": null,
   "metadata": {},
   "outputs": [],
   "source": [
    "rand_arr = [random.random() for _ in range(10)]\n",
    "print(rand_arr)"
   ]
  },
  {
   "cell_type": "markdown",
   "metadata": {},
   "source": [
    "We can return a sorted copy using Python's builtin function `sorted`, which doesn't modify the list in place:"
   ]
  },
  {
   "cell_type": "code",
   "execution_count": null,
   "metadata": {},
   "outputs": [],
   "source": [
    "print(sorted(rand_arr))\n",
    "print(rand_arr)"
   ]
  },
  {
   "cell_type": "markdown",
   "metadata": {},
   "source": [
    "Or, we can sort the list in place with the `sort` method available on a list:"
   ]
  },
  {
   "cell_type": "code",
   "execution_count": null,
   "metadata": {},
   "outputs": [],
   "source": [
    "rand_arr.sort()\n",
    "print(rand_arr)"
   ]
  },
  {
   "cell_type": "markdown",
   "metadata": {},
   "source": [
    "What if we want to sort in descending order? Well, we could be sneaky:"
   ]
  },
  {
   "cell_type": "code",
   "execution_count": null,
   "metadata": {},
   "outputs": [],
   "source": [
    "rand_arr.reverse()\n",
    "print(rand_arr)"
   ]
  },
  {
   "cell_type": "markdown",
   "metadata": {},
   "source": [
    "But that's no fun. Instead, let's use the `key` argument of the `sorted` builtin with a lambda function:"
   ]
  },
  {
   "cell_type": "code",
   "execution_count": null,
   "metadata": {},
   "outputs": [],
   "source": [
    "print(sorted(rand_arr, key=lambda x: -x))"
   ]
  },
  {
   "cell_type": "markdown",
   "metadata": {},
   "source": [
    "Note that sorting only works on *sequence types* (`list`, `string`, `set`) but not on a `dict`. Why might this be? *(Discussion.)*"
   ]
  },
  {
   "cell_type": "markdown",
   "metadata": {},
   "source": [
    "### Putting it together\n",
    "\n",
    "Back to our dictionary of word frequencies.\n",
    "\n",
    "**Now, obtain a sorted copy of the items in the dictionary, in descending order of word count.**\n",
    "\n",
    "*Extended hint:* Python contains a builtin function called `sorted`. It operates on *sequences* (`list`, `string`, `set`) but not on a `dict`. (Can you think why this is?) It also takes a `key` keyword argument that takes a `function` specifying how to access the piece of data to be used in comparison for sorting. You may want to use `dict.items`."
   ]
  },
  {
   "cell_type": "code",
   "execution_count": null,
   "metadata": {},
   "outputs": [],
   "source": []
  },
  {
   "cell_type": "markdown",
   "metadata": {},
   "source": [
    "### Saving your progress\n",
    "\n",
    "We have this beautiful, sorted list of all our words and their respective counts, but right now it's sitting in memory and could disappear if anything goes wrong (computer crash, segfault, EMP shockwave, etc.). How do we save this in a handy dandy file?\n",
    "\n",
    "Here's a quick recipe:"
   ]
  },
  {
   "cell_type": "code",
   "execution_count": null,
   "metadata": {},
   "outputs": [],
   "source": [
    "with open('hello.txt', 'w') as f:\n",
    "    f.write('Hello, my name is ' + MY_NAME + '.')"
   ]
  },
  {
   "cell_type": "markdown",
   "metadata": {},
   "source": [
    "We don't have to do it all in one fell swoop, either. We can write line by line (*but be careful with newlines*):"
   ]
  },
  {
   "cell_type": "code",
   "execution_count": null,
   "metadata": {},
   "outputs": [],
   "source": [
    "with open('inventory.txt', 'w') as f:\n",
    "    for item in inventory:\n",
    "        line = 'We have %d %s at $%f each.\\n' % (inventory[item], item, prices[item])\n",
    "        f.write(line)"
   ]
  },
  {
   "cell_type": "markdown",
   "metadata": {},
   "source": [
    "It's often easier just to do something like `'\\n'.join(lines)`, where `lines` is a list of strings, and then just write the entire string:"
   ]
  },
  {
   "cell_type": "code",
   "execution_count": null,
   "metadata": {},
   "outputs": [],
   "source": [
    "lines = ['We have %d %s at $%f each.' % (inventory[item], item, prices[item])\n",
    "         for item in inventory]\n",
    "with open('inventory.txt', 'w') as f:\n",
    "    f.write('\\n'.join(lines))"
   ]
  },
  {
   "cell_type": "markdown",
   "metadata": {},
   "source": [
    "If you're running a Python script in the terminal, on the other hand, you'd probably just use `print` and redirect the output where you want it.\n",
    "\n",
    "To read the file back in, you need `'r'` mode rather than `'w'`. Actually, `'r'` is the default, so you can just omit it:"
   ]
  },
  {
   "cell_type": "markdown",
   "metadata": {},
   "source": [
    "**Your turn: Write the sorted frequencies to `word_frequencies.txt`, in the following format:**\n",
    "```\n",
    "word1,count1\n",
    "word2,count2\n",
    "word3,count3\n",
    "```\n",
    "et cetera. For example, my (very uninteresting) first few lines are\n",
    "```\n",
    "the,8228\n",
    "and,5066\n",
    "of,4139\n",
    "to,3650\n",
    "```"
   ]
  },
  {
   "cell_type": "code",
   "execution_count": null,
   "metadata": {},
   "outputs": [],
   "source": []
  },
  {
   "cell_type": "markdown",
   "metadata": {},
   "source": [
    "🎉That's it! 🎉\n",
    "\n",
    "Here, have a 🏅for your efforts."
   ]
  }
 ],
 "metadata": {
  "kernelspec": {
   "display_name": "Python 3",
   "language": "python",
   "name": "python3"
  },
  "language_info": {
   "codemirror_mode": {
    "name": "ipython",
    "version": 3
   },
   "file_extension": ".py",
   "mimetype": "text/x-python",
   "name": "python",
   "nbconvert_exporter": "python",
   "pygments_lexer": "ipython3",
   "version": "3.7.4"
  }
 },
 "nbformat": 4,
 "nbformat_minor": 4
}
