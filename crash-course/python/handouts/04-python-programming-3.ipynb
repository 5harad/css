{
 "cells": [
  {
   "cell_type": "markdown",
   "metadata": {
    "slideshow": {
     "slide_type": "slide"
    }
   },
   "source": [
    "# `Python` crash course"
   ]
  },
  {
   "cell_type": "markdown",
   "metadata": {
    "slideshow": {
     "slide_type": "-"
    }
   },
   "source": [
    "# Classes with `python`\n",
    "with **Jongbin Jung**\n",
    "\n",
    "All material publicly available [here](https://github.com/5harad/css)"
   ]
  },
  {
   "cell_type": "markdown",
   "metadata": {},
   "source": [
    "## 2. `python` programming - 3 of 3\n",
    "\n",
    "The final topic of `python` programming (for the crash course, but by no means for `python` in general!) is `class`es."
   ]
  },
  {
   "cell_type": "markdown",
   "metadata": {},
   "source": [
    "### Classes\n",
    "If you've worked with/written classes before in another language, then dealing with `class`es in `python` should be a breeze, once you get some syntax cleared. (But on the other hand, if you are experienced in programming to that degree, this introductory workshop was probably pretty boring for you...)\n",
    "\n",
    "If you've never heard of object-oriented programming or `class`es in a programming context, keep in mind that while we'll try to cover some of the core concepts, this is by no means an exhaustive treatment of the topic. If you want to learn more about the fundamentals of object-oriented programming, there are tons of books and courses focusing on exactly that. \n",
    "\n",
    "Here, lets try to focus on what's useful in getting work done with `python`, even if you don't quite understand precisely what's going on under-the-hood."
   ]
  },
  {
   "cell_type": "markdown",
   "metadata": {},
   "source": [
    "In `python`, you can define a `class` using the `class` keyword, followed by a class name and indented statements that belong to the class (one `python` naming convention is to use CamelCases for class names):"
   ]
  },
  {
   "cell_type": "code",
   "execution_count": 1,
   "metadata": {},
   "outputs": [],
   "source": [
    "class MyFirstClass:\n",
    "    \"\"\"A simple example class\"\"\"\n",
    "    def __init__(self, name='Jongbin'):\n",
    "        self.name = name"
   ]
  },
  {
   "cell_type": "markdown",
   "metadata": {},
   "source": [
    "Let's pause there for a second.\n",
    "\n",
    "So, what *is* a `class`? I find it useful (not always correct, but useful) to think of a `class` as a blueprint for some kind of entity. For example, a Human would be a `class`. A `class` itself doesn't necessarily do anything, just like the concept of a Human doesn't do much. However, there can be *instances* (copies, actual realizations) of a `class`, just like we are all instances of the Human `class`.\n",
    "\n",
    "The `class` definition, therefore, defines what that `class` looks like. \n",
    "\n",
    "- What **attribute** (data, values) does it have? For example, the Human `class` typically has a head, two arms, and two legs. \n",
    "- What **methods** does the `class` have, i.e., what can the `class` do? For example, the Human `class` can think(), walk(), run(), type(), etc., each involving some kind of maneuvering of its attributes (head, arms, legs, ...)"
   ]
  },
  {
   "cell_type": "markdown",
   "metadata": {},
   "source": [
    "While we're at it, let's try and define a simple Human `class`:"
   ]
  },
  {
   "cell_type": "code",
   "execution_count": 2,
   "metadata": {
    "scrolled": true
   },
   "outputs": [],
   "source": [
    "class Human:\n",
    "    \"\"\"Basic Human class\"\"\"\n",
    "    def __init__(self):\n",
    "        \"\"\"Initialize the Human\"\"\"\n",
    "        self.head = True\n",
    "    \n",
    "    def think(self):\n",
    "        \"\"\"Makes the Human think\"\"\"\n",
    "        if self.head:\n",
    "            print(\"I'm thinking...\")\n",
    "        else:\n",
    "            print(\"Pretty hard to think without a head...\")"
   ]
  },
  {
   "cell_type": "markdown",
   "metadata": {},
   "source": [
    "Remember, this definition is just a blueprint. If we actually want to use a human of the `class` Human, we need to create an *instance* of `Human` (note another convention: instances will usually be lower case). Creating an instance in `python` is as simple as pretending the `class` is a function and *calling* it:"
   ]
  },
  {
   "cell_type": "code",
   "execution_count": 3,
   "metadata": {},
   "outputs": [],
   "source": [
    "jongbin = Human()"
   ]
  },
  {
   "cell_type": "markdown",
   "metadata": {},
   "source": [
    "Once we've created an instance, that instance has all the attributes and methods described in the blueprint:"
   ]
  },
  {
   "cell_type": "code",
   "execution_count": 4,
   "metadata": {},
   "outputs": [
    {
     "name": "stdout",
     "output_type": "stream",
     "text": [
      "True\n",
      "I'm thinking...\n",
      "Pretty hard to think without a head...\n"
     ]
    }
   ],
   "source": [
    "print(jongbin.head)  # print the value of jongbin's head\n",
    "jongbin.think()  # make the Human jongbin think\n",
    "jongbin.head = False  # set the value of jongbin's head to False\n",
    "jongbin.think()  # make the Human jongbin think, again"
   ]
  },
  {
   "cell_type": "markdown",
   "metadata": {},
   "source": [
    "Some notes on syntax:\n",
    "- `self`: The `self` keyword in `class` definitions refer to the instance of the `class` that is making the calls. All `class` methods (functions defined inside a `class` definition) are required to take `self` as the first argument. For now, let's think of this as a syntactic requirement. More on this later ...\n",
    "- `__init__`: The `__init__` method is called by default when a `class` instance is created. If the `class` definition doesn't explicitly define an `__init__` method, an empty `class` object is created. In other words, you don't *__have to__* define an `__init__` method, but it's usually useful to have one so that you can declare some initial values for instances of your `class`. "
   ]
  },
  {
   "cell_type": "markdown",
   "metadata": {},
   "source": [
    "The `__init__` method can also take arguments (other than `self`). So, for example, if we wanted our humans to have a name, and let users define the human's name when the human is created, we can modify the `__init__` method to:"
   ]
  },
  {
   "cell_type": "code",
   "execution_count": 5,
   "metadata": {},
   "outputs": [],
   "source": [
    "class Human:\n",
    "    \"\"\"Basic Human class\"\"\"\n",
    "    def __init__(self, name):\n",
    "        \"\"\"Initialize the Human\"\"\"\n",
    "        self.head = True\n",
    "        self.name = name\n",
    "    \n",
    "    def think(self):\n",
    "        \"\"\"Makes the Human think\"\"\"\n",
    "        if self.head:\n",
    "            print('My name is', self.name, \"and I'm thinking...\")\n",
    "        else:\n",
    "            print(\"Pretty hard to think without a head...\")"
   ]
  },
  {
   "cell_type": "code",
   "execution_count": 6,
   "metadata": {},
   "outputs": [
    {
     "name": "stdout",
     "output_type": "stream",
     "text": [
      "My name is Jongbin and I'm thinking...\n"
     ]
    }
   ],
   "source": [
    "jongbin = Human('Jongbin')\n",
    "jongbin.think()"
   ]
  },
  {
   "cell_type": "markdown",
   "metadata": {},
   "source": [
    "#### The `self`\n",
    "Now let's talk a bit more about that `self`. It is important to have a clear distinction between the `class` as a class definition (or `class` object), and an actual *__instance__* of said `class`. Attributes in a `class` definition that are not prepended with `self` will belong to the `class` object, and anything prepended with a `self` will belong to the instance of that `class` that is currently making the call. \n",
    "\n",
    "This can be mildly confusing, but becomes quite important if you have mutable attributes. Let's add a list of `tools` for our Human `class`:"
   ]
  },
  {
   "cell_type": "code",
   "execution_count": 7,
   "metadata": {},
   "outputs": [],
   "source": [
    "class Human:\n",
    "    \"\"\"Basic Human class\"\"\"\n",
    "    tools = []  # all Humans have a list of tools\n",
    "    \n",
    "    def __init__(self, name):\n",
    "        \"\"\"Initialize the Human\"\"\"\n",
    "        self.head = True\n",
    "        self.name = name\n",
    "    \n",
    "    def think(self):\n",
    "        \"\"\"Makes the Human think\"\"\"\n",
    "        if self.head:\n",
    "            print('My name is', self.name, \"and I'm thinking...\")\n",
    "        else:\n",
    "            print(\"Pretty hard to think without a head...\")\n",
    "            \n",
    "    def add_tool(self, tool):\n",
    "        \"\"\"Add a tool to the list of tools\"\"\"\n",
    "        self.tools.append(tool)\n",
    "        \n",
    "    def get_tools(self):\n",
    "        \"\"\"Print the tools that the human has\"\"\"\n",
    "        print(self.name, 'has:', end = ' ')\n",
    "        for tool in self.tools:\n",
    "            print(tool, end = ' | ')\n",
    "        print()  # create newline after last tool"
   ]
  },
  {
   "cell_type": "markdown",
   "metadata": {},
   "source": [
    "Now, lets create some humans, and see how the list of tools work:"
   ]
  },
  {
   "cell_type": "code",
   "execution_count": 8,
   "metadata": {},
   "outputs": [
    {
     "name": "stdout",
     "output_type": "stream",
     "text": [
      "Luke has: light saber | death star | \n",
      "Anakin has: light saber | death star | \n"
     ]
    }
   ],
   "source": [
    "luke = Human('Luke')\n",
    "anakin = Human('Anakin')\n",
    "luke.add_tool('light saber')  # add light saber to Luke's tools\n",
    "anakin.add_tool('death star')  # add death star to Anakin's tools\n",
    "luke.get_tools()  # print Luke's tools\n",
    "anakin.get_tools()  # print Anakin's tools"
   ]
  },
  {
   "cell_type": "markdown",
   "metadata": {},
   "source": [
    "See that even though two Human instances added their own tool, both ended up having all the tools, since the `tools` list was declared without the `self` prepended, making it an attribute of the `class` object, instead of an attribute of each instance.\n",
    "\n",
    "If we wanted each Human to have ther own list of tools, a better way to define the `class` would have been:"
   ]
  },
  {
   "cell_type": "code",
   "execution_count": 9,
   "metadata": {},
   "outputs": [],
   "source": [
    "class Human:\n",
    "    \"\"\"Basic Human class\"\"\"\n",
    "    def __init__(self, name):\n",
    "        \"\"\"Initialize the Human\"\"\"\n",
    "        self.head = True\n",
    "        self.name = name\n",
    "    \n",
    "        self.tools = []  # initiate a specific human's list of tools\n",
    "        \n",
    "    def think(self):\n",
    "        \"\"\"Makes the Human think\"\"\"\n",
    "        if self.head:\n",
    "            print('My name is', self.name, \"and I'm thinking...\")\n",
    "        else:\n",
    "            print(\"Pretty hard to think without a head...\")\n",
    "            \n",
    "    def add_tool(self, tool):\n",
    "        \"\"\"Add a tool to the list of tools\"\"\"\n",
    "        self.tools.append(tool)\n",
    "        \n",
    "    def get_tools(self):\n",
    "        \"\"\"Print the tools that the human has\"\"\"\n",
    "        print(self.name, 'has:', end = \" \")\n",
    "        for tool in self.tools:\n",
    "            print(tool, end = ' | ')\n",
    "        print()  # create newline after last tool"
   ]
  },
  {
   "cell_type": "code",
   "execution_count": 10,
   "metadata": {},
   "outputs": [
    {
     "name": "stdout",
     "output_type": "stream",
     "text": [
      "Luke has: light saber | \n",
      "Anakin has: death star | \n"
     ]
    }
   ],
   "source": [
    "luke = Human('Luke')\n",
    "anakin = Human('Anakin')\n",
    "luke.add_tool('light saber')  # add light saber to Luke's tools\n",
    "anakin.add_tool('death star')  # add death star to Anakin's tools\n",
    "luke.get_tools()  # print Luke's tools\n",
    "anakin.get_tools()  # print Anakin's tools"
   ]
  },
  {
   "cell_type": "markdown",
   "metadata": {},
   "source": [
    "Note that there's no right or wrong way define attributes. There actually might be cases where you *__want__* different instances to share a single attribute. \n",
    "\n",
    "For example, think of a Bar `class` that has a bathroom attribute. All bars share a single bathroom which can only hold a single customer. We want to print a message if any bar tries to use *the* bathroom while it's occupied. We can define such a Bar `class` as:"
   ]
  },
  {
   "cell_type": "code",
   "execution_count": 11,
   "metadata": {},
   "outputs": [
    {
     "name": "stdout",
     "output_type": "stream",
     "text": [
      "coolBar: use bathroom\n",
      "hotBar: bathroom in use!\n"
     ]
    }
   ],
   "source": [
    "class Bar:\n",
    "    \"\"\"A fictional Bar\"\"\"\n",
    "    bathroom_occupancy = []\n",
    "    def use_bathroom(self):\n",
    "        if len(self.bathroom_occupancy) < 1:\n",
    "            print('use bathroom')\n",
    "            self.bathroom_occupancy.append('in use')\n",
    "        else:\n",
    "            print('bathroom in use!')\n",
    "            \n",
    "            \n",
    "# instantiate two bars\n",
    "coolBar = Bar()\n",
    "hotBar = Bar()\n",
    "\n",
    "print('coolBar:', end = ' ') \n",
    "coolBar.use_bathroom()\n",
    "print('hotBar:', end = ' ') \n",
    "hotBar.use_bathroom()"
   ]
  },
  {
   "cell_type": "markdown",
   "metadata": {},
   "source": [
    "#### Inheritance\n",
    "A very useful concept related to `class`es is inheritance. Basically, classes can 'inherit' other classes, and build upon them. Inheritance is especially useful when you want to build upon a `class` that you didn't write, which happens sometimes when using 3rd party modules. You can inherit a class by specifying the parent `class` in parentheses when defining the `class` name. \n",
    "\n",
    "For example, let's create the SuperHuman, which is a child of the Human `class`, except that a SuperHuman can think even without a head!"
   ]
  },
  {
   "cell_type": "code",
   "execution_count": 12,
   "metadata": {},
   "outputs": [
    {
     "name": "stdout",
     "output_type": "stream",
     "text": [
      "My name is Clark Kent and I'm thinking!!!\n",
      "Pretty hard to think without a head...BUT I'M STILL THINKING!!!\n",
      "Clark Kent has: laser vision | spandex | \n"
     ]
    }
   ],
   "source": [
    "class SuperHuman(Human):  # the Human in parens states that we're inheriting the Human class\n",
    "    \"\"\"SuperHuman that thinks without a head\"\"\"\n",
    "    def think(self):\n",
    "        \"\"\"Makes the Human think\"\"\"\n",
    "        if self.head:\n",
    "            print('My name is', self.name, \"and I'm thinking!!!\")\n",
    "        else:\n",
    "            print(\"Pretty hard to think without a head...BUT I'M STILL THINKING!!!\")\n",
    "            \n",
    "            \n",
    "clark = SuperHuman('Clark Kent')\n",
    "clark.think()\n",
    "clark.head = False\n",
    "clark.think()\n",
    "\n",
    "clark.add_tool('laser vision')\n",
    "clark.add_tool('spandex')\n",
    "clark.get_tools()"
   ]
  },
  {
   "cell_type": "markdown",
   "metadata": {},
   "source": [
    "Note how a child `class`, by default, has all the attributes and methods of its parent, without explicitly defining them. However, when the child wants to change the behavior of an inherited parent, it simply redefines a method of the same name, which effectively overwrites the inherited method."
   ]
  },
  {
   "cell_type": "markdown",
   "metadata": {},
   "source": [
    "Sometimes, instead of replacing the inherited method, you might want to build upon it. In such cases, it's common to write the new method such that the child first calls the parent's method with required parameters, using the syntax `ParentClassName.method_name(self, arguments)`, and then work from there. \n",
    "\n",
    "For example, let's modify our SuperHuman's `__init__` behavior. We still want to initialize the `head`, `name`, and `tools`, but we also want to add a new `home_planet` attribute:"
   ]
  },
  {
   "cell_type": "code",
   "execution_count": 13,
   "metadata": {},
   "outputs": [
    {
     "name": "stdout",
     "output_type": "stream",
     "text": [
      "Hi, my name is Clark Kent and I'm from Krypton\n"
     ]
    }
   ],
   "source": [
    "class SuperHuman(Human):  # the Human in parens states that we're inheriting the Human class\n",
    "    \"\"\"SuperHuman that thinks without a head\"\"\"\n",
    "    def __init__(self, name, home_planet='Krypton'):\n",
    "        \"\"\"SuperHuman's augmented initialization (with default values)\"\"\"\n",
    "        Human.__init__(self, name)  # call the parent's __init__ with required arguments\n",
    "        self.home_planet = home_planet\n",
    "        # say hello when instantiated\n",
    "        print('Hi, my name is', self.name, \"and I'm from\", self.home_planet)\n",
    "            \n",
    "    def think(self):\n",
    "        \"\"\"Makes the Human think\"\"\"\n",
    "        if self.head:\n",
    "            print('My name is', self.name, \"and I'm thinking!!!\")\n",
    "        else:\n",
    "            print(\"Pretty hard to think without a head...BUT I'M STILL THINKING!!!\")\n",
    "                  \n",
    "                  \n",
    "clark = SuperHuman('Clark Kent', 'Krypton')"
   ]
  },
  {
   "cell_type": "markdown",
   "metadata": {},
   "source": [
    "#### One last thing\n",
    "A `class` method can use one or more of its own methods by specifying `self` before the method call. \n",
    "\n",
    "For example, let's add a `think_hard(self, n)` method to the SuperHuman, which makes the SuperHuman `think()` `n` times, lose its `head` and think one last time:"
   ]
  },
  {
   "cell_type": "code",
   "execution_count": 14,
   "metadata": {},
   "outputs": [
    {
     "name": "stdout",
     "output_type": "stream",
     "text": [
      "Hi, my name is Clark Kent and I'm from Krypton\n",
      "Oh, I'm gonna think SO hard!\n",
      "My name is Clark Kent and I'm thinking!!!\n",
      "My name is Clark Kent and I'm thinking!!!\n",
      "My name is Clark Kent and I'm thinking!!!\n",
      "My name is Clark Kent and I'm thinking!!!\n",
      "My name is Clark Kent and I'm thinking!!!\n",
      "Pretty hard to think without a head...BUT I'M STILL THINKING!!!\n"
     ]
    }
   ],
   "source": [
    "class SuperHuman(Human):  # the Human in parens states that we're inheriting the Human class\n",
    "    \"\"\"SuperHuman that thinks without a head\"\"\"\n",
    "    def __init__(self, name, home_planet='Krypton'):\n",
    "        \"\"\"SuperHuman's augmented initialization (with default values)\"\"\"\n",
    "        Human.__init__(self, name)  # call the parent's __init__ with required arguments\n",
    "        self.home_planet = home_planet\n",
    "        # say hello when instantiated\n",
    "        print('Hi, my name is', self.name, \"and I'm from\", self.home_planet)\n",
    "    \n",
    "    def think(self):\n",
    "        \"\"\"Makes the Human think\"\"\"\n",
    "        if self.head:\n",
    "            print('My name is', self.name, \"and I'm thinking!!!\")\n",
    "        else:\n",
    "            print(\"Pretty hard to think without a head...BUT I'M STILL THINKING!!!\")\n",
    "                  \n",
    "    def think_hard(self, n):\n",
    "        \"\"\"Makes the Human think harder (n times)\"\"\"\n",
    "        print(\"Oh, I'm gonna think SO hard!\")\n",
    "        for i in range(n):  # loop n times\n",
    "            self.think()\n",
    "        self.head = False  # lose head\n",
    "        self.think()  # one last think()!\n",
    "            \n",
    "            \n",
    "clark = SuperHuman('Clark Kent', 'Krypton')\n",
    "clark.think_hard(5)"
   ]
  },
  {
   "cell_type": "markdown",
   "metadata": {},
   "source": [
    "## Exercise 4.\n",
    "Continuing from the previous exercises (kind of) ...\n",
    "1. Define a `class` **BookReader**, which instantiates with a `filename` as an argument. The **BookReader** has a single method, `count_words()`, which returns a dictionary of word occurence counts in the text specified by `filename`. \n",
    "1. Define another `class`, **OnlineBookReader**, which inherits the **BookReader** `class`. The only difference between **BookReader** and **OnlineBookReader** is that **OnlineBookReader** takes a `URL` as a single argument when instantiated. The **OnlineBookReader** then downloads the specified `URL` locally, and uses the downloaded file when `count_words()` is called (all implemented in the `__init__` method)"
   ]
  }
 ],
 "metadata": {
  "celltoolbar": "Raw Cell Format",
  "kernelspec": {
   "display_name": "Python 3",
   "language": "python",
   "name": "python3"
  },
  "language_info": {
   "codemirror_mode": {
    "name": "ipython",
    "version": 3
   },
   "file_extension": ".py",
   "mimetype": "text/x-python",
   "name": "python",
   "nbconvert_exporter": "python",
   "pygments_lexer": "ipython3",
   "version": "3.6.2"
  }
 },
 "nbformat": 4,
 "nbformat_minor": 1
}
