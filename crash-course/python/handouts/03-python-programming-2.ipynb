{
 "cells": [
  {
   "cell_type": "markdown",
   "metadata": {
    "slideshow": {
     "slide_type": "slide"
    }
   },
   "source": [
    "# `Python` crash course"
   ]
  },
  {
   "cell_type": "markdown",
   "metadata": {
    "slideshow": {
     "slide_type": "-"
    }
   },
   "source": [
    "# Functions with `python`\n",
    "with **Jongbin Jung**\n",
    "\n",
    "All material publicly available [here](https://github.com/5harad/css)"
   ]
  },
  {
   "cell_type": "markdown",
   "metadata": {},
   "source": [
    "## 2. `python` programming - 2 of 3\n",
    "\n",
    "Now that we're quite familiar with some of `python`'s basic concepts, let's touch some 'advanced' topics."
   ]
  },
  {
   "cell_type": "markdown",
   "metadata": {},
   "source": [
    "### Writing functions\n",
    "Let's create a function to count the number of vowels in a given string\n"
   ]
  },
  {
   "cell_type": "code",
   "execution_count": 1,
   "metadata": {},
   "outputs": [
    {
     "data": {
      "text/plain": [
       "12"
      ]
     },
     "execution_count": 1,
     "metadata": {},
     "output_type": "execute_result"
    }
   ],
   "source": [
    "def count_vowels(s):\n",
    "    \"\"\"Count the number of vowels in a string.\"\"\"\n",
    "    vowels = 'aeiouAEIOU'\n",
    "    nvowels = [s.count(v) for v in vowels]  # count the number of each vowel in s\n",
    "    return sum(nvowels)  # return the sum of elements in nvowel\n",
    "\n",
    "# use the new function\n",
    "count_vowels('Eels are delicious animals')"
   ]
  },
  {
   "cell_type": "markdown",
   "metadata": {},
   "source": [
    "- the `def` keyword declares a function **def**inition, followed by a function name and the parenthesized list of formal parameters\n",
    "- the statements that form the body of the function start at the next line, and must be indented\n",
    "- the first statement of the function body can optionally be a string, also known as the [docstring](https://docs.python.org/3/tutorial/controlflow.html#tut-docstrings)\n",
    "- many tools (such as `spyder`) use the docstring to give users meaningful information - so help yourself, make a habit of writing meaningful docstrings\n",
    "- functions that don't finish with a `return` statement return `None` (a special `python` object for \"Nothing\")"
   ]
  },
  {
   "cell_type": "markdown",
   "metadata": {},
   "source": [
    "Functions can also return a tuple of values. For example, let's modify our `count_vowels` function to return the number of vowel along with a `list` specifying the number of each vowel."
   ]
  },
  {
   "cell_type": "code",
   "execution_count": 2,
   "metadata": {
    "scrolled": true
   },
   "outputs": [
    {
     "data": {
      "text/plain": [
       "(12,\n",
       " [('a', 3),\n",
       "  ('e', 3),\n",
       "  ('i', 3),\n",
       "  ('o', 1),\n",
       "  ('u', 1),\n",
       "  ('A', 0),\n",
       "  ('E', 1),\n",
       "  ('I', 0),\n",
       "  ('O', 0),\n",
       "  ('U', 0)])"
      ]
     },
     "execution_count": 2,
     "metadata": {},
     "output_type": "execute_result"
    }
   ],
   "source": [
    "def count_vowels(s):\n",
    "    \"\"\"\n",
    "    Count the number of vowels in a string.\n",
    "    \n",
    "    returns: number of vowels, list containing number of appearance for each vowel \n",
    "    \"\"\"\n",
    "    vowels = 'aeiouAEIOU'\n",
    "    nvowels = [s.count(v) for v in vowels]  # count the number of each vowel in s\n",
    "    return sum(nvowels), list(zip(vowels, nvowels))  # return the sum and a zipped list\n",
    "                              \n",
    "count_vowels('Eels are delicious animals')"
   ]
  },
  {
   "cell_type": "markdown",
   "metadata": {},
   "source": [
    "A returned tuple can also be 'unpacked' into multiple variables."
   ]
  },
  {
   "cell_type": "code",
   "execution_count": 3,
   "metadata": {},
   "outputs": [
    {
     "name": "stdout",
     "output_type": "stream",
     "text": [
      "Found total 12 vowels, each vowel as follows:\n",
      "[('a', 3), ('e', 3), ('i', 3), ('o', 1), ('u', 1), ('A', 0), ('E', 1), ('I', 0), ('O', 0), ('U', 0)]\n"
     ]
    }
   ],
   "source": [
    "total_count, individual_count = count_vowels('Eels are delicious animals')\n",
    "print('Found total', total_count, 'vowels, each vowel as follows:')\n",
    "print(individual_count)"
   ]
  },
  {
   "cell_type": "markdown",
   "metadata": {},
   "source": [
    "### Functions with optional arguments\n",
    "Let's further enhance the `count_vowels` function by letting the user specify\n",
    "- which vowels to count ('aeiouAEIOU' by default)\n",
    "- whether to return a single sum or a tuple of the sum and list (single sum by default)\n",
    "\n",
    "This can be achieved by specifying default values in the function declaration."
   ]
  },
  {
   "cell_type": "code",
   "execution_count": 4,
   "metadata": {},
   "outputs": [
    {
     "data": {
      "text/plain": [
       "12"
      ]
     },
     "execution_count": 4,
     "metadata": {},
     "output_type": "execute_result"
    }
   ],
   "source": [
    "def count_vowels(s, vowels = 'aeiouAEIOU', returnAll = False):\n",
    "    \"\"\"\n",
    "    Count the number of vowels in a string.\n",
    "    \n",
    "    Args:  \n",
    "        s: the string to count vowels from\n",
    "        vowels: string of characters that should be considered \n",
    "            a vowel (default: aeiouAEIOU)\n",
    "        returnAll: boolean indicating whether to return just the sum of \n",
    "            vowels (default: False) or a tuple of the sum of vowels and a \n",
    "            list of occerence for each character\n",
    "                 \n",
    "    Returns: \n",
    "        number of vowels[ , list of vowel count] \n",
    "    \"\"\"\n",
    "    # count the number of each vowel in s\n",
    "    nvowels = [s.count(v) for v in vowels]  \n",
    "    if returnAll:\n",
    "        # return the sum and a zipped list\n",
    "        return sum(nvowels), list(zip(vowels, nvowels))  \n",
    "    else:\n",
    "        # return just the sum\n",
    "        return sum(nvowels)  \n",
    "                              \n",
    "count_vowels('Eels are delicious animals')"
   ]
  },
  {
   "cell_type": "code",
   "execution_count": 5,
   "metadata": {},
   "outputs": [
    {
     "data": {
      "text/plain": [
       "11"
      ]
     },
     "execution_count": 5,
     "metadata": {},
     "output_type": "execute_result"
    }
   ],
   "source": [
    "count_vowels('Eels are delicious animals', vowels = 'aeiou')  # no caps"
   ]
  },
  {
   "cell_type": "code",
   "execution_count": 6,
   "metadata": {},
   "outputs": [
    {
     "data": {
      "text/plain": [
       "(12,\n",
       " [('a', 3),\n",
       "  ('e', 3),\n",
       "  ('i', 3),\n",
       "  ('o', 1),\n",
       "  ('u', 1),\n",
       "  ('A', 0),\n",
       "  ('E', 1),\n",
       "  ('I', 0),\n",
       "  ('O', 0),\n",
       "  ('U', 0)])"
      ]
     },
     "execution_count": 6,
     "metadata": {},
     "output_type": "execute_result"
    }
   ],
   "source": [
    "count_vowels('Eels are delicious animals', returnAll = True)  # give me EVERYTHING"
   ]
  },
  {
   "cell_type": "markdown",
   "metadata": {},
   "source": [
    "Be careful with having mutable defaults, though. Default values of a function's argument are shared between subsequent calls, and this might cause problems if you're manipulating the argument's value within the function. For example,"
   ]
  },
  {
   "cell_type": "code",
   "execution_count": 7,
   "metadata": {},
   "outputs": [
    {
     "name": "stdout",
     "output_type": "stream",
     "text": [
      "[1]\n",
      "[1, 2]\n",
      "[1, 2, 3]\n"
     ]
    }
   ],
   "source": [
    "def fun(n, stuff=[]):\n",
    "    \"\"\"Illustrating issues with mutable defaults.\"\"\"\n",
    "    stuff.append(n)\n",
    "    return stuff\n",
    "\n",
    "print(fun(1))  # stuff is empty by default\n",
    "print(fun(2))  # stuff was manipulated, and is now [1] from the previous call!\n",
    "print(fun(3))  # even worse, stuff is now [1, 2] !!!"
   ]
  },
  {
   "cell_type": "markdown",
   "metadata": {},
   "source": [
    "This behavior isn't necessarily a problem, and it might even make sense in some contexts. However, it's definitely worth keeping in mind to avoid being surprised. If you want to prevent such behavior, one simple work-around is to set the default to `None`, and check if it is indeed `None`, before assigning the 'true' default, such as:"
   ]
  },
  {
   "cell_type": "code",
   "execution_count": 8,
   "metadata": {},
   "outputs": [
    {
     "name": "stdout",
     "output_type": "stream",
     "text": [
      "[1]\n",
      "[2]\n",
      "[3]\n",
      "[1, 2, 3]\n"
     ]
    }
   ],
   "source": [
    "def fun(n, stuff=None):\n",
    "    \"\"\"Fix for mutable defaults.\"\"\"\n",
    "    if stuff is None:\n",
    "        stuff = []\n",
    "    stuff.append(n)\n",
    "    return stuff\n",
    "\n",
    "print(fun(1))  # unspecified argument stuff is None, then set to []\n",
    "print(fun(2))  # unspecified argument stuff is None, then set to []\n",
    "print(fun(3))  # unspecified argument stuff is None, then set to []\n",
    "print(fun(3, [1,2]))  # and we can always specify stuff if we need to!"
   ]
  },
  {
   "cell_type": "markdown",
   "metadata": {},
   "source": [
    "Finally, to capture an arbitrary number of arguments in a function, you can use the `*name` and `**name` parameters. Note that, if both are present, `*name` **must** occure before `**name`, and both must occur after all the formal parameters. When present, the `*name` parameter receives a tuple containing the positional arguments beyond the formal parameter list, and `**name` receives a dictionary containing the key-value pair of the named arguments, except for those corresponding to a formal parameter. For example:"
   ]
  },
  {
   "cell_type": "code",
   "execution_count": 9,
   "metadata": {},
   "outputs": [
    {
     "name": "stdout",
     "output_type": "stream",
     "text": [
      "\n",
      "===============================================================================\n",
      "Function called with n= 1, Name= Jongbin\n",
      "Arguments received:\n",
      "\t\n",
      "Named arguments received:\n",
      "\t\n",
      "===============================================================================\n",
      "Function called with n= 2, Name= Padme\n",
      "Arguments received:\n",
      "\tAmidala | Princess | testing additional arguments | \n",
      "Named arguments received:\n",
      "\t\n",
      "===============================================================================\n",
      "Function called with n= 2, Name= Luke\n",
      "Arguments received:\n",
      "\t\n",
      "Named arguments received:\n",
      "\tgender = male |affiliation = Rebel Alliance |text = testing named arguments |\n",
      "===============================================================================\n",
      "Function called with n= 3, Name= Anakin\n",
      "Arguments received:\n",
      "\tSkywalker | Jedi | 2015 | \n",
      "Named arguments received:\n",
      "\tweapon = Lightsaber |skill = force |"
     ]
    }
   ],
   "source": [
    "def fun(n, name='Jongbin', *arguments, **keywords):\n",
    "    \"\"\"Demo of *name and **name parameters.\"\"\"\n",
    "    print('\\n' + '=' * 79)\n",
    "    print('Function called with n=', n, end = ', ')  # values of the end argument will replace new lines (\\n)\n",
    "    print('Name=', name)\n",
    "    print('Arguments received:')\n",
    "    print(end = '\\t')  # a tab character to print appropriate indents\n",
    "    for arg in arguments:\n",
    "        print(arg, '|', end = ' ')\n",
    "    print('\\nNamed arguments received:')\n",
    "    print(end = '\\t')  # a tab character to print appropriate indents\n",
    "    for key, value in keywords.items():\n",
    "        print(key, '=', value, '|', end = '')\n",
    "        \n",
    "fun(1)  # supply minimal arguments\n",
    "fun(2, 'Padme', 'Amidala', 'Princess', 'testing additional arguments')  # some additional arguments\n",
    "fun(2, 'Luke', gender='male', affiliation='Rebel Alliance', text='testing named arguments')  # named arguments\n",
    "fun(3, 'Anakin', 'Skywalker', 'Jedi', 2015, weapon='Lightsaber', skill='force')  # both"
   ]
  },
  {
   "cell_type": "markdown",
   "metadata": {},
   "source": [
    "Sometimes, an opposite situation may occur, where the required arguments are in a list/tuple or keyword arguments are in a dictionary, and you would like to unpack them programatically in the function call. In such cases, you can use the `*name` and `**name` conventions introduced above in the function call. For example:"
   ]
  },
  {
   "cell_type": "code",
   "execution_count": 10,
   "metadata": {},
   "outputs": [
    {
     "name": "stdout",
     "output_type": "stream",
     "text": [
      "regular call: range(1, 10, 2)\n",
      "unpack from list: range(1, 10, 2)\n"
     ]
    }
   ],
   "source": [
    "print('regular call:', range(1, 10, 2))  # the range function takes arguments (start, stop[, step])\n",
    "args = [1, 10, 2]  # pack the arguments (equivalent to above) into a list\n",
    "print('unpack from list:', range(*args))  # all the function by unpacking the list"
   ]
  },
  {
   "cell_type": "code",
   "execution_count": 11,
   "metadata": {},
   "outputs": [
    {
     "name": "stdout",
     "output_type": "stream",
     "text": [
      "Name: Jongbin Jung\n",
      "email: jongbin at stanford.edu\n",
      "phone: 650-123-4567\n"
     ]
    }
   ],
   "source": [
    "def print_info(name, email, phone):\n",
    "    \"\"\"Quick demo of keyword argument unpacking.\"\"\"\n",
    "    print('Name:', name)\n",
    "    print('email:', email)\n",
    "    print('phone:', phone)\n",
    "    \n",
    "kwargs = {'name':'Jongbin Jung', 'email':'jongbin at stanford.edu', 'phone':'650-123-4567'}\n",
    "print_info(**kwargs)"
   ]
  },
  {
   "cell_type": "markdown",
   "metadata": {},
   "source": [
    "### Lambda expressions\n",
    "Anonymous one-liner functions can be created with the `lambda` keyword wherever function objects are required, but you don't want or need to define a full function. "
   ]
  },
  {
   "cell_type": "code",
   "execution_count": 12,
   "metadata": {},
   "outputs": [
    {
     "name": "stdout",
     "output_type": "stream",
     "text": [
      "['alpha', 'omega', 'management', 'queueing']\n"
     ]
    }
   ],
   "source": [
    "# sort the list of words by the number of vowels in each word, \n",
    "# but without defining a separate count_vowel function\n",
    "words = ['queueing', 'management', 'alpha', 'omega']\n",
    "words.sort(key=lambda word: sum([word.count(v) for v in 'aeiouAEIOU']))\n",
    "print(words)"
   ]
  },
  {
   "cell_type": "markdown",
   "metadata": {},
   "source": [
    "This is equivalent to:"
   ]
  },
  {
   "cell_type": "code",
   "execution_count": 13,
   "metadata": {},
   "outputs": [
    {
     "name": "stdout",
     "output_type": "stream",
     "text": [
      "['alpha', 'omega', 'management', 'queueing']\n"
     ]
    }
   ],
   "source": [
    "words = ['queueing', 'management', 'alpha', 'omega']\n",
    "words.sort(key=count_vowels)\n",
    "print(words)"
   ]
  },
  {
   "cell_type": "markdown",
   "metadata": {},
   "source": [
    "Of course, the latter only works because we've already defined a custom function called `count_vowels` that takes a single string argument."
   ]
  },
  {
   "cell_type": "markdown",
   "metadata": {},
   "source": [
    "### Modules\n",
    "Once you start building functions, you might want to collect certain functions as a general 'toolbox' to be used across multiple projects. In `python`, you can put definitions in a file with a `.py` extension. Such a file is called a `module`. Once you save your functions into a `module`, you can `import` them. Let's practice with some examples."
   ]
  },
  {
   "cell_type": "markdown",
   "metadata": {},
   "source": [
    "For illustration purposes, create let's create two modules that contain one function of the same name each:"
   ]
  },
  {
   "cell_type": "code",
   "execution_count": 14,
   "metadata": {},
   "outputs": [],
   "source": [
    "# save this function to a file named module1.py\n",
    "def speak():\n",
    "    \"\"\"Make module 1 say something\"\"\"\n",
    "    print('Module 1 speaking ...')"
   ]
  },
  {
   "cell_type": "code",
   "execution_count": 15,
   "metadata": {},
   "outputs": [],
   "source": [
    "# save this function to a file named module2.py\n",
    "def speak():\n",
    "    \"\"\"Make module 2 say something\"\"\"\n",
    "    print('Hi, this is module 2 speaking!')"
   ]
  },
  {
   "cell_type": "markdown",
   "metadata": {},
   "source": [
    "You can import each module (and the functions in them) using the `import` statement as follows:"
   ]
  },
  {
   "cell_type": "code",
   "execution_count": 16,
   "metadata": {},
   "outputs": [],
   "source": [
    "import module1\n",
    "import module2"
   ]
  },
  {
   "cell_type": "markdown",
   "metadata": {},
   "source": [
    "Note that the name you use in the `import` statement is just the file name of the module, without the `.py` extension. \n",
    "\n",
    "When you `import` a module, `python` creates an isolated 'space' for each module. This allows different modules to have functions of the same name, without causing confusion. But because of this, whenever you want to use a function from a certain module, you have to specify the module name before calling the function. Compare:"
   ]
  },
  {
   "cell_type": "code",
   "execution_count": 17,
   "metadata": {},
   "outputs": [
    {
     "name": "stdout",
     "output_type": "stream",
     "text": [
      "Module 1 speaking ...\n",
      "Hi, this is module 2 speaking!\n"
     ]
    }
   ],
   "source": [
    "module1.speak()\n",
    "module2.speak()"
   ]
  },
  {
   "cell_type": "markdown",
   "metadata": {},
   "source": [
    "This can be a bit painful (and messy) if your module names get longer. There are typically two ways to work around this:\n",
    "1. `import` with the `as` keyword to assign your own name to a model\n",
    "1. assign your own function name to a module's function\n",
    "\n",
    "Each approach is illustrated below, which to use should depend on the context and personal style:"
   ]
  },
  {
   "cell_type": "code",
   "execution_count": 18,
   "metadata": {},
   "outputs": [
    {
     "name": "stdout",
     "output_type": "stream",
     "text": [
      "Module 1 speaking ...\n",
      "Hi, this is module 2 speaking!\n"
     ]
    }
   ],
   "source": [
    "import module1 as m1\n",
    "import module2 as m2\n",
    "m1.speak()\n",
    "m2.speak()"
   ]
  },
  {
   "cell_type": "code",
   "execution_count": 19,
   "metadata": {},
   "outputs": [
    {
     "name": "stdout",
     "output_type": "stream",
     "text": [
      "Module 1 speaking ...\n",
      "Hi, this is module 2 speaking!\n"
     ]
    }
   ],
   "source": [
    "import module1\n",
    "import module2\n",
    "\n",
    "speak1 = module1.speak  # note the lack of parentheses\n",
    "speak2 = module2.speak  # when assigning functions to a new name\n",
    "\n",
    "speak1()\n",
    "speak2()"
   ]
  },
  {
   "cell_type": "markdown",
   "metadata": {},
   "source": [
    "Finally, modules can also be executed as standalone scripts. However, to do this, the module must know when it's been `import`ed or executed. This is done in `python` by specifying a `__name__` variable within each module's 'space'. When a module is `import`ed, it's `__name__` variable is set to the filename it was imported from:"
   ]
  },
  {
   "cell_type": "code",
   "execution_count": 20,
   "metadata": {},
   "outputs": [
    {
     "data": {
      "text/plain": [
       "'module1'"
      ]
     },
     "execution_count": 20,
     "metadata": {},
     "output_type": "execute_result"
    }
   ],
   "source": [
    "module1.__name__"
   ]
  },
  {
   "cell_type": "markdown",
   "metadata": {},
   "source": [
    "However, if a module is executed, for example from the terminal with the command,\n",
    "```bash\n",
    "python module_name.py\n",
    "```\n",
    "then the `__name__` variable is set to `__main__`.\n",
    "\n",
    "To illustrate this, let's create a new module, `module3.py`:"
   ]
  },
  {
   "cell_type": "code",
   "execution_count": 21,
   "metadata": {},
   "outputs": [
    {
     "name": "stdout",
     "output_type": "stream",
     "text": [
      "My __name__ is __main__\n",
      "You've executed me!\n"
     ]
    }
   ],
   "source": [
    "# save this code to a file named module3.py\n",
    "def speak():\n",
    "    \"\"\"Make module 3 say something\"\"\"\n",
    "    print('My __name__ is', __name__)\n",
    "    \n",
    "\n",
    "if __name__ == '__main__':\n",
    "    speak()\n",
    "    print('You\\'ve executed me!')"
   ]
  },
  {
   "cell_type": "code",
   "execution_count": 22,
   "metadata": {},
   "outputs": [
    {
     "name": "stdout",
     "output_type": "stream",
     "text": [
      "My __name__ is module3\n"
     ]
    }
   ],
   "source": [
    "import module3\n",
    "\n",
    "module3.speak()"
   ]
  },
  {
   "cell_type": "markdown",
   "metadata": {},
   "source": [
    "Now, instead of `import`ing module3, execute it from a command prompt with the command:\n",
    "```bash\n",
    "python module3.py\n",
    "```\n",
    "(you can open a command prompt within `spyder`)\n",
    "\n",
    "The output should look like:\n",
    "> `My __name__ is __main__` <br />\n",
    "> `You've executed me!`"
   ]
  },
  {
   "cell_type": "markdown",
   "metadata": {},
   "source": [
    "### A little more on `module` execution ...\n",
    "\n",
    "When executing a module from the command prompt, you can also pass arguments to the module in the form of \n",
    "> `python filename.py arguments`\n",
    "\n",
    "The arguments are passed to the module via a list in the `sys` standard module, and can by accessed by calling `sys.argv`. (*standard* modules are modules that are built-in to `python`). The first (position 0) element of `sys.argv` contains the execution call of the module, so arguments that are passed through the command prompt start from position 1. \n",
    "\n",
    "For example, we can write a module that takes a single argument from the command prompt as follows:"
   ]
  },
  {
   "cell_type": "code",
   "execution_count": 23,
   "metadata": {},
   "outputs": [
    {
     "name": "stdout",
     "output_type": "stream",
     "text": [
      "The first element of sys.argv is /usr/lib/python3.6/site-packages/ipykernel_launcher.py\n",
      "The argument passed was: -f\n"
     ]
    }
   ],
   "source": [
    "# save this code to a file named module4.py\n",
    "import sys  # import the standard module sys\n",
    "\n",
    "if __name__ == '__main__':\n",
    "    print('The first element of sys.argv is', sys.argv[0])\n",
    "    print('The argument passed was:', sys.argv[1])"
   ]
  },
  {
   "cell_type": "markdown",
   "metadata": {},
   "source": [
    "Then, execute from the command prompt with an argument, for example:\n",
    "> `python module4.py hello`\n",
    "\n",
    "This should print to the screen:\n",
    "> `The first element of sys.argv is module4.py` <br />\n",
    "> `The argument passed was: hello`\n",
    "\n",
    "Note that all arguments are passed as a string by default. If you want to use a different type, you will have to convert it within `python`, e.g., `int(sys.argv[1])` to convert the first argument into an integer).\n",
    "\n",
    "(if you want to do some serious argument parsing, you should take a look at the [`argparse` module](https://docs.python.org/2/howto/argparse.html))"
   ]
  },
  {
   "cell_type": "markdown",
   "metadata": {},
   "source": [
    "### ... and while we're on the topic of the `sys` standard module\n",
    "\n",
    "Quite often, you'll want use `python` to build tools that will be chained within a pipeline, e.g., you'd like to do something like\n",
    "> `cat some_file.txt | python your_script.py > some_output.out`\n",
    "\n",
    "The `sys` module lets you read from the system `stdin`, as if it were a file object, i.e., you can loop through each line of `sys.stdin`. As a simple example, let's write a `python` script that will print lines from `stdin` that contain the word `two` (case sensitive): "
   ]
  },
  {
   "cell_type": "code",
   "execution_count": 24,
   "metadata": {},
   "outputs": [],
   "source": [
    "# save this code to a file named module5.py\n",
    "import sys\n",
    "\n",
    "for line in sys.stdin:\n",
    "    line = line.rstrip('\\n')\n",
    "    if 'two' in line.split():\n",
    "        print(line)"
   ]
  },
  {
   "cell_type": "markdown",
   "metadata": {},
   "source": [
    "The, we can extract all the lines in our `two_cities.txt` file with the simple chained command\n",
    "> `cat two_cities.txt | python module5.py`\n",
    "\n",
    "and (as an example) we can count how many of those lines there are by adding the `wc` shell command:\n",
    "\n",
    "> `cat two_cities.txt | python module5.py | wc -l`"
   ]
  },
  {
   "cell_type": "markdown",
   "metadata": {},
   "source": [
    "## Exercise 3.\n",
    "Continuing from the previous exercise ...\n",
    "1. Write a function `top_n(d, n=5)`, which takes a dictionary of word counts (such as that created in the previous exercise) and an optional argument `n`, and prints words that have the top `n` count, along with the actual count.\n",
    " - to sort a dictionary by its values, use the built-in function `sorted(iterable, cmp=None, key=None, reverse=False)`; you can set the sorting `key` to the dictionary's value by setting `key=d.get`, and sort in descending order by setting `reverse=True`.\n",
    " - you might want to create a simple word count dictionary to test your function\n",
    "1. Expand your function from the previous question into a module that can be executed with a target filename and integer `n` as an argument, i.e.,<br />\n",
    "`$ python module_name.py target_file.txt 5`<br />\n",
    "which,\n",
    " 1. reads the contents of the target file\n",
    " 1. generates a word occurence count dictionary from the text\n",
    " 1. prints word/count of the words with top `n` occurences\n",
    "\n",
    "1. (bonus) Can you modify the script to read input from `stdin`, instead of a specified file?"
   ]
  }
 ],
 "metadata": {
  "celltoolbar": "Raw Cell Format",
  "kernelspec": {
   "display_name": "Python 3",
   "language": "python",
   "name": "python3"
  },
  "language_info": {
   "codemirror_mode": {
    "name": "ipython",
    "version": 3
   },
   "file_extension": ".py",
   "mimetype": "text/x-python",
   "name": "python",
   "nbconvert_exporter": "python",
   "pygments_lexer": "ipython3",
   "version": "3.6.2"
  }
 },
 "nbformat": 4,
 "nbformat_minor": 1
}
