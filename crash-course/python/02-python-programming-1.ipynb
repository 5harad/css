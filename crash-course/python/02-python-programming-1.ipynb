{
 "cells": [
  {
   "cell_type": "markdown",
   "metadata": {
    "slideshow": {
     "slide_type": "slide"
    }
   },
   "source": [
    "# `Python` crash course\n"
   ]
  },
  {
   "cell_type": "markdown",
   "metadata": {
    "slideshow": {
     "slide_type": "-"
    }
   },
   "source": [
    "# Basic `python` programming\n",
    "with **Jongbin Jung**\n",
    "\n",
    "All material publicly available [here](https://github.com/jongbinjung/mse231-workshop)"
   ]
  },
  {
   "cell_type": "markdown",
   "metadata": {},
   "source": [
    "## 2. `python` programming - 1 of 3\n",
    "\n",
    "Lines of `python` code can be saved to a plain text file, conventionally appended with a `.py` extension, which can be read by the interpreter to run a `python` program. A common setup for `python` development is to have\n",
    "1. a text editor of choice\n",
    "1. a command line/terminal open to run the `.py` file\n",
    "1. (optionally) a interpreter for testing small pieces of code\n",
    "\n",
    "Having your own setup can be great if you have a favorite text editor and love pushing commands around different windows. Some text editors have pretty good support for `python` development, too. \n",
    "\n",
    "Another option is to use an IDE (**I**ntegrated **D**evelopment **E**nvironment), specifically catered to your `python` development needs. [PyCharm](https://www.jetbrains.com/pycharm/) is a pretty one, and will be familiar if you've worked with IDEA, Android Studio, WebStorm, PhpStorm, etc. (They're all based on the same platform.) Today, we'll be working with `spyder` because\n",
    "\n",
    "1. it's free\n",
    "1. it comes included with Anaconda\n",
    "1. it loads faster (compared to PyCharm)"
   ]
  },
  {
   "cell_type": "markdown",
   "metadata": {},
   "source": [
    "### Launching `spyder`\n",
    "`Spyder` is best launched from Anaconda's launcher. \n",
    "\n",
    "- launch the `launcher`\n",
    " - **Windows**\n",
    "   - <kbd>Win</kbd> + <kbd>r</kbd>, type `launcher` and hit <kbd>OK</kbd> (or <kbd>Enter</kbd>)\n",
    "  <img src=img/ss_win_run_launcher.png alt=\"Run command on Windows\" width=300>\n",
    " - **OS X / \\*nix**\n",
    "   - Open a terminal\n",
    "   - type `launcher` and hit <kbd>Enter</kbd>\n",
    "  <img src=img/ss_osx_term_launcher.png alt=\"Run launcher from a terminal\">\n",
    " \n",
    "<img src=img/ss_launcher.png alt=\"Anaconda launcher\" width=600>"
   ]
  },
  {
   "cell_type": "markdown",
   "metadata": {},
   "source": [
    "- hit <kbd>Launch</kbd> for `spyder-app`\n",
    "\n",
    "<img src=img/ss_spyder.png alt=\"Jupyter open in a browser\" width=600>"
   ]
  },
  {
   "cell_type": "markdown",
   "metadata": {},
   "source": [
    "By default, `spyder` has a text editor on the left pane, an interactive console (to which you can also send selected commands from the text editor pane with <kbd>Shift</kbd>+<kbd>Enter</kbd>) and object/variable/file browsers on the right side.\n",
    "\n",
    "Feel free to explore and get used to the `spyder` environment before we move on.\n",
    "\n",
    "(One feature I find particularly useful is the <kbd>Ctrl</kbd>+<kbd>i</kbd> shortcut, which displays documentation for the object at my current cursor, whether in the editor or console.)"
   ]
  },
  {
   "cell_type": "markdown",
   "metadata": {},
   "source": [
    "### `if` statements\n",
    "An example should suffice"
   ]
  },
  {
   "cell_type": "code",
   "execution_count": null,
   "metadata": {
    "collapsed": false
   },
   "outputs": [],
   "source": [
    "x = int(raw_input('Give me a BIG number: '))\n",
    "if x < 0:\n",
    "    print 'You\\'re joking, right?'\n",
    "elif x < 1e3:\n",
    "    print 'Try harder ... '\n",
    "else:\n",
    "    print 'Nice.'"
   ]
  },
  {
   "cell_type": "markdown",
   "metadata": {
    "collapsed": false
   },
   "source": [
    "Some notes on the above code:\n",
    "- the `raw_input()` function (as you've now seen), promts the user for an input\n",
    "- the `int()` (tries to) convert string values to integers (`raw_input()` will always return the user's input as a string)\n",
    "- `elif` is short for `else, if`, and there can be none or more than one `elif` sequences\n",
    "- the `else` clause is optional\n",
    "\n",
    "One more thing that's implicit but *__extremely__* important: **Indents.**\n",
    "\n",
    "- `python`, unlike many other languages out there, doesn't use curley brackets {}\n",
    "- instead, blocks of grouped code are identified by the level of indents (this is something to get used to, if you've never seen it before)\n",
    "- word of caution: NEVER USE <kbd>Tab</kbd> (don't worry, `spyder` changes all your <kbd>Tab</kbd>s to four spaces by default, which is the [PEP 8 spec for indentation][pep8] in `python`)\n",
    "\n",
    "[pep8]: https://www.python.org/dev/peps/pep-0008/#indentation"
   ]
  },
  {
   "cell_type": "markdown",
   "metadata": {
    "collapsed": false
   },
   "source": [
    "### `for` statements\n",
    "The `for` statement in `python` iterates over the items of any sequence (e.g., lists and even strings!), in the order that they appear in the sequence."
   ]
  },
  {
   "cell_type": "code",
   "execution_count": 1,
   "metadata": {
    "collapsed": false
   },
   "outputs": [
    {
     "name": "stdout",
     "output_type": "stream",
     "text": [
      "Jamie has 5 characters and starts with a J\n",
      "Cersei has 6 characters and starts with a C\n",
      "Jon has 3 characters and starts with a J\n",
      "Sansa has 5 characters and starts with a S\n"
     ]
    }
   ],
   "source": [
    "names = ['Jamie', 'Cersei', 'Jon', 'Sansa']\n",
    "\n",
    "for name in names:\n",
    "    print name, 'has', len(name), 'characters and starts with a', name[0]"
   ]
  },
  {
   "cell_type": "markdown",
   "metadata": {},
   "source": [
    "The example above introduces a few new concepts:\n",
    "- the variable `name` is defined along with the declaration of the `for` statement. It doesn't need to exist beforehand\n",
    "- the `print` statement can take multiple expressions of different types, (try to) change them to a string, and insert a space between each item (separated by commas)\n",
    "- it's good practice to use plurals for collections (`names` for the list) and singulars for individual items (`name` for each name)"
   ]
  },
  {
   "cell_type": "markdown",
   "metadata": {},
   "source": [
    "You can also loop over a string, one character at a time."
   ]
  },
  {
   "cell_type": "code",
   "execution_count": 2,
   "metadata": {
    "collapsed": false
   },
   "outputs": [
    {
     "name": "stdout",
     "output_type": "stream",
     "text": [
      "Jamie has 3 vowel(s)\n",
      "Cersei has 3 vowel(s)\n",
      "Jon has 1 vowel(s)\n",
      "Sansa has 2 vowel(s)\n"
     ]
    }
   ],
   "source": [
    "vowels = ['a', 'e', 'i', 'o', 'u']  # make a list of vowels\n",
    "for name in names:\n",
    "    vowel_count = 0  # initialize the vowel count\n",
    "    for char in name:\n",
    "        if char in vowels:\n",
    "            vowel_count += 1\n",
    "    print name, 'has', vowel_count, 'vowel(s)'"
   ]
  },
  {
   "cell_type": "markdown",
   "metadata": {},
   "source": [
    "You can use the built-in `range()` function to do a more 'classic' `for` loop over a sequence of numbers."
   ]
  },
  {
   "cell_type": "code",
   "execution_count": 3,
   "metadata": {
    "collapsed": false
   },
   "outputs": [
    {
     "data": {
      "text/plain": [
       "[0, 1, 2, 3, 4, 5, 6, 7, 8, 9]"
      ]
     },
     "execution_count": 3,
     "metadata": {},
     "output_type": "execute_result"
    }
   ],
   "source": [
    "range(10)"
   ]
  },
  {
   "cell_type": "markdown",
   "metadata": {},
   "source": [
    "`range(len)` generates the legal indices (starting from 0) for a sequence of length `len`. You can also use `range(start, stop[, step])` to specify the start, end, and (optionally) step to take.\n",
    "\n",
    "(The `[, step]` notation in the fuction signiture shows that the `step` argument is optional. It's useful to know such conventions when refering to the docs.)"
   ]
  },
  {
   "cell_type": "code",
   "execution_count": 4,
   "metadata": {
    "collapsed": false
   },
   "outputs": [
    {
     "data": {
      "text/plain": [
       "[4, 5, 6, 7, 8, 9, 10, 11, 12, 13, 14, 15, 16, 17, 18, 19]"
      ]
     },
     "execution_count": 4,
     "metadata": {},
     "output_type": "execute_result"
    }
   ],
   "source": [
    "range(4,20)"
   ]
  },
  {
   "cell_type": "code",
   "execution_count": 5,
   "metadata": {
    "collapsed": false
   },
   "outputs": [
    {
     "data": {
      "text/plain": [
       "[4, 11, 18]"
      ]
     },
     "execution_count": 5,
     "metadata": {},
     "output_type": "execute_result"
    }
   ],
   "source": [
    "range(4,20,7)"
   ]
  },
  {
   "cell_type": "code",
   "execution_count": 6,
   "metadata": {
    "collapsed": false
   },
   "outputs": [
    {
     "data": {
      "text/plain": [
       "[20, 17, 14, 11, 8, 5]"
      ]
     },
     "execution_count": 6,
     "metadata": {},
     "output_type": "execute_result"
    }
   ],
   "source": [
    "range(20,4,-3)"
   ]
  },
  {
   "cell_type": "markdown",
   "metadata": {},
   "source": [
    "You can combine `range()` with `len()` to iterate over the indices of a sequence."
   ]
  },
  {
   "cell_type": "code",
   "execution_count": 7,
   "metadata": {
    "collapsed": false
   },
   "outputs": [
    {
     "name": "stdout",
     "output_type": "stream",
     "text": [
      "Name 0 is Jamie\n",
      "Name 1 is Cersei\n",
      "Name 2 is Jon\n",
      "Name 3 is Sansa\n"
     ]
    }
   ],
   "source": [
    "for i in range(len(names)):\n",
    "    print 'Name', i, 'is', names[i]"
   ]
  },
  {
   "cell_type": "markdown",
   "metadata": {},
   "source": [
    "But in such cases, the `enumerate()` function is usually more convenient."
   ]
  },
  {
   "cell_type": "code",
   "execution_count": 8,
   "metadata": {
    "collapsed": false
   },
   "outputs": [
    {
     "name": "stdout",
     "output_type": "stream",
     "text": [
      "Name 0 is Jamie\n",
      "Name 1 is Cersei\n",
      "Name 2 is Jon\n",
      "Name 3 is Sansa\n"
     ]
    }
   ],
   "source": [
    "for i, name in enumerate(names):\n",
    "    print 'Name', i, 'is', name"
   ]
  },
  {
   "cell_type": "markdown",
   "metadata": {},
   "source": [
    "As you might have guessed, the `enumerate()` function takes a sequence, and returns the (index, value) pairs for each item (the 'pairs' are actually called `tuple`s, but more on that later...), and you can assign items from a `tuple` to its own variable in the `for` statement."
   ]
  },
  {
   "cell_type": "code",
   "execution_count": 9,
   "metadata": {
    "collapsed": false
   },
   "outputs": [
    {
     "name": "stdout",
     "output_type": "stream",
     "text": [
      "[(0, 'Jamie'), (1, 'Cersei'), (2, 'Jon'), (3, 'Sansa')]\n"
     ]
    }
   ],
   "source": [
    "print list(enumerate(names))"
   ]
  },
  {
   "cell_type": "markdown",
   "metadata": {},
   "source": [
    "Occasionally, you might want to loop over two or more sequences at a time. You can pair the entries with the `zip()` function."
   ]
  },
  {
   "cell_type": "code",
   "execution_count": 10,
   "metadata": {
    "collapsed": false
   },
   "outputs": [
    {
     "name": "stdout",
     "output_type": "stream",
     "text": [
      "G - Jamie Lannister\n",
      "a - Cersei Lannister\n",
      "m - Jon Snow\n",
      "e - Sansa Stark\n"
     ]
    }
   ],
   "source": [
    "title = 'Game of Thrones'\n",
    "houses = ['Lannister', 'Lannister', 'Snow', 'Stark']\n",
    "for char, house, name in zip(title, houses, names):\n",
    "    print char, '-', name, house"
   ]
  },
  {
   "cell_type": "markdown",
   "metadata": {
    "collapsed": false
   },
   "source": [
    "Note how `zip()` gracefully fits the interator to the length of the shortest sequence, i.e., only the first four characters of the string 'Game of Thrones' were iterated."
   ]
  },
  {
   "cell_type": "markdown",
   "metadata": {},
   "source": [
    "### `break` and `continue` statements\n",
    "You can manage your loops in more detail using `break` and `continue` statements. \n",
    "\n",
    "A `break` statement, as the name implies, will break you out of the smallest enclosing loop."
   ]
  },
  {
   "cell_type": "code",
   "execution_count": 11,
   "metadata": {
    "collapsed": false
   },
   "outputs": [
    {
     "name": "stdout",
     "output_type": "stream",
     "text": [
      "Jamie Lannister\n",
      "Cersei Lannister\n"
     ]
    }
   ],
   "source": [
    "for name, house in zip(names, houses):\n",
    "    if house == 'Snow':\n",
    "        break\n",
    "    else:\n",
    "        print name, house"
   ]
  },
  {
   "cell_type": "markdown",
   "metadata": {},
   "source": [
    "A `continue` statement will simply skip over to the next item in the iterator, instead of breaking out of the loop."
   ]
  },
  {
   "cell_type": "code",
   "execution_count": 12,
   "metadata": {
    "collapsed": false
   },
   "outputs": [
    {
     "name": "stdout",
     "output_type": "stream",
     "text": [
      "Jamie Lannister\n",
      "Cersei Lannister\n",
      "Sansa Stark\n"
     ]
    }
   ],
   "source": [
    "for name, house in zip(names, houses):\n",
    "    if house == 'Snow':\n",
    "        continue  # compare to the previous example where we stopped the loop at Snow, now we simply skip it\n",
    "    else:\n",
    "        print name, house"
   ]
  },
  {
   "cell_type": "markdown",
   "metadata": {
    "collapsed": true
   },
   "source": [
    "### Some more data structures\n",
    "Before we move on, now might be a good time to cover a few more data structures.\n",
    "#### `dict` (dictionary)\n",
    "The most useful data structure in `python` (my very personal opinion)! Also known as *associative arrays* or *hash tables* in other languages, a `python` dictionary maps *hashable* values to *arbitrary* objects. Dictionaries can be created by placing a comma-separated list of `key:value` pairs within curly braces. Just remember that the `key` must be immutable (like a string)."
   ]
  },
  {
   "cell_type": "code",
   "execution_count": 13,
   "metadata": {
    "collapsed": false
   },
   "outputs": [
    {
     "name": "stdout",
     "output_type": "stream",
     "text": [
      "{'name': 'Jongbin', 'email': 'jongbin@stanford.edu'}\n"
     ]
    }
   ],
   "source": [
    "me = {'name':'Jongbin', 'email':'jongbin@stanford.edu'}\n",
    "print me"
   ]
  },
  {
   "cell_type": "markdown",
   "metadata": {},
   "source": [
    "You can assign new keys to existing dictionaries."
   ]
  },
  {
   "cell_type": "code",
   "execution_count": 14,
   "metadata": {
    "collapsed": false,
    "scrolled": true
   },
   "outputs": [
    {
     "name": "stdout",
     "output_type": "stream",
     "text": [
      "{'cel': '650-123-4567', 'name': 'Jongbin', 'email': 'jongbin@stanford.edu'}\n"
     ]
    }
   ],
   "source": [
    "me['cel'] = '650-123-4567'\n",
    "print me"
   ]
  },
  {
   "cell_type": "markdown",
   "metadata": {},
   "source": [
    "Or delete existing `key:value` pairs with the `del` statement."
   ]
  },
  {
   "cell_type": "code",
   "execution_count": 15,
   "metadata": {
    "collapsed": false,
    "scrolled": false
   },
   "outputs": [
    {
     "name": "stdout",
     "output_type": "stream",
     "text": [
      "{'cel': '650-123-4567', 'name': 'Jongbin'}\n"
     ]
    }
   ],
   "source": [
    "del me['email']\n",
    "print me"
   ]
  },
  {
   "cell_type": "markdown",
   "metadata": {},
   "source": [
    "The `key` of a dictionary can't be a list (because lists are mutable), but the `value` sure can!"
   ]
  },
  {
   "cell_type": "code",
   "execution_count": 16,
   "metadata": {
    "collapsed": false
   },
   "outputs": [
    {
     "name": "stdout",
     "output_type": "stream",
     "text": [
      "{'siblings': ['Hanbyul', 'Hansol'], 'cel': '650-123-4567', 'name': 'Jongbin'}\n"
     ]
    }
   ],
   "source": [
    "me['siblings'] = ['Hanbyul', 'Hansol']\n",
    "print me"
   ]
  },
  {
   "cell_type": "markdown",
   "metadata": {},
   "source": [
    "Use the `keys()` method of dictionary objects to get a list of the keys used in the dictionary."
   ]
  },
  {
   "cell_type": "code",
   "execution_count": 17,
   "metadata": {
    "collapsed": false
   },
   "outputs": [
    {
     "data": {
      "text/plain": [
       "['siblings', 'cel', 'name']"
      ]
     },
     "execution_count": 17,
     "metadata": {},
     "output_type": "execute_result"
    }
   ],
   "source": [
    "me.keys()"
   ]
  },
  {
   "cell_type": "markdown",
   "metadata": {},
   "source": [
    "And use the `in` keyword (compatible with all lists) to see if the a certain key exists in the dictionary."
   ]
  },
  {
   "cell_type": "code",
   "execution_count": 18,
   "metadata": {
    "collapsed": false
   },
   "outputs": [
    {
     "data": {
      "text/plain": [
       "True"
      ]
     },
     "execution_count": 18,
     "metadata": {},
     "output_type": "execute_result"
    }
   ],
   "source": [
    "'name' in me.keys()"
   ]
  },
  {
   "cell_type": "code",
   "execution_count": 19,
   "metadata": {
    "collapsed": false
   },
   "outputs": [
    {
     "data": {
      "text/plain": [
       "False"
      ]
     },
     "execution_count": 19,
     "metadata": {},
     "output_type": "execute_result"
    }
   ],
   "source": [
    "'email' in me.keys()"
   ]
  },
  {
   "cell_type": "markdown",
   "metadata": {},
   "source": [
    "When the keys are simple strings, it is sometimes easier to specify pairs using the `dict` constructor."
   ]
  },
  {
   "cell_type": "code",
   "execution_count": 20,
   "metadata": {
    "collapsed": false
   },
   "outputs": [
    {
     "name": "stdout",
     "output_type": "stream",
     "text": [
      "{'siblings': ['Hanbyul', 'Hansol'], 'email': 'jongbin@stanford.edu', 'name': 'Jongbin'}\n"
     ]
    }
   ],
   "source": [
    "me = dict(name='Jongbin', email='jongbin@stanford.edu', siblings=['Hanbyul', 'Hansol'])\n",
    "print me"
   ]
  },
  {
   "cell_type": "markdown",
   "metadata": {},
   "source": [
    "The `iteritems()` method lets you loop over each `key:value` pair."
   ]
  },
  {
   "cell_type": "code",
   "execution_count": 21,
   "metadata": {
    "collapsed": false
   },
   "outputs": [
    {
     "name": "stdout",
     "output_type": "stream",
     "text": [
      "siblings : ['Hanbyul', 'Hansol']\n",
      "email : jongbin@stanford.edu\n",
      "name : Jongbin\n"
     ]
    }
   ],
   "source": [
    "for key, value in me.iteritems():\n",
    "    print key, ':', value"
   ]
  },
  {
   "cell_type": "markdown",
   "metadata": {},
   "source": [
    "#### `tuple`s\n",
    "`Tuple`s are pretty similar to lists, except for the fact that they are immuatable. They consist of a number of values separated by commas (not necessarily, but often, enclosed in parentheses)."
   ]
  },
  {
   "cell_type": "code",
   "execution_count": 22,
   "metadata": {
    "collapsed": false
   },
   "outputs": [
    {
     "name": "stdout",
     "output_type": "stream",
     "text": [
      "('male', 'dark hair')\n"
     ]
    }
   ],
   "source": [
    "description = 'male', 'dark hair'\n",
    "print description"
   ]
  },
  {
   "cell_type": "code",
   "execution_count": 23,
   "metadata": {
    "collapsed": false
   },
   "outputs": [
    {
     "data": {
      "text/plain": [
       "'male'"
      ]
     },
     "execution_count": 23,
     "metadata": {},
     "output_type": "execute_result"
    }
   ],
   "source": [
    "description[0]  # tuples are also sequences, and can be indexed"
   ]
  },
  {
   "cell_type": "code",
   "execution_count": 24,
   "metadata": {
    "collapsed": false
   },
   "outputs": [
    {
     "data": {
      "text/plain": [
       "('dark hair',)"
      ]
     },
     "execution_count": 24,
     "metadata": {},
     "output_type": "execute_result"
    }
   ],
   "source": [
    "description[1:]  # or sliced"
   ]
  },
  {
   "cell_type": "code",
   "execution_count": 25,
   "metadata": {
    "collapsed": false
   },
   "outputs": [
    {
     "ename": "TypeError",
     "evalue": "'tuple' object does not support item assignment",
     "output_type": "error",
     "traceback": [
      "\u001b[0;31m---------------------------------------------------------------------------\u001b[0m",
      "\u001b[0;31mTypeError\u001b[0m                                 Traceback (most recent call last)",
      "\u001b[0;32m<ipython-input-25-193ada17dc41>\u001b[0m in \u001b[0;36m<module>\u001b[0;34m()\u001b[0m\n\u001b[0;32m----> 1\u001b[0;31m \u001b[0mdescription\u001b[0m\u001b[0;34m[\u001b[0m\u001b[0;36m0\u001b[0m\u001b[0;34m]\u001b[0m \u001b[0;34m=\u001b[0m \u001b[0;34m'female'\u001b[0m  \u001b[0;31m# but NOT changed, because they are immutable\u001b[0m\u001b[0;34m\u001b[0m\u001b[0m\n\u001b[0m",
      "\u001b[0;31mTypeError\u001b[0m: 'tuple' object does not support item assignment"
     ]
    }
   ],
   "source": [
    "description[0] = 'female'  # but NOT changed, because they are immutable"
   ]
  },
  {
   "cell_type": "markdown",
   "metadata": {},
   "source": [
    "While being immutable may seem like a minor difference from lists, the implications are quite big, and tuples are generally used for very different purposes compared to lists. For example, tuples can be used as the `key` for dictionaries (think sparse matrices). "
   ]
  },
  {
   "cell_type": "code",
   "execution_count": 26,
   "metadata": {
    "collapsed": false
   },
   "outputs": [
    {
     "name": "stdout",
     "output_type": "stream",
     "text": [
      "{(0, 0): 1, (1000, 1000): 1}\n"
     ]
    }
   ],
   "source": [
    "super_sparse_matrix = {(0, 0):1, (1000, 1000):1}  # a 1000*1000 matrix with only two non-zero elements?\n",
    "print super_sparse_matrix"
   ]
  },
  {
   "cell_type": "code",
   "execution_count": 27,
   "metadata": {
    "collapsed": false
   },
   "outputs": [
    {
     "name": "stdout",
     "output_type": "stream",
     "text": [
      "{('apples', 'pears'): 1, ('apples', 'bananas'): 1}\n"
     ]
    }
   ],
   "source": [
    "word_matrix = {('apples', 'bananas'):1, ('apples', 'pears'):1}  # a matrix indexed by words\n",
    "print word_matrix"
   ]
  },
  {
   "cell_type": "markdown",
   "metadata": {},
   "source": [
    "There are many more data structures commonly used in `python`, but lists, dictionaries, and tuples pretty much cover the basics (not to mention that these three constitute enough to fully represent the [JSON](http://json.org/) format in `python`)"
   ]
  },
  {
   "cell_type": "markdown",
   "metadata": {},
   "source": [
    "### List comprehension\n",
    "List comprehension is `python`'s way of creating lists (and also other data structures) in a concise manner. One way to create a list of squares would be:"
   ]
  },
  {
   "cell_type": "code",
   "execution_count": 28,
   "metadata": {
    "collapsed": false
   },
   "outputs": [
    {
     "name": "stdout",
     "output_type": "stream",
     "text": [
      "[0, 1, 4, 9, 16, 25, 36, 49, 64, 81]\n"
     ]
    }
   ],
   "source": [
    "squares = []  # make an empty list\n",
    "for x in range(10):\n",
    "    squares.append(x**2)\n",
    "    \n",
    "print squares"
   ]
  },
  {
   "cell_type": "markdown",
   "metadata": {},
   "source": [
    "However, the more 'pythonic' way to do this, is to use list comprehension:"
   ]
  },
  {
   "cell_type": "code",
   "execution_count": 29,
   "metadata": {
    "collapsed": false
   },
   "outputs": [
    {
     "data": {
      "text/plain": [
       "[0, 1, 4, 9, 16, 25, 36, 49, 64, 81]"
      ]
     },
     "execution_count": 29,
     "metadata": {},
     "output_type": "execute_result"
    }
   ],
   "source": [
    "[x**2 for x in range(10)]"
   ]
  },
  {
   "cell_type": "markdown",
   "metadata": {},
   "source": [
    "The command reads: \n",
    "> build a list out of the square of x (x\\*\\*2), for the values of x in `range(10)`"
   ]
  },
  {
   "cell_type": "markdown",
   "metadata": {},
   "source": [
    "List comprehension can be used to build a list of tuples too."
   ]
  },
  {
   "cell_type": "code",
   "execution_count": 30,
   "metadata": {
    "collapsed": false
   },
   "outputs": [
    {
     "data": {
      "text/plain": [
       "[(3, 7), (7, 3)]"
      ]
     },
     "execution_count": 30,
     "metadata": {},
     "output_type": "execute_result"
    }
   ],
   "source": [
    "[(x, y) for x in range(10) for y in range(10) if x*y == 21]"
   ]
  },
  {
   "cell_type": "markdown",
   "metadata": {},
   "source": [
    "This is equivalent to the nested `for` loop:"
   ]
  },
  {
   "cell_type": "code",
   "execution_count": 31,
   "metadata": {
    "collapsed": false
   },
   "outputs": [
    {
     "name": "stdout",
     "output_type": "stream",
     "text": [
      "[(3, 7), (7, 3)]\n"
     ]
    }
   ],
   "source": [
    "twenty_one = []\n",
    "for x in range(10):\n",
    "    for y in range(10):\n",
    "        if x*y == 21:\n",
    "            twenty_one.append((x, y))\n",
    "            \n",
    "print twenty_one"
   ]
  },
  {
   "cell_type": "markdown",
   "metadata": {},
   "source": [
    "Just be aware that if the item of the list is a tuple, it must be parenthesized."
   ]
  },
  {
   "cell_type": "code",
   "execution_count": 32,
   "metadata": {
    "collapsed": false
   },
   "outputs": [
    {
     "ename": "SyntaxError",
     "evalue": "invalid syntax (<ipython-input-32-c0af109a84cc>, line 1)",
     "output_type": "error",
     "traceback": [
      "\u001b[0;36m  File \u001b[0;32m\"<ipython-input-32-c0af109a84cc>\"\u001b[0;36m, line \u001b[0;32m1\u001b[0m\n\u001b[0;31m    [x, y for x in range(10) for y in range(10) if x*y == 21]  # this won't work\u001b[0m\n\u001b[0m            ^\u001b[0m\n\u001b[0;31mSyntaxError\u001b[0m\u001b[0;31m:\u001b[0m invalid syntax\n"
     ]
    }
   ],
   "source": [
    "[x, y for x in range(10) for y in range(10) if x*y == 21]  # this won't work"
   ]
  },
  {
   "cell_type": "markdown",
   "metadata": {},
   "source": [
    "Let's enhance our list of vowels from the previous exercises, by appending the uppercase letters as well."
   ]
  },
  {
   "cell_type": "code",
   "execution_count": 33,
   "metadata": {
    "collapsed": false
   },
   "outputs": [
    {
     "name": "stdout",
     "output_type": "stream",
     "text": [
      "['a', 'e', 'i', 'o', 'u', 'A', 'E', 'I', 'O', 'U']\n"
     ]
    }
   ],
   "source": [
    "vowels = vowels + [V.upper() for V in vowels]\n",
    "print vowels"
   ]
  },
  {
   "cell_type": "markdown",
   "metadata": {},
   "source": [
    "List comprehension can also be used to build dictionaries.\n",
    "\n",
    "Try building a sparse matrix (represented by a dictionary), where the position is indexed by words $x$ and $y$, and\n",
    "$$(x, y) = \\begin{cases}\n",
    "1 & \\text{if} \\quad y \\quad \\text{is longer than} \\quad x \\\\\n",
    "0 & \\text{otherwise}\n",
    "\\end{cases}$$\n",
    "\n",
    "(But note that the example below is not always the best way to do this! Implementation should depend on your context - what do you want to do with the data/matrix?)"
   ]
  },
  {
   "cell_type": "code",
   "execution_count": 34,
   "metadata": {
    "collapsed": false,
    "scrolled": true
   },
   "outputs": [
    {
     "data": {
      "text/plain": [
       "{('anti', 'eagles'): 1,\n",
       " ('anti', 'evening'): 1,\n",
       " ('anti', 'happy'): 1,\n",
       " ('anti', 'interior'): 1,\n",
       " ('anti', 'zebra'): 1,\n",
       " ('eagles', 'evening'): 1,\n",
       " ('eagles', 'interior'): 1,\n",
       " ('evening', 'interior'): 1,\n",
       " ('happy', 'eagles'): 1,\n",
       " ('happy', 'evening'): 1,\n",
       " ('happy', 'interior'): 1,\n",
       " ('zebra', 'eagles'): 1,\n",
       " ('zebra', 'evening'): 1,\n",
       " ('zebra', 'interior'): 1}"
      ]
     },
     "execution_count": 34,
     "metadata": {},
     "output_type": "execute_result"
    }
   ],
   "source": [
    "words = ['anti', 'happy', 'evening', 'eagles', 'interior', 'zebra']\n",
    "{(x,y):1 for x in words for y in words if len(y) > len(x)}"
   ]
  },
  {
   "cell_type": "markdown",
   "metadata": {},
   "source": [
    "### Read/Write Files\n",
    "Often, you will need to read some data into your `python` workspace, do something to/with said data, and then write the results to another file. We'll take a look at the most basic file read/write methods, which will get you started with your work, and look at some more advanced topics if we have more time."
   ]
  },
  {
   "cell_type": "markdown",
   "metadata": {},
   "source": [
    "#### File objects\n",
    "Think of a `python` file object as a portal connecting your `python` workspace to a file on your hard drive. You can open a file object with the built-in `open(filename, mode)` function. The `filename` argument is a string specifying the file name, and the `mode` argument can be one of the following values, specifying whether you want to read from or write to the file:\n",
    "- `'r'`: read\n",
    "- `'w'`: write (overwrites any existing files with same filename)\n",
    "- `'a'`: append (write additional to any existing data)\n",
    "\n",
    "(you can also open files for both read/write with mode `'r+'`, but this best avoided if possible)\n",
    "\n",
    "Remember that `open()` simply creates the 'portal', and you have to call additional methods on that file object to either read or write. Since reading can be a little more complicated, let's start with a simple write:"
   ]
  },
  {
   "cell_type": "code",
   "execution_count": 35,
   "metadata": {
    "collapsed": false
   },
   "outputs": [
    {
     "name": "stdout",
     "output_type": "stream",
     "text": [
      "<open file 'example.txt', mode 'w' at 0x7ff908384660>\n"
     ]
    }
   ],
   "source": [
    "f = open('example.txt', 'w')\n",
    "print f"
   ]
  },
  {
   "cell_type": "markdown",
   "metadata": {},
   "source": [
    "Note that after creating the file object, the empty `filename` file (in the above example, `example.txt`) is created in your working directory. Now, let's actually write something to it:"
   ]
  },
  {
   "cell_type": "code",
   "execution_count": 36,
   "metadata": {
    "collapsed": true
   },
   "outputs": [],
   "source": [
    "f.write('Something')"
   ]
  },
  {
   "cell_type": "markdown",
   "metadata": {},
   "source": [
    "You can only write strings to a file object:"
   ]
  },
  {
   "cell_type": "code",
   "execution_count": 37,
   "metadata": {
    "collapsed": false
   },
   "outputs": [
    {
     "ename": "TypeError",
     "evalue": "expected a string or other character buffer object",
     "output_type": "error",
     "traceback": [
      "\u001b[0;31m---------------------------------------------------------------------------\u001b[0m",
      "\u001b[0;31mTypeError\u001b[0m                                 Traceback (most recent call last)",
      "\u001b[0;32m<ipython-input-37-70fc2ad98f1e>\u001b[0m in \u001b[0;36m<module>\u001b[0;34m()\u001b[0m\n\u001b[1;32m      1\u001b[0m \u001b[0msome_list\u001b[0m \u001b[0;34m=\u001b[0m \u001b[0;34m[\u001b[0m\u001b[0;36m1\u001b[0m\u001b[0;34m,\u001b[0m \u001b[0;36m2\u001b[0m\u001b[0;34m,\u001b[0m \u001b[0;36m3\u001b[0m\u001b[0;34m]\u001b[0m\u001b[0;34m\u001b[0m\u001b[0m\n\u001b[0;32m----> 2\u001b[0;31m \u001b[0mf\u001b[0m\u001b[0;34m.\u001b[0m\u001b[0mwrite\u001b[0m\u001b[0;34m(\u001b[0m\u001b[0msome_list\u001b[0m\u001b[0;34m)\u001b[0m\u001b[0;34m\u001b[0m\u001b[0m\n\u001b[0m",
      "\u001b[0;31mTypeError\u001b[0m: expected a string or other character buffer object"
     ]
    }
   ],
   "source": [
    "some_list = [1, 2, 3]\n",
    "f.write(some_list)"
   ]
  },
  {
   "cell_type": "markdown",
   "metadata": {},
   "source": [
    "To write anything other than a string, use the `str()` built-in function to convert it to a string first:"
   ]
  },
  {
   "cell_type": "code",
   "execution_count": 38,
   "metadata": {
    "collapsed": true
   },
   "outputs": [],
   "source": [
    "f.write(str(some_list))"
   ]
  },
  {
   "cell_type": "markdown",
   "metadata": {},
   "source": [
    "You might notice that even though you've called `write()` a couple times, the actual file on your hard drive doesn't necessarily get updated. That's because a file object's `write`s are kept in buffer. To complete all the `write`s and close the file object, call the `close()` method:"
   ]
  },
  {
   "cell_type": "code",
   "execution_count": 39,
   "metadata": {
    "collapsed": true
   },
   "outputs": [],
   "source": [
    "f.close()"
   ]
  },
  {
   "cell_type": "markdown",
   "metadata": {},
   "source": [
    "Note that using a closed file object will result in an error:"
   ]
  },
  {
   "cell_type": "code",
   "execution_count": 40,
   "metadata": {
    "collapsed": false
   },
   "outputs": [
    {
     "ename": "ValueError",
     "evalue": "I/O operation on closed file",
     "output_type": "error",
     "traceback": [
      "\u001b[0;31m---------------------------------------------------------------------------\u001b[0m",
      "\u001b[0;31mValueError\u001b[0m                                Traceback (most recent call last)",
      "\u001b[0;32m<ipython-input-40-8be1c293604e>\u001b[0m in \u001b[0;36m<module>\u001b[0;34m()\u001b[0m\n\u001b[0;32m----> 1\u001b[0;31m \u001b[0mf\u001b[0m\u001b[0;34m.\u001b[0m\u001b[0mwrite\u001b[0m\u001b[0;34m(\u001b[0m\u001b[0;34m'...'\u001b[0m\u001b[0;34m)\u001b[0m\u001b[0;34m\u001b[0m\u001b[0m\n\u001b[0m",
      "\u001b[0;31mValueError\u001b[0m: I/O operation on closed file"
     ]
    }
   ],
   "source": [
    "f.write('...')"
   ]
  },
  {
   "cell_type": "markdown",
   "metadata": {},
   "source": [
    "#### Reading from a URL\n",
    "Reading data from a URL in `python` is pretty simple, using the `urllib2` moduel. `urllib2` let's you open URLs in `read` mode, as if they were file objects.\n",
    "\n",
    "Let's use `python`'s `urllib2` to read Charles Dickens' \"A Tale of Two Cities\" from https://goo.gl/fHIeOi\n",
    "\n",
    "(This is just for illustration. Note, there are other libraries that are usually more appropriate for reading/scraping web pages.)"
   ]
  },
  {
   "cell_type": "code",
   "execution_count": 41,
   "metadata": {
    "collapsed": false
   },
   "outputs": [
    {
     "name": "stdout",
     "output_type": "stream",
     "text": [
      "<addinfourl at 140707439963672 whose fp = <socket._fileobject object at 0x7ff90804d9d0>>\n"
     ]
    }
   ],
   "source": [
    "import urllib2  # the import statement is used in python to import modules/libraries\n",
    "\n",
    "link = urllib2.urlopen('https://goo.gl/fHIeOi')  # open the url\n",
    "print link\n",
    "text = link.read()\n",
    "link.close()  # just like file objects, url connections should be closed after you're done"
   ]
  },
  {
   "cell_type": "markdown",
   "metadata": {},
   "source": [
    "The `text` variable now contains the entire text of \"A Tale of Two Cities\". For obvious reasons, I'm not going to print the contents of `text` on the notes, but let's try saving it to a file."
   ]
  },
  {
   "cell_type": "code",
   "execution_count": 42,
   "metadata": {
    "collapsed": true
   },
   "outputs": [],
   "source": [
    "f = open('two_cities.txt', 'w')  # open file object in write mode\n",
    "f.write(text)\n",
    "f.close()"
   ]
  },
  {
   "cell_type": "markdown",
   "metadata": {},
   "source": [
    "#### Reading from file objects\n",
    "And now, we have a file to practice reading from! We can create a file object just like we did for writing, but with the `'r'` mode specified:"
   ]
  },
  {
   "cell_type": "code",
   "execution_count": 43,
   "metadata": {
    "collapsed": true
   },
   "outputs": [],
   "source": [
    "f = open('two_cities.txt', 'r')  # open file object in read mode"
   ]
  },
  {
   "cell_type": "markdown",
   "metadata": {},
   "source": [
    "A file object will iterate over the contents of the file it is connected to. For example, the `readline()` method will read the file, one line at a time. And consecutive calls to `readline()` will keep giving you the next line:"
   ]
  },
  {
   "cell_type": "code",
   "execution_count": 44,
   "metadata": {
    "collapsed": false
   },
   "outputs": [
    {
     "name": "stdout",
     "output_type": "stream",
     "text": [
      "first line: A Tale of Two Cities, by Charles Dickens\r",
      "\r\n",
      "\n",
      "second line: [A story of the French Revolution]\r",
      "\r\n",
      "\n"
     ]
    }
   ],
   "source": [
    "print 'first line:', f.readline()  # read the first line\n",
    "print 'second line:', f.readline()  # read the second line"
   ]
  },
  {
   "cell_type": "markdown",
   "metadata": {},
   "source": [
    "Since the file object essentially provides an iterator over each line of the file, you can loop over the file object line-by-line. This is memory efficient, fast, and leads to simple code:"
   ]
  },
  {
   "cell_type": "code",
   "execution_count": 45,
   "metadata": {
    "collapsed": false
   },
   "outputs": [
    {
     "name": "stdout",
     "output_type": "stream",
     "text": [
      "\r",
      "\r\n",
      "\n",
      "CONTENTS\r",
      "\r\n",
      "\n",
      "\r",
      "\r\n",
      "\n",
      "\r",
      "\r\n",
      "\n",
      "Book the First--Recalled to Life\r",
      "\r\n",
      "\n",
      "\r",
      "\r\n",
      "\n",
      "Chapter I      The Period\r",
      "\r\n",
      "\n",
      "Chapter II     The Mail\r",
      "\r\n",
      "\n",
      "Chapter III    The Night Shadows\r",
      "\r\n",
      "\n",
      "Chapter IV     The Preparation\r",
      "\r\n",
      "\n",
      "Chapter V      The Wine-shop\r",
      "\r\n",
      "\n"
     ]
    }
   ],
   "source": [
    "n = 1  # a simple counter to control the number of lines printed\n",
    "for line in f:\n",
    "    print line\n",
    "    if n > 10: \n",
    "        break\n",
    "    n += 1"
   ]
  },
  {
   "cell_type": "markdown",
   "metadata": {},
   "source": [
    "Just like when writing, don't forget to close files after you're done!"
   ]
  },
  {
   "cell_type": "code",
   "execution_count": 46,
   "metadata": {
    "collapsed": true
   },
   "outputs": [],
   "source": [
    "f.close()"
   ]
  },
  {
   "cell_type": "markdown",
   "metadata": {},
   "source": [
    "As your file I/O gets complex, opening and closing can become quite painful (e.g., what if an error occurs before you close the file object? what happens to the memory it's using?), and forgeting to close file objects is potentially dangerous. So, it's good practice to use the `with` and `as` keywords, which makes sure that the file is properly closed after operations are finished, even if an error occurs during operations:"
   ]
  },
  {
   "cell_type": "code",
   "execution_count": 47,
   "metadata": {
    "collapsed": false
   },
   "outputs": [
    {
     "name": "stdout",
     "output_type": "stream",
     "text": [
      "A Tale of Two Cities, by Charles Dickens\r",
      "\r\n",
      "\n",
      "[A story of the French Revolution]\r",
      "\r\n",
      "\n",
      "\r",
      "\r\n",
      "\n",
      "CONTENTS\r",
      "\r\n",
      "\n",
      "\r",
      "\r\n",
      "\n",
      "\r",
      "\r\n",
      "\n",
      "Book the First--Recalled to Life\r",
      "\r\n",
      "\n",
      "\r",
      "\r\n",
      "\n",
      "Chapter I      The Period\r",
      "\r\n",
      "\n",
      "Chapter II     The Mail\r",
      "\r\n",
      "\n",
      "Chapter III    The Night Shadows\r",
      "\r\n",
      "\n"
     ]
    }
   ],
   "source": [
    "with open('two_cities.txt', 'r') as f:\n",
    "    n = 1\n",
    "    for line in f:\n",
    "        print line\n",
    "        if n > 10: break\n",
    "        n += 1"
   ]
  },
  {
   "cell_type": "markdown",
   "metadata": {},
   "source": [
    "### Handling exceptions\n",
    "Sometimes, you will anticipate certain errors, and want your code to behave in a specific manner when such errors occur (e.g., if you're accessing Twitter API, and know that some results will be junk that cause errors). Such errors that occur at runtime (distinguished from syntax errors) are known as exceptions. You can use `try`-`except` statements to catch certain exceptions. \n",
    "\n",
    "One common example is assigning a value to an undefined dictionary key. Let's count the occurence of each alphabet in a certain string:"
   ]
  },
  {
   "cell_type": "code",
   "execution_count": 48,
   "metadata": {
    "collapsed": false
   },
   "outputs": [
    {
     "ename": "KeyError",
     "evalue": "'h'",
     "output_type": "error",
     "traceback": [
      "\u001b[0;31m---------------------------------------------------------------------------\u001b[0m",
      "\u001b[0;31mKeyError\u001b[0m                                  Traceback (most recent call last)",
      "\u001b[0;32m<ipython-input-48-41d1b010857e>\u001b[0m in \u001b[0;36m<module>\u001b[0;34m()\u001b[0m\n\u001b[1;32m      3\u001b[0m \u001b[0md\u001b[0m \u001b[0;34m=\u001b[0m \u001b[0;34m{\u001b[0m\u001b[0;34m}\u001b[0m  \u001b[0;31m# define an empty dictionary\u001b[0m\u001b[0;34m\u001b[0m\u001b[0m\n\u001b[1;32m      4\u001b[0m \u001b[0;32mfor\u001b[0m \u001b[0mchar\u001b[0m \u001b[0;32min\u001b[0m \u001b[0ms\u001b[0m\u001b[0;34m:\u001b[0m\u001b[0;34m\u001b[0m\u001b[0m\n\u001b[0;32m----> 5\u001b[0;31m     \u001b[0md\u001b[0m\u001b[0;34m[\u001b[0m\u001b[0mchar\u001b[0m\u001b[0;34m]\u001b[0m \u001b[0;34m+=\u001b[0m \u001b[0;36m1\u001b[0m  \u001b[0;31m# increase the count of d[char] by 1 ... this will result in a KeyError\u001b[0m\u001b[0;34m\u001b[0m\u001b[0m\n\u001b[0m\u001b[1;32m      6\u001b[0m \u001b[0;34m\u001b[0m\u001b[0m\n\u001b[1;32m      7\u001b[0m \u001b[0;32mprint\u001b[0m \u001b[0md\u001b[0m\u001b[0;34m\u001b[0m\u001b[0m\n",
      "\u001b[0;31mKeyError\u001b[0m: 'h'"
     ]
    }
   ],
   "source": [
    "s = 'how many wood would a woodchuck chuck if a woodchuck would chuck wood'\n",
    "\n",
    "d = {}  # define an empty dictionary\n",
    "for char in s:\n",
    "    d[char] += 1  # increase the count of d[char] by 1 ... this will result in a KeyError\n",
    "     \n",
    "print d"
   ]
  },
  {
   "cell_type": "markdown",
   "metadata": {},
   "source": [
    "As expected, the above code resulted in a `KeyError` (as we can see from the error message - or Traceback). Of course, we could avoid the error by checking if the key exists each time before increasing a count, but this would require an iteration through the entire list of keys every time we increase a value, and that could be potentially expensive if we have many keys. A more efficient way would be to capture the KeyError in a `try`-`except` statement. The `except` statement can specify what type of errors to handle, so we don't end up ignoring other meaningful errors:"
   ]
  },
  {
   "cell_type": "code",
   "execution_count": 49,
   "metadata": {
    "collapsed": false
   },
   "outputs": [
    {
     "name": "stdout",
     "output_type": "stream",
     "text": [
      "{'a': 3, ' ': 12, 'c': 8, 'd': 6, 'f': 1, 'i': 1, 'h': 5, 'k': 4, 'm': 1, 'l': 2, 'o': 11, 'n': 1, 'u': 6, 'w': 7, 'y': 1}\n"
     ]
    }
   ],
   "source": [
    "s = 'how many wood would a woodchuck chuck if a woodchuck would chuck wood'\n",
    "\n",
    "d = {}  # define an empty dictionary\n",
    "for char in s:\n",
    "    try:  # try everything in this block, and goto the except block if an error occurs\n",
    "        d[char] += 1  # increase the count of d[char] by 1 ... this will result in a KeyError\n",
    "    except KeyError:  # execute the following block, only if the error is a KeyError, otherwise abort as usual.\n",
    "        d[char] = 1 # instead of incrementing, initiate a key:value pair in the dictionary\n",
    "    \n",
    "print d"
   ]
  },
  {
   "cell_type": "markdown",
   "metadata": {},
   "source": [
    "While catching errors can be useful, always be careful of which errors you catch. Ignoring unexpected error messages can render your results useless!"
   ]
  },
  {
   "cell_type": "markdown",
   "metadata": {},
   "source": [
    "### Exercise 2.\n",
    "Hopefully, we've reached this point by the end of the morning session, and now would be a perfect time for an exercise.\n",
    "\n",
    "1. Declare three lists:<br /><br />\n",
    "`names = ['Harry', 'Ron', 'Hermione']`<br />\n",
    "`verbs = ['likes', 'hates', 'eats']`<br />\n",
    "`objects = ['pie', 'owls', 'the snitch']`<br /><br />\n",
    "Use list comprehension to create a list of all (name, verb, object) combinations. (The final result should have length 27.)\n",
    "\n",
    "1. With the list of combinations from the previous question, use a `for` loop to print sentences of what Harry eats. (Hint: You can use an `and`/`or` statements to check two or more conditions in a single `if` statement, e.g.,<br />\n",
    "`if` *`condition_1`* and *`condition_2`*: ... <br />\n",
    "The final output should be properly formatted as a sentence, e.g.,<br />\n",
    ">`...`<br />\n",
    ">`Harry eats pie.`<br />\n",
    ">`...`\n",
    "1. Create a `python` dictionary that counts the occurence of every word, delimitted by white spaces, in \"A Tale of Two Cities\".\n",
    "1. Find words that occur between 500 and 700 times in \"A Tale of Two Cities\"."
   ]
  }
 ],
 "metadata": {
  "celltoolbar": "Raw Cell Format",
  "kernelspec": {
   "display_name": "Python 2",
   "language": "python",
   "name": "python2"
  },
  "language_info": {
   "codemirror_mode": {
    "name": "ipython",
    "version": 2
   },
   "file_extension": ".py",
   "mimetype": "text/x-python",
   "name": "python",
   "nbconvert_exporter": "python",
   "pygments_lexer": "ipython2",
   "version": "2.7.12"
  }
 },
 "nbformat": 4,
 "nbformat_minor": 0
}
