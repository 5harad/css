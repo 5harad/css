{
 "cells": [
  {
   "cell_type": "markdown",
   "metadata": {},
   "source": [
    "# Data manipulation with dplyr"
   ]
  },
  {
   "cell_type": "code",
   "execution_count": 1,
   "metadata": {},
   "outputs": [
    {
     "name": "stderr",
     "output_type": "stream",
     "text": [
      "── \u001b[1mAttaching packages\u001b[22m ─────────────────────────────────────── tidyverse 1.3.0 ──\n",
      "\u001b[32m✔\u001b[39m \u001b[34mggplot2\u001b[39m 3.2.1     \u001b[32m✔\u001b[39m \u001b[34mpurrr  \u001b[39m 0.3.3\n",
      "\u001b[32m✔\u001b[39m \u001b[34mtibble \u001b[39m 2.1.3     \u001b[32m✔\u001b[39m \u001b[34mdplyr  \u001b[39m 0.8.3\n",
      "\u001b[32m✔\u001b[39m \u001b[34mtidyr  \u001b[39m 1.0.0     \u001b[32m✔\u001b[39m \u001b[34mstringr\u001b[39m 1.4.0\n",
      "\u001b[32m✔\u001b[39m \u001b[34mreadr  \u001b[39m 1.3.1     \u001b[32m✔\u001b[39m \u001b[34mforcats\u001b[39m 0.4.0\n",
      "── \u001b[1mConflicts\u001b[22m ────────────────────────────────────────── tidyverse_conflicts() ──\n",
      "\u001b[31m✖\u001b[39m \u001b[34mdplyr\u001b[39m::\u001b[32mfilter()\u001b[39m masks \u001b[34mstats\u001b[39m::filter()\n",
      "\u001b[31m✖\u001b[39m \u001b[34mdplyr\u001b[39m::\u001b[32mlag()\u001b[39m    masks \u001b[34mstats\u001b[39m::lag()\n"
     ]
    }
   ],
   "source": [
    "# Some initial setup\n",
    "options(digits = 3, repr.matrix.max.rows = 6)\n",
    "\n",
    "# load tidyverse, which includes dplyr and ggplot\n",
    "library(\"tidyverse\")"
   ]
  },
  {
   "cell_type": "markdown",
   "metadata": {},
   "source": [
    "The [tidyverse](https://www.tidyverse.org) is a collection of actively-developed `R` packages that follow a certain principle of writing code.\n",
    "Here, we will primarily focus on `dplyr`, which is the part of `tidyverse` which deals with data manipulation.\n",
    "\n",
    "First, we will start by reading some data. \n",
    "There are many functions in `tidyverse` (and `R` in general) for reading various data formats into the `R` environment as a table of data (or, `data.table`).\n",
    "For example, either `read_csv` (from `tidyverse`) or `read.csv` (base `R`) can be used to read a `csv` file (e.g., a file where each line represents a row in the table, and the columns are separated by a `,`).\n",
    "\n",
    "For this tutorial, we will be using the [titanic](https://www.kaggle.com/c/titanic/data) passenger data from Kaggle.\n",
    "The schema of the data are being described in the following table.\n",
    "\n",
    "**Variable**|**Definition**|**Key**\n",
    ":-----:|:-----:|:-----:\n",
    "survival|Survival|0 = No, 1 = Yes\n",
    "pclass|Ticket class|1 = 1st, 2 = 2nd, 3 = 3rd\n",
    "sex|Sex| \n",
    "Age|Age in years| \n",
    "sibsp|# of siblings / spouses aboard the Titanic| \n",
    "parch|# of parents / children aboard the Titanic| \n",
    "ticket|Ticket number| \n",
    "fare|Passenger fare| \n",
    "cabin|Cabin number| \n",
    "embarked|Port of Embarkation|C = Cherbourg, Q = Queenstown, S = Southampton\n",
    "\n",
    "To get started, let's first load and take a look at the data:"
   ]
  },
  {
   "cell_type": "code",
   "execution_count": 2,
   "metadata": {},
   "outputs": [
    {
     "data": {
      "text/plain": [
       "  PassengerId     Survived         Pclass         Name               Sex     \n",
       " Min.   :  1   Min.   :0.000   Min.   :1.00   Length:712         male  :453  \n",
       " 1st Qu.:223   1st Qu.:0.000   1st Qu.:1.00   Class :character   female:259  \n",
       " Median :445   Median :0.000   Median :2.00   Mode  :character               \n",
       " Mean   :449   Mean   :0.404   Mean   :2.24                                  \n",
       " 3rd Qu.:677   3rd Qu.:1.000   3rd Qu.:3.00                                  \n",
       " Max.   :891   Max.   :1.000   Max.   :3.00                                  \n",
       "                                                                             \n",
       "      Age           SibSp          Parch         Ticket               Fare    \n",
       " Min.   : 0.4   Min.   :0.00   Min.   :0.00   Length:712         Min.   :  0  \n",
       " 1st Qu.:20.0   1st Qu.:0.00   1st Qu.:0.00   Class :character   1st Qu.:  8  \n",
       " Median :28.0   Median :0.00   Median :0.00   Mode  :character   Median : 16  \n",
       " Mean   :29.6   Mean   :0.51   Mean   :0.43                      Mean   : 35  \n",
       " 3rd Qu.:38.0   3rd Qu.:1.00   3rd Qu.:1.00                      3rd Qu.: 33  \n",
       " Max.   :80.0   Max.   :5.00   Max.   :6.00                      Max.   :512  \n",
       "                                                                              \n",
       "         Cabin       Embarked        \n",
       " G6         :  4   Length:712        \n",
       " C23 C25 C27:  4   Class :character  \n",
       " B96 B98    :  4   Mode  :character  \n",
       " F33        :  3                     \n",
       " F2         :  3                     \n",
       " (Other)    :165                     \n",
       " NA's       :529                     "
      ]
     },
     "metadata": {},
     "output_type": "display_data"
    }
   ],
   "source": [
    "# load the csv data\n",
    "# column types can be inferred automatically, but can also be specified with col_types argument\n",
    "passengers <- read_csv(\n",
    "    \"titanic.csv\",\n",
    "    col_types = cols(.default = \"d\", Name='c', Sex='f', Ticket='c', Embarked='c', Cabin='f'))\n",
    "# cleaning some data\n",
    "passengers <- passengers %>% drop_na(Embarked, Age)\n",
    "\n",
    "\n",
    "# Summary of each column\n",
    "summary(passengers)"
   ]
  },
  {
   "cell_type": "markdown",
   "metadata": {},
   "source": [
    "## Introduction to `dplyr` verbs\n",
    "\n",
    "In the world of `dplyr`, a _verb_ is a function that\n",
    "\n",
    "* takes a data frame as its first argument, and\n",
    "* returns another data frame as a result\n",
    "\n",
    "Any function that meets this criteria, even if it's not necessarily a function in the `dplyr` package, can be considered a _verb_.\n",
    "\n",
    "For example, the `head()` function in `R`, if applied to a data frame, will return a first `n` rows of a data frame."
   ]
  },
  {
   "cell_type": "code",
   "execution_count": 3,
   "metadata": {},
   "outputs": [
    {
     "data": {
      "text/html": [
       "<table>\n",
       "<caption>A tibble: 3 × 12</caption>\n",
       "<thead>\n",
       "\t<tr><th scope=col>PassengerId</th><th scope=col>Survived</th><th scope=col>Pclass</th><th scope=col>Name</th><th scope=col>Sex</th><th scope=col>Age</th><th scope=col>SibSp</th><th scope=col>Parch</th><th scope=col>Ticket</th><th scope=col>Fare</th><th scope=col>Cabin</th><th scope=col>Embarked</th></tr>\n",
       "\t<tr><th scope=col>&lt;dbl&gt;</th><th scope=col>&lt;dbl&gt;</th><th scope=col>&lt;dbl&gt;</th><th scope=col>&lt;chr&gt;</th><th scope=col>&lt;fct&gt;</th><th scope=col>&lt;dbl&gt;</th><th scope=col>&lt;dbl&gt;</th><th scope=col>&lt;dbl&gt;</th><th scope=col>&lt;chr&gt;</th><th scope=col>&lt;dbl&gt;</th><th scope=col>&lt;fct&gt;</th><th scope=col>&lt;chr&gt;</th></tr>\n",
       "</thead>\n",
       "<tbody>\n",
       "\t<tr><td>1</td><td>0</td><td>3</td><td>Braund, Mr. Owen Harris                            </td><td>male  </td><td>22</td><td>1</td><td>0</td><td>A/5 21171       </td><td> 7.25</td><td>NA </td><td>S</td></tr>\n",
       "\t<tr><td>2</td><td>1</td><td>1</td><td>Cumings, Mrs. John Bradley (Florence Briggs Thayer)</td><td>female</td><td>38</td><td>1</td><td>0</td><td>PC 17599        </td><td>71.28</td><td>C85</td><td>C</td></tr>\n",
       "\t<tr><td>3</td><td>1</td><td>3</td><td>Heikkinen, Miss. Laina                             </td><td>female</td><td>26</td><td>0</td><td>0</td><td>STON/O2. 3101282</td><td> 7.92</td><td>NA </td><td>S</td></tr>\n",
       "</tbody>\n",
       "</table>\n"
      ],
      "text/latex": [
       "A tibble: 3 × 12\n",
       "\\begin{tabular}{r|llllllllllll}\n",
       " PassengerId & Survived & Pclass & Name & Sex & Age & SibSp & Parch & Ticket & Fare & Cabin & Embarked\\\\\n",
       " <dbl> & <dbl> & <dbl> & <chr> & <fct> & <dbl> & <dbl> & <dbl> & <chr> & <dbl> & <fct> & <chr>\\\\\n",
       "\\hline\n",
       "\t 1 & 0 & 3 & Braund, Mr. Owen Harris                             & male   & 22 & 1 & 0 & A/5 21171        &  7.25 & NA  & S\\\\\n",
       "\t 2 & 1 & 1 & Cumings, Mrs. John Bradley (Florence Briggs Thayer) & female & 38 & 1 & 0 & PC 17599         & 71.28 & C85 & C\\\\\n",
       "\t 3 & 1 & 3 & Heikkinen, Miss. Laina                              & female & 26 & 0 & 0 & STON/O2. 3101282 &  7.92 & NA  & S\\\\\n",
       "\\end{tabular}\n"
      ],
      "text/markdown": [
       "\n",
       "A tibble: 3 × 12\n",
       "\n",
       "| PassengerId &lt;dbl&gt; | Survived &lt;dbl&gt; | Pclass &lt;dbl&gt; | Name &lt;chr&gt; | Sex &lt;fct&gt; | Age &lt;dbl&gt; | SibSp &lt;dbl&gt; | Parch &lt;dbl&gt; | Ticket &lt;chr&gt; | Fare &lt;dbl&gt; | Cabin &lt;fct&gt; | Embarked &lt;chr&gt; |\n",
       "|---|---|---|---|---|---|---|---|---|---|---|---|\n",
       "| 1 | 0 | 3 | Braund, Mr. Owen Harris                             | male   | 22 | 1 | 0 | A/5 21171        |  7.25 | NA  | S |\n",
       "| 2 | 1 | 1 | Cumings, Mrs. John Bradley (Florence Briggs Thayer) | female | 38 | 1 | 0 | PC 17599         | 71.28 | C85 | C |\n",
       "| 3 | 1 | 3 | Heikkinen, Miss. Laina                              | female | 26 | 0 | 0 | STON/O2. 3101282 |  7.92 | NA  | S |\n",
       "\n"
      ],
      "text/plain": [
       "  PassengerId Survived Pclass\n",
       "1 1           0        3     \n",
       "2 2           1        1     \n",
       "3 3           1        3     \n",
       "  Name                                                Sex    Age SibSp Parch\n",
       "1 Braund, Mr. Owen Harris                             male   22  1     0    \n",
       "2 Cumings, Mrs. John Bradley (Florence Briggs Thayer) female 38  1     0    \n",
       "3 Heikkinen, Miss. Laina                              female 26  0     0    \n",
       "  Ticket           Fare  Cabin Embarked\n",
       "1 A/5 21171         7.25 NA    S       \n",
       "2 PC 17599         71.28 C85   C       \n",
       "3 STON/O2. 3101282  7.92 NA    S       "
      ]
     },
     "metadata": {},
     "output_type": "display_data"
    }
   ],
   "source": [
    "head(passengers, n = 3)  # Return a data frame that consists of the first three rows of titanic"
   ]
  },
  {
   "cell_type": "markdown",
   "metadata": {},
   "source": [
    "In this sense, the base `R` function `head()` is a verb.\n",
    "\n",
    "The **core idea** of `dplyr` is that a vast majority of data manipulation needs can be satisfied through a combination of five verbs.\n",
    "\n",
    "verb                 | action\n",
    "-------------------- | ---------\n",
    "`filter(df, ...)`    | select a subset of _rows_ by some specified condition\n",
    "`select(df, ...)`    | select a subset of _columns_\n",
    "`mutate(df, ...)`    | create a _new column_ (often as a function of existing columns)\n",
    "`arrange(df, ...)`   | reorder (sort) _rows_ according to values of specific _columns_\n",
    "`summarize(df, ...)` | aggregate and reduce a vector (column) to a single value\n",
    "\n",
    "We will explore each of these verbs (and some additional variations within each category) below."
   ]
  },
  {
   "cell_type": "markdown",
   "metadata": {},
   "source": [
    "### Selecting rows (1/5)\n",
    "\n",
    "The `filter(df, ...)` verb is used to select a subset of _rows_ that satisfy the conditions specified in `...`. \n",
    "The conditions must be written in a form that would evaluate to either `TRUE` or `FALSE`.\n",
    "\n",
    "For example, if we want a data frame of passengers in the 3rd clas:"
   ]
  },
  {
   "cell_type": "code",
   "execution_count": 4,
   "metadata": {},
   "outputs": [
    {
     "data": {
      "text/html": [
       "<table>\n",
       "<caption>A tibble: 355 × 12</caption>\n",
       "<thead>\n",
       "\t<tr><th scope=col>PassengerId</th><th scope=col>Survived</th><th scope=col>Pclass</th><th scope=col>Name</th><th scope=col>Sex</th><th scope=col>Age</th><th scope=col>SibSp</th><th scope=col>Parch</th><th scope=col>Ticket</th><th scope=col>Fare</th><th scope=col>Cabin</th><th scope=col>Embarked</th></tr>\n",
       "\t<tr><th scope=col>&lt;dbl&gt;</th><th scope=col>&lt;dbl&gt;</th><th scope=col>&lt;dbl&gt;</th><th scope=col>&lt;chr&gt;</th><th scope=col>&lt;fct&gt;</th><th scope=col>&lt;dbl&gt;</th><th scope=col>&lt;dbl&gt;</th><th scope=col>&lt;dbl&gt;</th><th scope=col>&lt;chr&gt;</th><th scope=col>&lt;dbl&gt;</th><th scope=col>&lt;fct&gt;</th><th scope=col>&lt;chr&gt;</th></tr>\n",
       "</thead>\n",
       "<tbody>\n",
       "\t<tr><td>1</td><td>0</td><td>3</td><td>Braund, Mr. Owen Harris </td><td>male  </td><td>22</td><td>1</td><td>0</td><td>A/5 21171       </td><td>7.25</td><td>NA</td><td>S</td></tr>\n",
       "\t<tr><td>3</td><td>1</td><td>3</td><td>Heikkinen, Miss. Laina  </td><td>female</td><td>26</td><td>0</td><td>0</td><td>STON/O2. 3101282</td><td>7.92</td><td>NA</td><td>S</td></tr>\n",
       "\t<tr><td>5</td><td>0</td><td>3</td><td>Allen, Mr. William Henry</td><td>male  </td><td>35</td><td>0</td><td>0</td><td>373450          </td><td>8.05</td><td>NA</td><td>S</td></tr>\n",
       "\t<tr><td>⋮</td><td>⋮</td><td>⋮</td><td>⋮</td><td>⋮</td><td>⋮</td><td>⋮</td><td>⋮</td><td>⋮</td><td>⋮</td><td>⋮</td><td>⋮</td></tr>\n",
       "\t<tr><td>885</td><td>0</td><td>3</td><td>Sutehall, Mr. Henry Jr              </td><td>male  </td><td>25</td><td>0</td><td>0</td><td>SOTON/OQ 392076</td><td> 7.05</td><td>NA</td><td>S</td></tr>\n",
       "\t<tr><td>886</td><td>0</td><td>3</td><td>Rice, Mrs. William (Margaret Norton)</td><td>female</td><td>39</td><td>0</td><td>5</td><td>382652         </td><td>29.12</td><td>NA</td><td>Q</td></tr>\n",
       "\t<tr><td>891</td><td>0</td><td>3</td><td>Dooley, Mr. Patrick                 </td><td>male  </td><td>32</td><td>0</td><td>0</td><td>370376         </td><td> 7.75</td><td>NA</td><td>Q</td></tr>\n",
       "</tbody>\n",
       "</table>\n"
      ],
      "text/latex": [
       "A tibble: 355 × 12\n",
       "\\begin{tabular}{r|llllllllllll}\n",
       " PassengerId & Survived & Pclass & Name & Sex & Age & SibSp & Parch & Ticket & Fare & Cabin & Embarked\\\\\n",
       " <dbl> & <dbl> & <dbl> & <chr> & <fct> & <dbl> & <dbl> & <dbl> & <chr> & <dbl> & <fct> & <chr>\\\\\n",
       "\\hline\n",
       "\t 1 & 0 & 3 & Braund, Mr. Owen Harris  & male   & 22 & 1 & 0 & A/5 21171        & 7.25 & NA & S\\\\\n",
       "\t 3 & 1 & 3 & Heikkinen, Miss. Laina   & female & 26 & 0 & 0 & STON/O2. 3101282 & 7.92 & NA & S\\\\\n",
       "\t 5 & 0 & 3 & Allen, Mr. William Henry & male   & 35 & 0 & 0 & 373450           & 8.05 & NA & S\\\\\n",
       "\t ⋮ & ⋮ & ⋮ & ⋮ & ⋮ & ⋮ & ⋮ & ⋮ & ⋮ & ⋮ & ⋮ & ⋮\\\\\n",
       "\t 885 & 0 & 3 & Sutehall, Mr. Henry Jr               & male   & 25 & 0 & 0 & SOTON/OQ 392076 &  7.05 & NA & S\\\\\n",
       "\t 886 & 0 & 3 & Rice, Mrs. William (Margaret Norton) & female & 39 & 0 & 5 & 382652          & 29.12 & NA & Q\\\\\n",
       "\t 891 & 0 & 3 & Dooley, Mr. Patrick                  & male   & 32 & 0 & 0 & 370376          &  7.75 & NA & Q\\\\\n",
       "\\end{tabular}\n"
      ],
      "text/markdown": [
       "\n",
       "A tibble: 355 × 12\n",
       "\n",
       "| PassengerId &lt;dbl&gt; | Survived &lt;dbl&gt; | Pclass &lt;dbl&gt; | Name &lt;chr&gt; | Sex &lt;fct&gt; | Age &lt;dbl&gt; | SibSp &lt;dbl&gt; | Parch &lt;dbl&gt; | Ticket &lt;chr&gt; | Fare &lt;dbl&gt; | Cabin &lt;fct&gt; | Embarked &lt;chr&gt; |\n",
       "|---|---|---|---|---|---|---|---|---|---|---|---|\n",
       "| 1 | 0 | 3 | Braund, Mr. Owen Harris  | male   | 22 | 1 | 0 | A/5 21171        | 7.25 | NA | S |\n",
       "| 3 | 1 | 3 | Heikkinen, Miss. Laina   | female | 26 | 0 | 0 | STON/O2. 3101282 | 7.92 | NA | S |\n",
       "| 5 | 0 | 3 | Allen, Mr. William Henry | male   | 35 | 0 | 0 | 373450           | 8.05 | NA | S |\n",
       "| ⋮ | ⋮ | ⋮ | ⋮ | ⋮ | ⋮ | ⋮ | ⋮ | ⋮ | ⋮ | ⋮ | ⋮ |\n",
       "| 885 | 0 | 3 | Sutehall, Mr. Henry Jr               | male   | 25 | 0 | 0 | SOTON/OQ 392076 |  7.05 | NA | S |\n",
       "| 886 | 0 | 3 | Rice, Mrs. William (Margaret Norton) | female | 39 | 0 | 5 | 382652          | 29.12 | NA | Q |\n",
       "| 891 | 0 | 3 | Dooley, Mr. Patrick                  | male   | 32 | 0 | 0 | 370376          |  7.75 | NA | Q |\n",
       "\n"
      ],
      "text/plain": [
       "    PassengerId Survived Pclass Name                                 Sex    Age\n",
       "1   1           0        3      Braund, Mr. Owen Harris              male   22 \n",
       "2   3           1        3      Heikkinen, Miss. Laina               female 26 \n",
       "3   5           0        3      Allen, Mr. William Henry             male   35 \n",
       "⋮   ⋮           ⋮        ⋮      ⋮                                    ⋮      ⋮  \n",
       "353 885         0        3      Sutehall, Mr. Henry Jr               male   25 \n",
       "354 886         0        3      Rice, Mrs. William (Margaret Norton) female 39 \n",
       "355 891         0        3      Dooley, Mr. Patrick                  male   32 \n",
       "    SibSp Parch Ticket           Fare  Cabin Embarked\n",
       "1   1     0     A/5 21171        7.25  NA    S       \n",
       "2   0     0     STON/O2. 3101282 7.92  NA    S       \n",
       "3   0     0     373450           8.05  NA    S       \n",
       "⋮   ⋮     ⋮     ⋮                ⋮     ⋮     ⋮       \n",
       "353 0     0     SOTON/OQ 392076   7.05 NA    S       \n",
       "354 0     5     382652           29.12 NA    Q       \n",
       "355 0     0     370376            7.75 NA    Q       "
      ]
     },
     "metadata": {},
     "output_type": "display_data"
    }
   ],
   "source": [
    "filter(passengers, Pclass == 3)"
   ]
  },
  {
   "cell_type": "markdown",
   "metadata": {},
   "source": [
    "Multiple conditions can also be specified.\n",
    "\n",
    "For example, if we want a data frame of all passengers in the 3rd class that are older than 50 years old:"
   ]
  },
  {
   "cell_type": "code",
   "execution_count": 5,
   "metadata": {},
   "outputs": [
    {
     "data": {
      "text/html": [
       "<table>\n",
       "<caption>A tibble: 10 × 12</caption>\n",
       "<thead>\n",
       "\t<tr><th scope=col>PassengerId</th><th scope=col>Survived</th><th scope=col>Pclass</th><th scope=col>Name</th><th scope=col>Sex</th><th scope=col>Age</th><th scope=col>SibSp</th><th scope=col>Parch</th><th scope=col>Ticket</th><th scope=col>Fare</th><th scope=col>Cabin</th><th scope=col>Embarked</th></tr>\n",
       "\t<tr><th scope=col>&lt;dbl&gt;</th><th scope=col>&lt;dbl&gt;</th><th scope=col>&lt;dbl&gt;</th><th scope=col>&lt;chr&gt;</th><th scope=col>&lt;fct&gt;</th><th scope=col>&lt;dbl&gt;</th><th scope=col>&lt;dbl&gt;</th><th scope=col>&lt;dbl&gt;</th><th scope=col>&lt;chr&gt;</th><th scope=col>&lt;dbl&gt;</th><th scope=col>&lt;fct&gt;</th><th scope=col>&lt;chr&gt;</th></tr>\n",
       "</thead>\n",
       "<tbody>\n",
       "\t<tr><td> 95</td><td>0</td><td>3</td><td>Coxon, Mr. Daniel   </td><td>male</td><td>59.0</td><td>0</td><td>0</td><td>364500    </td><td>7.25</td><td>NA</td><td>S</td></tr>\n",
       "\t<tr><td>117</td><td>0</td><td>3</td><td>Connors, Mr. Patrick</td><td>male</td><td>70.5</td><td>0</td><td>0</td><td>370369    </td><td>7.75</td><td>NA</td><td>Q</td></tr>\n",
       "\t<tr><td>153</td><td>0</td><td>3</td><td>Meo, Mr. Alfonzo    </td><td>male</td><td>55.5</td><td>0</td><td>0</td><td>A.5. 11206</td><td>8.05</td><td>NA</td><td>S</td></tr>\n",
       "\t<tr><td>⋮</td><td>⋮</td><td>⋮</td><td>⋮</td><td>⋮</td><td>⋮</td><td>⋮</td><td>⋮</td><td>⋮</td><td>⋮</td><td>⋮</td><td>⋮</td></tr>\n",
       "\t<tr><td>484</td><td>1</td><td>3</td><td>Turkula, Mrs. (Hedwig)     </td><td>female</td><td>63</td><td>0</td><td>0</td><td>4134  </td><td>9.59</td><td>NA</td><td>S</td></tr>\n",
       "\t<tr><td>632</td><td>0</td><td>3</td><td>Lundahl, Mr. Johan Svensson</td><td>male  </td><td>51</td><td>0</td><td>0</td><td>347743</td><td>7.05</td><td>NA</td><td>S</td></tr>\n",
       "\t<tr><td>852</td><td>0</td><td>3</td><td>Svensson, Mr. Johan        </td><td>male  </td><td>74</td><td>0</td><td>0</td><td>347060</td><td>7.78</td><td>NA</td><td>S</td></tr>\n",
       "</tbody>\n",
       "</table>\n"
      ],
      "text/latex": [
       "A tibble: 10 × 12\n",
       "\\begin{tabular}{r|llllllllllll}\n",
       " PassengerId & Survived & Pclass & Name & Sex & Age & SibSp & Parch & Ticket & Fare & Cabin & Embarked\\\\\n",
       " <dbl> & <dbl> & <dbl> & <chr> & <fct> & <dbl> & <dbl> & <dbl> & <chr> & <dbl> & <fct> & <chr>\\\\\n",
       "\\hline\n",
       "\t  95 & 0 & 3 & Coxon, Mr. Daniel    & male & 59.0 & 0 & 0 & 364500     & 7.25 & NA & S\\\\\n",
       "\t 117 & 0 & 3 & Connors, Mr. Patrick & male & 70.5 & 0 & 0 & 370369     & 7.75 & NA & Q\\\\\n",
       "\t 153 & 0 & 3 & Meo, Mr. Alfonzo     & male & 55.5 & 0 & 0 & A.5. 11206 & 8.05 & NA & S\\\\\n",
       "\t ⋮ & ⋮ & ⋮ & ⋮ & ⋮ & ⋮ & ⋮ & ⋮ & ⋮ & ⋮ & ⋮ & ⋮\\\\\n",
       "\t 484 & 1 & 3 & Turkula, Mrs. (Hedwig)      & female & 63 & 0 & 0 & 4134   & 9.59 & NA & S\\\\\n",
       "\t 632 & 0 & 3 & Lundahl, Mr. Johan Svensson & male   & 51 & 0 & 0 & 347743 & 7.05 & NA & S\\\\\n",
       "\t 852 & 0 & 3 & Svensson, Mr. Johan         & male   & 74 & 0 & 0 & 347060 & 7.78 & NA & S\\\\\n",
       "\\end{tabular}\n"
      ],
      "text/markdown": [
       "\n",
       "A tibble: 10 × 12\n",
       "\n",
       "| PassengerId &lt;dbl&gt; | Survived &lt;dbl&gt; | Pclass &lt;dbl&gt; | Name &lt;chr&gt; | Sex &lt;fct&gt; | Age &lt;dbl&gt; | SibSp &lt;dbl&gt; | Parch &lt;dbl&gt; | Ticket &lt;chr&gt; | Fare &lt;dbl&gt; | Cabin &lt;fct&gt; | Embarked &lt;chr&gt; |\n",
       "|---|---|---|---|---|---|---|---|---|---|---|---|\n",
       "|  95 | 0 | 3 | Coxon, Mr. Daniel    | male | 59.0 | 0 | 0 | 364500     | 7.25 | NA | S |\n",
       "| 117 | 0 | 3 | Connors, Mr. Patrick | male | 70.5 | 0 | 0 | 370369     | 7.75 | NA | Q |\n",
       "| 153 | 0 | 3 | Meo, Mr. Alfonzo     | male | 55.5 | 0 | 0 | A.5. 11206 | 8.05 | NA | S |\n",
       "| ⋮ | ⋮ | ⋮ | ⋮ | ⋮ | ⋮ | ⋮ | ⋮ | ⋮ | ⋮ | ⋮ | ⋮ |\n",
       "| 484 | 1 | 3 | Turkula, Mrs. (Hedwig)      | female | 63 | 0 | 0 | 4134   | 9.59 | NA | S |\n",
       "| 632 | 0 | 3 | Lundahl, Mr. Johan Svensson | male   | 51 | 0 | 0 | 347743 | 7.05 | NA | S |\n",
       "| 852 | 0 | 3 | Svensson, Mr. Johan         | male   | 74 | 0 | 0 | 347060 | 7.78 | NA | S |\n",
       "\n"
      ],
      "text/plain": [
       "   PassengerId Survived Pclass Name                        Sex    Age  SibSp\n",
       "1   95         0        3      Coxon, Mr. Daniel           male   59.0 0    \n",
       "2  117         0        3      Connors, Mr. Patrick        male   70.5 0    \n",
       "3  153         0        3      Meo, Mr. Alfonzo            male   55.5 0    \n",
       "⋮  ⋮           ⋮        ⋮      ⋮                           ⋮      ⋮    ⋮    \n",
       "8  484         1        3      Turkula, Mrs. (Hedwig)      female 63   0    \n",
       "9  632         0        3      Lundahl, Mr. Johan Svensson male   51   0    \n",
       "10 852         0        3      Svensson, Mr. Johan         male   74   0    \n",
       "   Parch Ticket     Fare Cabin Embarked\n",
       "1  0     364500     7.25 NA    S       \n",
       "2  0     370369     7.75 NA    Q       \n",
       "3  0     A.5. 11206 8.05 NA    S       \n",
       "⋮  ⋮     ⋮          ⋮    ⋮     ⋮       \n",
       "8  0     4134       9.59 NA    S       \n",
       "9  0     347743     7.05 NA    S       \n",
       "10 0     347060     7.78 NA    S       "
      ]
     },
     "metadata": {},
     "output_type": "display_data"
    }
   ],
   "source": [
    "filter(passengers, Pclass == 3, Age > 50)"
   ]
  },
  {
   "cell_type": "markdown",
   "metadata": {},
   "source": [
    "By default, `filter()` will combine multiple conditions as `AND` operations.\n",
    "In the example above, we are returned passengers where `Pclass == 3` _**AND**_ `Age < 18`.\n",
    "\n",
    "We can specify an OR condition by using the `|` operator.\n",
    "\n",
    "For example, if we want passengers in the 3rd class who are either younger than 18 years old or older than 65 years old:"
   ]
  },
  {
   "cell_type": "code",
   "execution_count": 6,
   "metadata": {},
   "outputs": [
    {
     "data": {
      "text/html": [
       "<table>\n",
       "<caption>A tibble: 88 × 12</caption>\n",
       "<thead>\n",
       "\t<tr><th scope=col>PassengerId</th><th scope=col>Survived</th><th scope=col>Pclass</th><th scope=col>Name</th><th scope=col>Sex</th><th scope=col>Age</th><th scope=col>SibSp</th><th scope=col>Parch</th><th scope=col>Ticket</th><th scope=col>Fare</th><th scope=col>Cabin</th><th scope=col>Embarked</th></tr>\n",
       "\t<tr><th scope=col>&lt;dbl&gt;</th><th scope=col>&lt;dbl&gt;</th><th scope=col>&lt;dbl&gt;</th><th scope=col>&lt;chr&gt;</th><th scope=col>&lt;fct&gt;</th><th scope=col>&lt;dbl&gt;</th><th scope=col>&lt;dbl&gt;</th><th scope=col>&lt;dbl&gt;</th><th scope=col>&lt;chr&gt;</th><th scope=col>&lt;dbl&gt;</th><th scope=col>&lt;fct&gt;</th><th scope=col>&lt;chr&gt;</th></tr>\n",
       "</thead>\n",
       "<tbody>\n",
       "\t<tr><td> 8</td><td>0</td><td>3</td><td>Palsson, Master. Gosta Leonard      </td><td>male  </td><td> 2</td><td>3</td><td>1</td><td>349909 </td><td>21.07</td><td>NA</td><td>S</td></tr>\n",
       "\t<tr><td>11</td><td>1</td><td>3</td><td>Sandstrom, Miss. Marguerite Rut     </td><td>female</td><td> 4</td><td>1</td><td>1</td><td>PP 9549</td><td>16.70</td><td>G6</td><td>S</td></tr>\n",
       "\t<tr><td>15</td><td>0</td><td>3</td><td>Vestrom, Miss. Hulda Amanda Adolfina</td><td>female</td><td>14</td><td>0</td><td>0</td><td>350406 </td><td> 7.85</td><td>NA</td><td>S</td></tr>\n",
       "\t<tr><td>⋮</td><td>⋮</td><td>⋮</td><td>⋮</td><td>⋮</td><td>⋮</td><td>⋮</td><td>⋮</td><td>⋮</td><td>⋮</td><td>⋮</td><td>⋮</td></tr>\n",
       "\t<tr><td>853</td><td>0</td><td>3</td><td>Boulos, Miss. Nourelain         </td><td>female</td><td> 9</td><td>1</td><td>1</td><td>2678  </td><td>15.25</td><td>NA</td><td>C</td></tr>\n",
       "\t<tr><td>870</td><td>1</td><td>3</td><td>Johnson, Master. Harold Theodor </td><td>male  </td><td> 4</td><td>1</td><td>1</td><td>347742</td><td>11.13</td><td>NA</td><td>S</td></tr>\n",
       "\t<tr><td>876</td><td>1</td><td>3</td><td>Najib, Miss. Adele Kiamie \"Jane\"</td><td>female</td><td>15</td><td>0</td><td>0</td><td>2667  </td><td> 7.22</td><td>NA</td><td>C</td></tr>\n",
       "</tbody>\n",
       "</table>\n"
      ],
      "text/latex": [
       "A tibble: 88 × 12\n",
       "\\begin{tabular}{r|llllllllllll}\n",
       " PassengerId & Survived & Pclass & Name & Sex & Age & SibSp & Parch & Ticket & Fare & Cabin & Embarked\\\\\n",
       " <dbl> & <dbl> & <dbl> & <chr> & <fct> & <dbl> & <dbl> & <dbl> & <chr> & <dbl> & <fct> & <chr>\\\\\n",
       "\\hline\n",
       "\t  8 & 0 & 3 & Palsson, Master. Gosta Leonard       & male   &  2 & 3 & 1 & 349909  & 21.07 & NA & S\\\\\n",
       "\t 11 & 1 & 3 & Sandstrom, Miss. Marguerite Rut      & female &  4 & 1 & 1 & PP 9549 & 16.70 & G6 & S\\\\\n",
       "\t 15 & 0 & 3 & Vestrom, Miss. Hulda Amanda Adolfina & female & 14 & 0 & 0 & 350406  &  7.85 & NA & S\\\\\n",
       "\t ⋮ & ⋮ & ⋮ & ⋮ & ⋮ & ⋮ & ⋮ & ⋮ & ⋮ & ⋮ & ⋮ & ⋮\\\\\n",
       "\t 853 & 0 & 3 & Boulos, Miss. Nourelain          & female &  9 & 1 & 1 & 2678   & 15.25 & NA & C\\\\\n",
       "\t 870 & 1 & 3 & Johnson, Master. Harold Theodor  & male   &  4 & 1 & 1 & 347742 & 11.13 & NA & S\\\\\n",
       "\t 876 & 1 & 3 & Najib, Miss. Adele Kiamie \"Jane\" & female & 15 & 0 & 0 & 2667   &  7.22 & NA & C\\\\\n",
       "\\end{tabular}\n"
      ],
      "text/markdown": [
       "\n",
       "A tibble: 88 × 12\n",
       "\n",
       "| PassengerId &lt;dbl&gt; | Survived &lt;dbl&gt; | Pclass &lt;dbl&gt; | Name &lt;chr&gt; | Sex &lt;fct&gt; | Age &lt;dbl&gt; | SibSp &lt;dbl&gt; | Parch &lt;dbl&gt; | Ticket &lt;chr&gt; | Fare &lt;dbl&gt; | Cabin &lt;fct&gt; | Embarked &lt;chr&gt; |\n",
       "|---|---|---|---|---|---|---|---|---|---|---|---|\n",
       "|  8 | 0 | 3 | Palsson, Master. Gosta Leonard       | male   |  2 | 3 | 1 | 349909  | 21.07 | NA | S |\n",
       "| 11 | 1 | 3 | Sandstrom, Miss. Marguerite Rut      | female |  4 | 1 | 1 | PP 9549 | 16.70 | G6 | S |\n",
       "| 15 | 0 | 3 | Vestrom, Miss. Hulda Amanda Adolfina | female | 14 | 0 | 0 | 350406  |  7.85 | NA | S |\n",
       "| ⋮ | ⋮ | ⋮ | ⋮ | ⋮ | ⋮ | ⋮ | ⋮ | ⋮ | ⋮ | ⋮ | ⋮ |\n",
       "| 853 | 0 | 3 | Boulos, Miss. Nourelain          | female |  9 | 1 | 1 | 2678   | 15.25 | NA | C |\n",
       "| 870 | 1 | 3 | Johnson, Master. Harold Theodor  | male   |  4 | 1 | 1 | 347742 | 11.13 | NA | S |\n",
       "| 876 | 1 | 3 | Najib, Miss. Adele Kiamie \"Jane\" | female | 15 | 0 | 0 | 2667   |  7.22 | NA | C |\n",
       "\n"
      ],
      "text/plain": [
       "   PassengerId Survived Pclass Name                                 Sex    Age\n",
       "1   8          0        3      Palsson, Master. Gosta Leonard       male    2 \n",
       "2  11          1        3      Sandstrom, Miss. Marguerite Rut      female  4 \n",
       "3  15          0        3      Vestrom, Miss. Hulda Amanda Adolfina female 14 \n",
       "⋮  ⋮           ⋮        ⋮      ⋮                                    ⋮      ⋮  \n",
       "86 853         0        3      Boulos, Miss. Nourelain              female  9 \n",
       "87 870         1        3      Johnson, Master. Harold Theodor      male    4 \n",
       "88 876         1        3      Najib, Miss. Adele Kiamie \"Jane\"     female 15 \n",
       "   SibSp Parch Ticket  Fare  Cabin Embarked\n",
       "1  3     1     349909  21.07 NA    S       \n",
       "2  1     1     PP 9549 16.70 G6    S       \n",
       "3  0     0     350406   7.85 NA    S       \n",
       "⋮  ⋮     ⋮     ⋮       ⋮     ⋮     ⋮       \n",
       "86 1     1     2678    15.25 NA    C       \n",
       "87 1     1     347742  11.13 NA    S       \n",
       "88 0     0     2667     7.22 NA    C       "
      ]
     },
     "metadata": {},
     "output_type": "display_data"
    }
   ],
   "source": [
    "filter(passengers, Pclass == 3, Age > 50 | Age < 18)"
   ]
  },
  {
   "cell_type": "markdown",
   "metadata": {},
   "source": [
    "Use the `%in%` operator to filter to values that match a collection of values. \n",
    "\n",
    "For example, suppose we want to look at passengers embarked on Queenstown (`Q`) and Southampton (`S`)"
   ]
  },
  {
   "cell_type": "code",
   "execution_count": 7,
   "metadata": {},
   "outputs": [
    {
     "data": {
      "text/html": [
       "<table>\n",
       "<caption>A tibble: 582 × 12</caption>\n",
       "<thead>\n",
       "\t<tr><th scope=col>PassengerId</th><th scope=col>Survived</th><th scope=col>Pclass</th><th scope=col>Name</th><th scope=col>Sex</th><th scope=col>Age</th><th scope=col>SibSp</th><th scope=col>Parch</th><th scope=col>Ticket</th><th scope=col>Fare</th><th scope=col>Cabin</th><th scope=col>Embarked</th></tr>\n",
       "\t<tr><th scope=col>&lt;dbl&gt;</th><th scope=col>&lt;dbl&gt;</th><th scope=col>&lt;dbl&gt;</th><th scope=col>&lt;chr&gt;</th><th scope=col>&lt;fct&gt;</th><th scope=col>&lt;dbl&gt;</th><th scope=col>&lt;dbl&gt;</th><th scope=col>&lt;dbl&gt;</th><th scope=col>&lt;chr&gt;</th><th scope=col>&lt;dbl&gt;</th><th scope=col>&lt;fct&gt;</th><th scope=col>&lt;chr&gt;</th></tr>\n",
       "</thead>\n",
       "<tbody>\n",
       "\t<tr><td>1</td><td>0</td><td>3</td><td>Braund, Mr. Owen Harris                     </td><td>male  </td><td>22</td><td>1</td><td>0</td><td>A/5 21171       </td><td> 7.25</td><td>NA  </td><td>S</td></tr>\n",
       "\t<tr><td>3</td><td>1</td><td>3</td><td>Heikkinen, Miss. Laina                      </td><td>female</td><td>26</td><td>0</td><td>0</td><td>STON/O2. 3101282</td><td> 7.92</td><td>NA  </td><td>S</td></tr>\n",
       "\t<tr><td>4</td><td>1</td><td>1</td><td>Futrelle, Mrs. Jacques Heath (Lily May Peel)</td><td>female</td><td>35</td><td>1</td><td>0</td><td>113803          </td><td>53.10</td><td>C123</td><td>S</td></tr>\n",
       "\t<tr><td>⋮</td><td>⋮</td><td>⋮</td><td>⋮</td><td>⋮</td><td>⋮</td><td>⋮</td><td>⋮</td><td>⋮</td><td>⋮</td><td>⋮</td><td>⋮</td></tr>\n",
       "\t<tr><td>887</td><td>0</td><td>2</td><td>Montvila, Rev. Juozas       </td><td>male  </td><td>27</td><td>0</td><td>0</td><td>211536</td><td>13.00</td><td>NA </td><td>S</td></tr>\n",
       "\t<tr><td>888</td><td>1</td><td>1</td><td>Graham, Miss. Margaret Edith</td><td>female</td><td>19</td><td>0</td><td>0</td><td>112053</td><td>30.00</td><td>B42</td><td>S</td></tr>\n",
       "\t<tr><td>891</td><td>0</td><td>3</td><td>Dooley, Mr. Patrick         </td><td>male  </td><td>32</td><td>0</td><td>0</td><td>370376</td><td> 7.75</td><td>NA </td><td>Q</td></tr>\n",
       "</tbody>\n",
       "</table>\n"
      ],
      "text/latex": [
       "A tibble: 582 × 12\n",
       "\\begin{tabular}{r|llllllllllll}\n",
       " PassengerId & Survived & Pclass & Name & Sex & Age & SibSp & Parch & Ticket & Fare & Cabin & Embarked\\\\\n",
       " <dbl> & <dbl> & <dbl> & <chr> & <fct> & <dbl> & <dbl> & <dbl> & <chr> & <dbl> & <fct> & <chr>\\\\\n",
       "\\hline\n",
       "\t 1 & 0 & 3 & Braund, Mr. Owen Harris                      & male   & 22 & 1 & 0 & A/5 21171        &  7.25 & NA   & S\\\\\n",
       "\t 3 & 1 & 3 & Heikkinen, Miss. Laina                       & female & 26 & 0 & 0 & STON/O2. 3101282 &  7.92 & NA   & S\\\\\n",
       "\t 4 & 1 & 1 & Futrelle, Mrs. Jacques Heath (Lily May Peel) & female & 35 & 1 & 0 & 113803           & 53.10 & C123 & S\\\\\n",
       "\t ⋮ & ⋮ & ⋮ & ⋮ & ⋮ & ⋮ & ⋮ & ⋮ & ⋮ & ⋮ & ⋮ & ⋮\\\\\n",
       "\t 887 & 0 & 2 & Montvila, Rev. Juozas        & male   & 27 & 0 & 0 & 211536 & 13.00 & NA  & S\\\\\n",
       "\t 888 & 1 & 1 & Graham, Miss. Margaret Edith & female & 19 & 0 & 0 & 112053 & 30.00 & B42 & S\\\\\n",
       "\t 891 & 0 & 3 & Dooley, Mr. Patrick          & male   & 32 & 0 & 0 & 370376 &  7.75 & NA  & Q\\\\\n",
       "\\end{tabular}\n"
      ],
      "text/markdown": [
       "\n",
       "A tibble: 582 × 12\n",
       "\n",
       "| PassengerId &lt;dbl&gt; | Survived &lt;dbl&gt; | Pclass &lt;dbl&gt; | Name &lt;chr&gt; | Sex &lt;fct&gt; | Age &lt;dbl&gt; | SibSp &lt;dbl&gt; | Parch &lt;dbl&gt; | Ticket &lt;chr&gt; | Fare &lt;dbl&gt; | Cabin &lt;fct&gt; | Embarked &lt;chr&gt; |\n",
       "|---|---|---|---|---|---|---|---|---|---|---|---|\n",
       "| 1 | 0 | 3 | Braund, Mr. Owen Harris                      | male   | 22 | 1 | 0 | A/5 21171        |  7.25 | NA   | S |\n",
       "| 3 | 1 | 3 | Heikkinen, Miss. Laina                       | female | 26 | 0 | 0 | STON/O2. 3101282 |  7.92 | NA   | S |\n",
       "| 4 | 1 | 1 | Futrelle, Mrs. Jacques Heath (Lily May Peel) | female | 35 | 1 | 0 | 113803           | 53.10 | C123 | S |\n",
       "| ⋮ | ⋮ | ⋮ | ⋮ | ⋮ | ⋮ | ⋮ | ⋮ | ⋮ | ⋮ | ⋮ | ⋮ |\n",
       "| 887 | 0 | 2 | Montvila, Rev. Juozas        | male   | 27 | 0 | 0 | 211536 | 13.00 | NA  | S |\n",
       "| 888 | 1 | 1 | Graham, Miss. Margaret Edith | female | 19 | 0 | 0 | 112053 | 30.00 | B42 | S |\n",
       "| 891 | 0 | 3 | Dooley, Mr. Patrick          | male   | 32 | 0 | 0 | 370376 |  7.75 | NA  | Q |\n",
       "\n"
      ],
      "text/plain": [
       "    PassengerId Survived Pclass Name                                        \n",
       "1   1           0        3      Braund, Mr. Owen Harris                     \n",
       "2   3           1        3      Heikkinen, Miss. Laina                      \n",
       "3   4           1        1      Futrelle, Mrs. Jacques Heath (Lily May Peel)\n",
       "⋮   ⋮           ⋮        ⋮      ⋮                                           \n",
       "580 887         0        2      Montvila, Rev. Juozas                       \n",
       "581 888         1        1      Graham, Miss. Margaret Edith                \n",
       "582 891         0        3      Dooley, Mr. Patrick                         \n",
       "    Sex    Age SibSp Parch Ticket           Fare  Cabin Embarked\n",
       "1   male   22  1     0     A/5 21171         7.25 NA    S       \n",
       "2   female 26  0     0     STON/O2. 3101282  7.92 NA    S       \n",
       "3   female 35  1     0     113803           53.10 C123  S       \n",
       "⋮   ⋮      ⋮   ⋮     ⋮     ⋮                ⋮     ⋮     ⋮       \n",
       "580 male   27  0     0     211536           13.00 NA    S       \n",
       "581 female 19  0     0     112053           30.00 B42   S       \n",
       "582 male   32  0     0     370376            7.75 NA    Q       "
      ]
     },
     "metadata": {},
     "output_type": "display_data"
    }
   ],
   "source": [
    "filter(passengers, \n",
    "       Embarked %in% c(\"Q\", \"S\"))"
   ]
  },
  {
   "cell_type": "markdown",
   "metadata": {},
   "source": [
    "Finally, use `!` to negate any condition. \n",
    "\n",
    "For example, if we wanted to find all passengers who did NOT embark on Queenstown (`Q`) and Southampton (`S`)"
   ]
  },
  {
   "cell_type": "code",
   "execution_count": 8,
   "metadata": {},
   "outputs": [
    {
     "data": {
      "text/html": [
       "<table>\n",
       "<caption>A tibble: 130 × 12</caption>\n",
       "<thead>\n",
       "\t<tr><th scope=col>PassengerId</th><th scope=col>Survived</th><th scope=col>Pclass</th><th scope=col>Name</th><th scope=col>Sex</th><th scope=col>Age</th><th scope=col>SibSp</th><th scope=col>Parch</th><th scope=col>Ticket</th><th scope=col>Fare</th><th scope=col>Cabin</th><th scope=col>Embarked</th></tr>\n",
       "\t<tr><th scope=col>&lt;dbl&gt;</th><th scope=col>&lt;dbl&gt;</th><th scope=col>&lt;dbl&gt;</th><th scope=col>&lt;chr&gt;</th><th scope=col>&lt;fct&gt;</th><th scope=col>&lt;dbl&gt;</th><th scope=col>&lt;dbl&gt;</th><th scope=col>&lt;dbl&gt;</th><th scope=col>&lt;chr&gt;</th><th scope=col>&lt;dbl&gt;</th><th scope=col>&lt;fct&gt;</th><th scope=col>&lt;chr&gt;</th></tr>\n",
       "</thead>\n",
       "<tbody>\n",
       "\t<tr><td> 2</td><td>1</td><td>1</td><td>Cumings, Mrs. John Bradley (Florence Briggs Thayer)</td><td>female</td><td>38</td><td>1</td><td>0</td><td>PC 17599</td><td>71.3</td><td>C85</td><td>C</td></tr>\n",
       "\t<tr><td>10</td><td>1</td><td>2</td><td>Nasser, Mrs. Nicholas (Adele Achem)                </td><td>female</td><td>14</td><td>1</td><td>0</td><td>237736  </td><td>30.1</td><td>NA </td><td>C</td></tr>\n",
       "\t<tr><td>31</td><td>0</td><td>1</td><td>Uruchurtu, Don. Manuel E                           </td><td>male  </td><td>40</td><td>0</td><td>0</td><td>PC 17601</td><td>27.7</td><td>NA </td><td>C</td></tr>\n",
       "\t<tr><td>⋮</td><td>⋮</td><td>⋮</td><td>⋮</td><td>⋮</td><td>⋮</td><td>⋮</td><td>⋮</td><td>⋮</td><td>⋮</td><td>⋮</td><td>⋮</td></tr>\n",
       "\t<tr><td>876</td><td>1</td><td>3</td><td>Najib, Miss. Adele Kiamie \"Jane\"             </td><td>female</td><td>15</td><td>0</td><td>0</td><td>2667  </td><td> 7.22</td><td>NA  </td><td>C</td></tr>\n",
       "\t<tr><td>880</td><td>1</td><td>1</td><td>Potter, Mrs. Thomas Jr (Lily Alexenia Wilson)</td><td>female</td><td>56</td><td>0</td><td>1</td><td>11767 </td><td>83.16</td><td>C50 </td><td>C</td></tr>\n",
       "\t<tr><td>890</td><td>1</td><td>1</td><td>Behr, Mr. Karl Howell                        </td><td>male  </td><td>26</td><td>0</td><td>0</td><td>111369</td><td>30.00</td><td>C148</td><td>C</td></tr>\n",
       "</tbody>\n",
       "</table>\n"
      ],
      "text/latex": [
       "A tibble: 130 × 12\n",
       "\\begin{tabular}{r|llllllllllll}\n",
       " PassengerId & Survived & Pclass & Name & Sex & Age & SibSp & Parch & Ticket & Fare & Cabin & Embarked\\\\\n",
       " <dbl> & <dbl> & <dbl> & <chr> & <fct> & <dbl> & <dbl> & <dbl> & <chr> & <dbl> & <fct> & <chr>\\\\\n",
       "\\hline\n",
       "\t  2 & 1 & 1 & Cumings, Mrs. John Bradley (Florence Briggs Thayer) & female & 38 & 1 & 0 & PC 17599 & 71.3 & C85 & C\\\\\n",
       "\t 10 & 1 & 2 & Nasser, Mrs. Nicholas (Adele Achem)                 & female & 14 & 1 & 0 & 237736   & 30.1 & NA  & C\\\\\n",
       "\t 31 & 0 & 1 & Uruchurtu, Don. Manuel E                            & male   & 40 & 0 & 0 & PC 17601 & 27.7 & NA  & C\\\\\n",
       "\t ⋮ & ⋮ & ⋮ & ⋮ & ⋮ & ⋮ & ⋮ & ⋮ & ⋮ & ⋮ & ⋮ & ⋮\\\\\n",
       "\t 876 & 1 & 3 & Najib, Miss. Adele Kiamie \"Jane\"              & female & 15 & 0 & 0 & 2667   &  7.22 & NA   & C\\\\\n",
       "\t 880 & 1 & 1 & Potter, Mrs. Thomas Jr (Lily Alexenia Wilson) & female & 56 & 0 & 1 & 11767  & 83.16 & C50  & C\\\\\n",
       "\t 890 & 1 & 1 & Behr, Mr. Karl Howell                         & male   & 26 & 0 & 0 & 111369 & 30.00 & C148 & C\\\\\n",
       "\\end{tabular}\n"
      ],
      "text/markdown": [
       "\n",
       "A tibble: 130 × 12\n",
       "\n",
       "| PassengerId &lt;dbl&gt; | Survived &lt;dbl&gt; | Pclass &lt;dbl&gt; | Name &lt;chr&gt; | Sex &lt;fct&gt; | Age &lt;dbl&gt; | SibSp &lt;dbl&gt; | Parch &lt;dbl&gt; | Ticket &lt;chr&gt; | Fare &lt;dbl&gt; | Cabin &lt;fct&gt; | Embarked &lt;chr&gt; |\n",
       "|---|---|---|---|---|---|---|---|---|---|---|---|\n",
       "|  2 | 1 | 1 | Cumings, Mrs. John Bradley (Florence Briggs Thayer) | female | 38 | 1 | 0 | PC 17599 | 71.3 | C85 | C |\n",
       "| 10 | 1 | 2 | Nasser, Mrs. Nicholas (Adele Achem)                 | female | 14 | 1 | 0 | 237736   | 30.1 | NA  | C |\n",
       "| 31 | 0 | 1 | Uruchurtu, Don. Manuel E                            | male   | 40 | 0 | 0 | PC 17601 | 27.7 | NA  | C |\n",
       "| ⋮ | ⋮ | ⋮ | ⋮ | ⋮ | ⋮ | ⋮ | ⋮ | ⋮ | ⋮ | ⋮ | ⋮ |\n",
       "| 876 | 1 | 3 | Najib, Miss. Adele Kiamie \"Jane\"              | female | 15 | 0 | 0 | 2667   |  7.22 | NA   | C |\n",
       "| 880 | 1 | 1 | Potter, Mrs. Thomas Jr (Lily Alexenia Wilson) | female | 56 | 0 | 1 | 11767  | 83.16 | C50  | C |\n",
       "| 890 | 1 | 1 | Behr, Mr. Karl Howell                         | male   | 26 | 0 | 0 | 111369 | 30.00 | C148 | C |\n",
       "\n"
      ],
      "text/plain": [
       "    PassengerId Survived Pclass\n",
       "1    2          1        1     \n",
       "2   10          1        2     \n",
       "3   31          0        1     \n",
       "⋮   ⋮           ⋮        ⋮     \n",
       "128 876         1        3     \n",
       "129 880         1        1     \n",
       "130 890         1        1     \n",
       "    Name                                                Sex    Age SibSp Parch\n",
       "1   Cumings, Mrs. John Bradley (Florence Briggs Thayer) female 38  1     0    \n",
       "2   Nasser, Mrs. Nicholas (Adele Achem)                 female 14  1     0    \n",
       "3   Uruchurtu, Don. Manuel E                            male   40  0     0    \n",
       "⋮   ⋮                                                   ⋮      ⋮   ⋮     ⋮    \n",
       "128 Najib, Miss. Adele Kiamie \"Jane\"                    female 15  0     0    \n",
       "129 Potter, Mrs. Thomas Jr (Lily Alexenia Wilson)       female 56  0     1    \n",
       "130 Behr, Mr. Karl Howell                               male   26  0     0    \n",
       "    Ticket   Fare  Cabin Embarked\n",
       "1   PC 17599 71.3  C85   C       \n",
       "2   237736   30.1  NA    C       \n",
       "3   PC 17601 27.7  NA    C       \n",
       "⋮   ⋮        ⋮     ⋮     ⋮       \n",
       "128 2667      7.22 NA    C       \n",
       "129 11767    83.16 C50   C       \n",
       "130 111369   30.00 C148  C       "
      ]
     },
     "metadata": {},
     "output_type": "display_data"
    }
   ],
   "source": [
    "filter(passengers, \n",
    "       !(Embarked %in% c(\"Q\", \"S\")))"
   ]
  },
  {
   "cell_type": "markdown",
   "metadata": {},
   "source": [
    "### Exercise: `filter()`\n",
    "Find all pasengers with 2 siblings and 2 parents aboard."
   ]
  },
  {
   "cell_type": "code",
   "execution_count": 9,
   "metadata": {},
   "outputs": [
    {
     "data": {
      "text/html": [
       "<table>\n",
       "<caption>A tibble: 4 × 12</caption>\n",
       "<thead>\n",
       "\t<tr><th scope=col>PassengerId</th><th scope=col>Survived</th><th scope=col>Pclass</th><th scope=col>Name</th><th scope=col>Sex</th><th scope=col>Age</th><th scope=col>SibSp</th><th scope=col>Parch</th><th scope=col>Ticket</th><th scope=col>Fare</th><th scope=col>Cabin</th><th scope=col>Embarked</th></tr>\n",
       "\t<tr><th scope=col>&lt;dbl&gt;</th><th scope=col>&lt;dbl&gt;</th><th scope=col>&lt;dbl&gt;</th><th scope=col>&lt;chr&gt;</th><th scope=col>&lt;fct&gt;</th><th scope=col>&lt;dbl&gt;</th><th scope=col>&lt;dbl&gt;</th><th scope=col>&lt;dbl&gt;</th><th scope=col>&lt;chr&gt;</th><th scope=col>&lt;dbl&gt;</th><th scope=col>&lt;fct&gt;</th><th scope=col>&lt;chr&gt;</th></tr>\n",
       "</thead>\n",
       "<tbody>\n",
       "\t<tr><td>148</td><td>0</td><td>3</td><td>Ford, Miss. Robina Maggie \"Ruby\"     </td><td>female</td><td> 9</td><td>2</td><td>2</td><td>W./C. 6608</td><td> 34.4</td><td>NA             </td><td>S</td></tr>\n",
       "\t<tr><td>312</td><td>1</td><td>1</td><td>Ryerson, Miss. Emily Borie           </td><td>female</td><td>18</td><td>2</td><td>2</td><td>PC 17608  </td><td>262.4</td><td>B57 B59 B63 B66</td><td>C</td></tr>\n",
       "\t<tr><td>437</td><td>0</td><td>3</td><td>Ford, Miss. Doolina Margaret \"Daisy\" </td><td>female</td><td>21</td><td>2</td><td>2</td><td>W./C. 6608</td><td> 34.4</td><td>NA             </td><td>S</td></tr>\n",
       "\t<tr><td>743</td><td>1</td><td>1</td><td>Ryerson, Miss. Susan Parker \"Suzette\"</td><td>female</td><td>21</td><td>2</td><td>2</td><td>PC 17608  </td><td>262.4</td><td>B57 B59 B63 B66</td><td>C</td></tr>\n",
       "</tbody>\n",
       "</table>\n"
      ],
      "text/latex": [
       "A tibble: 4 × 12\n",
       "\\begin{tabular}{r|llllllllllll}\n",
       " PassengerId & Survived & Pclass & Name & Sex & Age & SibSp & Parch & Ticket & Fare & Cabin & Embarked\\\\\n",
       " <dbl> & <dbl> & <dbl> & <chr> & <fct> & <dbl> & <dbl> & <dbl> & <chr> & <dbl> & <fct> & <chr>\\\\\n",
       "\\hline\n",
       "\t 148 & 0 & 3 & Ford, Miss. Robina Maggie \"Ruby\"      & female &  9 & 2 & 2 & W./C. 6608 &  34.4 & NA              & S\\\\\n",
       "\t 312 & 1 & 1 & Ryerson, Miss. Emily Borie            & female & 18 & 2 & 2 & PC 17608   & 262.4 & B57 B59 B63 B66 & C\\\\\n",
       "\t 437 & 0 & 3 & Ford, Miss. Doolina Margaret \"Daisy\"  & female & 21 & 2 & 2 & W./C. 6608 &  34.4 & NA              & S\\\\\n",
       "\t 743 & 1 & 1 & Ryerson, Miss. Susan Parker \"Suzette\" & female & 21 & 2 & 2 & PC 17608   & 262.4 & B57 B59 B63 B66 & C\\\\\n",
       "\\end{tabular}\n"
      ],
      "text/markdown": [
       "\n",
       "A tibble: 4 × 12\n",
       "\n",
       "| PassengerId &lt;dbl&gt; | Survived &lt;dbl&gt; | Pclass &lt;dbl&gt; | Name &lt;chr&gt; | Sex &lt;fct&gt; | Age &lt;dbl&gt; | SibSp &lt;dbl&gt; | Parch &lt;dbl&gt; | Ticket &lt;chr&gt; | Fare &lt;dbl&gt; | Cabin &lt;fct&gt; | Embarked &lt;chr&gt; |\n",
       "|---|---|---|---|---|---|---|---|---|---|---|---|\n",
       "| 148 | 0 | 3 | Ford, Miss. Robina Maggie \"Ruby\"      | female |  9 | 2 | 2 | W./C. 6608 |  34.4 | NA              | S |\n",
       "| 312 | 1 | 1 | Ryerson, Miss. Emily Borie            | female | 18 | 2 | 2 | PC 17608   | 262.4 | B57 B59 B63 B66 | C |\n",
       "| 437 | 0 | 3 | Ford, Miss. Doolina Margaret \"Daisy\"  | female | 21 | 2 | 2 | W./C. 6608 |  34.4 | NA              | S |\n",
       "| 743 | 1 | 1 | Ryerson, Miss. Susan Parker \"Suzette\" | female | 21 | 2 | 2 | PC 17608   | 262.4 | B57 B59 B63 B66 | C |\n",
       "\n"
      ],
      "text/plain": [
       "  PassengerId Survived Pclass Name                                  Sex    Age\n",
       "1 148         0        3      Ford, Miss. Robina Maggie \"Ruby\"      female  9 \n",
       "2 312         1        1      Ryerson, Miss. Emily Borie            female 18 \n",
       "3 437         0        3      Ford, Miss. Doolina Margaret \"Daisy\"  female 21 \n",
       "4 743         1        1      Ryerson, Miss. Susan Parker \"Suzette\" female 21 \n",
       "  SibSp Parch Ticket     Fare  Cabin           Embarked\n",
       "1 2     2     W./C. 6608  34.4 NA              S       \n",
       "2 2     2     PC 17608   262.4 B57 B59 B63 B66 C       \n",
       "3 2     2     W./C. 6608  34.4 NA              S       \n",
       "4 2     2     PC 17608   262.4 B57 B59 B63 B66 C       "
      ]
     },
     "metadata": {},
     "output_type": "display_data"
    }
   ],
   "source": [
    "# YOUR CODE HERE\n",
    "filter(passengers, SibSp == 2, Parch == 2)"
   ]
  },
  {
   "cell_type": "markdown",
   "metadata": {},
   "source": [
    "### Selecting columns (2/5)\n",
    "\n",
    "Use `select(df, ...)` to either specify which columns to select,"
   ]
  },
  {
   "cell_type": "code",
   "execution_count": 10,
   "metadata": {},
   "outputs": [
    {
     "data": {
      "text/html": [
       "<table>\n",
       "<caption>A tibble: 712 × 4</caption>\n",
       "<thead>\n",
       "\t<tr><th scope=col>Survived</th><th scope=col>Pclass</th><th scope=col>Sex</th><th scope=col>Age</th></tr>\n",
       "\t<tr><th scope=col>&lt;dbl&gt;</th><th scope=col>&lt;dbl&gt;</th><th scope=col>&lt;fct&gt;</th><th scope=col>&lt;dbl&gt;</th></tr>\n",
       "</thead>\n",
       "<tbody>\n",
       "\t<tr><td>0</td><td>3</td><td>male  </td><td>22</td></tr>\n",
       "\t<tr><td>1</td><td>1</td><td>female</td><td>38</td></tr>\n",
       "\t<tr><td>1</td><td>3</td><td>female</td><td>26</td></tr>\n",
       "\t<tr><td>⋮</td><td>⋮</td><td>⋮</td><td>⋮</td></tr>\n",
       "\t<tr><td>1</td><td>1</td><td>female</td><td>19</td></tr>\n",
       "\t<tr><td>1</td><td>1</td><td>male  </td><td>26</td></tr>\n",
       "\t<tr><td>0</td><td>3</td><td>male  </td><td>32</td></tr>\n",
       "</tbody>\n",
       "</table>\n"
      ],
      "text/latex": [
       "A tibble: 712 × 4\n",
       "\\begin{tabular}{r|llll}\n",
       " Survived & Pclass & Sex & Age\\\\\n",
       " <dbl> & <dbl> & <fct> & <dbl>\\\\\n",
       "\\hline\n",
       "\t 0 & 3 & male   & 22\\\\\n",
       "\t 1 & 1 & female & 38\\\\\n",
       "\t 1 & 3 & female & 26\\\\\n",
       "\t ⋮ & ⋮ & ⋮ & ⋮\\\\\n",
       "\t 1 & 1 & female & 19\\\\\n",
       "\t 1 & 1 & male   & 26\\\\\n",
       "\t 0 & 3 & male   & 32\\\\\n",
       "\\end{tabular}\n"
      ],
      "text/markdown": [
       "\n",
       "A tibble: 712 × 4\n",
       "\n",
       "| Survived &lt;dbl&gt; | Pclass &lt;dbl&gt; | Sex &lt;fct&gt; | Age &lt;dbl&gt; |\n",
       "|---|---|---|---|\n",
       "| 0 | 3 | male   | 22 |\n",
       "| 1 | 1 | female | 38 |\n",
       "| 1 | 3 | female | 26 |\n",
       "| ⋮ | ⋮ | ⋮ | ⋮ |\n",
       "| 1 | 1 | female | 19 |\n",
       "| 1 | 1 | male   | 26 |\n",
       "| 0 | 3 | male   | 32 |\n",
       "\n"
      ],
      "text/plain": [
       "    Survived Pclass Sex    Age\n",
       "1   0        3      male   22 \n",
       "2   1        1      female 38 \n",
       "3   1        3      female 26 \n",
       "⋮   ⋮        ⋮      ⋮      ⋮  \n",
       "710 1        1      female 19 \n",
       "711 1        1      male   26 \n",
       "712 0        3      male   32 "
      ]
     },
     "metadata": {},
     "output_type": "display_data"
    }
   ],
   "source": [
    "select(passengers, Survived, Pclass, Sex, Age)"
   ]
  },
  {
   "cell_type": "markdown",
   "metadata": {},
   "source": [
    "or to specify which columns to exclude, using `-`."
   ]
  },
  {
   "cell_type": "code",
   "execution_count": 11,
   "metadata": {},
   "outputs": [
    {
     "data": {
      "text/html": [
       "<table>\n",
       "<caption>A tibble: 712 × 9</caption>\n",
       "<thead>\n",
       "\t<tr><th scope=col>PassengerId</th><th scope=col>Survived</th><th scope=col>Pclass</th><th scope=col>Sex</th><th scope=col>Age</th><th scope=col>Ticket</th><th scope=col>Fare</th><th scope=col>Cabin</th><th scope=col>Embarked</th></tr>\n",
       "\t<tr><th scope=col>&lt;dbl&gt;</th><th scope=col>&lt;dbl&gt;</th><th scope=col>&lt;dbl&gt;</th><th scope=col>&lt;fct&gt;</th><th scope=col>&lt;dbl&gt;</th><th scope=col>&lt;chr&gt;</th><th scope=col>&lt;dbl&gt;</th><th scope=col>&lt;fct&gt;</th><th scope=col>&lt;chr&gt;</th></tr>\n",
       "</thead>\n",
       "<tbody>\n",
       "\t<tr><td>1</td><td>0</td><td>3</td><td>male  </td><td>22</td><td>A/5 21171       </td><td> 7.25</td><td>NA </td><td>S</td></tr>\n",
       "\t<tr><td>2</td><td>1</td><td>1</td><td>female</td><td>38</td><td>PC 17599        </td><td>71.28</td><td>C85</td><td>C</td></tr>\n",
       "\t<tr><td>3</td><td>1</td><td>3</td><td>female</td><td>26</td><td>STON/O2. 3101282</td><td> 7.92</td><td>NA </td><td>S</td></tr>\n",
       "\t<tr><td>⋮</td><td>⋮</td><td>⋮</td><td>⋮</td><td>⋮</td><td>⋮</td><td>⋮</td><td>⋮</td><td>⋮</td></tr>\n",
       "\t<tr><td>888</td><td>1</td><td>1</td><td>female</td><td>19</td><td>112053</td><td>30.00</td><td>B42 </td><td>S</td></tr>\n",
       "\t<tr><td>890</td><td>1</td><td>1</td><td>male  </td><td>26</td><td>111369</td><td>30.00</td><td>C148</td><td>C</td></tr>\n",
       "\t<tr><td>891</td><td>0</td><td>3</td><td>male  </td><td>32</td><td>370376</td><td> 7.75</td><td>NA  </td><td>Q</td></tr>\n",
       "</tbody>\n",
       "</table>\n"
      ],
      "text/latex": [
       "A tibble: 712 × 9\n",
       "\\begin{tabular}{r|lllllllll}\n",
       " PassengerId & Survived & Pclass & Sex & Age & Ticket & Fare & Cabin & Embarked\\\\\n",
       " <dbl> & <dbl> & <dbl> & <fct> & <dbl> & <chr> & <dbl> & <fct> & <chr>\\\\\n",
       "\\hline\n",
       "\t 1 & 0 & 3 & male   & 22 & A/5 21171        &  7.25 & NA  & S\\\\\n",
       "\t 2 & 1 & 1 & female & 38 & PC 17599         & 71.28 & C85 & C\\\\\n",
       "\t 3 & 1 & 3 & female & 26 & STON/O2. 3101282 &  7.92 & NA  & S\\\\\n",
       "\t ⋮ & ⋮ & ⋮ & ⋮ & ⋮ & ⋮ & ⋮ & ⋮ & ⋮\\\\\n",
       "\t 888 & 1 & 1 & female & 19 & 112053 & 30.00 & B42  & S\\\\\n",
       "\t 890 & 1 & 1 & male   & 26 & 111369 & 30.00 & C148 & C\\\\\n",
       "\t 891 & 0 & 3 & male   & 32 & 370376 &  7.75 & NA   & Q\\\\\n",
       "\\end{tabular}\n"
      ],
      "text/markdown": [
       "\n",
       "A tibble: 712 × 9\n",
       "\n",
       "| PassengerId &lt;dbl&gt; | Survived &lt;dbl&gt; | Pclass &lt;dbl&gt; | Sex &lt;fct&gt; | Age &lt;dbl&gt; | Ticket &lt;chr&gt; | Fare &lt;dbl&gt; | Cabin &lt;fct&gt; | Embarked &lt;chr&gt; |\n",
       "|---|---|---|---|---|---|---|---|---|\n",
       "| 1 | 0 | 3 | male   | 22 | A/5 21171        |  7.25 | NA  | S |\n",
       "| 2 | 1 | 1 | female | 38 | PC 17599         | 71.28 | C85 | C |\n",
       "| 3 | 1 | 3 | female | 26 | STON/O2. 3101282 |  7.92 | NA  | S |\n",
       "| ⋮ | ⋮ | ⋮ | ⋮ | ⋮ | ⋮ | ⋮ | ⋮ | ⋮ |\n",
       "| 888 | 1 | 1 | female | 19 | 112053 | 30.00 | B42  | S |\n",
       "| 890 | 1 | 1 | male   | 26 | 111369 | 30.00 | C148 | C |\n",
       "| 891 | 0 | 3 | male   | 32 | 370376 |  7.75 | NA   | Q |\n",
       "\n"
      ],
      "text/plain": [
       "    PassengerId Survived Pclass Sex    Age Ticket           Fare  Cabin\n",
       "1   1           0        3      male   22  A/5 21171         7.25 NA   \n",
       "2   2           1        1      female 38  PC 17599         71.28 C85  \n",
       "3   3           1        3      female 26  STON/O2. 3101282  7.92 NA   \n",
       "⋮   ⋮           ⋮        ⋮      ⋮      ⋮   ⋮                ⋮     ⋮    \n",
       "710 888         1        1      female 19  112053           30.00 B42  \n",
       "711 890         1        1      male   26  111369           30.00 C148 \n",
       "712 891         0        3      male   32  370376            7.75 NA   \n",
       "    Embarked\n",
       "1   S       \n",
       "2   C       \n",
       "3   S       \n",
       "⋮   ⋮       \n",
       "710 S       \n",
       "711 C       \n",
       "712 Q       "
      ]
     },
     "metadata": {},
     "output_type": "display_data"
    }
   ],
   "source": [
    "select(passengers, -Name, -SibSp, -Parch)"
   ]
  },
  {
   "cell_type": "markdown",
   "metadata": {},
   "source": [
    "`dplyr` also provides some useful helper functions to `select()` columns that match specific criteria.\n",
    "\n",
    "* `starts_with(x)`: match column names that start with `x`\n",
    "* `ends_with(x)`: match column names that end with `x`\n",
    "* `contains(x)`: match column names that contain `x`\n",
    "* `matches(x)`: match column names that match (the regular expression) `x`\n",
    "\n",
    "where `x` is a string (in either single- or double-quotes).\n",
    "\n",
    "For example, if we want all the columns that start with letter `s`:"
   ]
  },
  {
   "cell_type": "code",
   "execution_count": 12,
   "metadata": {},
   "outputs": [
    {
     "data": {
      "text/html": [
       "<table>\n",
       "<caption>A tibble: 712 × 3</caption>\n",
       "<thead>\n",
       "\t<tr><th scope=col>Survived</th><th scope=col>Sex</th><th scope=col>SibSp</th></tr>\n",
       "\t<tr><th scope=col>&lt;dbl&gt;</th><th scope=col>&lt;fct&gt;</th><th scope=col>&lt;dbl&gt;</th></tr>\n",
       "</thead>\n",
       "<tbody>\n",
       "\t<tr><td>0</td><td>male  </td><td>1</td></tr>\n",
       "\t<tr><td>1</td><td>female</td><td>1</td></tr>\n",
       "\t<tr><td>1</td><td>female</td><td>0</td></tr>\n",
       "\t<tr><td>⋮</td><td>⋮</td><td>⋮</td></tr>\n",
       "\t<tr><td>1</td><td>female</td><td>0</td></tr>\n",
       "\t<tr><td>1</td><td>male  </td><td>0</td></tr>\n",
       "\t<tr><td>0</td><td>male  </td><td>0</td></tr>\n",
       "</tbody>\n",
       "</table>\n"
      ],
      "text/latex": [
       "A tibble: 712 × 3\n",
       "\\begin{tabular}{r|lll}\n",
       " Survived & Sex & SibSp\\\\\n",
       " <dbl> & <fct> & <dbl>\\\\\n",
       "\\hline\n",
       "\t 0 & male   & 1\\\\\n",
       "\t 1 & female & 1\\\\\n",
       "\t 1 & female & 0\\\\\n",
       "\t ⋮ & ⋮ & ⋮\\\\\n",
       "\t 1 & female & 0\\\\\n",
       "\t 1 & male   & 0\\\\\n",
       "\t 0 & male   & 0\\\\\n",
       "\\end{tabular}\n"
      ],
      "text/markdown": [
       "\n",
       "A tibble: 712 × 3\n",
       "\n",
       "| Survived &lt;dbl&gt; | Sex &lt;fct&gt; | SibSp &lt;dbl&gt; |\n",
       "|---|---|---|\n",
       "| 0 | male   | 1 |\n",
       "| 1 | female | 1 |\n",
       "| 1 | female | 0 |\n",
       "| ⋮ | ⋮ | ⋮ |\n",
       "| 1 | female | 0 |\n",
       "| 1 | male   | 0 |\n",
       "| 0 | male   | 0 |\n",
       "\n"
      ],
      "text/plain": [
       "    Survived Sex    SibSp\n",
       "1   0        male   1    \n",
       "2   1        female 1    \n",
       "3   1        female 0    \n",
       "⋮   ⋮        ⋮      ⋮    \n",
       "710 1        female 0    \n",
       "711 1        male   0    \n",
       "712 0        male   0    "
      ]
     },
     "metadata": {},
     "output_type": "display_data"
    }
   ],
   "source": [
    "select(passengers, starts_with('S'))"
   ]
  },
  {
   "cell_type": "markdown",
   "metadata": {},
   "source": [
    "You can see the documentation for `select()` for details.\n",
    "In general, for any `R` function, you can pull-up the documentation (if one exists) by running `?` followed by the function name.\n",
    "For example, to see the documentation for `select()` as provided in the `dplyr` package, run:"
   ]
  },
  {
   "cell_type": "code",
   "execution_count": 13,
   "metadata": {},
   "outputs": [
    {
     "data": {
      "text/html": [
       "\n",
       "<table width=\"100%\" summary=\"page for select {dplyr}\"><tr><td>select {dplyr}</td><td style=\"text-align: right;\">R Documentation</td></tr></table>\n",
       "\n",
       "<h2>Select/rename variables by name</h2>\n",
       "\n",
       "<h3>Description</h3>\n",
       "\n",
       "<p>Choose or rename variables from a tbl.\n",
       "<code>select()</code> keeps only the variables you mention; <code>rename()</code>\n",
       "keeps all variables.\n",
       "</p>\n",
       "\n",
       "\n",
       "<h3>Usage</h3>\n",
       "\n",
       "<pre>\n",
       "select(.data, ...)\n",
       "\n",
       "rename(.data, ...)\n",
       "</pre>\n",
       "\n",
       "\n",
       "<h3>Arguments</h3>\n",
       "\n",
       "<table summary=\"R argblock\">\n",
       "<tr valign=\"top\"><td><code>.data</code></td>\n",
       "<td>\n",
       "<p>A tbl. All main verbs are S3 generics and provide methods\n",
       "for <code>tbl_df()</code>, <code>dtplyr::tbl_dt()</code> and <code>dbplyr::tbl_dbi()</code>.</p>\n",
       "</td></tr>\n",
       "<tr valign=\"top\"><td><code>...</code></td>\n",
       "<td>\n",
       "<p>One or more unquoted expressions separated by commas.\n",
       "You can treat variable names like they are positions, so you can\n",
       "use expressions like <code>x:y</code> to select ranges of variables.\n",
       "</p>\n",
       "<p>Positive values select variables; negative values drop variables.\n",
       "If the first expression is negative, <code>select()</code> will automatically\n",
       "start with all variables.\n",
       "</p>\n",
       "<p>Use named arguments, e.g. <code>new_name = old_name</code>, to rename selected variables.\n",
       "</p>\n",
       "<p>The arguments in <code>...</code> are automatically quoted and\n",
       "evaluated in a context where column names\n",
       "represent column positions. They also support\n",
       "unquoting and splicing. See\n",
       "<code>vignette(\"programming\")</code> for an introduction to these concepts.\n",
       "</p>\n",
       "<p>See select helpers for more details and\n",
       "examples about tidyselect helpers such as <code>starts_with()</code>, <code>everything()</code>, ...</p>\n",
       "</td></tr>\n",
       "</table>\n",
       "\n",
       "\n",
       "<h3>Details</h3>\n",
       "\n",
       "<p>These functions work by column index, not value; thus, an expression\n",
       "like <code>select(data.frame(x = 1:5, y = 10), z = x+1)</code> does not create a variable\n",
       "with values <code>2:6</code>. (In the current implementation, the expression <code>z = x+1</code>\n",
       "wouldn't do anything useful.)  To calculate using column values, see\n",
       "<code>mutate()</code>/<code>transmute()</code>.\n",
       "</p>\n",
       "\n",
       "\n",
       "<h3>Value</h3>\n",
       "\n",
       "<p>An object of the same class as <code>.data</code>.\n",
       "</p>\n",
       "\n",
       "\n",
       "<h3>Useful functions</h3>\n",
       "\n",
       "<p>As well as using existing functions like <code>:</code> and <code>c()</code>, there are\n",
       "a number of special functions that only work inside <code>select()</code>:\n",
       "</p>\n",
       "\n",
       "<ul>\n",
       "<li> <p><code>starts_with()</code>, <code>ends_with()</code>, <code>contains()</code>\n",
       "</p>\n",
       "</li>\n",
       "<li> <p><code>matches()</code>\n",
       "</p>\n",
       "</li>\n",
       "<li> <p><code>num_range()</code>\n",
       "</p>\n",
       "</li>\n",
       "<li> <p><code>one_of()</code>\n",
       "</p>\n",
       "</li>\n",
       "<li> <p><code>everything()</code>\n",
       "</p>\n",
       "</li>\n",
       "<li> <p><code>group_cols()</code>\n",
       "</p>\n",
       "</li></ul>\n",
       "\n",
       "<p>To drop variables, use <code>-</code>.\n",
       "</p>\n",
       "<p>Note that except for <code>:</code>, <code>-</code> and <code>c()</code>, all complex expressions\n",
       "are evaluated outside the data frame context. This is to prevent\n",
       "accidental matching of data frame variables when you refer to\n",
       "variables from the calling context.\n",
       "</p>\n",
       "\n",
       "\n",
       "<h3>Scoped selection and renaming</h3>\n",
       "\n",
       "<p>The three scoped variants of <code>select()</code> (<code>select_all()</code>,\n",
       "<code>select_if()</code> and <code>select_at()</code>) and the three variants of\n",
       "<code>rename()</code> (<code>rename_all()</code>, <code>rename_if()</code>, <code>rename_at()</code>) make it\n",
       "easy to apply a renaming function to a selection of variables.\n",
       "</p>\n",
       "\n",
       "\n",
       "<h3>Tidy data</h3>\n",
       "\n",
       "<p>When applied to a data frame, row names are silently dropped. To preserve,\n",
       "convert to an explicit variable with <code>tibble::rownames_to_column()</code>.\n",
       "</p>\n",
       "\n",
       "\n",
       "<h3>See Also</h3>\n",
       "\n",
       "<p>Other single table verbs: <code>arrange</code>,\n",
       "<code>filter</code>, <code>mutate</code>,\n",
       "<code>slice</code>, <code>summarise</code>\n",
       "</p>\n",
       "\n",
       "\n",
       "<h3>Examples</h3>\n",
       "\n",
       "<pre>\n",
       "iris &lt;- as_tibble(iris) # so it prints a little nicer\n",
       "select(iris, starts_with(\"Petal\"))\n",
       "select(iris, ends_with(\"Width\"))\n",
       "\n",
       "# Move Species variable to the front\n",
       "select(iris, Species, everything())\n",
       "\n",
       "# Move Sepal.Length variable to back\n",
       "# first select all variables except Sepal.Length, then re select Sepal.Length\n",
       "select(iris, -Sepal.Length, Sepal.Length)\n",
       "\n",
       "df &lt;- as.data.frame(matrix(runif(100), nrow = 10))\n",
       "df &lt;- tbl_df(df[c(3, 4, 7, 1, 9, 8, 5, 2, 6, 10)])\n",
       "select(df, V4:V6)\n",
       "select(df, num_range(\"V\", 4:6))\n",
       "\n",
       "# Drop variables with -\n",
       "select(iris, -starts_with(\"Petal\"))\n",
       "\n",
       "# Select the grouping variables:\n",
       "starwars %&gt;% group_by(gender) %&gt;% select(group_cols())\n",
       "\n",
       "\n",
       "# The .data pronoun is available:\n",
       "select(mtcars, .data$cyl)\n",
       "select(mtcars, .data$mpg : .data$disp)\n",
       "\n",
       "# However it isn't available within calls since those are evaluated\n",
       "# outside of the data context. This would fail if run:\n",
       "# select(mtcars, identical(.data$cyl))\n",
       "\n",
       "\n",
       "# Renaming -----------------------------------------\n",
       "# * select() keeps only the variables you specify\n",
       "select(iris, petal_length = Petal.Length)\n",
       "\n",
       "# * rename() keeps all variables\n",
       "rename(iris, petal_length = Petal.Length)\n",
       "\n",
       "# * select() can rename variables in a group\n",
       "select(iris, obs = starts_with('S'))\n",
       "\n",
       "# Unquoting ----------------------------------------\n",
       "\n",
       "# Like all dplyr verbs, select() supports unquoting of symbols:\n",
       "vars &lt;- list(\n",
       "  var1 = sym(\"cyl\"),\n",
       "  var2 = sym(\"am\")\n",
       ")\n",
       "select(mtcars, !!!vars)\n",
       "\n",
       "# For convenience it also supports strings and character\n",
       "# vectors. This is unlike other verbs where strings would be\n",
       "# ambiguous.\n",
       "vars &lt;- c(var1 = \"cyl\", var2 =\"am\")\n",
       "select(mtcars, !!vars)\n",
       "rename(mtcars, !!vars)\n",
       "</pre>\n",
       "\n",
       "<hr /><div style=\"text-align: center;\">[Package <em>dplyr</em> version 0.8.3 ]</div>"
      ],
      "text/latex": [
       "\\inputencoding{utf8}\n",
       "\\HeaderA{select}{Select/rename variables by name}{select}\n",
       "\\aliasA{rename}{select}{rename}\n",
       "%\n",
       "\\begin{Description}\\relax\n",
       "Choose or rename variables from a tbl.\n",
       "\\code{select()} keeps only the variables you mention; \\code{rename()}\n",
       "keeps all variables.\n",
       "\\end{Description}\n",
       "%\n",
       "\\begin{Usage}\n",
       "\\begin{verbatim}\n",
       "select(.data, ...)\n",
       "\n",
       "rename(.data, ...)\n",
       "\\end{verbatim}\n",
       "\\end{Usage}\n",
       "%\n",
       "\\begin{Arguments}\n",
       "\\begin{ldescription}\n",
       "\\item[\\code{.data}] A tbl. All main verbs are S3 generics and provide methods\n",
       "for \\code{\\LinkA{tbl\\_df()}{tbl.Rul.df}}, \\code{\\LinkA{dtplyr::tbl\\_dt()}{dtplyr::tbl.Rul.dt()}} and \\code{\\LinkA{dbplyr::tbl\\_dbi()}{dbplyr::tbl.Rul.dbi()}}.\n",
       "\n",
       "\\item[\\code{...}] One or more unquoted expressions separated by commas.\n",
       "You can treat variable names like they are positions, so you can\n",
       "use expressions like \\code{x:y} to select ranges of variables.\n",
       "\n",
       "Positive values select variables; negative values drop variables.\n",
       "If the first expression is negative, \\code{select()} will automatically\n",
       "start with all variables.\n",
       "\n",
       "Use named arguments, e.g. \\code{new\\_name = old\\_name}, to rename selected variables.\n",
       "\n",
       "The arguments in \\code{...} are automatically \\LinkA{quoted}{quoted} and\n",
       "\\LinkA{evaluated}{evaluated} in a context where column names\n",
       "represent column positions. They also support\n",
       "\\LinkA{unquoting}{unquoting} and splicing. See\n",
       "\\code{vignette(\"programming\")} for an introduction to these concepts.\n",
       "\n",
       "See \\LinkA{select helpers}{select helpers} for more details and\n",
       "examples about tidyselect helpers such as \\code{starts\\_with()}, \\code{everything()}, ...\n",
       "\\end{ldescription}\n",
       "\\end{Arguments}\n",
       "%\n",
       "\\begin{Details}\\relax\n",
       "These functions work by column index, not value; thus, an expression\n",
       "like \\code{select(data.frame(x = 1:5, y = 10), z = x+1)} does not create a variable\n",
       "with values \\code{2:6}. (In the current implementation, the expression \\code{z = x+1}\n",
       "wouldn't do anything useful.)  To calculate using column values, see\n",
       "\\code{\\LinkA{mutate()}{mutate}}/\\code{\\LinkA{transmute()}{transmute}}.\n",
       "\\end{Details}\n",
       "%\n",
       "\\begin{Value}\n",
       "An object of the same class as \\code{.data}.\n",
       "\\end{Value}\n",
       "%\n",
       "\\begin{Section}{Useful functions}\n",
       "\n",
       "As well as using existing functions like \\code{:} and \\code{c()}, there are\n",
       "a number of special functions that only work inside \\code{select()}:\n",
       "\\begin{itemize}\n",
       "\n",
       "\\item{} \\code{\\LinkA{starts\\_with()}{starts.Rul.with}}, \\code{\\LinkA{ends\\_with()}{ends.Rul.with}}, \\code{\\LinkA{contains()}{contains}}\n",
       "\\item{} \\code{\\LinkA{matches()}{matches}}\n",
       "\\item{} \\code{\\LinkA{num\\_range()}{num.Rul.range}}\n",
       "\\item{} \\code{\\LinkA{one\\_of()}{one.Rul.of}}\n",
       "\\item{} \\code{\\LinkA{everything()}{everything}}\n",
       "\\item{} \\code{\\LinkA{group\\_cols()}{group.Rul.cols}}\n",
       "\n",
       "\\end{itemize}\n",
       "\n",
       "\n",
       "To drop variables, use \\code{-}.\n",
       "\n",
       "Note that except for \\code{:}, \\code{-} and \\code{c()}, all complex expressions\n",
       "are evaluated outside the data frame context. This is to prevent\n",
       "accidental matching of data frame variables when you refer to\n",
       "variables from the calling context.\n",
       "\\end{Section}\n",
       "%\n",
       "\\begin{Section}{Scoped selection and renaming}\n",
       "\n",
       "\n",
       "The three \\LinkA{scoped}{scoped} variants of \\code{select()} (\\code{\\LinkA{select\\_all()}{select.Rul.all}},\n",
       "\\code{\\LinkA{select\\_if()}{select.Rul.if}} and \\code{\\LinkA{select\\_at()}{select.Rul.at}}) and the three variants of\n",
       "\\code{rename()} (\\code{\\LinkA{rename\\_all()}{rename.Rul.all}}, \\code{\\LinkA{rename\\_if()}{rename.Rul.if}}, \\code{\\LinkA{rename\\_at()}{rename.Rul.at}}) make it\n",
       "easy to apply a renaming function to a selection of variables.\n",
       "\\end{Section}\n",
       "%\n",
       "\\begin{Section}{Tidy data}\n",
       "\n",
       "When applied to a data frame, row names are silently dropped. To preserve,\n",
       "convert to an explicit variable with \\code{\\LinkA{tibble::rownames\\_to\\_column()}{tibble::rownames.Rul.to.Rul.column()}}.\n",
       "\\end{Section}\n",
       "%\n",
       "\\begin{SeeAlso}\\relax\n",
       "Other single table verbs: \\code{\\LinkA{arrange}{arrange}},\n",
       "\\code{\\LinkA{filter}{filter}}, \\code{\\LinkA{mutate}{mutate}},\n",
       "\\code{\\LinkA{slice}{slice}}, \\code{\\LinkA{summarise}{summarise}}\n",
       "\\end{SeeAlso}\n",
       "%\n",
       "\\begin{Examples}\n",
       "\\begin{ExampleCode}\n",
       "iris <- as_tibble(iris) # so it prints a little nicer\n",
       "select(iris, starts_with(\"Petal\"))\n",
       "select(iris, ends_with(\"Width\"))\n",
       "\n",
       "# Move Species variable to the front\n",
       "select(iris, Species, everything())\n",
       "\n",
       "# Move Sepal.Length variable to back\n",
       "# first select all variables except Sepal.Length, then re select Sepal.Length\n",
       "select(iris, -Sepal.Length, Sepal.Length)\n",
       "\n",
       "df <- as.data.frame(matrix(runif(100), nrow = 10))\n",
       "df <- tbl_df(df[c(3, 4, 7, 1, 9, 8, 5, 2, 6, 10)])\n",
       "select(df, V4:V6)\n",
       "select(df, num_range(\"V\", 4:6))\n",
       "\n",
       "# Drop variables with -\n",
       "select(iris, -starts_with(\"Petal\"))\n",
       "\n",
       "# Select the grouping variables:\n",
       "starwars %>% group_by(gender) %>% select(group_cols())\n",
       "\n",
       "\n",
       "# The .data pronoun is available:\n",
       "select(mtcars, .data$cyl)\n",
       "select(mtcars, .data$mpg : .data$disp)\n",
       "\n",
       "# However it isn't available within calls since those are evaluated\n",
       "# outside of the data context. This would fail if run:\n",
       "# select(mtcars, identical(.data$cyl))\n",
       "\n",
       "\n",
       "# Renaming -----------------------------------------\n",
       "# * select() keeps only the variables you specify\n",
       "select(iris, petal_length = Petal.Length)\n",
       "\n",
       "# * rename() keeps all variables\n",
       "rename(iris, petal_length = Petal.Length)\n",
       "\n",
       "# * select() can rename variables in a group\n",
       "select(iris, obs = starts_with('S'))\n",
       "\n",
       "# Unquoting ----------------------------------------\n",
       "\n",
       "# Like all dplyr verbs, select() supports unquoting of symbols:\n",
       "vars <- list(\n",
       "  var1 = sym(\"cyl\"),\n",
       "  var2 = sym(\"am\")\n",
       ")\n",
       "select(mtcars, !!!vars)\n",
       "\n",
       "# For convenience it also supports strings and character\n",
       "# vectors. This is unlike other verbs where strings would be\n",
       "# ambiguous.\n",
       "vars <- c(var1 = \"cyl\", var2 =\"am\")\n",
       "select(mtcars, !!vars)\n",
       "rename(mtcars, !!vars)\n",
       "\\end{ExampleCode}\n",
       "\\end{Examples}"
      ],
      "text/plain": [
       "select                  package:dplyr                  R Documentation\n",
       "\n",
       "_\bS_\be_\bl_\be_\bc_\bt/_\br_\be_\bn_\ba_\bm_\be _\bv_\ba_\br_\bi_\ba_\bb_\bl_\be_\bs _\bb_\by _\bn_\ba_\bm_\be\n",
       "\n",
       "_\bD_\be_\bs_\bc_\br_\bi_\bp_\bt_\bi_\bo_\bn:\n",
       "\n",
       "     Choose or rename variables from a tbl. ‘select()’ keeps only the\n",
       "     variables you mention; ‘rename()’ keeps all variables.\n",
       "\n",
       "_\bU_\bs_\ba_\bg_\be:\n",
       "\n",
       "     select(.data, ...)\n",
       "     \n",
       "     rename(.data, ...)\n",
       "     \n",
       "_\bA_\br_\bg_\bu_\bm_\be_\bn_\bt_\bs:\n",
       "\n",
       "   .data: A tbl. All main verbs are S3 generics and provide methods for\n",
       "          ‘tbl_df()’, ‘dtplyr::tbl_dt()’ and ‘dbplyr::tbl_dbi()’.\n",
       "\n",
       "     ...: One or more unquoted expressions separated by commas. You can\n",
       "          treat variable names like they are positions, so you can use\n",
       "          expressions like ‘x:y’ to select ranges of variables.\n",
       "\n",
       "          Positive values select variables; negative values drop\n",
       "          variables. If the first expression is negative, ‘select()’\n",
       "          will automatically start with all variables.\n",
       "\n",
       "          Use named arguments, e.g. ‘new_name = old_name’, to rename\n",
       "          selected variables.\n",
       "\n",
       "          The arguments in ‘...’ are automatically quoted and evaluated\n",
       "          in a context where column names represent column positions.\n",
       "          They also support unquoting and splicing. See\n",
       "          ‘vignette(\"programming\")’ for an introduction to these\n",
       "          concepts.\n",
       "\n",
       "          See select helpers for more details and examples about\n",
       "          tidyselect helpers such as ‘starts_with()’, ‘everything()’,\n",
       "          ...\n",
       "\n",
       "_\bD_\be_\bt_\ba_\bi_\bl_\bs:\n",
       "\n",
       "     These functions work by column index, not value; thus, an\n",
       "     expression like ‘select(data.frame(x = 1:5, y = 10), z = x+1)’\n",
       "     does not create a variable with values ‘2:6’. (In the current\n",
       "     implementation, the expression ‘z = x+1’ wouldn't do anything\n",
       "     useful.)  To calculate using column values, see\n",
       "     ‘mutate()’/‘transmute()’.\n",
       "\n",
       "_\bV_\ba_\bl_\bu_\be:\n",
       "\n",
       "     An object of the same class as ‘.data’.\n",
       "\n",
       "_\bU_\bs_\be_\bf_\bu_\bl _\bf_\bu_\bn_\bc_\bt_\bi_\bo_\bn_\bs:\n",
       "\n",
       "     As well as using existing functions like ‘:’ and ‘c()’, there are\n",
       "     a number of special functions that only work inside ‘select()’:\n",
       "\n",
       "        • ‘starts_with()’, ‘ends_with()’, ‘contains()’\n",
       "\n",
       "        • ‘matches()’\n",
       "\n",
       "        • ‘num_range()’\n",
       "\n",
       "        • ‘one_of()’\n",
       "\n",
       "        • ‘everything()’\n",
       "\n",
       "        • ‘group_cols()’\n",
       "\n",
       "     To drop variables, use ‘-’.\n",
       "\n",
       "     Note that except for ‘:’, ‘-’ and ‘c()’, all complex expressions\n",
       "     are evaluated outside the data frame context. This is to prevent\n",
       "     accidental matching of data frame variables when you refer to\n",
       "     variables from the calling context.\n",
       "\n",
       "_\bS_\bc_\bo_\bp_\be_\bd _\bs_\be_\bl_\be_\bc_\bt_\bi_\bo_\bn _\ba_\bn_\bd _\br_\be_\bn_\ba_\bm_\bi_\bn_\bg:\n",
       "\n",
       "     The three scoped variants of ‘select()’ (‘select_all()’,\n",
       "     ‘select_if()’ and ‘select_at()’) and the three variants of\n",
       "     ‘rename()’ (‘rename_all()’, ‘rename_if()’, ‘rename_at()’) make it\n",
       "     easy to apply a renaming function to a selection of variables.\n",
       "\n",
       "_\bT_\bi_\bd_\by _\bd_\ba_\bt_\ba:\n",
       "\n",
       "     When applied to a data frame, row names are silently dropped. To\n",
       "     preserve, convert to an explicit variable with\n",
       "     ‘tibble::rownames_to_column()’.\n",
       "\n",
       "_\bS_\be_\be _\bA_\bl_\bs_\bo:\n",
       "\n",
       "     Other single table verbs: ‘arrange’, ‘filter’, ‘mutate’, ‘slice’,\n",
       "     ‘summarise’\n",
       "\n",
       "_\bE_\bx_\ba_\bm_\bp_\bl_\be_\bs:\n",
       "\n",
       "     iris <- as_tibble(iris) # so it prints a little nicer\n",
       "     select(iris, starts_with(\"Petal\"))\n",
       "     select(iris, ends_with(\"Width\"))\n",
       "     \n",
       "     # Move Species variable to the front\n",
       "     select(iris, Species, everything())\n",
       "     \n",
       "     # Move Sepal.Length variable to back\n",
       "     # first select all variables except Sepal.Length, then re select Sepal.Length\n",
       "     select(iris, -Sepal.Length, Sepal.Length)\n",
       "     \n",
       "     df <- as.data.frame(matrix(runif(100), nrow = 10))\n",
       "     df <- tbl_df(df[c(3, 4, 7, 1, 9, 8, 5, 2, 6, 10)])\n",
       "     select(df, V4:V6)\n",
       "     select(df, num_range(\"V\", 4:6))\n",
       "     \n",
       "     # Drop variables with -\n",
       "     select(iris, -starts_with(\"Petal\"))\n",
       "     \n",
       "     # Select the grouping variables:\n",
       "     starwars %>% group_by(gender) %>% select(group_cols())\n",
       "     \n",
       "     \n",
       "     # The .data pronoun is available:\n",
       "     select(mtcars, .data$cyl)\n",
       "     select(mtcars, .data$mpg : .data$disp)\n",
       "     \n",
       "     # However it isn't available within calls since those are evaluated\n",
       "     # outside of the data context. This would fail if run:\n",
       "     # select(mtcars, identical(.data$cyl))\n",
       "     \n",
       "     \n",
       "     # Renaming -----------------------------------------\n",
       "     # * select() keeps only the variables you specify\n",
       "     select(iris, petal_length = Petal.Length)\n",
       "     \n",
       "     # * rename() keeps all variables\n",
       "     rename(iris, petal_length = Petal.Length)\n",
       "     \n",
       "     # * select() can rename variables in a group\n",
       "     select(iris, obs = starts_with('S'))\n",
       "     \n",
       "     # Unquoting ----------------------------------------\n",
       "     \n",
       "     # Like all dplyr verbs, select() supports unquoting of symbols:\n",
       "     vars <- list(\n",
       "       var1 = sym(\"cyl\"),\n",
       "       var2 = sym(\"am\")\n",
       "     )\n",
       "     select(mtcars, !!!vars)\n",
       "     \n",
       "     # For convenience it also supports strings and character\n",
       "     # vectors. This is unlike other verbs where strings would be\n",
       "     # ambiguous.\n",
       "     vars <- c(var1 = \"cyl\", var2 =\"am\")\n",
       "     select(mtcars, !!vars)\n",
       "     rename(mtcars, !!vars)\n",
       "     "
      ]
     },
     "metadata": {},
     "output_type": "display_data"
    }
   ],
   "source": [
    "?dplyr::select"
   ]
  },
  {
   "cell_type": "markdown",
   "metadata": {},
   "source": [
    "### Create new columns (3/5)\n",
    "\n",
    "Use `mutate(df, ...)` to create new columns, usually as a function of existing columns.\n",
    "\n",
    "Suppose we wish to create a column called `no_sib`, indicating whether the passenger has no sibling aboard.\n",
    "We would write,"
   ]
  },
  {
   "cell_type": "code",
   "execution_count": 14,
   "metadata": {},
   "outputs": [
    {
     "data": {
      "text/html": [
       "<table>\n",
       "<caption>A tibble: 712 × 13</caption>\n",
       "<thead>\n",
       "\t<tr><th scope=col>PassengerId</th><th scope=col>Survived</th><th scope=col>Pclass</th><th scope=col>Name</th><th scope=col>Sex</th><th scope=col>Age</th><th scope=col>SibSp</th><th scope=col>Parch</th><th scope=col>Ticket</th><th scope=col>Fare</th><th scope=col>Cabin</th><th scope=col>Embarked</th><th scope=col>no_sib</th></tr>\n",
       "\t<tr><th scope=col>&lt;dbl&gt;</th><th scope=col>&lt;dbl&gt;</th><th scope=col>&lt;dbl&gt;</th><th scope=col>&lt;chr&gt;</th><th scope=col>&lt;fct&gt;</th><th scope=col>&lt;dbl&gt;</th><th scope=col>&lt;dbl&gt;</th><th scope=col>&lt;dbl&gt;</th><th scope=col>&lt;chr&gt;</th><th scope=col>&lt;dbl&gt;</th><th scope=col>&lt;fct&gt;</th><th scope=col>&lt;chr&gt;</th><th scope=col>&lt;lgl&gt;</th></tr>\n",
       "</thead>\n",
       "<tbody>\n",
       "\t<tr><td>1</td><td>0</td><td>3</td><td>Braund, Mr. Owen Harris                            </td><td>male  </td><td>22</td><td>1</td><td>0</td><td>A/5 21171       </td><td> 7.25</td><td>NA </td><td>S</td><td>FALSE</td></tr>\n",
       "\t<tr><td>2</td><td>1</td><td>1</td><td>Cumings, Mrs. John Bradley (Florence Briggs Thayer)</td><td>female</td><td>38</td><td>1</td><td>0</td><td>PC 17599        </td><td>71.28</td><td>C85</td><td>C</td><td>FALSE</td></tr>\n",
       "\t<tr><td>3</td><td>1</td><td>3</td><td>Heikkinen, Miss. Laina                             </td><td>female</td><td>26</td><td>0</td><td>0</td><td>STON/O2. 3101282</td><td> 7.92</td><td>NA </td><td>S</td><td> TRUE</td></tr>\n",
       "\t<tr><td>⋮</td><td>⋮</td><td>⋮</td><td>⋮</td><td>⋮</td><td>⋮</td><td>⋮</td><td>⋮</td><td>⋮</td><td>⋮</td><td>⋮</td><td>⋮</td><td>⋮</td></tr>\n",
       "\t<tr><td>888</td><td>1</td><td>1</td><td>Graham, Miss. Margaret Edith</td><td>female</td><td>19</td><td>0</td><td>0</td><td>112053</td><td>30.00</td><td>B42 </td><td>S</td><td>TRUE</td></tr>\n",
       "\t<tr><td>890</td><td>1</td><td>1</td><td>Behr, Mr. Karl Howell       </td><td>male  </td><td>26</td><td>0</td><td>0</td><td>111369</td><td>30.00</td><td>C148</td><td>C</td><td>TRUE</td></tr>\n",
       "\t<tr><td>891</td><td>0</td><td>3</td><td>Dooley, Mr. Patrick         </td><td>male  </td><td>32</td><td>0</td><td>0</td><td>370376</td><td> 7.75</td><td>NA  </td><td>Q</td><td>TRUE</td></tr>\n",
       "</tbody>\n",
       "</table>\n"
      ],
      "text/latex": [
       "A tibble: 712 × 13\n",
       "\\begin{tabular}{r|lllllllllllll}\n",
       " PassengerId & Survived & Pclass & Name & Sex & Age & SibSp & Parch & Ticket & Fare & Cabin & Embarked & no\\_sib\\\\\n",
       " <dbl> & <dbl> & <dbl> & <chr> & <fct> & <dbl> & <dbl> & <dbl> & <chr> & <dbl> & <fct> & <chr> & <lgl>\\\\\n",
       "\\hline\n",
       "\t 1 & 0 & 3 & Braund, Mr. Owen Harris                             & male   & 22 & 1 & 0 & A/5 21171        &  7.25 & NA  & S & FALSE\\\\\n",
       "\t 2 & 1 & 1 & Cumings, Mrs. John Bradley (Florence Briggs Thayer) & female & 38 & 1 & 0 & PC 17599         & 71.28 & C85 & C & FALSE\\\\\n",
       "\t 3 & 1 & 3 & Heikkinen, Miss. Laina                              & female & 26 & 0 & 0 & STON/O2. 3101282 &  7.92 & NA  & S &  TRUE\\\\\n",
       "\t ⋮ & ⋮ & ⋮ & ⋮ & ⋮ & ⋮ & ⋮ & ⋮ & ⋮ & ⋮ & ⋮ & ⋮ & ⋮\\\\\n",
       "\t 888 & 1 & 1 & Graham, Miss. Margaret Edith & female & 19 & 0 & 0 & 112053 & 30.00 & B42  & S & TRUE\\\\\n",
       "\t 890 & 1 & 1 & Behr, Mr. Karl Howell        & male   & 26 & 0 & 0 & 111369 & 30.00 & C148 & C & TRUE\\\\\n",
       "\t 891 & 0 & 3 & Dooley, Mr. Patrick          & male   & 32 & 0 & 0 & 370376 &  7.75 & NA   & Q & TRUE\\\\\n",
       "\\end{tabular}\n"
      ],
      "text/markdown": [
       "\n",
       "A tibble: 712 × 13\n",
       "\n",
       "| PassengerId &lt;dbl&gt; | Survived &lt;dbl&gt; | Pclass &lt;dbl&gt; | Name &lt;chr&gt; | Sex &lt;fct&gt; | Age &lt;dbl&gt; | SibSp &lt;dbl&gt; | Parch &lt;dbl&gt; | Ticket &lt;chr&gt; | Fare &lt;dbl&gt; | Cabin &lt;fct&gt; | Embarked &lt;chr&gt; | no_sib &lt;lgl&gt; |\n",
       "|---|---|---|---|---|---|---|---|---|---|---|---|---|\n",
       "| 1 | 0 | 3 | Braund, Mr. Owen Harris                             | male   | 22 | 1 | 0 | A/5 21171        |  7.25 | NA  | S | FALSE |\n",
       "| 2 | 1 | 1 | Cumings, Mrs. John Bradley (Florence Briggs Thayer) | female | 38 | 1 | 0 | PC 17599         | 71.28 | C85 | C | FALSE |\n",
       "| 3 | 1 | 3 | Heikkinen, Miss. Laina                              | female | 26 | 0 | 0 | STON/O2. 3101282 |  7.92 | NA  | S |  TRUE |\n",
       "| ⋮ | ⋮ | ⋮ | ⋮ | ⋮ | ⋮ | ⋮ | ⋮ | ⋮ | ⋮ | ⋮ | ⋮ | ⋮ |\n",
       "| 888 | 1 | 1 | Graham, Miss. Margaret Edith | female | 19 | 0 | 0 | 112053 | 30.00 | B42  | S | TRUE |\n",
       "| 890 | 1 | 1 | Behr, Mr. Karl Howell        | male   | 26 | 0 | 0 | 111369 | 30.00 | C148 | C | TRUE |\n",
       "| 891 | 0 | 3 | Dooley, Mr. Patrick          | male   | 32 | 0 | 0 | 370376 |  7.75 | NA   | Q | TRUE |\n",
       "\n"
      ],
      "text/plain": [
       "    PassengerId Survived Pclass\n",
       "1   1           0        3     \n",
       "2   2           1        1     \n",
       "3   3           1        3     \n",
       "⋮   ⋮           ⋮        ⋮     \n",
       "710 888         1        1     \n",
       "711 890         1        1     \n",
       "712 891         0        3     \n",
       "    Name                                                Sex    Age SibSp Parch\n",
       "1   Braund, Mr. Owen Harris                             male   22  1     0    \n",
       "2   Cumings, Mrs. John Bradley (Florence Briggs Thayer) female 38  1     0    \n",
       "3   Heikkinen, Miss. Laina                              female 26  0     0    \n",
       "⋮   ⋮                                                   ⋮      ⋮   ⋮     ⋮    \n",
       "710 Graham, Miss. Margaret Edith                        female 19  0     0    \n",
       "711 Behr, Mr. Karl Howell                               male   26  0     0    \n",
       "712 Dooley, Mr. Patrick                                 male   32  0     0    \n",
       "    Ticket           Fare  Cabin Embarked no_sib\n",
       "1   A/5 21171         7.25 NA    S        FALSE \n",
       "2   PC 17599         71.28 C85   C        FALSE \n",
       "3   STON/O2. 3101282  7.92 NA    S         TRUE \n",
       "⋮   ⋮                ⋮     ⋮     ⋮        ⋮     \n",
       "710 112053           30.00 B42   S        TRUE  \n",
       "711 111369           30.00 C148  C        TRUE  \n",
       "712 370376            7.75 NA    Q        TRUE  "
      ]
     },
     "metadata": {},
     "output_type": "display_data"
    }
   ],
   "source": [
    "mutate(passengers, no_sib = (SibSp == 0))"
   ]
  },
  {
   "cell_type": "markdown",
   "metadata": {},
   "source": [
    "We note that within a single `mutate()` function, you can refer to the new columns you've created in the previous argument.\n"
   ]
  },
  {
   "cell_type": "markdown",
   "metadata": {},
   "source": [
    "### Exercise: `mutate()`\n",
    "Create a column `num_family` representing the number of family members on board for each passenger (the sum of sibling number and parent number)"
   ]
  },
  {
   "cell_type": "code",
   "execution_count": 15,
   "metadata": {},
   "outputs": [
    {
     "data": {
      "text/html": [
       "<table>\n",
       "<caption>A tibble: 712 × 13</caption>\n",
       "<thead>\n",
       "\t<tr><th scope=col>PassengerId</th><th scope=col>Survived</th><th scope=col>Pclass</th><th scope=col>Name</th><th scope=col>Sex</th><th scope=col>Age</th><th scope=col>SibSp</th><th scope=col>Parch</th><th scope=col>Ticket</th><th scope=col>Fare</th><th scope=col>Cabin</th><th scope=col>Embarked</th><th scope=col>num_family</th></tr>\n",
       "\t<tr><th scope=col>&lt;dbl&gt;</th><th scope=col>&lt;dbl&gt;</th><th scope=col>&lt;dbl&gt;</th><th scope=col>&lt;chr&gt;</th><th scope=col>&lt;fct&gt;</th><th scope=col>&lt;dbl&gt;</th><th scope=col>&lt;dbl&gt;</th><th scope=col>&lt;dbl&gt;</th><th scope=col>&lt;chr&gt;</th><th scope=col>&lt;dbl&gt;</th><th scope=col>&lt;fct&gt;</th><th scope=col>&lt;chr&gt;</th><th scope=col>&lt;dbl&gt;</th></tr>\n",
       "</thead>\n",
       "<tbody>\n",
       "\t<tr><td>1</td><td>0</td><td>3</td><td>Braund, Mr. Owen Harris                            </td><td>male  </td><td>22</td><td>1</td><td>0</td><td>A/5 21171       </td><td> 7.25</td><td>NA </td><td>S</td><td>1</td></tr>\n",
       "\t<tr><td>2</td><td>1</td><td>1</td><td>Cumings, Mrs. John Bradley (Florence Briggs Thayer)</td><td>female</td><td>38</td><td>1</td><td>0</td><td>PC 17599        </td><td>71.28</td><td>C85</td><td>C</td><td>1</td></tr>\n",
       "\t<tr><td>3</td><td>1</td><td>3</td><td>Heikkinen, Miss. Laina                             </td><td>female</td><td>26</td><td>0</td><td>0</td><td>STON/O2. 3101282</td><td> 7.92</td><td>NA </td><td>S</td><td>0</td></tr>\n",
       "\t<tr><td>⋮</td><td>⋮</td><td>⋮</td><td>⋮</td><td>⋮</td><td>⋮</td><td>⋮</td><td>⋮</td><td>⋮</td><td>⋮</td><td>⋮</td><td>⋮</td><td>⋮</td></tr>\n",
       "\t<tr><td>888</td><td>1</td><td>1</td><td>Graham, Miss. Margaret Edith</td><td>female</td><td>19</td><td>0</td><td>0</td><td>112053</td><td>30.00</td><td>B42 </td><td>S</td><td>0</td></tr>\n",
       "\t<tr><td>890</td><td>1</td><td>1</td><td>Behr, Mr. Karl Howell       </td><td>male  </td><td>26</td><td>0</td><td>0</td><td>111369</td><td>30.00</td><td>C148</td><td>C</td><td>0</td></tr>\n",
       "\t<tr><td>891</td><td>0</td><td>3</td><td>Dooley, Mr. Patrick         </td><td>male  </td><td>32</td><td>0</td><td>0</td><td>370376</td><td> 7.75</td><td>NA  </td><td>Q</td><td>0</td></tr>\n",
       "</tbody>\n",
       "</table>\n"
      ],
      "text/latex": [
       "A tibble: 712 × 13\n",
       "\\begin{tabular}{r|lllllllllllll}\n",
       " PassengerId & Survived & Pclass & Name & Sex & Age & SibSp & Parch & Ticket & Fare & Cabin & Embarked & num\\_family\\\\\n",
       " <dbl> & <dbl> & <dbl> & <chr> & <fct> & <dbl> & <dbl> & <dbl> & <chr> & <dbl> & <fct> & <chr> & <dbl>\\\\\n",
       "\\hline\n",
       "\t 1 & 0 & 3 & Braund, Mr. Owen Harris                             & male   & 22 & 1 & 0 & A/5 21171        &  7.25 & NA  & S & 1\\\\\n",
       "\t 2 & 1 & 1 & Cumings, Mrs. John Bradley (Florence Briggs Thayer) & female & 38 & 1 & 0 & PC 17599         & 71.28 & C85 & C & 1\\\\\n",
       "\t 3 & 1 & 3 & Heikkinen, Miss. Laina                              & female & 26 & 0 & 0 & STON/O2. 3101282 &  7.92 & NA  & S & 0\\\\\n",
       "\t ⋮ & ⋮ & ⋮ & ⋮ & ⋮ & ⋮ & ⋮ & ⋮ & ⋮ & ⋮ & ⋮ & ⋮ & ⋮\\\\\n",
       "\t 888 & 1 & 1 & Graham, Miss. Margaret Edith & female & 19 & 0 & 0 & 112053 & 30.00 & B42  & S & 0\\\\\n",
       "\t 890 & 1 & 1 & Behr, Mr. Karl Howell        & male   & 26 & 0 & 0 & 111369 & 30.00 & C148 & C & 0\\\\\n",
       "\t 891 & 0 & 3 & Dooley, Mr. Patrick          & male   & 32 & 0 & 0 & 370376 &  7.75 & NA   & Q & 0\\\\\n",
       "\\end{tabular}\n"
      ],
      "text/markdown": [
       "\n",
       "A tibble: 712 × 13\n",
       "\n",
       "| PassengerId &lt;dbl&gt; | Survived &lt;dbl&gt; | Pclass &lt;dbl&gt; | Name &lt;chr&gt; | Sex &lt;fct&gt; | Age &lt;dbl&gt; | SibSp &lt;dbl&gt; | Parch &lt;dbl&gt; | Ticket &lt;chr&gt; | Fare &lt;dbl&gt; | Cabin &lt;fct&gt; | Embarked &lt;chr&gt; | num_family &lt;dbl&gt; |\n",
       "|---|---|---|---|---|---|---|---|---|---|---|---|---|\n",
       "| 1 | 0 | 3 | Braund, Mr. Owen Harris                             | male   | 22 | 1 | 0 | A/5 21171        |  7.25 | NA  | S | 1 |\n",
       "| 2 | 1 | 1 | Cumings, Mrs. John Bradley (Florence Briggs Thayer) | female | 38 | 1 | 0 | PC 17599         | 71.28 | C85 | C | 1 |\n",
       "| 3 | 1 | 3 | Heikkinen, Miss. Laina                              | female | 26 | 0 | 0 | STON/O2. 3101282 |  7.92 | NA  | S | 0 |\n",
       "| ⋮ | ⋮ | ⋮ | ⋮ | ⋮ | ⋮ | ⋮ | ⋮ | ⋮ | ⋮ | ⋮ | ⋮ | ⋮ |\n",
       "| 888 | 1 | 1 | Graham, Miss. Margaret Edith | female | 19 | 0 | 0 | 112053 | 30.00 | B42  | S | 0 |\n",
       "| 890 | 1 | 1 | Behr, Mr. Karl Howell        | male   | 26 | 0 | 0 | 111369 | 30.00 | C148 | C | 0 |\n",
       "| 891 | 0 | 3 | Dooley, Mr. Patrick          | male   | 32 | 0 | 0 | 370376 |  7.75 | NA   | Q | 0 |\n",
       "\n"
      ],
      "text/plain": [
       "    PassengerId Survived Pclass\n",
       "1   1           0        3     \n",
       "2   2           1        1     \n",
       "3   3           1        3     \n",
       "⋮   ⋮           ⋮        ⋮     \n",
       "710 888         1        1     \n",
       "711 890         1        1     \n",
       "712 891         0        3     \n",
       "    Name                                                Sex    Age SibSp Parch\n",
       "1   Braund, Mr. Owen Harris                             male   22  1     0    \n",
       "2   Cumings, Mrs. John Bradley (Florence Briggs Thayer) female 38  1     0    \n",
       "3   Heikkinen, Miss. Laina                              female 26  0     0    \n",
       "⋮   ⋮                                                   ⋮      ⋮   ⋮     ⋮    \n",
       "710 Graham, Miss. Margaret Edith                        female 19  0     0    \n",
       "711 Behr, Mr. Karl Howell                               male   26  0     0    \n",
       "712 Dooley, Mr. Patrick                                 male   32  0     0    \n",
       "    Ticket           Fare  Cabin Embarked num_family\n",
       "1   A/5 21171         7.25 NA    S        1         \n",
       "2   PC 17599         71.28 C85   C        1         \n",
       "3   STON/O2. 3101282  7.92 NA    S        0         \n",
       "⋮   ⋮                ⋮     ⋮     ⋮        ⋮         \n",
       "710 112053           30.00 B42   S        0         \n",
       "711 111369           30.00 C148  C        0         \n",
       "712 370376            7.75 NA    Q        0         "
      ]
     },
     "metadata": {},
     "output_type": "display_data"
    }
   ],
   "source": [
    "# YOUR CODE HERE\n",
    "mutate(passengers, num_family = SibSp + Parch)"
   ]
  },
  {
   "cell_type": "markdown",
   "metadata": {},
   "source": [
    "### Sorting (4/5)\n",
    "\n",
    "Use `arrange(df, ...)` to reorder the rows of a data frame by the value of specified columns.\n",
    "Multiple conditions are arranged from left to right."
   ]
  },
  {
   "cell_type": "code",
   "execution_count": 16,
   "metadata": {},
   "outputs": [
    {
     "data": {
      "text/html": [
       "<table>\n",
       "<caption>A tibble: 712 × 12</caption>\n",
       "<thead>\n",
       "\t<tr><th scope=col>PassengerId</th><th scope=col>Survived</th><th scope=col>Pclass</th><th scope=col>Name</th><th scope=col>Sex</th><th scope=col>Age</th><th scope=col>SibSp</th><th scope=col>Parch</th><th scope=col>Ticket</th><th scope=col>Fare</th><th scope=col>Cabin</th><th scope=col>Embarked</th></tr>\n",
       "\t<tr><th scope=col>&lt;dbl&gt;</th><th scope=col>&lt;dbl&gt;</th><th scope=col>&lt;dbl&gt;</th><th scope=col>&lt;chr&gt;</th><th scope=col>&lt;fct&gt;</th><th scope=col>&lt;dbl&gt;</th><th scope=col>&lt;dbl&gt;</th><th scope=col>&lt;dbl&gt;</th><th scope=col>&lt;chr&gt;</th><th scope=col>&lt;dbl&gt;</th><th scope=col>&lt;fct&gt;</th><th scope=col>&lt;chr&gt;</th></tr>\n",
       "</thead>\n",
       "<tbody>\n",
       "\t<tr><td>731</td><td>1</td><td>1</td><td>Allen, Miss. Elisabeth Walton </td><td>female</td><td>29.00</td><td>0</td><td>0</td><td>24160 </td><td>211</td><td>B5     </td><td>S</td></tr>\n",
       "\t<tr><td>306</td><td>1</td><td>1</td><td>Allison, Master. Hudson Trevor</td><td>male  </td><td> 0.92</td><td>1</td><td>2</td><td>113781</td><td>152</td><td>C22 C26</td><td>S</td></tr>\n",
       "\t<tr><td>298</td><td>0</td><td>1</td><td>Allison, Miss. Helen Loraine  </td><td>female</td><td> 2.00</td><td>1</td><td>2</td><td>113781</td><td>152</td><td>C22 C26</td><td>S</td></tr>\n",
       "\t<tr><td>⋮</td><td>⋮</td><td>⋮</td><td>⋮</td><td>⋮</td><td>⋮</td><td>⋮</td><td>⋮</td><td>⋮</td><td>⋮</td><td>⋮</td><td>⋮</td></tr>\n",
       "\t<tr><td>204</td><td>0</td><td>3</td><td>Youseff, Mr. Gerious</td><td>male  </td><td>45.5</td><td>0</td><td>0</td><td>2628  </td><td> 7.22</td><td>NA</td><td>C</td></tr>\n",
       "\t<tr><td>112</td><td>0</td><td>3</td><td>Zabour, Miss. Hileni</td><td>female</td><td>14.5</td><td>1</td><td>0</td><td>2665  </td><td>14.45</td><td>NA</td><td>C</td></tr>\n",
       "\t<tr><td>423</td><td>0</td><td>3</td><td>Zimmerman, Mr. Leo  </td><td>male  </td><td>29.0</td><td>0</td><td>0</td><td>315082</td><td> 7.88</td><td>NA</td><td>S</td></tr>\n",
       "</tbody>\n",
       "</table>\n"
      ],
      "text/latex": [
       "A tibble: 712 × 12\n",
       "\\begin{tabular}{r|llllllllllll}\n",
       " PassengerId & Survived & Pclass & Name & Sex & Age & SibSp & Parch & Ticket & Fare & Cabin & Embarked\\\\\n",
       " <dbl> & <dbl> & <dbl> & <chr> & <fct> & <dbl> & <dbl> & <dbl> & <chr> & <dbl> & <fct> & <chr>\\\\\n",
       "\\hline\n",
       "\t 731 & 1 & 1 & Allen, Miss. Elisabeth Walton  & female & 29.00 & 0 & 0 & 24160  & 211 & B5      & S\\\\\n",
       "\t 306 & 1 & 1 & Allison, Master. Hudson Trevor & male   &  0.92 & 1 & 2 & 113781 & 152 & C22 C26 & S\\\\\n",
       "\t 298 & 0 & 1 & Allison, Miss. Helen Loraine   & female &  2.00 & 1 & 2 & 113781 & 152 & C22 C26 & S\\\\\n",
       "\t ⋮ & ⋮ & ⋮ & ⋮ & ⋮ & ⋮ & ⋮ & ⋮ & ⋮ & ⋮ & ⋮ & ⋮\\\\\n",
       "\t 204 & 0 & 3 & Youseff, Mr. Gerious & male   & 45.5 & 0 & 0 & 2628   &  7.22 & NA & C\\\\\n",
       "\t 112 & 0 & 3 & Zabour, Miss. Hileni & female & 14.5 & 1 & 0 & 2665   & 14.45 & NA & C\\\\\n",
       "\t 423 & 0 & 3 & Zimmerman, Mr. Leo   & male   & 29.0 & 0 & 0 & 315082 &  7.88 & NA & S\\\\\n",
       "\\end{tabular}\n"
      ],
      "text/markdown": [
       "\n",
       "A tibble: 712 × 12\n",
       "\n",
       "| PassengerId &lt;dbl&gt; | Survived &lt;dbl&gt; | Pclass &lt;dbl&gt; | Name &lt;chr&gt; | Sex &lt;fct&gt; | Age &lt;dbl&gt; | SibSp &lt;dbl&gt; | Parch &lt;dbl&gt; | Ticket &lt;chr&gt; | Fare &lt;dbl&gt; | Cabin &lt;fct&gt; | Embarked &lt;chr&gt; |\n",
       "|---|---|---|---|---|---|---|---|---|---|---|---|\n",
       "| 731 | 1 | 1 | Allen, Miss. Elisabeth Walton  | female | 29.00 | 0 | 0 | 24160  | 211 | B5      | S |\n",
       "| 306 | 1 | 1 | Allison, Master. Hudson Trevor | male   |  0.92 | 1 | 2 | 113781 | 152 | C22 C26 | S |\n",
       "| 298 | 0 | 1 | Allison, Miss. Helen Loraine   | female |  2.00 | 1 | 2 | 113781 | 152 | C22 C26 | S |\n",
       "| ⋮ | ⋮ | ⋮ | ⋮ | ⋮ | ⋮ | ⋮ | ⋮ | ⋮ | ⋮ | ⋮ | ⋮ |\n",
       "| 204 | 0 | 3 | Youseff, Mr. Gerious | male   | 45.5 | 0 | 0 | 2628   |  7.22 | NA | C |\n",
       "| 112 | 0 | 3 | Zabour, Miss. Hileni | female | 14.5 | 1 | 0 | 2665   | 14.45 | NA | C |\n",
       "| 423 | 0 | 3 | Zimmerman, Mr. Leo   | male   | 29.0 | 0 | 0 | 315082 |  7.88 | NA | S |\n",
       "\n"
      ],
      "text/plain": [
       "    PassengerId Survived Pclass Name                           Sex    Age  \n",
       "1   731         1        1      Allen, Miss. Elisabeth Walton  female 29.00\n",
       "2   306         1        1      Allison, Master. Hudson Trevor male    0.92\n",
       "3   298         0        1      Allison, Miss. Helen Loraine   female  2.00\n",
       "⋮   ⋮           ⋮        ⋮      ⋮                              ⋮      ⋮    \n",
       "710 204         0        3      Youseff, Mr. Gerious           male   45.5 \n",
       "711 112         0        3      Zabour, Miss. Hileni           female 14.5 \n",
       "712 423         0        3      Zimmerman, Mr. Leo             male   29.0 \n",
       "    SibSp Parch Ticket Fare  Cabin   Embarked\n",
       "1   0     0     24160  211   B5      S       \n",
       "2   1     2     113781 152   C22 C26 S       \n",
       "3   1     2     113781 152   C22 C26 S       \n",
       "⋮   ⋮     ⋮     ⋮      ⋮     ⋮       ⋮       \n",
       "710 0     0     2628    7.22 NA      C       \n",
       "711 1     0     2665   14.45 NA      C       \n",
       "712 0     0     315082  7.88 NA      S       "
      ]
     },
     "metadata": {},
     "output_type": "display_data"
    }
   ],
   "source": [
    "arrange(passengers, Pclass, Name)"
   ]
  },
  {
   "cell_type": "markdown",
   "metadata": {},
   "source": [
    "Use `desc()` around columns that you want to sort in `desc`ending order."
   ]
  },
  {
   "cell_type": "code",
   "execution_count": 17,
   "metadata": {},
   "outputs": [
    {
     "data": {
      "text/html": [
       "<table>\n",
       "<caption>A tibble: 712 × 12</caption>\n",
       "<thead>\n",
       "\t<tr><th scope=col>PassengerId</th><th scope=col>Survived</th><th scope=col>Pclass</th><th scope=col>Name</th><th scope=col>Sex</th><th scope=col>Age</th><th scope=col>SibSp</th><th scope=col>Parch</th><th scope=col>Ticket</th><th scope=col>Fare</th><th scope=col>Cabin</th><th scope=col>Embarked</th></tr>\n",
       "\t<tr><th scope=col>&lt;dbl&gt;</th><th scope=col>&lt;dbl&gt;</th><th scope=col>&lt;dbl&gt;</th><th scope=col>&lt;chr&gt;</th><th scope=col>&lt;fct&gt;</th><th scope=col>&lt;dbl&gt;</th><th scope=col>&lt;dbl&gt;</th><th scope=col>&lt;dbl&gt;</th><th scope=col>&lt;chr&gt;</th><th scope=col>&lt;dbl&gt;</th><th scope=col>&lt;fct&gt;</th><th scope=col>&lt;chr&gt;</th></tr>\n",
       "</thead>\n",
       "<tbody>\n",
       "\t<tr><td>326</td><td>1</td><td>1</td><td>Young, Miss. Marie Grice   </td><td>female</td><td>36</td><td>0</td><td>0</td><td>PC 17760</td><td>135.6</td><td>C32</td><td>C</td></tr>\n",
       "\t<tr><td>556</td><td>0</td><td>1</td><td>Wright, Mr. George         </td><td>male  </td><td>62</td><td>0</td><td>0</td><td>113807  </td><td> 26.6</td><td>NA </td><td>S</td></tr>\n",
       "\t<tr><td>156</td><td>0</td><td>1</td><td>Williams, Mr. Charles Duane</td><td>male  </td><td>51</td><td>0</td><td>1</td><td>PC 17597</td><td> 61.4</td><td>NA </td><td>C</td></tr>\n",
       "\t<tr><td>⋮</td><td>⋮</td><td>⋮</td><td>⋮</td><td>⋮</td><td>⋮</td><td>⋮</td><td>⋮</td><td>⋮</td><td>⋮</td><td>⋮</td><td>⋮</td></tr>\n",
       "\t<tr><td>280</td><td>1</td><td>3</td><td>Abbott, Mrs. Stanton (Rosa Hunt)</td><td>female</td><td>35</td><td>1</td><td>1</td><td>C.A. 2673</td><td>20.25</td><td>NA</td><td>S</td></tr>\n",
       "\t<tr><td>747</td><td>0</td><td>3</td><td>Abbott, Mr. Rossmore Edward     </td><td>male  </td><td>16</td><td>1</td><td>1</td><td>C.A. 2673</td><td>20.25</td><td>NA</td><td>S</td></tr>\n",
       "\t<tr><td>846</td><td>0</td><td>3</td><td>Abbing, Mr. Anthony             </td><td>male  </td><td>42</td><td>0</td><td>0</td><td>C.A. 5547</td><td> 7.55</td><td>NA</td><td>S</td></tr>\n",
       "</tbody>\n",
       "</table>\n"
      ],
      "text/latex": [
       "A tibble: 712 × 12\n",
       "\\begin{tabular}{r|llllllllllll}\n",
       " PassengerId & Survived & Pclass & Name & Sex & Age & SibSp & Parch & Ticket & Fare & Cabin & Embarked\\\\\n",
       " <dbl> & <dbl> & <dbl> & <chr> & <fct> & <dbl> & <dbl> & <dbl> & <chr> & <dbl> & <fct> & <chr>\\\\\n",
       "\\hline\n",
       "\t 326 & 1 & 1 & Young, Miss. Marie Grice    & female & 36 & 0 & 0 & PC 17760 & 135.6 & C32 & C\\\\\n",
       "\t 556 & 0 & 1 & Wright, Mr. George          & male   & 62 & 0 & 0 & 113807   &  26.6 & NA  & S\\\\\n",
       "\t 156 & 0 & 1 & Williams, Mr. Charles Duane & male   & 51 & 0 & 1 & PC 17597 &  61.4 & NA  & C\\\\\n",
       "\t ⋮ & ⋮ & ⋮ & ⋮ & ⋮ & ⋮ & ⋮ & ⋮ & ⋮ & ⋮ & ⋮ & ⋮\\\\\n",
       "\t 280 & 1 & 3 & Abbott, Mrs. Stanton (Rosa Hunt) & female & 35 & 1 & 1 & C.A. 2673 & 20.25 & NA & S\\\\\n",
       "\t 747 & 0 & 3 & Abbott, Mr. Rossmore Edward      & male   & 16 & 1 & 1 & C.A. 2673 & 20.25 & NA & S\\\\\n",
       "\t 846 & 0 & 3 & Abbing, Mr. Anthony              & male   & 42 & 0 & 0 & C.A. 5547 &  7.55 & NA & S\\\\\n",
       "\\end{tabular}\n"
      ],
      "text/markdown": [
       "\n",
       "A tibble: 712 × 12\n",
       "\n",
       "| PassengerId &lt;dbl&gt; | Survived &lt;dbl&gt; | Pclass &lt;dbl&gt; | Name &lt;chr&gt; | Sex &lt;fct&gt; | Age &lt;dbl&gt; | SibSp &lt;dbl&gt; | Parch &lt;dbl&gt; | Ticket &lt;chr&gt; | Fare &lt;dbl&gt; | Cabin &lt;fct&gt; | Embarked &lt;chr&gt; |\n",
       "|---|---|---|---|---|---|---|---|---|---|---|---|\n",
       "| 326 | 1 | 1 | Young, Miss. Marie Grice    | female | 36 | 0 | 0 | PC 17760 | 135.6 | C32 | C |\n",
       "| 556 | 0 | 1 | Wright, Mr. George          | male   | 62 | 0 | 0 | 113807   |  26.6 | NA  | S |\n",
       "| 156 | 0 | 1 | Williams, Mr. Charles Duane | male   | 51 | 0 | 1 | PC 17597 |  61.4 | NA  | C |\n",
       "| ⋮ | ⋮ | ⋮ | ⋮ | ⋮ | ⋮ | ⋮ | ⋮ | ⋮ | ⋮ | ⋮ | ⋮ |\n",
       "| 280 | 1 | 3 | Abbott, Mrs. Stanton (Rosa Hunt) | female | 35 | 1 | 1 | C.A. 2673 | 20.25 | NA | S |\n",
       "| 747 | 0 | 3 | Abbott, Mr. Rossmore Edward      | male   | 16 | 1 | 1 | C.A. 2673 | 20.25 | NA | S |\n",
       "| 846 | 0 | 3 | Abbing, Mr. Anthony              | male   | 42 | 0 | 0 | C.A. 5547 |  7.55 | NA | S |\n",
       "\n"
      ],
      "text/plain": [
       "    PassengerId Survived Pclass Name                             Sex    Age\n",
       "1   326         1        1      Young, Miss. Marie Grice         female 36 \n",
       "2   556         0        1      Wright, Mr. George               male   62 \n",
       "3   156         0        1      Williams, Mr. Charles Duane      male   51 \n",
       "⋮   ⋮           ⋮        ⋮      ⋮                                ⋮      ⋮  \n",
       "710 280         1        3      Abbott, Mrs. Stanton (Rosa Hunt) female 35 \n",
       "711 747         0        3      Abbott, Mr. Rossmore Edward      male   16 \n",
       "712 846         0        3      Abbing, Mr. Anthony              male   42 \n",
       "    SibSp Parch Ticket    Fare  Cabin Embarked\n",
       "1   0     0     PC 17760  135.6 C32   C       \n",
       "2   0     0     113807     26.6 NA    S       \n",
       "3   0     1     PC 17597   61.4 NA    C       \n",
       "⋮   ⋮     ⋮     ⋮         ⋮     ⋮     ⋮       \n",
       "710 1     1     C.A. 2673 20.25 NA    S       \n",
       "711 1     1     C.A. 2673 20.25 NA    S       \n",
       "712 0     0     C.A. 5547  7.55 NA    S       "
      ]
     },
     "metadata": {},
     "output_type": "display_data"
    }
   ],
   "source": [
    "arrange(passengers, Pclass, desc(Name))"
   ]
  },
  {
   "cell_type": "markdown",
   "metadata": {},
   "source": [
    "### Aggregating (5/5)\n",
    "\n",
    "Use `summarize(df, ...)` to aggregate multiple rows into a single row. Unlike `mutate()`, function that are used in `summarize()` must return a single value (i.e., \"aggregate\" the provided vector)\n",
    "\n",
    "For example, to find the min, mean, and max age of all passengers,"
   ]
  },
  {
   "cell_type": "code",
   "execution_count": 18,
   "metadata": {},
   "outputs": [
    {
     "data": {
      "text/html": [
       "<table>\n",
       "<caption>A tibble: 1 × 3</caption>\n",
       "<thead>\n",
       "\t<tr><th scope=col>min_height</th><th scope=col>avg_height</th><th scope=col>max_height</th></tr>\n",
       "\t<tr><th scope=col>&lt;dbl&gt;</th><th scope=col>&lt;dbl&gt;</th><th scope=col>&lt;dbl&gt;</th></tr>\n",
       "</thead>\n",
       "<tbody>\n",
       "\t<tr><td>0.42</td><td>29.6</td><td>80</td></tr>\n",
       "</tbody>\n",
       "</table>\n"
      ],
      "text/latex": [
       "A tibble: 1 × 3\n",
       "\\begin{tabular}{r|lll}\n",
       " min\\_height & avg\\_height & max\\_height\\\\\n",
       " <dbl> & <dbl> & <dbl>\\\\\n",
       "\\hline\n",
       "\t 0.42 & 29.6 & 80\\\\\n",
       "\\end{tabular}\n"
      ],
      "text/markdown": [
       "\n",
       "A tibble: 1 × 3\n",
       "\n",
       "| min_height &lt;dbl&gt; | avg_height &lt;dbl&gt; | max_height &lt;dbl&gt; |\n",
       "|---|---|---|\n",
       "| 0.42 | 29.6 | 80 |\n",
       "\n"
      ],
      "text/plain": [
       "  min_height avg_height max_height\n",
       "1 0.42       29.6       80        "
      ]
     },
     "metadata": {},
     "output_type": "display_data"
    }
   ],
   "source": [
    "summarize(passengers,\n",
    "          min_height = min(Age),\n",
    "          avg_height = mean(Age),\n",
    "          max_height = max(Age))"
   ]
  },
  {
   "cell_type": "markdown",
   "metadata": {},
   "source": [
    "`dplyr` also provides a special function `n()` which will evaluate to the number of rows within a `dplyr` verb.\n",
    "\n",
    "For example, to count how many passengers (rows) there are in our dataset in total, "
   ]
  },
  {
   "cell_type": "code",
   "execution_count": 19,
   "metadata": {},
   "outputs": [
    {
     "data": {
      "text/html": [
       "<table>\n",
       "<caption>A tibble: 1 × 1</caption>\n",
       "<thead>\n",
       "\t<tr><th scope=col>N</th></tr>\n",
       "\t<tr><th scope=col>&lt;int&gt;</th></tr>\n",
       "</thead>\n",
       "<tbody>\n",
       "\t<tr><td>712</td></tr>\n",
       "</tbody>\n",
       "</table>\n"
      ],
      "text/latex": [
       "A tibble: 1 × 1\n",
       "\\begin{tabular}{r|l}\n",
       " N\\\\\n",
       " <int>\\\\\n",
       "\\hline\n",
       "\t 712\\\\\n",
       "\\end{tabular}\n"
      ],
      "text/markdown": [
       "\n",
       "A tibble: 1 × 1\n",
       "\n",
       "| N &lt;int&gt; |\n",
       "|---|\n",
       "| 712 |\n",
       "\n"
      ],
      "text/plain": [
       "  N  \n",
       "1 712"
      ]
     },
     "metadata": {},
     "output_type": "display_data"
    }
   ],
   "source": [
    "summarize(passengers, N = n())"
   ]
  },
  {
   "cell_type": "markdown",
   "metadata": {},
   "source": [
    "### Exercise: `summarize()`\n",
    "Calculate the mean, median and standard deviation of `Fare`.\n",
    "(hint: using `median` and `sd` function for median and standard deviation respectively) "
   ]
  },
  {
   "cell_type": "code",
   "execution_count": 20,
   "metadata": {},
   "outputs": [
    {
     "data": {
      "text/html": [
       "<table>\n",
       "<caption>A tibble: 1 × 3</caption>\n",
       "<thead>\n",
       "\t<tr><th scope=col>mean</th><th scope=col>median</th><th scope=col>sd</th></tr>\n",
       "\t<tr><th scope=col>&lt;dbl&gt;</th><th scope=col>&lt;dbl&gt;</th><th scope=col>&lt;dbl&gt;</th></tr>\n",
       "</thead>\n",
       "<tbody>\n",
       "\t<tr><td>34.6</td><td>15.6</td><td>52.9</td></tr>\n",
       "</tbody>\n",
       "</table>\n"
      ],
      "text/latex": [
       "A tibble: 1 × 3\n",
       "\\begin{tabular}{r|lll}\n",
       " mean & median & sd\\\\\n",
       " <dbl> & <dbl> & <dbl>\\\\\n",
       "\\hline\n",
       "\t 34.6 & 15.6 & 52.9\\\\\n",
       "\\end{tabular}\n"
      ],
      "text/markdown": [
       "\n",
       "A tibble: 1 × 3\n",
       "\n",
       "| mean &lt;dbl&gt; | median &lt;dbl&gt; | sd &lt;dbl&gt; |\n",
       "|---|---|---|\n",
       "| 34.6 | 15.6 | 52.9 |\n",
       "\n"
      ],
      "text/plain": [
       "  mean median sd  \n",
       "1 34.6 15.6   52.9"
      ]
     },
     "metadata": {},
     "output_type": "display_data"
    }
   ],
   "source": [
    "# YOUR CODE HERE\n",
    "summarize(passengers,\n",
    "          mean = mean(Fare),\n",
    "          median = median(Fare),\n",
    "          sd = sd(Fare))"
   ]
  },
  {
   "cell_type": "markdown",
   "metadata": {},
   "source": [
    "### Grouping (Split-apply-combine)\n",
    "\n",
    "Now that we've covered the five core verbs, we should be able to manipulate data to our heart's desires, yes?\n",
    "\n",
    "Then, how about:\n",
    "\n",
    "* The number of passengers for each `Sex`?\n",
    "* Survival rates in each `Pclass`?\n",
    "* Number of each `Pclass` for passengers embarked on each port?\n",
    "\n",
    "As an example, let's just consider the number of passengers for each `Sex`\n",
    "\n",
    "A natural, but _**tedious**_ way to compute this would look something like this:"
   ]
  },
  {
   "cell_type": "code",
   "execution_count": 21,
   "metadata": {},
   "outputs": [
    {
     "data": {
      "text/html": [
       "<dl class=dl-horizontal>\n",
       "\t<dt>males</dt>\n",
       "\t\t<dd>453</dd>\n",
       "\t<dt>females</dt>\n",
       "\t\t<dd>259</dd>\n",
       "</dl>\n"
      ],
      "text/latex": [
       "\\begin{description*}\n",
       "\\item[males] 453\n",
       "\\item[females] 259\n",
       "\\end{description*}\n"
      ],
      "text/markdown": [
       "males\n",
       ":   453females\n",
       ":   259\n",
       "\n"
      ],
      "text/plain": [
       "  males females \n",
       "    453     259 "
      ]
     },
     "metadata": {},
     "output_type": "display_data"
    }
   ],
   "source": [
    "# NOTE: Code in this cell is intended to be an example of a BAD way to compute this.\n",
    "#       This is purely for illustrative purposes, and should NEVER EVER be re-used, in any context.\n",
    "male_passengers <- filter(passengers, Sex == \"male\")\n",
    "female_passengers <- filter(passengers, Sex == \"female\")\n",
    "\n",
    "N_males <- summarize(male_passengers, N = n())\n",
    "N_females <- summarize(female_passengers, N = n())\n",
    "\n",
    "c(males = N_males$N, females = N_females$N)"
   ]
  },
  {
   "cell_type": "markdown",
   "metadata": {},
   "source": [
    "This style of code can easily get out of hand, and would be a nightmare to maintain! \n",
    "(e.g., what happens if we get a new dataset where we want to count the number of rows for 8 different categories rather than just 2 categories like `male` and `female`?)\n",
    "\n",
    "As horrible as the above code is, it is useful in highlighting a common pattern that emerges when manipulating data:\n",
    "\n",
    "1. **Split**: The data are split into smaller pieces of data, according to one (or more) column. \n",
    "   In this case, we've split the data by the `Sex` column.\n",
    "1. **Apply**: Some operation is applied to each of the smaller pieces.\n",
    "   In this case, we've simply counted the number of rows of each piece using `summarize()` and `n()`.\n",
    "1. **Combine**: The results of the previous **apply** are combined to some final data structure.\n",
    "   In the above case, for simplicity, we've combinded the result as a vector; but in practice we usually want to keep everything in the form of a data frame."
   ]
  },
  {
   "cell_type": "markdown",
   "metadata": {},
   "source": [
    "This pattern in data manipulation is so common, that there is a `dplyr` verb for it. \n",
    "This is the `group_by` verb.\n",
    "\n",
    "On it's own, `group_by` makes no visible changes to a data frame, other than marking the data frame as being \"grouped\".\n",
    "The difference is only made apparent when we apply some other verb to a grouped data frame.\n",
    "\n",
    "Note that none of the `dplyr` verbs make any changes to the original data frame! This is very intentional. \n",
    "So, for now, we need to save the \"grouped\" data as a new variable for our changes to have effect (but we'll see a more convenient approach to this later)."
   ]
  },
  {
   "cell_type": "code",
   "execution_count": 22,
   "metadata": {},
   "outputs": [
    {
     "data": {
      "text/html": [
       "<table>\n",
       "<caption>A tibble: 712 × 12</caption>\n",
       "<thead>\n",
       "\t<tr><th scope=col>PassengerId</th><th scope=col>Survived</th><th scope=col>Pclass</th><th scope=col>Name</th><th scope=col>Sex</th><th scope=col>Age</th><th scope=col>SibSp</th><th scope=col>Parch</th><th scope=col>Ticket</th><th scope=col>Fare</th><th scope=col>Cabin</th><th scope=col>Embarked</th></tr>\n",
       "\t<tr><th scope=col>&lt;dbl&gt;</th><th scope=col>&lt;dbl&gt;</th><th scope=col>&lt;dbl&gt;</th><th scope=col>&lt;chr&gt;</th><th scope=col>&lt;fct&gt;</th><th scope=col>&lt;dbl&gt;</th><th scope=col>&lt;dbl&gt;</th><th scope=col>&lt;dbl&gt;</th><th scope=col>&lt;chr&gt;</th><th scope=col>&lt;dbl&gt;</th><th scope=col>&lt;fct&gt;</th><th scope=col>&lt;chr&gt;</th></tr>\n",
       "</thead>\n",
       "<tbody>\n",
       "\t<tr><td>1</td><td>0</td><td>3</td><td>Braund, Mr. Owen Harris                            </td><td>male  </td><td>22</td><td>1</td><td>0</td><td>A/5 21171       </td><td> 7.25</td><td>NA </td><td>S</td></tr>\n",
       "\t<tr><td>2</td><td>1</td><td>1</td><td>Cumings, Mrs. John Bradley (Florence Briggs Thayer)</td><td>female</td><td>38</td><td>1</td><td>0</td><td>PC 17599        </td><td>71.28</td><td>C85</td><td>C</td></tr>\n",
       "\t<tr><td>3</td><td>1</td><td>3</td><td>Heikkinen, Miss. Laina                             </td><td>female</td><td>26</td><td>0</td><td>0</td><td>STON/O2. 3101282</td><td> 7.92</td><td>NA </td><td>S</td></tr>\n",
       "\t<tr><td>⋮</td><td>⋮</td><td>⋮</td><td>⋮</td><td>⋮</td><td>⋮</td><td>⋮</td><td>⋮</td><td>⋮</td><td>⋮</td><td>⋮</td><td>⋮</td></tr>\n",
       "\t<tr><td>888</td><td>1</td><td>1</td><td>Graham, Miss. Margaret Edith</td><td>female</td><td>19</td><td>0</td><td>0</td><td>112053</td><td>30.00</td><td>B42 </td><td>S</td></tr>\n",
       "\t<tr><td>890</td><td>1</td><td>1</td><td>Behr, Mr. Karl Howell       </td><td>male  </td><td>26</td><td>0</td><td>0</td><td>111369</td><td>30.00</td><td>C148</td><td>C</td></tr>\n",
       "\t<tr><td>891</td><td>0</td><td>3</td><td>Dooley, Mr. Patrick         </td><td>male  </td><td>32</td><td>0</td><td>0</td><td>370376</td><td> 7.75</td><td>NA  </td><td>Q</td></tr>\n",
       "</tbody>\n",
       "</table>\n"
      ],
      "text/latex": [
       "A tibble: 712 × 12\n",
       "\\begin{tabular}{r|llllllllllll}\n",
       " PassengerId & Survived & Pclass & Name & Sex & Age & SibSp & Parch & Ticket & Fare & Cabin & Embarked\\\\\n",
       " <dbl> & <dbl> & <dbl> & <chr> & <fct> & <dbl> & <dbl> & <dbl> & <chr> & <dbl> & <fct> & <chr>\\\\\n",
       "\\hline\n",
       "\t 1 & 0 & 3 & Braund, Mr. Owen Harris                             & male   & 22 & 1 & 0 & A/5 21171        &  7.25 & NA  & S\\\\\n",
       "\t 2 & 1 & 1 & Cumings, Mrs. John Bradley (Florence Briggs Thayer) & female & 38 & 1 & 0 & PC 17599         & 71.28 & C85 & C\\\\\n",
       "\t 3 & 1 & 3 & Heikkinen, Miss. Laina                              & female & 26 & 0 & 0 & STON/O2. 3101282 &  7.92 & NA  & S\\\\\n",
       "\t ⋮ & ⋮ & ⋮ & ⋮ & ⋮ & ⋮ & ⋮ & ⋮ & ⋮ & ⋮ & ⋮ & ⋮\\\\\n",
       "\t 888 & 1 & 1 & Graham, Miss. Margaret Edith & female & 19 & 0 & 0 & 112053 & 30.00 & B42  & S\\\\\n",
       "\t 890 & 1 & 1 & Behr, Mr. Karl Howell        & male   & 26 & 0 & 0 & 111369 & 30.00 & C148 & C\\\\\n",
       "\t 891 & 0 & 3 & Dooley, Mr. Patrick          & male   & 32 & 0 & 0 & 370376 &  7.75 & NA   & Q\\\\\n",
       "\\end{tabular}\n"
      ],
      "text/markdown": [
       "\n",
       "A tibble: 712 × 12\n",
       "\n",
       "| PassengerId &lt;dbl&gt; | Survived &lt;dbl&gt; | Pclass &lt;dbl&gt; | Name &lt;chr&gt; | Sex &lt;fct&gt; | Age &lt;dbl&gt; | SibSp &lt;dbl&gt; | Parch &lt;dbl&gt; | Ticket &lt;chr&gt; | Fare &lt;dbl&gt; | Cabin &lt;fct&gt; | Embarked &lt;chr&gt; |\n",
       "|---|---|---|---|---|---|---|---|---|---|---|---|\n",
       "| 1 | 0 | 3 | Braund, Mr. Owen Harris                             | male   | 22 | 1 | 0 | A/5 21171        |  7.25 | NA  | S |\n",
       "| 2 | 1 | 1 | Cumings, Mrs. John Bradley (Florence Briggs Thayer) | female | 38 | 1 | 0 | PC 17599         | 71.28 | C85 | C |\n",
       "| 3 | 1 | 3 | Heikkinen, Miss. Laina                              | female | 26 | 0 | 0 | STON/O2. 3101282 |  7.92 | NA  | S |\n",
       "| ⋮ | ⋮ | ⋮ | ⋮ | ⋮ | ⋮ | ⋮ | ⋮ | ⋮ | ⋮ | ⋮ | ⋮ |\n",
       "| 888 | 1 | 1 | Graham, Miss. Margaret Edith | female | 19 | 0 | 0 | 112053 | 30.00 | B42  | S |\n",
       "| 890 | 1 | 1 | Behr, Mr. Karl Howell        | male   | 26 | 0 | 0 | 111369 | 30.00 | C148 | C |\n",
       "| 891 | 0 | 3 | Dooley, Mr. Patrick          | male   | 32 | 0 | 0 | 370376 |  7.75 | NA   | Q |\n",
       "\n"
      ],
      "text/plain": [
       "    PassengerId Survived Pclass\n",
       "1   1           0        3     \n",
       "2   2           1        1     \n",
       "3   3           1        3     \n",
       "⋮   ⋮           ⋮        ⋮     \n",
       "710 888         1        1     \n",
       "711 890         1        1     \n",
       "712 891         0        3     \n",
       "    Name                                                Sex    Age SibSp Parch\n",
       "1   Braund, Mr. Owen Harris                             male   22  1     0    \n",
       "2   Cumings, Mrs. John Bradley (Florence Briggs Thayer) female 38  1     0    \n",
       "3   Heikkinen, Miss. Laina                              female 26  0     0    \n",
       "⋮   ⋮                                                   ⋮      ⋮   ⋮     ⋮    \n",
       "710 Graham, Miss. Margaret Edith                        female 19  0     0    \n",
       "711 Behr, Mr. Karl Howell                               male   26  0     0    \n",
       "712 Dooley, Mr. Patrick                                 male   32  0     0    \n",
       "    Ticket           Fare  Cabin Embarked\n",
       "1   A/5 21171         7.25 NA    S       \n",
       "2   PC 17599         71.28 C85   C       \n",
       "3   STON/O2. 3101282  7.92 NA    S       \n",
       "⋮   ⋮                ⋮     ⋮     ⋮       \n",
       "710 112053           30.00 B42   S       \n",
       "711 111369           30.00 C148  C       \n",
       "712 370376            7.75 NA    Q       "
      ]
     },
     "metadata": {},
     "output_type": "display_data"
    },
    {
     "data": {
      "text/html": [
       "<table>\n",
       "<caption>A grouped_df: 712 × 12</caption>\n",
       "<thead>\n",
       "\t<tr><th scope=col>PassengerId</th><th scope=col>Survived</th><th scope=col>Pclass</th><th scope=col>Name</th><th scope=col>Sex</th><th scope=col>Age</th><th scope=col>SibSp</th><th scope=col>Parch</th><th scope=col>Ticket</th><th scope=col>Fare</th><th scope=col>Cabin</th><th scope=col>Embarked</th></tr>\n",
       "\t<tr><th scope=col>&lt;dbl&gt;</th><th scope=col>&lt;dbl&gt;</th><th scope=col>&lt;dbl&gt;</th><th scope=col>&lt;chr&gt;</th><th scope=col>&lt;fct&gt;</th><th scope=col>&lt;dbl&gt;</th><th scope=col>&lt;dbl&gt;</th><th scope=col>&lt;dbl&gt;</th><th scope=col>&lt;chr&gt;</th><th scope=col>&lt;dbl&gt;</th><th scope=col>&lt;fct&gt;</th><th scope=col>&lt;chr&gt;</th></tr>\n",
       "</thead>\n",
       "<tbody>\n",
       "\t<tr><td>1</td><td>0</td><td>3</td><td>Braund, Mr. Owen Harris                            </td><td>male  </td><td>22</td><td>1</td><td>0</td><td>A/5 21171       </td><td> 7.25</td><td>NA </td><td>S</td></tr>\n",
       "\t<tr><td>2</td><td>1</td><td>1</td><td>Cumings, Mrs. John Bradley (Florence Briggs Thayer)</td><td>female</td><td>38</td><td>1</td><td>0</td><td>PC 17599        </td><td>71.28</td><td>C85</td><td>C</td></tr>\n",
       "\t<tr><td>3</td><td>1</td><td>3</td><td>Heikkinen, Miss. Laina                             </td><td>female</td><td>26</td><td>0</td><td>0</td><td>STON/O2. 3101282</td><td> 7.92</td><td>NA </td><td>S</td></tr>\n",
       "\t<tr><td>⋮</td><td>⋮</td><td>⋮</td><td>⋮</td><td>⋮</td><td>⋮</td><td>⋮</td><td>⋮</td><td>⋮</td><td>⋮</td><td>⋮</td><td>⋮</td></tr>\n",
       "\t<tr><td>888</td><td>1</td><td>1</td><td>Graham, Miss. Margaret Edith</td><td>female</td><td>19</td><td>0</td><td>0</td><td>112053</td><td>30.00</td><td>B42 </td><td>S</td></tr>\n",
       "\t<tr><td>890</td><td>1</td><td>1</td><td>Behr, Mr. Karl Howell       </td><td>male  </td><td>26</td><td>0</td><td>0</td><td>111369</td><td>30.00</td><td>C148</td><td>C</td></tr>\n",
       "\t<tr><td>891</td><td>0</td><td>3</td><td>Dooley, Mr. Patrick         </td><td>male  </td><td>32</td><td>0</td><td>0</td><td>370376</td><td> 7.75</td><td>NA  </td><td>Q</td></tr>\n",
       "</tbody>\n",
       "</table>\n"
      ],
      "text/latex": [
       "A grouped_df: 712 × 12\n",
       "\\begin{tabular}{r|llllllllllll}\n",
       " PassengerId & Survived & Pclass & Name & Sex & Age & SibSp & Parch & Ticket & Fare & Cabin & Embarked\\\\\n",
       " <dbl> & <dbl> & <dbl> & <chr> & <fct> & <dbl> & <dbl> & <dbl> & <chr> & <dbl> & <fct> & <chr>\\\\\n",
       "\\hline\n",
       "\t 1 & 0 & 3 & Braund, Mr. Owen Harris                             & male   & 22 & 1 & 0 & A/5 21171        &  7.25 & NA  & S\\\\\n",
       "\t 2 & 1 & 1 & Cumings, Mrs. John Bradley (Florence Briggs Thayer) & female & 38 & 1 & 0 & PC 17599         & 71.28 & C85 & C\\\\\n",
       "\t 3 & 1 & 3 & Heikkinen, Miss. Laina                              & female & 26 & 0 & 0 & STON/O2. 3101282 &  7.92 & NA  & S\\\\\n",
       "\t ⋮ & ⋮ & ⋮ & ⋮ & ⋮ & ⋮ & ⋮ & ⋮ & ⋮ & ⋮ & ⋮ & ⋮\\\\\n",
       "\t 888 & 1 & 1 & Graham, Miss. Margaret Edith & female & 19 & 0 & 0 & 112053 & 30.00 & B42  & S\\\\\n",
       "\t 890 & 1 & 1 & Behr, Mr. Karl Howell        & male   & 26 & 0 & 0 & 111369 & 30.00 & C148 & C\\\\\n",
       "\t 891 & 0 & 3 & Dooley, Mr. Patrick          & male   & 32 & 0 & 0 & 370376 &  7.75 & NA   & Q\\\\\n",
       "\\end{tabular}\n"
      ],
      "text/markdown": [
       "\n",
       "A grouped_df: 712 × 12\n",
       "\n",
       "| PassengerId &lt;dbl&gt; | Survived &lt;dbl&gt; | Pclass &lt;dbl&gt; | Name &lt;chr&gt; | Sex &lt;fct&gt; | Age &lt;dbl&gt; | SibSp &lt;dbl&gt; | Parch &lt;dbl&gt; | Ticket &lt;chr&gt; | Fare &lt;dbl&gt; | Cabin &lt;fct&gt; | Embarked &lt;chr&gt; |\n",
       "|---|---|---|---|---|---|---|---|---|---|---|---|\n",
       "| 1 | 0 | 3 | Braund, Mr. Owen Harris                             | male   | 22 | 1 | 0 | A/5 21171        |  7.25 | NA  | S |\n",
       "| 2 | 1 | 1 | Cumings, Mrs. John Bradley (Florence Briggs Thayer) | female | 38 | 1 | 0 | PC 17599         | 71.28 | C85 | C |\n",
       "| 3 | 1 | 3 | Heikkinen, Miss. Laina                              | female | 26 | 0 | 0 | STON/O2. 3101282 |  7.92 | NA  | S |\n",
       "| ⋮ | ⋮ | ⋮ | ⋮ | ⋮ | ⋮ | ⋮ | ⋮ | ⋮ | ⋮ | ⋮ | ⋮ |\n",
       "| 888 | 1 | 1 | Graham, Miss. Margaret Edith | female | 19 | 0 | 0 | 112053 | 30.00 | B42  | S |\n",
       "| 890 | 1 | 1 | Behr, Mr. Karl Howell        | male   | 26 | 0 | 0 | 111369 | 30.00 | C148 | C |\n",
       "| 891 | 0 | 3 | Dooley, Mr. Patrick          | male   | 32 | 0 | 0 | 370376 |  7.75 | NA   | Q |\n",
       "\n"
      ],
      "text/plain": [
       "    PassengerId Survived Pclass\n",
       "1   1           0        3     \n",
       "2   2           1        1     \n",
       "3   3           1        3     \n",
       "⋮   ⋮           ⋮        ⋮     \n",
       "710 888         1        1     \n",
       "711 890         1        1     \n",
       "712 891         0        3     \n",
       "    Name                                                Sex    Age SibSp Parch\n",
       "1   Braund, Mr. Owen Harris                             male   22  1     0    \n",
       "2   Cumings, Mrs. John Bradley (Florence Briggs Thayer) female 38  1     0    \n",
       "3   Heikkinen, Miss. Laina                              female 26  0     0    \n",
       "⋮   ⋮                                                   ⋮      ⋮   ⋮     ⋮    \n",
       "710 Graham, Miss. Margaret Edith                        female 19  0     0    \n",
       "711 Behr, Mr. Karl Howell                               male   26  0     0    \n",
       "712 Dooley, Mr. Patrick                                 male   32  0     0    \n",
       "    Ticket           Fare  Cabin Embarked\n",
       "1   A/5 21171         7.25 NA    S       \n",
       "2   PC 17599         71.28 C85   C       \n",
       "3   STON/O2. 3101282  7.92 NA    S       \n",
       "⋮   ⋮                ⋮     ⋮     ⋮       \n",
       "710 112053           30.00 B42   S       \n",
       "711 111369           30.00 C148  C       \n",
       "712 370376            7.75 NA    Q       "
      ]
     },
     "metadata": {},
     "output_type": "display_data"
    }
   ],
   "source": [
    "passengers_by_gender <- group_by(passengers, Sex)\n",
    "\n",
    "# Note that the two data frames, on the surface, seem identical.\n",
    "passengers\n",
    "passengers_by_gender"
   ]
  },
  {
   "cell_type": "code",
   "execution_count": 23,
   "metadata": {},
   "outputs": [
    {
     "data": {
      "text/html": [
       "<table>\n",
       "<caption>A tibble: 1 × 1</caption>\n",
       "<thead>\n",
       "\t<tr><th scope=col>N</th></tr>\n",
       "\t<tr><th scope=col>&lt;int&gt;</th></tr>\n",
       "</thead>\n",
       "<tbody>\n",
       "\t<tr><td>712</td></tr>\n",
       "</tbody>\n",
       "</table>\n"
      ],
      "text/latex": [
       "A tibble: 1 × 1\n",
       "\\begin{tabular}{r|l}\n",
       " N\\\\\n",
       " <int>\\\\\n",
       "\\hline\n",
       "\t 712\\\\\n",
       "\\end{tabular}\n"
      ],
      "text/markdown": [
       "\n",
       "A tibble: 1 × 1\n",
       "\n",
       "| N &lt;int&gt; |\n",
       "|---|\n",
       "| 712 |\n",
       "\n"
      ],
      "text/plain": [
       "  N  \n",
       "1 712"
      ]
     },
     "metadata": {},
     "output_type": "display_data"
    }
   ],
   "source": [
    "# But we can see a difference when applying, for example, a summarize\n",
    "summarize(passengers, N = n())"
   ]
  },
  {
   "cell_type": "code",
   "execution_count": 24,
   "metadata": {},
   "outputs": [
    {
     "data": {
      "text/html": [
       "<table>\n",
       "<caption>A tibble: 2 × 2</caption>\n",
       "<thead>\n",
       "\t<tr><th scope=col>Sex</th><th scope=col>N</th></tr>\n",
       "\t<tr><th scope=col>&lt;fct&gt;</th><th scope=col>&lt;int&gt;</th></tr>\n",
       "</thead>\n",
       "<tbody>\n",
       "\t<tr><td>male  </td><td>453</td></tr>\n",
       "\t<tr><td>female</td><td>259</td></tr>\n",
       "</tbody>\n",
       "</table>\n"
      ],
      "text/latex": [
       "A tibble: 2 × 2\n",
       "\\begin{tabular}{r|ll}\n",
       " Sex & N\\\\\n",
       " <fct> & <int>\\\\\n",
       "\\hline\n",
       "\t male   & 453\\\\\n",
       "\t female & 259\\\\\n",
       "\\end{tabular}\n"
      ],
      "text/markdown": [
       "\n",
       "A tibble: 2 × 2\n",
       "\n",
       "| Sex &lt;fct&gt; | N &lt;int&gt; |\n",
       "|---|---|\n",
       "| male   | 453 |\n",
       "| female | 259 |\n",
       "\n"
      ],
      "text/plain": [
       "  Sex    N  \n",
       "1 male   453\n",
       "2 female 259"
      ]
     },
     "metadata": {},
     "output_type": "display_data"
    }
   ],
   "source": [
    "summarize(passengers_by_gender, N = n())"
   ]
  },
  {
   "cell_type": "markdown",
   "metadata": {},
   "source": [
    "As shown in the simple example above, when a `dplyr` verb is applied to a \"grouped\" data frame,\n",
    "`dplyr` internally **splits**-**applies**-and **combines** the data, finally returning results for\n",
    "_each of the unique values that are found in the columns by which the data frame is grouped_.\n",
    "\n",
    "This can be a lot to process, if it's the first time you've seen this. \n",
    "But once you get used to it (via trying a bunch of manipulation tasks and seeing some more examples), you'll find it extremely convenient and powerful.\n",
    "\n",
    "Let's try answering the other questions we started this section with."
   ]
  },
  {
   "cell_type": "markdown",
   "metadata": {},
   "source": [
    "* Survival rates in each `Pclass`?"
   ]
  },
  {
   "cell_type": "code",
   "execution_count": 25,
   "metadata": {},
   "outputs": [
    {
     "data": {
      "text/html": [
       "<table>\n",
       "<caption>A tibble: 3 × 2</caption>\n",
       "<thead>\n",
       "\t<tr><th scope=col>Pclass</th><th scope=col>survival_rate</th></tr>\n",
       "\t<tr><th scope=col>&lt;dbl&gt;</th><th scope=col>&lt;dbl&gt;</th></tr>\n",
       "</thead>\n",
       "<tbody>\n",
       "\t<tr><td>1</td><td>0.652</td></tr>\n",
       "\t<tr><td>2</td><td>0.480</td></tr>\n",
       "\t<tr><td>3</td><td>0.239</td></tr>\n",
       "</tbody>\n",
       "</table>\n"
      ],
      "text/latex": [
       "A tibble: 3 × 2\n",
       "\\begin{tabular}{r|ll}\n",
       " Pclass & survival\\_rate\\\\\n",
       " <dbl> & <dbl>\\\\\n",
       "\\hline\n",
       "\t 1 & 0.652\\\\\n",
       "\t 2 & 0.480\\\\\n",
       "\t 3 & 0.239\\\\\n",
       "\\end{tabular}\n"
      ],
      "text/markdown": [
       "\n",
       "A tibble: 3 × 2\n",
       "\n",
       "| Pclass &lt;dbl&gt; | survival_rate &lt;dbl&gt; |\n",
       "|---|---|\n",
       "| 1 | 0.652 |\n",
       "| 2 | 0.480 |\n",
       "| 3 | 0.239 |\n",
       "\n"
      ],
      "text/plain": [
       "  Pclass survival_rate\n",
       "1 1      0.652        \n",
       "2 2      0.480        \n",
       "3 3      0.239        "
      ]
     },
     "metadata": {},
     "output_type": "display_data"
    }
   ],
   "source": [
    "passengers_by_class <- group_by(passengers, Pclass)\n",
    "\n",
    "summarize(passengers_by_class, \n",
    "          survival_rate = mean(Survived))"
   ]
  },
  {
   "cell_type": "markdown",
   "metadata": {},
   "source": [
    "* Number of each `Pclass` for passengers embarked on each port?"
   ]
  },
  {
   "cell_type": "code",
   "execution_count": 26,
   "metadata": {},
   "outputs": [
    {
     "data": {
      "text/html": [
       "<table>\n",
       "<caption>A grouped_df: 9 × 3</caption>\n",
       "<thead>\n",
       "\t<tr><th scope=col>Embarked</th><th scope=col>Pclass</th><th scope=col>N</th></tr>\n",
       "\t<tr><th scope=col>&lt;chr&gt;</th><th scope=col>&lt;dbl&gt;</th><th scope=col>&lt;int&gt;</th></tr>\n",
       "</thead>\n",
       "<tbody>\n",
       "\t<tr><td>C</td><td>1</td><td>74</td></tr>\n",
       "\t<tr><td>C</td><td>2</td><td>15</td></tr>\n",
       "\t<tr><td>C</td><td>3</td><td>41</td></tr>\n",
       "\t<tr><td>⋮</td><td>⋮</td><td>⋮</td></tr>\n",
       "\t<tr><td>S</td><td>1</td><td>108</td></tr>\n",
       "\t<tr><td>S</td><td>2</td><td>156</td></tr>\n",
       "\t<tr><td>S</td><td>3</td><td>290</td></tr>\n",
       "</tbody>\n",
       "</table>\n"
      ],
      "text/latex": [
       "A grouped_df: 9 × 3\n",
       "\\begin{tabular}{r|lll}\n",
       " Embarked & Pclass & N\\\\\n",
       " <chr> & <dbl> & <int>\\\\\n",
       "\\hline\n",
       "\t C & 1 & 74\\\\\n",
       "\t C & 2 & 15\\\\\n",
       "\t C & 3 & 41\\\\\n",
       "\t ⋮ & ⋮ & ⋮\\\\\n",
       "\t S & 1 & 108\\\\\n",
       "\t S & 2 & 156\\\\\n",
       "\t S & 3 & 290\\\\\n",
       "\\end{tabular}\n"
      ],
      "text/markdown": [
       "\n",
       "A grouped_df: 9 × 3\n",
       "\n",
       "| Embarked &lt;chr&gt; | Pclass &lt;dbl&gt; | N &lt;int&gt; |\n",
       "|---|---|---|\n",
       "| C | 1 | 74 |\n",
       "| C | 2 | 15 |\n",
       "| C | 3 | 41 |\n",
       "| ⋮ | ⋮ | ⋮ |\n",
       "| S | 1 | 108 |\n",
       "| S | 2 | 156 |\n",
       "| S | 3 | 290 |\n",
       "\n"
      ],
      "text/plain": [
       "  Embarked Pclass N  \n",
       "1 C        1      74 \n",
       "2 C        2      15 \n",
       "3 C        3      41 \n",
       "⋮ ⋮        ⋮      ⋮  \n",
       "7 S        1      108\n",
       "8 S        2      156\n",
       "9 S        3      290"
      ]
     },
     "metadata": {},
     "output_type": "display_data"
    }
   ],
   "source": [
    "passengers_by_port <- group_by(passengers, Embarked, Pclass)\n",
    "\n",
    "summarize(passengers_by_port, \n",
    "          N = n())"
   ]
  },
  {
   "cell_type": "markdown",
   "metadata": {},
   "source": [
    "### Exercise: `group_by()`\n",
    "\n",
    "Calculate the mean fare and survival rate for male and female passengers respectively"
   ]
  },
  {
   "cell_type": "code",
   "execution_count": 27,
   "metadata": {},
   "outputs": [
    {
     "data": {
      "text/html": [
       "<table>\n",
       "<caption>A tibble: 2 × 3</caption>\n",
       "<thead>\n",
       "\t<tr><th scope=col>Sex</th><th scope=col>mean_fare</th><th scope=col>survival_rate</th></tr>\n",
       "\t<tr><th scope=col>&lt;fct&gt;</th><th scope=col>&lt;dbl&gt;</th><th scope=col>&lt;dbl&gt;</th></tr>\n",
       "</thead>\n",
       "<tbody>\n",
       "\t<tr><td>male  </td><td>27.3</td><td>0.205</td></tr>\n",
       "\t<tr><td>female</td><td>47.3</td><td>0.753</td></tr>\n",
       "</tbody>\n",
       "</table>\n"
      ],
      "text/latex": [
       "A tibble: 2 × 3\n",
       "\\begin{tabular}{r|lll}\n",
       " Sex & mean\\_fare & survival\\_rate\\\\\n",
       " <fct> & <dbl> & <dbl>\\\\\n",
       "\\hline\n",
       "\t male   & 27.3 & 0.205\\\\\n",
       "\t female & 47.3 & 0.753\\\\\n",
       "\\end{tabular}\n"
      ],
      "text/markdown": [
       "\n",
       "A tibble: 2 × 3\n",
       "\n",
       "| Sex &lt;fct&gt; | mean_fare &lt;dbl&gt; | survival_rate &lt;dbl&gt; |\n",
       "|---|---|---|\n",
       "| male   | 27.3 | 0.205 |\n",
       "| female | 47.3 | 0.753 |\n",
       "\n"
      ],
      "text/plain": [
       "  Sex    mean_fare survival_rate\n",
       "1 male   27.3      0.205        \n",
       "2 female 47.3      0.753        "
      ]
     },
     "metadata": {},
     "output_type": "display_data"
    }
   ],
   "source": [
    "# YOUR CODE HERE\n",
    "gender_group <- group_by(passengers, Sex)\n",
    "summarize(gender_group, \n",
    "          mean_fare = mean(Fare),\n",
    "          survival_rate = mean(Survived)\n",
    "         )"
   ]
  },
  {
   "cell_type": "markdown",
   "metadata": {},
   "source": [
    "### Multiple (chained) operations\n",
    "\n",
    "As we've breifly seen above, we would often like to apply multiple operations (verbs) to a data frame.\n",
    "However, by design, verbs do not save intermediate changes to the original data frame, so for each operation we would have to assign the result to a new data frame.\n",
    "\n",
    "Even for a reasonable number of operations, this can get quite messy (i.e., we'd end up with so many names and data frames that we only use as intermediate steps).\n",
    "\n",
    "Consider the following query:\n",
    "\n",
    "* For each port, what is the proportion of each class?\n",
    "\n",
    "We can think of finding the answer in multiple steps:\n",
    "\n",
    "1. group by `Embarked` and `Pclass`\n",
    "1. find the number of passengers for each of the groups in the previously grouped data frame\n",
    "1. with the computed number of passengers for each class-port pair, re-group by only `Embarked`\n",
    "1. create a new column which computes the proportion of counts for each row, over the sum of rows\n",
    "\n",
    "Using the current method of saving all intermediate results, the implementation would look something like this:"
   ]
  },
  {
   "cell_type": "code",
   "execution_count": 28,
   "metadata": {},
   "outputs": [
    {
     "data": {
      "text/html": [
       "<table>\n",
       "<caption>A grouped_df: 9 × 4</caption>\n",
       "<thead>\n",
       "\t<tr><th scope=col>Embarked</th><th scope=col>Pclass</th><th scope=col>N</th><th scope=col>prop</th></tr>\n",
       "\t<tr><th scope=col>&lt;chr&gt;</th><th scope=col>&lt;dbl&gt;</th><th scope=col>&lt;int&gt;</th><th scope=col>&lt;dbl&gt;</th></tr>\n",
       "</thead>\n",
       "<tbody>\n",
       "\t<tr><td>C</td><td>1</td><td>74</td><td>0.569</td></tr>\n",
       "\t<tr><td>C</td><td>2</td><td>15</td><td>0.115</td></tr>\n",
       "\t<tr><td>C</td><td>3</td><td>41</td><td>0.315</td></tr>\n",
       "\t<tr><td>⋮</td><td>⋮</td><td>⋮</td><td>⋮</td></tr>\n",
       "\t<tr><td>S</td><td>1</td><td>108</td><td>0.195</td></tr>\n",
       "\t<tr><td>S</td><td>2</td><td>156</td><td>0.282</td></tr>\n",
       "\t<tr><td>S</td><td>3</td><td>290</td><td>0.523</td></tr>\n",
       "</tbody>\n",
       "</table>\n"
      ],
      "text/latex": [
       "A grouped_df: 9 × 4\n",
       "\\begin{tabular}{r|llll}\n",
       " Embarked & Pclass & N & prop\\\\\n",
       " <chr> & <dbl> & <int> & <dbl>\\\\\n",
       "\\hline\n",
       "\t C & 1 & 74 & 0.569\\\\\n",
       "\t C & 2 & 15 & 0.115\\\\\n",
       "\t C & 3 & 41 & 0.315\\\\\n",
       "\t ⋮ & ⋮ & ⋮ & ⋮\\\\\n",
       "\t S & 1 & 108 & 0.195\\\\\n",
       "\t S & 2 & 156 & 0.282\\\\\n",
       "\t S & 3 & 290 & 0.523\\\\\n",
       "\\end{tabular}\n"
      ],
      "text/markdown": [
       "\n",
       "A grouped_df: 9 × 4\n",
       "\n",
       "| Embarked &lt;chr&gt; | Pclass &lt;dbl&gt; | N &lt;int&gt; | prop &lt;dbl&gt; |\n",
       "|---|---|---|---|\n",
       "| C | 1 | 74 | 0.569 |\n",
       "| C | 2 | 15 | 0.115 |\n",
       "| C | 3 | 41 | 0.315 |\n",
       "| ⋮ | ⋮ | ⋮ | ⋮ |\n",
       "| S | 1 | 108 | 0.195 |\n",
       "| S | 2 | 156 | 0.282 |\n",
       "| S | 3 | 290 | 0.523 |\n",
       "\n"
      ],
      "text/plain": [
       "  Embarked Pclass N   prop \n",
       "1 C        1      74  0.569\n",
       "2 C        2      15  0.115\n",
       "3 C        3      41  0.315\n",
       "⋮ ⋮        ⋮      ⋮   ⋮    \n",
       "7 S        1      108 0.195\n",
       "8 S        2      156 0.282\n",
       "9 S        3      290 0.523"
      ]
     },
     "metadata": {},
     "output_type": "display_data"
    }
   ],
   "source": [
    "# NOTE: Code in this cell is intended to be an example of a BAD implementation.\n",
    "#       While this implementation is acceptable, it is intended for illustrative purposes, \n",
    "#       and is best avoided.  \n",
    "passengers_by_port_and_class <- group_by(passengers, Embarked, Pclass)\n",
    "counts_by_port_and_class <- summarize(passengers_by_port_and_class, N = n())\n",
    "regroup_by_port <- group_by(counts_by_port_and_class, Embarked)\n",
    "mutate(regroup_by_port, prop = N / sum(N))"
   ]
  },
  {
   "cell_type": "markdown",
   "metadata": {},
   "source": [
    "The above code is bad for a multiple reasons. Among others, it's\n",
    "\n",
    "* creating a lot of unnecessary intermediate results that will not be used again\n",
    "* difficult to read, if you don't already know what the end goal is (e.g., you eyes have to wander left-to-right-to-left a few times to see what's going on)\n",
    "\n",
    "A sophisticated, yet quite simple, solution to this problem is the introduction of `%>%`, also called the \"pipe operator\".\n",
    "\n",
    "`%>%` is a _binary operator_ (much like `+` or `-`) which, in words, takes the result of the left-hand side, and uses it as the first argument on the right hand side. \n",
    "This may be confusing at first, but might make more sense in the context of `dplyr` _verbs_. Recall, a _verb_ in `dplyr` is any function that _returns a data frame_ (LHS) and _takes a data frame as its first argument_ (RHS).\n",
    "\n",
    "If further notation is helpful, one could also write the `%>%` as\n",
    "```\n",
    "f(x) %>% g(y) = g(f(x), y)\n",
    "```\n",
    "which, depending on your background, could be clarifying or more confusing.\n",
    "\n",
    "What this means from a practical standpoint, however, is that we no longer need to _save_ intermediate results just to use them in the next verb. \n",
    "Instead, we can use `%>%` to send results from a verb down a \"pipe\" to the next verb.\n",
    "Consider our previous example, which involved four verbs, with three intermediate steps.\n",
    "Using `%>%`, the same result can now be achieved in a (conceptually) single line:"
   ]
  },
  {
   "cell_type": "code",
   "execution_count": 29,
   "metadata": {},
   "outputs": [
    {
     "data": {
      "text/html": [
       "<table>\n",
       "<caption>A grouped_df: 9 × 4</caption>\n",
       "<thead>\n",
       "\t<tr><th scope=col>Embarked</th><th scope=col>Pclass</th><th scope=col>N</th><th scope=col>prop</th></tr>\n",
       "\t<tr><th scope=col>&lt;chr&gt;</th><th scope=col>&lt;dbl&gt;</th><th scope=col>&lt;int&gt;</th><th scope=col>&lt;dbl&gt;</th></tr>\n",
       "</thead>\n",
       "<tbody>\n",
       "\t<tr><td>C</td><td>1</td><td>74</td><td>0.569</td></tr>\n",
       "\t<tr><td>C</td><td>2</td><td>15</td><td>0.115</td></tr>\n",
       "\t<tr><td>C</td><td>3</td><td>41</td><td>0.315</td></tr>\n",
       "\t<tr><td>⋮</td><td>⋮</td><td>⋮</td><td>⋮</td></tr>\n",
       "\t<tr><td>S</td><td>1</td><td>108</td><td>0.195</td></tr>\n",
       "\t<tr><td>S</td><td>2</td><td>156</td><td>0.282</td></tr>\n",
       "\t<tr><td>S</td><td>3</td><td>290</td><td>0.523</td></tr>\n",
       "</tbody>\n",
       "</table>\n"
      ],
      "text/latex": [
       "A grouped_df: 9 × 4\n",
       "\\begin{tabular}{r|llll}\n",
       " Embarked & Pclass & N & prop\\\\\n",
       " <chr> & <dbl> & <int> & <dbl>\\\\\n",
       "\\hline\n",
       "\t C & 1 & 74 & 0.569\\\\\n",
       "\t C & 2 & 15 & 0.115\\\\\n",
       "\t C & 3 & 41 & 0.315\\\\\n",
       "\t ⋮ & ⋮ & ⋮ & ⋮\\\\\n",
       "\t S & 1 & 108 & 0.195\\\\\n",
       "\t S & 2 & 156 & 0.282\\\\\n",
       "\t S & 3 & 290 & 0.523\\\\\n",
       "\\end{tabular}\n"
      ],
      "text/markdown": [
       "\n",
       "A grouped_df: 9 × 4\n",
       "\n",
       "| Embarked &lt;chr&gt; | Pclass &lt;dbl&gt; | N &lt;int&gt; | prop &lt;dbl&gt; |\n",
       "|---|---|---|---|\n",
       "| C | 1 | 74 | 0.569 |\n",
       "| C | 2 | 15 | 0.115 |\n",
       "| C | 3 | 41 | 0.315 |\n",
       "| ⋮ | ⋮ | ⋮ | ⋮ |\n",
       "| S | 1 | 108 | 0.195 |\n",
       "| S | 2 | 156 | 0.282 |\n",
       "| S | 3 | 290 | 0.523 |\n",
       "\n"
      ],
      "text/plain": [
       "  Embarked Pclass N   prop \n",
       "1 C        1      74  0.569\n",
       "2 C        2      15  0.115\n",
       "3 C        3      41  0.315\n",
       "⋮ ⋮        ⋮      ⋮   ⋮    \n",
       "7 S        1      108 0.195\n",
       "8 S        2      156 0.282\n",
       "9 S        3      290 0.523"
      ]
     },
     "metadata": {},
     "output_type": "display_data"
    }
   ],
   "source": [
    "passengers %>% \n",
    "    group_by(Embarked, Pclass) %>%\n",
    "    summarize(N = n()) %>%\n",
    "    group_by(Embarked) %>%\n",
    "    mutate(prop = N / sum(N))"
   ]
  },
  {
   "cell_type": "markdown",
   "metadata": {},
   "source": [
    "Note the intentional style of (1) starting from the data frame (instead of a verb that explicitly includes the data frame) and (2) keeping each verb on its own line. \n",
    "This not only makes it easier to read, but also easier to maintain and modify."
   ]
  },
  {
   "cell_type": "code",
   "execution_count": 30,
   "metadata": {},
   "outputs": [
    {
     "data": {
      "text/html": [
       "<table>\n",
       "<caption>A tibble: 1 × 12</caption>\n",
       "<thead>\n",
       "\t<tr><th scope=col>PassengerId</th><th scope=col>Survived</th><th scope=col>Pclass</th><th scope=col>Name</th><th scope=col>Sex</th><th scope=col>Age</th><th scope=col>SibSp</th><th scope=col>Parch</th><th scope=col>Ticket</th><th scope=col>Fare</th><th scope=col>Cabin</th><th scope=col>Embarked</th></tr>\n",
       "\t<tr><th scope=col>&lt;dbl&gt;</th><th scope=col>&lt;dbl&gt;</th><th scope=col>&lt;dbl&gt;</th><th scope=col>&lt;chr&gt;</th><th scope=col>&lt;fct&gt;</th><th scope=col>&lt;dbl&gt;</th><th scope=col>&lt;dbl&gt;</th><th scope=col>&lt;dbl&gt;</th><th scope=col>&lt;chr&gt;</th><th scope=col>&lt;dbl&gt;</th><th scope=col>&lt;fct&gt;</th><th scope=col>&lt;chr&gt;</th></tr>\n",
       "</thead>\n",
       "<tbody>\n",
       "\t<tr><td>1</td><td>0</td><td>3</td><td>Braund, Mr. Owen Harris</td><td>male</td><td>22</td><td>1</td><td>0</td><td>A/5 21171</td><td>7.25</td><td>NA</td><td>S</td></tr>\n",
       "</tbody>\n",
       "</table>\n"
      ],
      "text/latex": [
       "A tibble: 1 × 12\n",
       "\\begin{tabular}{r|llllllllllll}\n",
       " PassengerId & Survived & Pclass & Name & Sex & Age & SibSp & Parch & Ticket & Fare & Cabin & Embarked\\\\\n",
       " <dbl> & <dbl> & <dbl> & <chr> & <fct> & <dbl> & <dbl> & <dbl> & <chr> & <dbl> & <fct> & <chr>\\\\\n",
       "\\hline\n",
       "\t 1 & 0 & 3 & Braund, Mr. Owen Harris & male & 22 & 1 & 0 & A/5 21171 & 7.25 & NA & S\\\\\n",
       "\\end{tabular}\n"
      ],
      "text/markdown": [
       "\n",
       "A tibble: 1 × 12\n",
       "\n",
       "| PassengerId &lt;dbl&gt; | Survived &lt;dbl&gt; | Pclass &lt;dbl&gt; | Name &lt;chr&gt; | Sex &lt;fct&gt; | Age &lt;dbl&gt; | SibSp &lt;dbl&gt; | Parch &lt;dbl&gt; | Ticket &lt;chr&gt; | Fare &lt;dbl&gt; | Cabin &lt;fct&gt; | Embarked &lt;chr&gt; |\n",
       "|---|---|---|---|---|---|---|---|---|---|---|---|\n",
       "| 1 | 0 | 3 | Braund, Mr. Owen Harris | male | 22 | 1 | 0 | A/5 21171 | 7.25 | NA | S |\n",
       "\n"
      ],
      "text/plain": [
       "  PassengerId Survived Pclass Name                    Sex  Age SibSp Parch\n",
       "1 1           0        3      Braund, Mr. Owen Harris male 22  1     0    \n",
       "  Ticket    Fare Cabin Embarked\n",
       "1 A/5 21171 7.25 NA    S       "
      ]
     },
     "metadata": {},
     "output_type": "display_data"
    }
   ],
   "source": [
    "head(passengers, 1)"
   ]
  },
  {
   "cell_type": "code",
   "execution_count": 31,
   "metadata": {},
   "outputs": [
    {
     "data": {
      "text/html": [
       "<table>\n",
       "<caption>A grouped_df: 16 × 4</caption>\n",
       "<thead>\n",
       "\t<tr><th scope=col>Sex</th><th scope=col>age_group</th><th scope=col>num_pass</th><th scope=col>survival_rate</th></tr>\n",
       "\t<tr><th scope=col>&lt;fct&gt;</th><th scope=col>&lt;dbl&gt;</th><th scope=col>&lt;int&gt;</th><th scope=col>&lt;dbl&gt;</th></tr>\n",
       "</thead>\n",
       "<tbody>\n",
       "\t<tr><td>male</td><td> 0</td><td> 32</td><td>0.594</td></tr>\n",
       "\t<tr><td>male</td><td>10</td><td> 57</td><td>0.123</td></tr>\n",
       "\t<tr><td>male</td><td>20</td><td>148</td><td>0.169</td></tr>\n",
       "\t<tr><td>⋮</td><td>⋮</td><td>⋮</td><td>⋮</td></tr>\n",
       "\t<tr><td>female</td><td>40</td><td>32</td><td>0.688</td></tr>\n",
       "\t<tr><td>female</td><td>50</td><td>18</td><td>0.889</td></tr>\n",
       "\t<tr><td>female</td><td>60</td><td> 3</td><td>1.000</td></tr>\n",
       "</tbody>\n",
       "</table>\n"
      ],
      "text/latex": [
       "A grouped_df: 16 × 4\n",
       "\\begin{tabular}{r|llll}\n",
       " Sex & age\\_group & num\\_pass & survival\\_rate\\\\\n",
       " <fct> & <dbl> & <int> & <dbl>\\\\\n",
       "\\hline\n",
       "\t male &  0 &  32 & 0.594\\\\\n",
       "\t male & 10 &  57 & 0.123\\\\\n",
       "\t male & 20 & 148 & 0.169\\\\\n",
       "\t ⋮ & ⋮ & ⋮ & ⋮\\\\\n",
       "\t female & 40 & 32 & 0.688\\\\\n",
       "\t female & 50 & 18 & 0.889\\\\\n",
       "\t female & 60 &  3 & 1.000\\\\\n",
       "\\end{tabular}\n"
      ],
      "text/markdown": [
       "\n",
       "A grouped_df: 16 × 4\n",
       "\n",
       "| Sex &lt;fct&gt; | age_group &lt;dbl&gt; | num_pass &lt;int&gt; | survival_rate &lt;dbl&gt; |\n",
       "|---|---|---|---|\n",
       "| male |  0 |  32 | 0.594 |\n",
       "| male | 10 |  57 | 0.123 |\n",
       "| male | 20 | 148 | 0.169 |\n",
       "| ⋮ | ⋮ | ⋮ | ⋮ |\n",
       "| female | 40 | 32 | 0.688 |\n",
       "| female | 50 | 18 | 0.889 |\n",
       "| female | 60 |  3 | 1.000 |\n",
       "\n"
      ],
      "text/plain": [
       "   Sex    age_group num_pass survival_rate\n",
       "1  male    0         32      0.594        \n",
       "2  male   10         57      0.123        \n",
       "3  male   20        148      0.169        \n",
       "⋮  ⋮      ⋮         ⋮        ⋮            \n",
       "14 female 40        32       0.688        \n",
       "15 female 50        18       0.889        \n",
       "16 female 60         3       1.000        "
      ]
     },
     "metadata": {},
     "output_type": "display_data"
    }
   ],
   "source": [
    "passengers %>%\n",
    "  mutate(age_group = 10 * floor(Age / 10)) %>%\n",
    "  group_by(Sex, age_group) %>%\n",
    "  summarize(num_pass = n(), survival_rate = mean(Survived))"
   ]
  },
  {
   "cell_type": "markdown",
   "metadata": {},
   "source": [
    "### Exercise: Introduction to `dplyr`\n",
    "1. Create a column `age_group` that groups each passenger's age down to the 10s.\n",
    "1. Calculate the number of passengers and survival rate for each (`Sex`, `age_group`) pair\n",
    "\n",
    "What patterns do you observe?\n",
    "\n",
    "(hint1: function `floor` takes in x and returns the largest integers not greater than the corresponding elements of x, e.g., `floor(1.9)` will return `1`)\n",
    "\n",
    "(hint2: you can run `options(repr.matrix.max.rows = 20)` to display more rows at a time)\n"
   ]
  },
  {
   "cell_type": "code",
   "execution_count": 32,
   "metadata": {},
   "outputs": [
    {
     "data": {
      "text/html": [
       "<table>\n",
       "<caption>A grouped_df: 16 × 4</caption>\n",
       "<thead>\n",
       "\t<tr><th scope=col>Sex</th><th scope=col>age_group</th><th scope=col>N</th><th scope=col>survival_rate</th></tr>\n",
       "\t<tr><th scope=col>&lt;fct&gt;</th><th scope=col>&lt;dbl&gt;</th><th scope=col>&lt;int&gt;</th><th scope=col>&lt;dbl&gt;</th></tr>\n",
       "</thead>\n",
       "<tbody>\n",
       "\t<tr><td>male  </td><td> 0</td><td> 32</td><td>0.594</td></tr>\n",
       "\t<tr><td>male  </td><td>10</td><td> 57</td><td>0.123</td></tr>\n",
       "\t<tr><td>male  </td><td>20</td><td>148</td><td>0.169</td></tr>\n",
       "\t<tr><td>male  </td><td>30</td><td>107</td><td>0.215</td></tr>\n",
       "\t<tr><td>male  </td><td>40</td><td> 57</td><td>0.211</td></tr>\n",
       "\t<tr><td>male  </td><td>50</td><td> 30</td><td>0.133</td></tr>\n",
       "\t<tr><td>male  </td><td>60</td><td> 15</td><td>0.133</td></tr>\n",
       "\t<tr><td>male  </td><td>70</td><td>  6</td><td>0.000</td></tr>\n",
       "\t<tr><td>male  </td><td>80</td><td>  1</td><td>1.000</td></tr>\n",
       "\t<tr><td>female</td><td> 0</td><td> 30</td><td>0.633</td></tr>\n",
       "\t<tr><td>female</td><td>10</td><td> 45</td><td>0.756</td></tr>\n",
       "\t<tr><td>female</td><td>20</td><td> 72</td><td>0.722</td></tr>\n",
       "\t<tr><td>female</td><td>30</td><td> 59</td><td>0.831</td></tr>\n",
       "\t<tr><td>female</td><td>40</td><td> 32</td><td>0.688</td></tr>\n",
       "\t<tr><td>female</td><td>50</td><td> 18</td><td>0.889</td></tr>\n",
       "\t<tr><td>female</td><td>60</td><td>  3</td><td>1.000</td></tr>\n",
       "</tbody>\n",
       "</table>\n"
      ],
      "text/latex": [
       "A grouped_df: 16 × 4\n",
       "\\begin{tabular}{r|llll}\n",
       " Sex & age\\_group & N & survival\\_rate\\\\\n",
       " <fct> & <dbl> & <int> & <dbl>\\\\\n",
       "\\hline\n",
       "\t male   &  0 &  32 & 0.594\\\\\n",
       "\t male   & 10 &  57 & 0.123\\\\\n",
       "\t male   & 20 & 148 & 0.169\\\\\n",
       "\t male   & 30 & 107 & 0.215\\\\\n",
       "\t male   & 40 &  57 & 0.211\\\\\n",
       "\t male   & 50 &  30 & 0.133\\\\\n",
       "\t male   & 60 &  15 & 0.133\\\\\n",
       "\t male   & 70 &   6 & 0.000\\\\\n",
       "\t male   & 80 &   1 & 1.000\\\\\n",
       "\t female &  0 &  30 & 0.633\\\\\n",
       "\t female & 10 &  45 & 0.756\\\\\n",
       "\t female & 20 &  72 & 0.722\\\\\n",
       "\t female & 30 &  59 & 0.831\\\\\n",
       "\t female & 40 &  32 & 0.688\\\\\n",
       "\t female & 50 &  18 & 0.889\\\\\n",
       "\t female & 60 &   3 & 1.000\\\\\n",
       "\\end{tabular}\n"
      ],
      "text/markdown": [
       "\n",
       "A grouped_df: 16 × 4\n",
       "\n",
       "| Sex &lt;fct&gt; | age_group &lt;dbl&gt; | N &lt;int&gt; | survival_rate &lt;dbl&gt; |\n",
       "|---|---|---|---|\n",
       "| male   |  0 |  32 | 0.594 |\n",
       "| male   | 10 |  57 | 0.123 |\n",
       "| male   | 20 | 148 | 0.169 |\n",
       "| male   | 30 | 107 | 0.215 |\n",
       "| male   | 40 |  57 | 0.211 |\n",
       "| male   | 50 |  30 | 0.133 |\n",
       "| male   | 60 |  15 | 0.133 |\n",
       "| male   | 70 |   6 | 0.000 |\n",
       "| male   | 80 |   1 | 1.000 |\n",
       "| female |  0 |  30 | 0.633 |\n",
       "| female | 10 |  45 | 0.756 |\n",
       "| female | 20 |  72 | 0.722 |\n",
       "| female | 30 |  59 | 0.831 |\n",
       "| female | 40 |  32 | 0.688 |\n",
       "| female | 50 |  18 | 0.889 |\n",
       "| female | 60 |   3 | 1.000 |\n",
       "\n"
      ],
      "text/plain": [
       "   Sex    age_group N   survival_rate\n",
       "1  male    0         32 0.594        \n",
       "2  male   10         57 0.123        \n",
       "3  male   20        148 0.169        \n",
       "4  male   30        107 0.215        \n",
       "5  male   40         57 0.211        \n",
       "6  male   50         30 0.133        \n",
       "7  male   60         15 0.133        \n",
       "8  male   70          6 0.000        \n",
       "9  male   80          1 1.000        \n",
       "10 female  0         30 0.633        \n",
       "11 female 10         45 0.756        \n",
       "12 female 20         72 0.722        \n",
       "13 female 30         59 0.831        \n",
       "14 female 40         32 0.688        \n",
       "15 female 50         18 0.889        \n",
       "16 female 60          3 1.000        "
      ]
     },
     "metadata": {},
     "output_type": "display_data"
    }
   ],
   "source": [
    "options(repr.matrix.max.rows = 20)\n",
    "# YOUR CODE HERE\n",
    "\n",
    "passengers  %>% \n",
    "    mutate(age_group = floor(Age / 10) * 10) %>%\n",
    "    group_by(Sex, age_group) %>%\n",
    "    summarize(\n",
    "        N = n(),\n",
    "        survival_rate = mean(Survived)\n",
    "    )"
   ]
  },
  {
   "cell_type": "markdown",
   "metadata": {},
   "source": [
    "## Ending notes\n",
    "\n",
    "There are many, MANY more verbs that we simply did not have the time to cover here, but are immensely useful. \n",
    "Some examples are:\n",
    "\n",
    "* `rename(df, ...)`: rename columns\n",
    "* `slice(df, ...)`: select rows of a data frame by index, instead of some condition\n",
    "* `top_n(df, N, col)`: retrieve the top N rows for values in some specified column\n",
    "\n",
    "You are highly recommended to explore more. One great resource for learning about `tidyverse` and using it to work with data is Hadley Wickham's online book: [R for Data Science](https://r4ds.had.co.nz/). \n",
    "\n",
    "Hadley Wickham is also the original author for many of the packages in `tidyverse`. In fact, in the \"early days\" (circa 2016), before the word `tidyverse` was created, the collection of Hadley Wickham's `R` packages were unofficially referred to as the `hadleyverse`, until [Hadley announced tidyverse and explicitly asked people to stop calling it the hadleyverse](https://twitter.com/hadleywickham/status/774008060549312512?lang=en)."
   ]
  }
 ],
 "metadata": {
  "kernelspec": {
   "display_name": "R",
   "language": "R",
   "name": "ir"
  },
  "language_info": {
   "codemirror_mode": "r",
   "file_extension": ".r",
   "mimetype": "text/x-r-source",
   "name": "R",
   "pygments_lexer": "r",
   "version": "3.6.1"
  }
 },
 "nbformat": 4,
 "nbformat_minor": 4
}
