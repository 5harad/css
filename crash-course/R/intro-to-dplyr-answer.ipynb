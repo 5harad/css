{
 "cells": [
  {
   "cell_type": "markdown",
   "metadata": {},
   "source": [
    "# Data manipulation with dplyr"
   ]
  },
  {
   "cell_type": "code",
   "execution_count": null,
   "metadata": {},
   "outputs": [],
   "source": [
    "# Some initial setup\n",
    "options(digits = 3, repr.matrix.max.rows = 6)\n",
    "\n",
    "# load tidyverse, which includes dplyr and ggplot\n",
    "library(\"tidyverse\")"
   ]
  },
  {
   "cell_type": "markdown",
   "metadata": {},
   "source": [
    "The [tidyverse](https://www.tidyverse.org) is a collection of actively-developed `R` packages that follow a certain principle of writing code.\n",
    "Here, we will primarily focus on `dplyr`, which is the part of `tidyverse` which deals with data manipulation.\n",
    "\n",
    "First, we will start by reading some data. \n",
    "There are many functions in `tidyverse` (and `R` in general) for reading various data formats into the `R` environment as a table of data (or, `data.table`).\n",
    "For example, either `read_csv` (from `tidyverse`) or `read.csv` (base `R`) can be used to read a `csv` file (e.g., a file where each line represents a row in the table, and the columns are separated by a `,`).\n",
    "\n",
    "For this tutorial, we will be using the [titanic](https://www.kaggle.com/c/titanic/data) passenger data from Kaggle.\n",
    "The schema of the data are being described in the following table.\n",
    "\n",
    "**Variable**|**Definition**|**Key**\n",
    ":-----:|:-----:|:-----:\n",
    "survival|Survival|0 = No, 1 = Yes\n",
    "pclass|Ticket class|1 = 1st, 2 = 2nd, 3 = 3rd\n",
    "sex|Sex| \n",
    "Age|Age in years| \n",
    "sibsp|# of siblings / spouses aboard the Titanic| \n",
    "parch|# of parents / children aboard the Titanic| \n",
    "ticket|Ticket number| \n",
    "fare|Passenger fare| \n",
    "cabin|Cabin number| \n",
    "embarked|Port of Embarkation|C = Cherbourg, Q = Queenstown, S = Southampton\n",
    "\n",
    "To get started, let's first load and take a look at the data:"
   ]
  },
  {
   "cell_type": "code",
   "execution_count": null,
   "metadata": {},
   "outputs": [],
   "source": [
    "# load the csv data\n",
    "# column types can be inferred automatically, but can also be specified with col_types argument\n",
    "passengers <- read_csv(\n",
    "    \"titanic.csv\",\n",
    "    col_types = cols(.default = \"d\", Name='c', Sex='f', Ticket='c', Embarked='c', Cabin='f'))\n",
    "# cleaning some data\n",
    "passengers <- passengers %>% drop_na(Embarked, Age)\n",
    "\n",
    "\n",
    "# Summary of each column\n",
    "summary(passengers)"
   ]
  },
  {
   "cell_type": "markdown",
   "metadata": {},
   "source": [
    "## Introduction to `dplyr` verbs\n",
    "\n",
    "In the world of `dplyr`, a _verb_ is a function that\n",
    "\n",
    "* takes a data frame as its first argument, and\n",
    "* returns another data frame as a result\n",
    "\n",
    "Any function that meets this criteria, even if it's not necessarily a function in the `dplyr` package, can be considered a _verb_.\n",
    "\n",
    "For example, the `head()` function in `R`, if applied to a data frame, will return a first `n` rows of a data frame."
   ]
  },
  {
   "cell_type": "code",
   "execution_count": null,
   "metadata": {},
   "outputs": [],
   "source": [
    "head(passengers, n = 3)  # Return a data frame that consists of the first three rows of titanic"
   ]
  },
  {
   "cell_type": "markdown",
   "metadata": {},
   "source": [
    "In this sense, the base `R` function `head()` is a verb.\n",
    "\n",
    "The **core idea** of `dplyr` is that a vast majority of data manipulation needs can be satisfied through a combination of five verbs.\n",
    "\n",
    "verb                 | action\n",
    "-------------------- | ---------\n",
    "`filter(df, ...)`    | select a subset of _rows_ by some specified condition\n",
    "`select(df, ...)`    | select a subset of _columns_\n",
    "`mutate(df, ...)`    | create a _new column_ (often as a function of existing columns)\n",
    "`arrange(df, ...)`   | reorder (sort) _rows_ according to values of specific _columns_\n",
    "`summarize(df, ...)` | aggregate and reduce a vector (column) to a single value\n",
    "\n",
    "We will explore each of these verbs (and some additional variations within each category) below."
   ]
  },
  {
   "cell_type": "markdown",
   "metadata": {},
   "source": [
    "### Selecting rows (1/5)\n",
    "\n",
    "The `filter(df, ...)` verb is used to select a subset of _rows_ that satisfy the conditions specified in `...`. \n",
    "The conditions must be written in a form that would evaluate to either `TRUE` or `FALSE`.\n",
    "\n",
    "For example, if we want a data frame of passengers in the 3rd clas:"
   ]
  },
  {
   "cell_type": "code",
   "execution_count": null,
   "metadata": {},
   "outputs": [],
   "source": [
    "filter(passengers, Pclass == 3)"
   ]
  },
  {
   "cell_type": "markdown",
   "metadata": {},
   "source": [
    "Multiple conditions can also be specified.\n",
    "\n",
    "For example, if we want a data frame of all passengers in the 3rd class that are older than 50 years old:"
   ]
  },
  {
   "cell_type": "code",
   "execution_count": null,
   "metadata": {},
   "outputs": [],
   "source": [
    "filter(passengers, Pclass == 3, Age > 50)"
   ]
  },
  {
   "cell_type": "markdown",
   "metadata": {},
   "source": [
    "By default, `filter()` will combine multiple conditions as `AND` operations.\n",
    "In the example above, we are returned passengers where `Pclass == 3` _**AND**_ `Age < 18`.\n",
    "\n",
    "We can specify an OR condition by using the `|` operator.\n",
    "\n",
    "For example, if we want passengers in the 3rd class who are either younger than 18 years old or older than 65 years old:"
   ]
  },
  {
   "cell_type": "code",
   "execution_count": null,
   "metadata": {},
   "outputs": [],
   "source": [
    "filter(passengers, Pclass == 3, Age > 50 | Age < 18)"
   ]
  },
  {
   "cell_type": "markdown",
   "metadata": {},
   "source": [
    "Use the `%in%` operator to filter to values that match a collection of values. \n",
    "\n",
    "For example, suppose we want to look at passengers embarked on Queenstown (`Q`) and Southampton (`S`)"
   ]
  },
  {
   "cell_type": "code",
   "execution_count": null,
   "metadata": {},
   "outputs": [],
   "source": [
    "filter(passengers, \n",
    "       Embarked %in% c(\"Q\", \"S\"))"
   ]
  },
  {
   "cell_type": "markdown",
   "metadata": {},
   "source": [
    "Finally, use `!` to negate any condition. \n",
    "\n",
    "For example, if we wanted to find all passengers who did NOT embark on Queenstown (`Q`) and Southampton (`S`)"
   ]
  },
  {
   "cell_type": "code",
   "execution_count": null,
   "metadata": {},
   "outputs": [],
   "source": [
    "filter(passengers, \n",
    "       !(Embarked %in% c(\"Q\", \"S\")))"
   ]
  },
  {
   "cell_type": "markdown",
   "metadata": {},
   "source": [
    "### Exercise: `filter()`\n",
    "Find all pasengers with 2 siblings and 2 parents aboard."
   ]
  },
  {
   "cell_type": "code",
   "execution_count": null,
   "metadata": {},
   "outputs": [],
   "source": [
    "# YOUR CODE HERE\n",
    "filter(passengers, SibSp == 2, Parch == 2)"
   ]
  },
  {
   "cell_type": "markdown",
   "metadata": {},
   "source": [
    "### Selecting columns (2/5)\n",
    "\n",
    "Use `select(df, ...)` to either specify which columns to select,"
   ]
  },
  {
   "cell_type": "code",
   "execution_count": null,
   "metadata": {},
   "outputs": [],
   "source": [
    "select(passengers, Survived, Pclass, Sex, Age)"
   ]
  },
  {
   "cell_type": "markdown",
   "metadata": {},
   "source": [
    "or to specify which columns to exclude, using `-`."
   ]
  },
  {
   "cell_type": "code",
   "execution_count": null,
   "metadata": {},
   "outputs": [],
   "source": [
    "select(passengers, -Name, -SibSp, -Parch)"
   ]
  },
  {
   "cell_type": "markdown",
   "metadata": {},
   "source": [
    "`dplyr` also provides some useful helper functions to `select()` columns that match specific criteria.\n",
    "\n",
    "* `starts_with(x)`: match column names that start with `x`\n",
    "* `ends_with(x)`: match column names that end with `x`\n",
    "* `contains(x)`: match column names that contain `x`\n",
    "* `matches(x)`: match column names that match (the regular expression) `x`\n",
    "\n",
    "where `x` is a string (in either single- or double-quotes).\n",
    "\n",
    "For example, if we want all the columns that start with letter `s`:"
   ]
  },
  {
   "cell_type": "code",
   "execution_count": null,
   "metadata": {},
   "outputs": [],
   "source": [
    "select(passengers, starts_with('S'))"
   ]
  },
  {
   "cell_type": "markdown",
   "metadata": {},
   "source": [
    "You can see the documentation for `select()` for details.\n",
    "In general, for any `R` function, you can pull-up the documentation (if one exists) by running `?` followed by the function name.\n",
    "For example, to see the documentation for `select()` as provided in the `dplyr` package, run:"
   ]
  },
  {
   "cell_type": "code",
   "execution_count": null,
   "metadata": {},
   "outputs": [],
   "source": [
    "?dplyr::select"
   ]
  },
  {
   "cell_type": "markdown",
   "metadata": {},
   "source": [
    "### Create new columns (3/5)\n",
    "\n",
    "Use `mutate(df, ...)` to create new columns, usually as a function of existing columns.\n",
    "\n",
    "Suppose we wish to create a column called `no_sib`, indicating whether the passenger has no sibling aboard.\n",
    "We would write,"
   ]
  },
  {
   "cell_type": "code",
   "execution_count": null,
   "metadata": {},
   "outputs": [],
   "source": [
    "mutate(passengers, no_sib = (SibSp == 0))"
   ]
  },
  {
   "cell_type": "markdown",
   "metadata": {},
   "source": [
    "We note that within a single `mutate()` function, you can refer to the new columns you've created in the previous argument.\n"
   ]
  },
  {
   "cell_type": "markdown",
   "metadata": {},
   "source": [
    "### Exercise: `mutate()`\n",
    "Create a column `num_family` representing the number of family members on board for each passenger (the sum of sibling number and parent number)"
   ]
  },
  {
   "cell_type": "code",
   "execution_count": null,
   "metadata": {},
   "outputs": [],
   "source": [
    "# YOUR CODE HERE\n",
    "mutate(passengers, num_family = SibSp + Parch)"
   ]
  },
  {
   "cell_type": "markdown",
   "metadata": {},
   "source": [
    "### Sorting (4/5)\n",
    "\n",
    "Use `arrange(df, ...)` to reorder the rows of a data frame by the value of specified columns.\n",
    "Multiple conditions are arranged from left to right."
   ]
  },
  {
   "cell_type": "code",
   "execution_count": null,
   "metadata": {},
   "outputs": [],
   "source": [
    "arrange(passengers, Pclass, Name)"
   ]
  },
  {
   "cell_type": "markdown",
   "metadata": {},
   "source": [
    "Use `desc()` around columns that you want to sort in `desc`ending order."
   ]
  },
  {
   "cell_type": "code",
   "execution_count": null,
   "metadata": {},
   "outputs": [],
   "source": [
    "arrange(passengers, Pclass, desc(Name))"
   ]
  },
  {
   "cell_type": "markdown",
   "metadata": {},
   "source": [
    "### Aggregating (5/5)\n",
    "\n",
    "Use `summarize(df, ...)` to aggregate multiple rows into a single row. Unlike `mutate()`, function that are used in `summarize()` must return a single value (i.e., \"aggregate\" the provided vector)\n",
    "\n",
    "For example, to find the min, mean, and max age of all passengers,"
   ]
  },
  {
   "cell_type": "code",
   "execution_count": null,
   "metadata": {},
   "outputs": [],
   "source": [
    "summarize(passengers,\n",
    "          min_height = min(Age),\n",
    "          avg_height = mean(Age),\n",
    "          max_height = max(Age))"
   ]
  },
  {
   "cell_type": "markdown",
   "metadata": {},
   "source": [
    "`dplyr` also provides a special function `n()` which will evaluate to the number of rows within a `dplyr` verb.\n",
    "\n",
    "For example, to count how many passengers (rows) there are in our dataset in total, "
   ]
  },
  {
   "cell_type": "code",
   "execution_count": null,
   "metadata": {},
   "outputs": [],
   "source": [
    "summarize(passengers, N = n())"
   ]
  },
  {
   "cell_type": "markdown",
   "metadata": {},
   "source": [
    "### Exercise: `summarize()`\n",
    "Calculate the mean, median and standard deviation of `Fare`.\n",
    "(hint: using `median` and `sd` function for median and standard deviation respectively) "
   ]
  },
  {
   "cell_type": "code",
   "execution_count": null,
   "metadata": {},
   "outputs": [],
   "source": [
    "# YOUR CODE HERE\n",
    "summarize(passengers,\n",
    "          mean = mean(Fare),\n",
    "          median = median(Fare),\n",
    "          sd = sd(Fare))"
   ]
  },
  {
   "cell_type": "markdown",
   "metadata": {},
   "source": [
    "### Grouping (Split-apply-combine)\n",
    "\n",
    "Now that we've covered the five core verbs, we should be able to manipulate data to our heart's desires, yes?\n",
    "\n",
    "Then, how about:\n",
    "\n",
    "* The number of passengers for each `Sex`?\n",
    "* Survival rates in each `Pclass`?\n",
    "* Number of each `Pclass` for passengers embarked on each port?\n",
    "\n",
    "As an example, let's just consider the number of passengers for each `Sex`\n",
    "\n",
    "A natural, but _**tedious**_ way to compute this would look something like this:"
   ]
  },
  {
   "cell_type": "code",
   "execution_count": null,
   "metadata": {},
   "outputs": [],
   "source": [
    "# NOTE: Code in this cell is intended to be an example of a BAD way to compute this.\n",
    "#       This is purely for illustrative purposes, and should NEVER EVER be re-used, in any context.\n",
    "male_passengers <- filter(passengers, Sex == \"male\")\n",
    "female_passengers <- filter(passengers, Sex == \"female\")\n",
    "\n",
    "N_males <- summarize(male_passengers, N = n())\n",
    "N_females <- summarize(female_passengers, N = n())\n",
    "\n",
    "c(males = N_males$N, females = N_females$N)"
   ]
  },
  {
   "cell_type": "markdown",
   "metadata": {},
   "source": [
    "This style of code can easily get out of hand, and would be a nightmare to maintain! \n",
    "(e.g., what happens if we get a new dataset where we want to count the number of rows for 8 different categories rather than just 2 categories like `male` and `female`?)\n",
    "\n",
    "As horrible as the above code is, it is useful in highlighting a common pattern that emerges when manipulating data:\n",
    "\n",
    "1. **Split**: The data are split into smaller pieces of data, according to one (or more) column. \n",
    "   In this case, we've split the data by the `Sex` column.\n",
    "1. **Apply**: Some operation is applied to each of the smaller pieces.\n",
    "   In this case, we've simply counted the number of rows of each piece using `summarize()` and `n()`.\n",
    "1. **Combine**: The results of the previous **apply** are combined to some final data structure.\n",
    "   In the above case, for simplicity, we've combinded the result as a vector; but in practice we usually want to keep everything in the form of a data frame."
   ]
  },
  {
   "cell_type": "markdown",
   "metadata": {},
   "source": [
    "This pattern in data manipulation is so common, that there is a `dplyr` verb for it. \n",
    "This is the `group_by` verb.\n",
    "\n",
    "On it's own, `group_by` makes no visible changes to a data frame, other than marking the data frame as being \"grouped\".\n",
    "The difference is only made apparent when we apply some other verb to a grouped data frame.\n",
    "\n",
    "Note that none of the `dplyr` verbs make any changes to the original data frame! This is very intentional. \n",
    "So, for now, we need to save the \"grouped\" data as a new variable for our changes to have effect (but we'll see a more convenient approach to this later)."
   ]
  },
  {
   "cell_type": "code",
   "execution_count": null,
   "metadata": {},
   "outputs": [],
   "source": [
    "passengers_by_gender <- group_by(passengers, Sex)\n",
    "\n",
    "# Note that the two data frames, on the surface, seem identical.\n",
    "passengers\n",
    "passengers_by_gender"
   ]
  },
  {
   "cell_type": "code",
   "execution_count": null,
   "metadata": {},
   "outputs": [],
   "source": [
    "# But we can see a difference when applying, for example, a summarize\n",
    "summarize(passengers, N = n())"
   ]
  },
  {
   "cell_type": "code",
   "execution_count": null,
   "metadata": {},
   "outputs": [],
   "source": [
    "summarize(passengers_by_gender, N = n())"
   ]
  },
  {
   "cell_type": "markdown",
   "metadata": {},
   "source": [
    "As shown in the simple example above, when a `dplyr` verb is applied to a \"grouped\" data frame,\n",
    "`dplyr` internally **splits**-**applies**-and **combines** the data, finally returning results for\n",
    "_each of the unique values that are found in the columns by which the data frame is grouped_.\n",
    "\n",
    "This can be a lot to process, if it's the first time you've seen this. \n",
    "But once you get used to it (via trying a bunch of manipulation tasks and seeing some more examples), you'll find it extremely convenient and powerful.\n",
    "\n",
    "Let's try answering the other questions we started this section with."
   ]
  },
  {
   "cell_type": "markdown",
   "metadata": {},
   "source": [
    "* Survival rates in each `Pclass`?"
   ]
  },
  {
   "cell_type": "code",
   "execution_count": null,
   "metadata": {},
   "outputs": [],
   "source": [
    "passengers_by_class <- group_by(passengers, Pclass)\n",
    "\n",
    "summarize(passengers_by_class, \n",
    "          survival_rate = mean(Survived))"
   ]
  },
  {
   "cell_type": "markdown",
   "metadata": {},
   "source": [
    "* Number of each `Pclass` for passengers embarked on each port?"
   ]
  },
  {
   "cell_type": "code",
   "execution_count": null,
   "metadata": {},
   "outputs": [],
   "source": [
    "passengers_by_port <- group_by(passengers, Embarked, Pclass)\n",
    "\n",
    "summarize(passengers_by_port, \n",
    "          N = n())"
   ]
  },
  {
   "cell_type": "markdown",
   "metadata": {},
   "source": [
    "### Exercise: `group_by()`\n",
    "\n",
    "Calculate the mean fare and survival rate for male and female passengers respectively"
   ]
  },
  {
   "cell_type": "code",
   "execution_count": null,
   "metadata": {},
   "outputs": [],
   "source": [
    "# YOUR CODE HERE\n",
    "gender_group <- group_by(passengers, Sex)\n",
    "summarize(gender_group, \n",
    "          mean_fare = mean(Fare),\n",
    "          survival_rate = mean(Survived)\n",
    "         )"
   ]
  },
  {
   "cell_type": "markdown",
   "metadata": {},
   "source": [
    "### Multiple (chained) operations\n",
    "\n",
    "As we've breifly seen above, we would often like to apply multiple operations (verbs) to a data frame.\n",
    "However, by design, verbs do not save intermediate changes to the original data frame, so for each operation we would have to assign the result to a new data frame.\n",
    "\n",
    "Even for a reasonable number of operations, this can get quite messy (i.e., we'd end up with so many names and data frames that we only use as intermediate steps).\n",
    "\n",
    "Consider the following query:\n",
    "\n",
    "* For each port, what is the proportion of each class?\n",
    "\n",
    "We can think of finding the answer in multiple steps:\n",
    "\n",
    "1. group by `Embarked` and `Pclass`\n",
    "1. find the number of passengers for each of the groups in the previously grouped data frame\n",
    "1. with the computed number of passengers for each class-port pair, re-group by only `Embarked`\n",
    "1. create a new column which computes the proportion of counts for each row, over the sum of rows\n",
    "\n",
    "Using the current method of saving all intermediate results, the implementation would look something like this:"
   ]
  },
  {
   "cell_type": "code",
   "execution_count": null,
   "metadata": {},
   "outputs": [],
   "source": [
    "# NOTE: Code in this cell is intended to be an example of a BAD implementation.\n",
    "#       While this implementation is acceptable, it is intended for illustrative purposes, \n",
    "#       and is best avoided.  \n",
    "passengers_by_port_and_class <- group_by(passengers, Embarked, Pclass)\n",
    "counts_by_port_and_class <- summarize(passengers_by_port_and_class, N = n())\n",
    "regroup_by_port <- group_by(counts_by_port_and_class, Embarked)\n",
    "mutate(regroup_by_port, prop = N / sum(N))"
   ]
  },
  {
   "cell_type": "markdown",
   "metadata": {},
   "source": [
    "The above code is bad for a multiple reasons. Among others, it's\n",
    "\n",
    "* creating a lot of unnecessary intermediate results that will not be used again\n",
    "* difficult to read, if you don't already know what the end goal is (e.g., you eyes have to wander left-to-right-to-left a few times to see what's going on)\n",
    "\n",
    "A sophisticated, yet quite simple, solution to this problem is the introduction of `%>%`, also called the \"pipe operator\".\n",
    "\n",
    "`%>%` is a _binary operator_ (much like `+` or `-`) which, in words, takes the result of the left-hand side, and uses it as the first argument on the right hand side. \n",
    "This may be confusing at first, but might make more sense in the context of `dplyr` _verbs_. Recall, a _verb_ in `dplyr` is any function that _returns a data frame_ (LHS) and _takes a data frame as its first argument_ (RHS).\n",
    "\n",
    "If further notation is helpful, one could also write the `%>%` as\n",
    "```\n",
    "f(x) %>% g(y) = g(f(x), y)\n",
    "```\n",
    "which, depending on your background, could be clarifying or more confusing.\n",
    "\n",
    "What this means from a practical standpoint, however, is that we no longer need to _save_ intermediate results just to use them in the next verb. \n",
    "Instead, we can use `%>%` to send results from a verb down a \"pipe\" to the next verb.\n",
    "Consider our previous example, which involved four verbs, with three intermediate steps.\n",
    "Using `%>%`, the same result can now be achieved in a (conceptually) single line:"
   ]
  },
  {
   "cell_type": "code",
   "execution_count": 35,
   "metadata": {},
   "outputs": [
    {
     "data": {
      "text/html": [
       "<table>\n",
       "<caption>A grouped_df: 9 × 4</caption>\n",
       "<thead>\n",
       "\t<tr><th scope=col>Embarked</th><th scope=col>Pclass</th><th scope=col>N</th><th scope=col>prop</th></tr>\n",
       "\t<tr><th scope=col>&lt;chr&gt;</th><th scope=col>&lt;dbl&gt;</th><th scope=col>&lt;int&gt;</th><th scope=col>&lt;dbl&gt;</th></tr>\n",
       "</thead>\n",
       "<tbody>\n",
       "\t<tr><td>C</td><td>1</td><td>74</td><td>0.569</td></tr>\n",
       "\t<tr><td>C</td><td>2</td><td>15</td><td>0.115</td></tr>\n",
       "\t<tr><td>C</td><td>3</td><td>41</td><td>0.315</td></tr>\n",
       "\t<tr><td>⋮</td><td>⋮</td><td>⋮</td><td>⋮</td></tr>\n",
       "\t<tr><td>S</td><td>1</td><td>108</td><td>0.195</td></tr>\n",
       "\t<tr><td>S</td><td>2</td><td>156</td><td>0.282</td></tr>\n",
       "\t<tr><td>S</td><td>3</td><td>290</td><td>0.523</td></tr>\n",
       "</tbody>\n",
       "</table>\n"
      ],
      "text/latex": [
       "A grouped_df: 9 × 4\n",
       "\\begin{tabular}{r|llll}\n",
       " Embarked & Pclass & N & prop\\\\\n",
       " <chr> & <dbl> & <int> & <dbl>\\\\\n",
       "\\hline\n",
       "\t C & 1 & 74 & 0.569\\\\\n",
       "\t C & 2 & 15 & 0.115\\\\\n",
       "\t C & 3 & 41 & 0.315\\\\\n",
       "\t ⋮ & ⋮ & ⋮ & ⋮\\\\\n",
       "\t S & 1 & 108 & 0.195\\\\\n",
       "\t S & 2 & 156 & 0.282\\\\\n",
       "\t S & 3 & 290 & 0.523\\\\\n",
       "\\end{tabular}\n"
      ],
      "text/markdown": [
       "\n",
       "A grouped_df: 9 × 4\n",
       "\n",
       "| Embarked &lt;chr&gt; | Pclass &lt;dbl&gt; | N &lt;int&gt; | prop &lt;dbl&gt; |\n",
       "|---|---|---|---|\n",
       "| C | 1 | 74 | 0.569 |\n",
       "| C | 2 | 15 | 0.115 |\n",
       "| C | 3 | 41 | 0.315 |\n",
       "| ⋮ | ⋮ | ⋮ | ⋮ |\n",
       "| S | 1 | 108 | 0.195 |\n",
       "| S | 2 | 156 | 0.282 |\n",
       "| S | 3 | 290 | 0.523 |\n",
       "\n"
      ],
      "text/plain": [
       "  Embarked Pclass N   prop \n",
       "1 C        1      74  0.569\n",
       "2 C        2      15  0.115\n",
       "3 C        3      41  0.315\n",
       "⋮ ⋮        ⋮      ⋮   ⋮    \n",
       "7 S        1      108 0.195\n",
       "8 S        2      156 0.282\n",
       "9 S        3      290 0.523"
      ]
     },
     "metadata": {},
     "output_type": "display_data"
    }
   ],
   "source": [
    "passengers %>% \n",
    "    group_by(Embarked, Pclass) %>%\n",
    "    summarize(N = n()) %>%\n",
    "    group_by(Embarked) %>%\n",
    "    mutate(prop = N / sum(N))"
   ]
  },
  {
   "cell_type": "markdown",
   "metadata": {},
   "source": [
    "Note the intentional style of (1) starting from the data frame (instead of a verb that explicitly includes the data frame) and (2) keeping each verb on its own line. \n",
    "This not only makes it easier to read, but also easier to maintain and modify."
   ]
  },
  {
   "cell_type": "code",
   "execution_count": 36,
   "metadata": {},
   "outputs": [
    {
     "data": {
      "text/html": [
       "<table>\n",
       "<caption>A tibble: 1 × 12</caption>\n",
       "<thead>\n",
       "\t<tr><th scope=col>PassengerId</th><th scope=col>Survived</th><th scope=col>Pclass</th><th scope=col>Name</th><th scope=col>Sex</th><th scope=col>Age</th><th scope=col>SibSp</th><th scope=col>Parch</th><th scope=col>Ticket</th><th scope=col>Fare</th><th scope=col>Cabin</th><th scope=col>Embarked</th></tr>\n",
       "\t<tr><th scope=col>&lt;dbl&gt;</th><th scope=col>&lt;dbl&gt;</th><th scope=col>&lt;dbl&gt;</th><th scope=col>&lt;chr&gt;</th><th scope=col>&lt;fct&gt;</th><th scope=col>&lt;dbl&gt;</th><th scope=col>&lt;dbl&gt;</th><th scope=col>&lt;dbl&gt;</th><th scope=col>&lt;chr&gt;</th><th scope=col>&lt;dbl&gt;</th><th scope=col>&lt;fct&gt;</th><th scope=col>&lt;chr&gt;</th></tr>\n",
       "</thead>\n",
       "<tbody>\n",
       "\t<tr><td>1</td><td>0</td><td>3</td><td>Braund, Mr. Owen Harris</td><td>male</td><td>22</td><td>1</td><td>0</td><td>A/5 21171</td><td>7.25</td><td>NA</td><td>S</td></tr>\n",
       "</tbody>\n",
       "</table>\n"
      ],
      "text/latex": [
       "A tibble: 1 × 12\n",
       "\\begin{tabular}{r|llllllllllll}\n",
       " PassengerId & Survived & Pclass & Name & Sex & Age & SibSp & Parch & Ticket & Fare & Cabin & Embarked\\\\\n",
       " <dbl> & <dbl> & <dbl> & <chr> & <fct> & <dbl> & <dbl> & <dbl> & <chr> & <dbl> & <fct> & <chr>\\\\\n",
       "\\hline\n",
       "\t 1 & 0 & 3 & Braund, Mr. Owen Harris & male & 22 & 1 & 0 & A/5 21171 & 7.25 & NA & S\\\\\n",
       "\\end{tabular}\n"
      ],
      "text/markdown": [
       "\n",
       "A tibble: 1 × 12\n",
       "\n",
       "| PassengerId &lt;dbl&gt; | Survived &lt;dbl&gt; | Pclass &lt;dbl&gt; | Name &lt;chr&gt; | Sex &lt;fct&gt; | Age &lt;dbl&gt; | SibSp &lt;dbl&gt; | Parch &lt;dbl&gt; | Ticket &lt;chr&gt; | Fare &lt;dbl&gt; | Cabin &lt;fct&gt; | Embarked &lt;chr&gt; |\n",
       "|---|---|---|---|---|---|---|---|---|---|---|---|\n",
       "| 1 | 0 | 3 | Braund, Mr. Owen Harris | male | 22 | 1 | 0 | A/5 21171 | 7.25 | NA | S |\n",
       "\n"
      ],
      "text/plain": [
       "  PassengerId Survived Pclass Name                    Sex  Age SibSp Parch\n",
       "1 1           0        3      Braund, Mr. Owen Harris male 22  1     0    \n",
       "  Ticket    Fare Cabin Embarked\n",
       "1 A/5 21171 7.25 NA    S       "
      ]
     },
     "metadata": {},
     "output_type": "display_data"
    }
   ],
   "source": [
    "head(passengers, 1)"
   ]
  },
  {
   "cell_type": "code",
   "execution_count": 59,
   "metadata": {},
   "outputs": [
    {
     "ename": "ERROR",
     "evalue": "Error in summarise_impl(.data, dots): Evaluation error: argument \"x\" is missing, with no default.\n",
     "output_type": "error",
     "traceback": [
      "Error in summarise_impl(.data, dots): Evaluation error: argument \"x\" is missing, with no default.\nTraceback:\n",
      "1. passengers %>% mutate(age_group = 10 * floor(Age/10)) %>% group_by(Sex, \n .     age_group) %>% summarize(num_pass = count(), survival_rate = mean(Survived))",
      "2. withVisible(eval(quote(`_fseq`(`_lhs`)), env, env))",
      "3. eval(quote(`_fseq`(`_lhs`)), env, env)",
      "4. eval(quote(`_fseq`(`_lhs`)), env, env)",
      "5. `_fseq`(`_lhs`)",
      "6. freduce(value, `_function_list`)",
      "7. withVisible(function_list[[k]](value))",
      "8. function_list[[k]](value)",
      "9. summarize(., num_pass = count(), survival_rate = mean(Survived))",
      "10. summarise.tbl_df(., num_pass = count(), survival_rate = mean(Survived))",
      "11. summarise_impl(.data, dots)"
     ]
    }
   ],
   "source": [
    "passengers %>%\n",
    "  mutate(age_group = 10 * floor(Age / 10)) %>%\n",
    "  group_by(Sex, age_group) %>%\n",
    "  summarize(num_pass = count(), survival_rate = mean(Survived))\n",
    "# summarize(, min_age_brack = min(age_bracket))"
   ]
  },
  {
   "cell_type": "markdown",
   "metadata": {},
   "source": [
    "### Exercise: Introduction to `dplyr`\n",
    "1. Create a column `age_group` that groups each passenger's age down to the 10s.\n",
    "1. Calculate the number of passengers and survival rate for each (`Sex`, `age_group`) pair\n",
    "\n",
    "What patterns do you observe?\n",
    "\n",
    "(hint1: function `floor` takes in x and returns the largest integers not greater than the corresponding elements of x, e.g., `floor(1.9)` will return `1`)\n",
    "\n",
    "(hint2: you can run `options(repr.matrix.max.rows = 20)` to display more rows at a time)\n"
   ]
  },
  {
   "cell_type": "code",
   "execution_count": null,
   "metadata": {},
   "outputs": [],
   "source": [
    "# YOUR CODE HERE\n",
    "options(repr.matrix.max.rows = 20)\n",
    "\n",
    "passengers  %>% \n",
    "    mutate(age_group = floor(Age / 10) * 10) %>%\n",
    "    group_by(Sex, age_group) %>%\n",
    "    summarize(\n",
    "        N = n(),\n",
    "        survival_rate = mean(Survived)\n",
    "    )"
   ]
  },
  {
   "cell_type": "markdown",
   "metadata": {},
   "source": [
    "## Ending notes\n",
    "\n",
    "There are many, MANY more verbs that we simply did not have the time to cover here, but are immensely useful. \n",
    "Some examples are:\n",
    "\n",
    "* `rename(df, ...)`: rename columns\n",
    "* `slice(df, ...)`: select rows of a data frame by index, instead of some condition\n",
    "* `top_n(df, N, col)`: retrieve the top N rows for values in some specified column\n",
    "\n",
    "You are highly recommended to explore more. One great resource for learning about `tidyverse` and using it to work with data is Hadley Wickham's online book: [R for Data Science](https://r4ds.had.co.nz/). \n",
    "\n",
    "Hadley Wickham is also the original author for many of the packages in `tidyverse`. In fact, in the \"early days\" (circa 2016), before the word `tidyverse` was created, the collection of Hadley Wickham's `R` packages were unofficially referred to as the `hadleyverse`, until [Hadley announced tidyverse and explicitly asked people to stop calling it the hadleyverse](https://twitter.com/hadleywickham/status/774008060549312512?lang=en)."
   ]
  }
 ],
 "metadata": {
  "kernelspec": {
   "display_name": "R",
   "language": "R",
   "name": "ir"
  },
  "language_info": {
   "codemirror_mode": "r",
   "file_extension": ".r",
   "mimetype": "text/x-r-source",
   "name": "R",
   "pygments_lexer": "r",
   "version": "3.5.1"
  }
 },
 "nbformat": 4,
 "nbformat_minor": 4
}
