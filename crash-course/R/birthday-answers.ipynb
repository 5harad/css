{
 "cells": [
  {
   "cell_type": "markdown",
   "metadata": {},
   "source": [
    "# Double voting and the birthday problem"
   ]
  },
  {
   "cell_type": "markdown",
   "metadata": {},
   "source": [
    "<img src=\"img/voting.jpg\" alt=\"voting\" width=\"400\" align=\"left\"/>"
   ]
  },
  {
   "cell_type": "markdown",
   "metadata": {},
   "source": [
    "## Introduction"
   ]
  },
  {
   "cell_type": "markdown",
   "metadata": {},
   "source": [
    "Claims of voter fraud are widespread. Here's one example:"
   ]
  },
  {
   "cell_type": "markdown",
   "metadata": {},
   "source": [
    "> **“Probably over a million people voted twice \n",
    "in [the 2012 presidential] election.”**\n",
    ">\n",
    "> Dick Morris, in 2014 on Fox News"
   ]
  },
  {
   "cell_type": "markdown",
   "metadata": {},
   "source": [
    "**Double voting** occurs when a single person illegally casts more than one vote in an election.\n",
    "\n",
    "To start, consider this fact:\n",
    "\n",
    "> In the 2012 election, there were 141 individuals named \"John Smith\" who were born in 1970. From those 141 individuals, we can make 27 pairs with exactly the same birthday.\n",
    "\n",
    "Were there 27 fraudulent \"John Smith\" ballots in the 2012 election? Let's find out."
   ]
  },
  {
   "cell_type": "markdown",
   "metadata": {},
   "source": [
    "## The birthday problem"
   ]
  },
  {
   "cell_type": "markdown",
   "metadata": {},
   "source": [
    "<img src=\"img/birthday.jpg\" alt=\"voting\" width=\"200\" align=\"left\"/>"
   ]
  },
  {
   "cell_type": "markdown",
   "metadata": {},
   "source": [
    "To begin answering this question, let's solve a similar problem: \n",
    "\n",
    "> In a room of 60 people, how likely is it that two people share exactly the same birthday? \n",
    ">\n",
    "> You can assume that every person in the room was born in the same year."
   ]
  },
  {
   "cell_type": "markdown",
   "metadata": {},
   "source": [
    "To answer this question, we could use the following algorithm:\n",
    " > 1. We need a room of 60 people, and we need to know their birthdays.\n",
    " > 2. We need to check whether two people in that room share a birthday.\n",
    " > 3. We need to repeat steps 1 and 2 over and over.\n",
    " > 4. We need to figure out how often two or more people shared a birthday in our simulations."
   ]
  },
  {
   "cell_type": "markdown",
   "metadata": {},
   "source": [
    "## The `sample` command"
   ]
  },
  {
   "cell_type": "markdown",
   "metadata": {},
   "source": [
    "Here's the first step of our algorithm:\n",
    "\n",
    "> We need a room of 60 people, and we need to know their birthdays.\n",
    "\n",
    "To do this in `R`, we could use the `sample` command, which works as follows:\n",
    "\n",
    "> `sample(numbers to choose from, how many numbers to choose, whether to re-use numbers)`\n",
    "\n",
    "Note: To learn more about an `R` function, enter `?<function_name>` into the console. For example, entering `?sample` will provide information about the `sample` command."
   ]
  },
  {
   "cell_type": "code",
   "execution_count": 1,
   "metadata": {},
   "outputs": [
    {
     "data": {
      "text/html": [
       "<ol class=list-inline>\n",
       "\t<li>24</li>\n",
       "\t<li>25</li>\n",
       "\t<li>18</li>\n",
       "\t<li>32</li>\n",
       "\t<li>3</li>\n",
       "</ol>\n"
      ],
      "text/latex": [
       "\\begin{enumerate*}\n",
       "\\item 24\n",
       "\\item 25\n",
       "\\item 18\n",
       "\\item 32\n",
       "\\item 3\n",
       "\\end{enumerate*}\n"
      ],
      "text/markdown": [
       "1. 24\n",
       "2. 25\n",
       "3. 18\n",
       "4. 32\n",
       "5. 3\n",
       "\n",
       "\n"
      ],
      "text/plain": [
       "[1] 24 25 18 32  3"
      ]
     },
     "metadata": {},
     "output_type": "display_data"
    }
   ],
   "source": [
    "# To run code in a cell, you can either press SHIFT + ENTER, \n",
    "# or press the triangular play button at the top of this page.\n",
    "#\n",
    "# Note: the colon (`:`) symbol allows us to create lists of consecutive \n",
    "# integers from start:end.\n",
    "\n",
    "sample(1:50, 5, replace = FALSE)"
   ]
  },
  {
   "cell_type": "code",
   "execution_count": 2,
   "metadata": {},
   "outputs": [
    {
     "data": {
      "text/html": [
       "<ol class=list-inline>\n",
       "\t<li>54</li>\n",
       "\t<li>54</li>\n",
       "\t<li>58</li>\n",
       "\t<li>60</li>\n",
       "\t<li>52</li>\n",
       "</ol>\n"
      ],
      "text/latex": [
       "\\begin{enumerate*}\n",
       "\\item 54\n",
       "\\item 54\n",
       "\\item 58\n",
       "\\item 60\n",
       "\\item 52\n",
       "\\end{enumerate*}\n"
      ],
      "text/markdown": [
       "1. 54\n",
       "2. 54\n",
       "3. 58\n",
       "4. 60\n",
       "5. 52\n",
       "\n",
       "\n"
      ],
      "text/plain": [
       "[1] 54 54 58 60 52"
      ]
     },
     "metadata": {},
     "output_type": "display_data"
    }
   ],
   "source": [
    "sample(50:60, 5, replace = TRUE)"
   ]
  },
  {
   "cell_type": "code",
   "execution_count": 5,
   "metadata": {},
   "outputs": [
    {
     "ename": "ERROR",
     "evalue": "Error in sample.int(length(x), size, replace, prob): cannot take a sample larger than the population when 'replace = FALSE'\n",
     "output_type": "error",
     "traceback": [
      "Error in sample.int(length(x), size, replace, prob): cannot take a sample larger than the population when 'replace = FALSE'\nTraceback:\n",
      "1. sample(1:5, 6, replace = FALSE)",
      "2. sample.int(length(x), size, replace, prob)"
     ]
    }
   ],
   "source": [
    "# Why does this fail?\n",
    "sample(1:5, 6, replace = FALSE)"
   ]
  },
  {
   "cell_type": "markdown",
   "metadata": {},
   "source": [
    "### Exercise\n",
    "\n",
    "**Using `sample`, simulate a list of 60 random birthdays.**"
   ]
  },
  {
   "cell_type": "code",
   "execution_count": 7,
   "metadata": {},
   "outputs": [
    {
     "data": {
      "text/html": [
       "<ol class=list-inline>\n",
       "\t<li>96</li>\n",
       "\t<li>312</li>\n",
       "\t<li>290</li>\n",
       "\t<li>339</li>\n",
       "\t<li>343</li>\n",
       "\t<li>100</li>\n",
       "\t<li>118</li>\n",
       "\t<li>348</li>\n",
       "\t<li>273</li>\n",
       "\t<li>358</li>\n",
       "\t<li>210</li>\n",
       "\t<li>7</li>\n",
       "\t<li>98</li>\n",
       "\t<li>365</li>\n",
       "\t<li>79</li>\n",
       "\t<li>353</li>\n",
       "\t<li>6</li>\n",
       "\t<li>4</li>\n",
       "\t<li>82</li>\n",
       "\t<li>260</li>\n",
       "\t<li>309</li>\n",
       "\t<li>346</li>\n",
       "\t<li>101</li>\n",
       "\t<li>159</li>\n",
       "\t<li>160</li>\n",
       "\t<li>307</li>\n",
       "\t<li>54</li>\n",
       "\t<li>128</li>\n",
       "\t<li>99</li>\n",
       "\t<li>195</li>\n",
       "\t<li>332</li>\n",
       "\t<li>323</li>\n",
       "\t<li>325</li>\n",
       "\t<li>71</li>\n",
       "\t<li>70</li>\n",
       "\t<li>273</li>\n",
       "\t<li>138</li>\n",
       "\t<li>158</li>\n",
       "\t<li>80</li>\n",
       "\t<li>327</li>\n",
       "\t<li>352</li>\n",
       "\t<li>73</li>\n",
       "\t<li>272</li>\n",
       "\t<li>165</li>\n",
       "\t<li>309</li>\n",
       "\t<li>357</li>\n",
       "\t<li>307</li>\n",
       "\t<li>107</li>\n",
       "\t<li>273</li>\n",
       "\t<li>166</li>\n",
       "\t<li>10</li>\n",
       "\t<li>300</li>\n",
       "\t<li>173</li>\n",
       "\t<li>355</li>\n",
       "\t<li>257</li>\n",
       "\t<li>345</li>\n",
       "\t<li>32</li>\n",
       "\t<li>206</li>\n",
       "\t<li>233</li>\n",
       "\t<li>173</li>\n",
       "</ol>\n"
      ],
      "text/latex": [
       "\\begin{enumerate*}\n",
       "\\item 96\n",
       "\\item 312\n",
       "\\item 290\n",
       "\\item 339\n",
       "\\item 343\n",
       "\\item 100\n",
       "\\item 118\n",
       "\\item 348\n",
       "\\item 273\n",
       "\\item 358\n",
       "\\item 210\n",
       "\\item 7\n",
       "\\item 98\n",
       "\\item 365\n",
       "\\item 79\n",
       "\\item 353\n",
       "\\item 6\n",
       "\\item 4\n",
       "\\item 82\n",
       "\\item 260\n",
       "\\item 309\n",
       "\\item 346\n",
       "\\item 101\n",
       "\\item 159\n",
       "\\item 160\n",
       "\\item 307\n",
       "\\item 54\n",
       "\\item 128\n",
       "\\item 99\n",
       "\\item 195\n",
       "\\item 332\n",
       "\\item 323\n",
       "\\item 325\n",
       "\\item 71\n",
       "\\item 70\n",
       "\\item 273\n",
       "\\item 138\n",
       "\\item 158\n",
       "\\item 80\n",
       "\\item 327\n",
       "\\item 352\n",
       "\\item 73\n",
       "\\item 272\n",
       "\\item 165\n",
       "\\item 309\n",
       "\\item 357\n",
       "\\item 307\n",
       "\\item 107\n",
       "\\item 273\n",
       "\\item 166\n",
       "\\item 10\n",
       "\\item 300\n",
       "\\item 173\n",
       "\\item 355\n",
       "\\item 257\n",
       "\\item 345\n",
       "\\item 32\n",
       "\\item 206\n",
       "\\item 233\n",
       "\\item 173\n",
       "\\end{enumerate*}\n"
      ],
      "text/markdown": [
       "1. 96\n",
       "2. 312\n",
       "3. 290\n",
       "4. 339\n",
       "5. 343\n",
       "6. 100\n",
       "7. 118\n",
       "8. 348\n",
       "9. 273\n",
       "10. 358\n",
       "11. 210\n",
       "12. 7\n",
       "13. 98\n",
       "14. 365\n",
       "15. 79\n",
       "16. 353\n",
       "17. 6\n",
       "18. 4\n",
       "19. 82\n",
       "20. 260\n",
       "21. 309\n",
       "22. 346\n",
       "23. 101\n",
       "24. 159\n",
       "25. 160\n",
       "26. 307\n",
       "27. 54\n",
       "28. 128\n",
       "29. 99\n",
       "30. 195\n",
       "31. 332\n",
       "32. 323\n",
       "33. 325\n",
       "34. 71\n",
       "35. 70\n",
       "36. 273\n",
       "37. 138\n",
       "38. 158\n",
       "39. 80\n",
       "40. 327\n",
       "41. 352\n",
       "42. 73\n",
       "43. 272\n",
       "44. 165\n",
       "45. 309\n",
       "46. 357\n",
       "47. 307\n",
       "48. 107\n",
       "49. 273\n",
       "50. 166\n",
       "51. 10\n",
       "52. 300\n",
       "53. 173\n",
       "54. 355\n",
       "55. 257\n",
       "56. 345\n",
       "57. 32\n",
       "58. 206\n",
       "59. 233\n",
       "60. 173\n",
       "\n",
       "\n"
      ],
      "text/plain": [
       " [1]  96 312 290 339 343 100 118 348 273 358 210   7  98 365  79 353   6   4  82\n",
       "[20] 260 309 346 101 159 160 307  54 128  99 195 332 323 325  71  70 273 138 158\n",
       "[39]  80 327 352  73 272 165 309 357 307 107 273 166  10 300 173 355 257 345  32\n",
       "[58] 206 233 173"
      ]
     },
     "metadata": {},
     "output_type": "display_data"
    }
   ],
   "source": [
    "# Your code goes here!\n",
    "\n",
    "# START\n",
    "sample(1:366, 60, replace = TRUE)\n",
    "# END"
   ]
  },
  {
   "cell_type": "markdown",
   "metadata": {},
   "source": [
    "## Basic operations, variables, and vectors"
   ]
  },
  {
   "cell_type": "markdown",
   "metadata": {},
   "source": [
    "### Using R as a calculator"
   ]
  },
  {
   "cell_type": "code",
   "execution_count": 6,
   "metadata": {},
   "outputs": [
    {
     "data": {
      "text/html": [
       "15"
      ],
      "text/latex": [
       "15"
      ],
      "text/markdown": [
       "15"
      ],
      "text/plain": [
       "[1] 15"
      ]
     },
     "metadata": {},
     "output_type": "display_data"
    }
   ],
   "source": [
    "5 + 10"
   ]
  },
  {
   "cell_type": "code",
   "execution_count": 27,
   "metadata": {},
   "outputs": [
    {
     "data": {
      "text/html": [
       "90"
      ],
      "text/latex": [
       "90"
      ],
      "text/markdown": [
       "90"
      ],
      "text/plain": [
       "[1] 90"
      ]
     },
     "metadata": {},
     "output_type": "display_data"
    }
   ],
   "source": [
    "30 * 3"
   ]
  },
  {
   "cell_type": "code",
   "execution_count": 29,
   "metadata": {},
   "outputs": [
    {
     "data": {
      "text/html": [
       "5"
      ],
      "text/latex": [
       "5"
      ],
      "text/markdown": [
       "5"
      ],
      "text/plain": [
       "[1] 5"
      ]
     },
     "metadata": {},
     "output_type": "display_data"
    }
   ],
   "source": [
    "25 / 5"
   ]
  },
  {
   "cell_type": "code",
   "execution_count": 30,
   "metadata": {},
   "outputs": [
    {
     "data": {
      "text/html": [
       "9"
      ],
      "text/latex": [
       "9"
      ],
      "text/markdown": [
       "9"
      ],
      "text/plain": [
       "[1] 9"
      ]
     },
     "metadata": {},
     "output_type": "display_data"
    }
   ],
   "source": [
    "3 ^ 2"
   ]
  },
  {
   "cell_type": "code",
   "execution_count": 1,
   "metadata": {},
   "outputs": [
    {
     "data": {
      "text/html": [
       "25"
      ],
      "text/latex": [
       "25"
      ],
      "text/markdown": [
       "25"
      ],
      "text/plain": [
       "[1] 25"
      ]
     },
     "metadata": {},
     "output_type": "display_data"
    }
   ],
   "source": [
    "(2 + 3) * 5"
   ]
  },
  {
   "cell_type": "markdown",
   "metadata": {},
   "source": [
    "### Variable Assignment"
   ]
  },
  {
   "cell_type": "markdown",
   "metadata": {},
   "source": [
    "While both `x <- 2` and `x = 2` will assign the value `2` to `x`, it is customary to use `<-` for variable assignment in `R`."
   ]
  },
  {
   "cell_type": "code",
   "execution_count": 5,
   "metadata": {},
   "outputs": [
    {
     "data": {
      "text/html": [
       "2"
      ],
      "text/latex": [
       "2"
      ],
      "text/markdown": [
       "2"
      ],
      "text/plain": [
       "[1] 2"
      ]
     },
     "metadata": {},
     "output_type": "display_data"
    }
   ],
   "source": [
    "x <- 2\n",
    "x"
   ]
  },
  {
   "cell_type": "code",
   "execution_count": 6,
   "metadata": {},
   "outputs": [
    {
     "data": {
      "text/html": [
       "2"
      ],
      "text/latex": [
       "2"
      ],
      "text/markdown": [
       "2"
      ],
      "text/plain": [
       "[1] 2"
      ]
     },
     "metadata": {},
     "output_type": "display_data"
    }
   ],
   "source": [
    "x = 2\n",
    "x"
   ]
  },
  {
   "cell_type": "markdown",
   "metadata": {},
   "source": [
    "### Vectors\n",
    "\n",
    "Vectors are the building block of `R`. Even single digits and strings are technically vectors of length 1."
   ]
  },
  {
   "cell_type": "code",
   "execution_count": 10,
   "metadata": {},
   "outputs": [
    {
     "name": "stdout",
     "output_type": "stream",
     "text": [
      "[1] \"hello\"\n"
     ]
    }
   ],
   "source": [
    "print(\"hello\")"
   ]
  },
  {
   "cell_type": "markdown",
   "metadata": {},
   "source": [
    "The bracketed numbers on the left side of the printed results indicate the index of the element immediately to the right.\n",
    "\n",
    "For example `[26]` indicates that `50` is the 20th element in the vector."
   ]
  },
  {
   "cell_type": "code",
   "execution_count": 25,
   "metadata": {},
   "outputs": [
    {
     "name": "stdout",
     "output_type": "stream",
     "text": [
      " [1] 25 26 27 28 29 30 31 32 33 34 35 36 37 38 39 40 41 42 43 44 45 46 47 48 49\n",
      "[26] 50 51 52 53 54 55 56 57 58 59 60 61 62 63 64 65 66 67 68 69 70 71 72 73 74\n",
      "[51] 75\n"
     ]
    }
   ],
   "source": [
    "print(25:75)"
   ]
  },
  {
   "cell_type": "markdown",
   "metadata": {},
   "source": [
    "We can also use `c()` to create vectors. The \"c\" stands for **concatenate**."
   ]
  },
  {
   "cell_type": "code",
   "execution_count": 66,
   "metadata": {},
   "outputs": [
    {
     "data": {
      "text/html": [
       "<ol class=list-inline>\n",
       "\t<li>10</li>\n",
       "\t<li>100</li>\n",
       "\t<li>1000</li>\n",
       "</ol>\n"
      ],
      "text/latex": [
       "\\begin{enumerate*}\n",
       "\\item 10\n",
       "\\item 100\n",
       "\\item 1000\n",
       "\\end{enumerate*}\n"
      ],
      "text/markdown": [
       "1. 10\n",
       "2. 100\n",
       "3. 1000\n",
       "\n",
       "\n"
      ],
      "text/plain": [
       "[1]   10  100 1000"
      ]
     },
     "metadata": {},
     "output_type": "display_data"
    }
   ],
   "source": [
    "c(10, 100, 1000)"
   ]
  },
  {
   "cell_type": "markdown",
   "metadata": {},
   "source": [
    "We can index elements of vectors using `[ ]`.\n",
    "\n",
    "**IMPORTANT NOTE**: Unlike other programming languages, R is 1-indexed, not 0-indexed. So, the first element in a vector is assigned an index of 1, not 0. "
   ]
  },
  {
   "cell_type": "code",
   "execution_count": 15,
   "metadata": {},
   "outputs": [],
   "source": [
    "my_vector <- c(\"Sharad\", \"Alex\", \"Jerry\", \"Josh\")"
   ]
  },
  {
   "cell_type": "code",
   "execution_count": 16,
   "metadata": {},
   "outputs": [
    {
     "data": {
      "text/html": [
       "'Sharad'"
      ],
      "text/latex": [
       "'Sharad'"
      ],
      "text/markdown": [
       "'Sharad'"
      ],
      "text/plain": [
       "[1] \"Sharad\""
      ]
     },
     "metadata": {},
     "output_type": "display_data"
    }
   ],
   "source": [
    "my_vector[1]"
   ]
  },
  {
   "cell_type": "markdown",
   "metadata": {},
   "source": [
    "We can optionally name elements of vectors:"
   ]
  },
  {
   "cell_type": "code",
   "execution_count": 55,
   "metadata": {},
   "outputs": [
    {
     "data": {
      "text/html": [
       "<strong>professor:</strong> 'Sharad'"
      ],
      "text/latex": [
       "\\textbf{professor:} 'Sharad'"
      ],
      "text/markdown": [
       "**professor:** 'Sharad'"
      ],
      "text/plain": [
       "professor \n",
       " \"Sharad\" "
      ]
     },
     "metadata": {},
     "output_type": "display_data"
    }
   ],
   "source": [
    "named_vector <- c(professor = \"Sharad\", ta_1 = \"Alex\", ta_2 = \"Jerry\", ta_3 = \"Josh\")\n",
    "named_vector['professor']"
   ]
  },
  {
   "cell_type": "markdown",
   "metadata": {},
   "source": [
    "## Back to the birthday problem: Finding duplicates"
   ]
  },
  {
   "cell_type": "markdown",
   "metadata": {},
   "source": [
    "The code below defines a new function, `has_duplicate`.\n",
    "\n",
    "> `has_duplicate` returns `TRUE` if a vector contains any duplicate values, and FALSE otherwise.\n",
    "\n",
    "`R` automatically returns the last line of every function. No need to call `return` explicitly."
   ]
  },
  {
   "cell_type": "code",
   "execution_count": 18,
   "metadata": {},
   "outputs": [],
   "source": [
    "has_duplicate <- function(v) {\n",
    "    any(duplicated(v))\n",
    "}"
   ]
  },
  {
   "cell_type": "code",
   "execution_count": 19,
   "metadata": {},
   "outputs": [
    {
     "data": {
      "text/html": [
       "FALSE"
      ],
      "text/latex": [
       "FALSE"
      ],
      "text/markdown": [
       "FALSE"
      ],
      "text/plain": [
       "[1] FALSE"
      ]
     },
     "metadata": {},
     "output_type": "display_data"
    }
   ],
   "source": [
    "has_duplicate(c(1, 2, 3, 4, 5))"
   ]
  },
  {
   "cell_type": "code",
   "execution_count": 22,
   "metadata": {},
   "outputs": [
    {
     "data": {
      "text/html": [
       "TRUE"
      ],
      "text/latex": [
       "TRUE"
      ],
      "text/markdown": [
       "TRUE"
      ],
      "text/plain": [
       "[1] TRUE"
      ]
     },
     "metadata": {},
     "output_type": "display_data"
    }
   ],
   "source": [
    "has_duplicate(c(1, 2, 3, 4, 5, 5))"
   ]
  },
  {
   "cell_type": "markdown",
   "metadata": {},
   "source": [
    "### Exercise\n",
    "\n",
    "**Generate a vector of 60 random birthdays, and determine whether the vector has any duplicates. Run your code a couple times to get a sense of how frequently there is at least one duplicated birthday.**"
   ]
  },
  {
   "cell_type": "code",
   "execution_count": 29,
   "metadata": {},
   "outputs": [
    {
     "data": {
      "text/html": [
       "TRUE"
      ],
      "text/latex": [
       "TRUE"
      ],
      "text/markdown": [
       "TRUE"
      ],
      "text/plain": [
       "[1] TRUE"
      ]
     },
     "metadata": {},
     "output_type": "display_data"
    }
   ],
   "source": [
    "# Your code here!\n",
    "\n",
    "# START\n",
    "has_duplicate(sample(1:366, 60, replace = TRUE))\n",
    "# END"
   ]
  },
  {
   "cell_type": "markdown",
   "metadata": {},
   "source": [
    "### Counting duplicates\n",
    "\n",
    "The code below defines another function, `num_pairs`.\n",
    "\n",
    "`num_pairs` returns the number of pairs that can formed with duplicated values.\n",
    "\n",
    "> Recall that we can form $\\binom{n}{2}$ pairs from $n$ values.\n",
    ">\n",
    "> $\\binom{n}{2} = \\frac{n!}{2!(n - 2)!}$\n",
    "\n",
    "For example, the vector `c(1, 2, 3, 3)` has two 3s, so `num_pairs` should return $\\binom{2}{2} = 1$. In other words, we can only make one pair of identical numbers.\n",
    "\n",
    "The vector `c(1, 2, 3, 3, 3, 3)` has four 3s, so `num_pairs` should return $\\binom{4}{2} = 6$.\n",
    "\n",
    "The vector `c(1, 2, 3, 4, 5, 5, 5, 6, 6)` has three 5s and two 6s, so `num_pairs` should return $\\binom{3}{2} + \\binom{2}{2} = 4$."
   ]
  },
  {
   "cell_type": "code",
   "execution_count": 76,
   "metadata": {},
   "outputs": [],
   "source": [
    "# don't worry at all about studying/understanding this specific function!\n",
    "num_pairs <- function(v) {\n",
    "    duplicated_indices <- duplicated(v)\n",
    "    duplicated_values <- v[duplicated_indices]\n",
    "    duplicated_counts <- table(duplicated_values) + 1\n",
    "    sum(choose(duplicated_counts, 2))\n",
    "}"
   ]
  },
  {
   "cell_type": "code",
   "execution_count": 77,
   "metadata": {},
   "outputs": [
    {
     "data": {
      "text/html": [
       "1"
      ],
      "text/latex": [
       "1"
      ],
      "text/markdown": [
       "1"
      ],
      "text/plain": [
       "[1] 1"
      ]
     },
     "metadata": {},
     "output_type": "display_data"
    }
   ],
   "source": [
    "num_pairs(c(1, 2, 3, 3))"
   ]
  },
  {
   "cell_type": "code",
   "execution_count": 78,
   "metadata": {},
   "outputs": [
    {
     "data": {
      "text/html": [
       "6"
      ],
      "text/latex": [
       "6"
      ],
      "text/markdown": [
       "6"
      ],
      "text/plain": [
       "[1] 6"
      ]
     },
     "metadata": {},
     "output_type": "display_data"
    }
   ],
   "source": [
    "num_pairs(c(1, 2, 3, 3, 3, 3))"
   ]
  },
  {
   "cell_type": "code",
   "execution_count": 79,
   "metadata": {},
   "outputs": [
    {
     "data": {
      "text/html": [
       "4"
      ],
      "text/latex": [
       "4"
      ],
      "text/markdown": [
       "4"
      ],
      "text/plain": [
       "[1] 4"
      ]
     },
     "metadata": {},
     "output_type": "display_data"
    }
   ],
   "source": [
    "num_pairs(c(1, 2, 3, 4, 5, 5, 5, 6, 6))"
   ]
  },
  {
   "cell_type": "markdown",
   "metadata": {},
   "source": [
    "### Exercise\n",
    "\n",
    "**Think back to the John Smith example:**\n",
    "\n",
    "> In the 2012 election, there were 141 individuals named \"John Smith\" who were born in 1970. From those 141 individuals, we can make 27 pairs with exactly the same birthday.\n",
    "\n",
    "**Generate a vector of 141 random birthdays, and determine how many duplicate pairs can be formed from elements in the vector.** Run your code repeatedly to see how the results can change due to randomness."
   ]
  },
  {
   "cell_type": "code",
   "execution_count": 85,
   "metadata": {},
   "outputs": [
    {
     "data": {
      "text/html": [
       "24"
      ],
      "text/latex": [
       "24"
      ],
      "text/markdown": [
       "24"
      ],
      "text/plain": [
       "[1] 24"
      ]
     },
     "metadata": {},
     "output_type": "display_data"
    }
   ],
   "source": [
    "# Your code here!\n",
    "\n",
    "# START\n",
    "num_pairs(sample(1:366, 141, replace = TRUE))\n",
    "# END"
   ]
  },
  {
   "cell_type": "markdown",
   "metadata": {},
   "source": [
    "### Repetition with `for` loops\n",
    "\n",
    "Here's the third step in our algorithm:\n",
    "\n",
    "> We need to repeat this process over and over.\n",
    "\n",
    "Here's the syntax for a `for` loop with `R`:\n",
    "\n",
    "> for (`element` in `vector`) { do something }"
   ]
  },
  {
   "cell_type": "markdown",
   "metadata": {},
   "source": [
    "**Important note:** `for` loops are typically not the most efficient way to solve problems in `R`, but they are a handy tool for learning about iteration.\n",
    "\n",
    "Instead, it is best to use a vectorized function, such as `replicate` or `map`. We will see an example later on."
   ]
  },
  {
   "cell_type": "code",
   "execution_count": 61,
   "metadata": {},
   "outputs": [
    {
     "name": "stdout",
     "output_type": "stream",
     "text": [
      "[1] \"Hello, world!\"\n",
      "[1] \"Hello, world!\"\n",
      "[1] \"Hello, world!\"\n",
      "[1] \"Hello, world!\"\n",
      "[1] \"Hello, world!\"\n",
      "[1] \"Hello, world!\"\n",
      "[1] \"Hello, world!\"\n",
      "[1] \"Hello, world!\"\n",
      "[1] \"Hello, world!\"\n",
      "[1] \"Hello, world!\"\n"
     ]
    }
   ],
   "source": [
    "for (i in 1:10) {\n",
    "    print(\"Hello, world!\")\n",
    "}"
   ]
  },
  {
   "cell_type": "code",
   "execution_count": 62,
   "metadata": {},
   "outputs": [
    {
     "name": "stdout",
     "output_type": "stream",
     "text": [
      "[1] 10  9 10  9 11\n",
      "[1]  3  8 20  3  6\n",
      "[1]  7 12  8  9 20\n"
     ]
    }
   ],
   "source": [
    "for (i in 1:3) {\n",
    "    print(sample(1:20, 5, replace = TRUE))\n",
    "}"
   ]
  },
  {
   "cell_type": "markdown",
   "metadata": {},
   "source": [
    "## Booleans and control flow"
   ]
  },
  {
   "cell_type": "code",
   "execution_count": 77,
   "metadata": {},
   "outputs": [
    {
     "data": {
      "text/html": [
       "FALSE"
      ],
      "text/latex": [
       "FALSE"
      ],
      "text/markdown": [
       "FALSE"
      ],
      "text/plain": [
       "[1] FALSE"
      ]
     },
     "metadata": {},
     "output_type": "display_data"
    }
   ],
   "source": [
    "9 == 10"
   ]
  },
  {
   "cell_type": "code",
   "execution_count": 46,
   "metadata": {},
   "outputs": [
    {
     "data": {
      "text/html": [
       "TRUE"
      ],
      "text/latex": [
       "TRUE"
      ],
      "text/markdown": [
       "TRUE"
      ],
      "text/plain": [
       "[1] TRUE"
      ]
     },
     "metadata": {},
     "output_type": "display_data"
    }
   ],
   "source": [
    "9 <= 10"
   ]
  },
  {
   "cell_type": "code",
   "execution_count": 47,
   "metadata": {},
   "outputs": [
    {
     "data": {
      "text/html": [
       "FALSE"
      ],
      "text/latex": [
       "FALSE"
      ],
      "text/markdown": [
       "FALSE"
      ],
      "text/plain": [
       "[1] FALSE"
      ]
     },
     "metadata": {},
     "output_type": "display_data"
    }
   ],
   "source": [
    "TRUE & FALSE"
   ]
  },
  {
   "cell_type": "code",
   "execution_count": 48,
   "metadata": {},
   "outputs": [
    {
     "data": {
      "text/html": [
       "TRUE"
      ],
      "text/latex": [
       "TRUE"
      ],
      "text/markdown": [
       "TRUE"
      ],
      "text/plain": [
       "[1] TRUE"
      ]
     },
     "metadata": {},
     "output_type": "display_data"
    }
   ],
   "source": [
    "T | F"
   ]
  },
  {
   "cell_type": "code",
   "execution_count": 50,
   "metadata": {},
   "outputs": [
    {
     "data": {
      "text/html": [
       "FALSE"
      ],
      "text/latex": [
       "FALSE"
      ],
      "text/markdown": [
       "FALSE"
      ],
      "text/plain": [
       "[1] FALSE"
      ]
     },
     "metadata": {},
     "output_type": "display_data"
    }
   ],
   "source": [
    "! TRUE"
   ]
  },
  {
   "cell_type": "code",
   "execution_count": 41,
   "metadata": {},
   "outputs": [
    {
     "name": "stdout",
     "output_type": "stream",
     "text": [
      "[1] 1\n",
      "[1] \"Counter is less than 3.\"\n",
      "[1] 2\n",
      "[1] \"Counter is less than 3.\"\n",
      "[1] 3\n",
      "[1] \"Counter is now bigger than or equal to 3!\"\n",
      "[1] 4\n",
      "[1] \"Counter is now bigger than or equal to 3!\"\n",
      "[1] 5\n",
      "[1] \"Counter is now bigger than or equal to 3!\"\n"
     ]
    }
   ],
   "source": [
    "counter <- 0\n",
    "\n",
    "for (i in 1:5) {\n",
    "    counter <- counter + 1\n",
    "    \n",
    "    print(counter)\n",
    "    \n",
    "    if (counter >= 3) {\n",
    "        print(\"Counter is now bigger than or equal to 3!\")\n",
    "    }\n",
    "    \n",
    "    else {\n",
    "        print(\"Counter is less than 3.\")\n",
    "    }\n",
    "}"
   ]
  },
  {
   "cell_type": "markdown",
   "metadata": {},
   "source": [
    "## Back to the birthday problem: Translating our algorithm into code"
   ]
  },
  {
   "cell_type": "markdown",
   "metadata": {},
   "source": [
    "We're ready to come back to our algorithm:\n",
    "\n",
    "> 1. We need a room of 60 people, and we need to know their birthdays.\n",
    "> 2. We need to check whether two people in that room share a birthday.\n",
    "> 3. We need to repeat this process over and over.\n",
    "> 4. We need to figure out how frequently two or more people shared a birthday in our simulations."
   ]
  },
  {
   "cell_type": "markdown",
   "metadata": {},
   "source": [
    "### Exercise\n",
    "\n",
    "**Translate our algorithm into code to solve the birthday problem!**"
   ]
  },
  {
   "cell_type": "code",
   "execution_count": 88,
   "metadata": {},
   "outputs": [
    {
     "data": {
      "text/html": [
       "0.996"
      ],
      "text/latex": [
       "0.996"
      ],
      "text/markdown": [
       "0.996"
      ],
      "text/plain": [
       "[1] 0.996"
      ]
     },
     "metadata": {},
     "output_type": "display_data"
    }
   ],
   "source": [
    "# Your code here!\n",
    "\n",
    "# START\n",
    "# This is the total number of birthday vectors we will generate\n",
    "n <- 1000\n",
    "\n",
    "# This is a counter to keep track of how many vectors had at least one duplicate birthday\n",
    "n_with_duplicates <- 0\n",
    "\n",
    "# Each time we see a vector with at least one duplicate, we should increment our counter\n",
    "for (i in 1:n) {\n",
    "    \n",
    "    if (has_duplicate(sample(1:366, 60, replace = TRUE))) {\n",
    "        \n",
    "        n_with_duplicates <- n_with_duplicates + 1\n",
    "    }\n",
    "    \n",
    "}\n",
    "\n",
    "# Fraction of vectors with at least one duplicate\n",
    "n_with_duplicates / n\n",
    "# END"
   ]
  },
  {
   "cell_type": "markdown",
   "metadata": {},
   "source": [
    "### Exercise A\n",
    "\n",
    "**Increase the number of birthdays we generate in each vector, and re-run the code several times. What happens to the fraction of vectors with duplicates?**"
   ]
  },
  {
   "cell_type": "markdown",
   "metadata": {},
   "source": [
    "Write your answer by double clicking on this text!"
   ]
  },
  {
   "cell_type": "markdown",
   "metadata": {},
   "source": [
    "### Exercise B\n",
    "\n",
    "**Decrease the number of birthday vectors to 100, and re-run the code several times. What happens to the results?**"
   ]
  },
  {
   "cell_type": "markdown",
   "metadata": {},
   "source": [
    "Write your answer by double clicking on this text!"
   ]
  },
  {
   "cell_type": "markdown",
   "metadata": {},
   "source": [
    "### Exercise C\n",
    "\n",
    "**Increase the number of birthday vectors to 100,000, and re-run the code several times. What happens to the results?**"
   ]
  },
  {
   "cell_type": "markdown",
   "metadata": {},
   "source": [
    "Write your answer by double clicking on this text!"
   ]
  },
  {
   "cell_type": "markdown",
   "metadata": {},
   "source": [
    "### Exercise D\n",
    "\n",
    "**How many birthdays should be in each vector for an approximately 50% chance of a match?**"
   ]
  },
  {
   "cell_type": "markdown",
   "metadata": {},
   "source": [
    "Write your answer by double clicking on this text!"
   ]
  },
  {
   "cell_type": "markdown",
   "metadata": {},
   "source": [
    "## Circling back to double voting\n",
    "\n",
    "Remember our original problem:\n",
    "\n",
    "> In the 2012 election, there were 141 individuals named \"John Smith\" who were born in 1970. From those 141 individuals, we can make 27 pairs with exactly the same birthday.\n",
    "\n",
    "### Exercise\n",
    "\n",
    "**Modify the simulation code to calculate the average number of duplicate birthday pairs across 1,000 vectors of 141 individuals.**\n",
    "\n",
    "How does your answer compare to the 27 birthday pairs we found in the real data?"
   ]
  },
  {
   "cell_type": "code",
   "execution_count": 92,
   "metadata": {},
   "outputs": [
    {
     "data": {
      "text/html": [
       "26.926"
      ],
      "text/latex": [
       "26.926"
      ],
      "text/markdown": [
       "26.926"
      ],
      "text/plain": [
       "[1] 26.926"
      ]
     },
     "metadata": {},
     "output_type": "display_data"
    }
   ],
   "source": [
    "# Your code here!\n",
    "\n",
    "# START\n",
    "n <- 1000\n",
    "\n",
    "n_pairs <- 0\n",
    "\n",
    "for (i in 1:n) {\n",
    "    \n",
    "    n_pairs <- n_pairs + num_pairs(sample(1:366, 141, replace = TRUE))\n",
    "    \n",
    "}\n",
    "\n",
    "n_pairs / n\n",
    "# END"
   ]
  }
 ],
 "metadata": {
  "kernelspec": {
   "display_name": "R",
   "language": "R",
   "name": "ir"
  },
  "language_info": {
   "codemirror_mode": "r",
   "file_extension": ".r",
   "mimetype": "text/x-r-source",
   "name": "R",
   "pygments_lexer": "r",
   "version": "3.6.3"
  }
 },
 "nbformat": 4,
 "nbformat_minor": 4
}
