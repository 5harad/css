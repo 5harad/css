{
 "cells": [
  {
   "cell_type": "markdown",
   "metadata": {},
   "source": [
    "# Data manipulation with `dplyr` and visualization with `ggplot2`"
   ]
  },
  {
   "cell_type": "code",
   "execution_count": 0,
   "metadata": {},
   "outputs": [],
   "source": [
    "# Some initial setup\n",
    "options(digits = 3, repr.matrix.max.rows = 6)\n",
    "\n",
    "# load tidyverse, which includes dplyr and ggplot\n",
    "library(\"tidyverse\")"
   ]
  },
  {
   "cell_type": "markdown",
   "metadata": {},
   "source": [
    "The [tidyverse](https://www.tidyverse.org) is a collection of actively-developed `R` packages that follow a certain principle of writing code.\n",
    "Here, we will primarily focus on `dplyr`, which deals with data manipulation, and `ggplot2` which deals with data visualization.\n",
    "\n",
    "First, we will start by reading some data. \n",
    "<!-- There are many functions in `tidyverse` (and `R` in general) for reading various data formats into the `R` environment as a table of data (or, `data.table`).\n",
    "For example, either `read_csv` (from `tidyverse`) or `read.csv` (base `R`) can be used to read a `csv` file (e.g., a file where each line represents a row in the table, and the columns are separated by a `,`). -->\n",
    "\n",
    "For this tutorial, we will be using the [titanic](https://www.kaggle.com/c/titanic/data) passenger data from Kaggle.\n",
    "The (partial) schema of the data are being described in the following table.\n",
    "\n",
    "**Variable**|**Definition**|**Key**\n",
    ":-----:|:-----:|:-----:\n",
    "Survived|Survival|0 = No, 1 = Yes\n",
    "Pclass|Ticket class|1 = 1st, 2 = 2nd, 3 = 3rd\n",
    "Sex|Sex| \n",
    "Age|Age in years| \n",
    "SibSp|# of siblings / spouses aboard the Titanic| \n",
    "Parch|# of parents / children aboard the Titanic| \n",
    "Ticket|Ticket number| \n",
    "Fare|Passenger fare| \n",
    "Cabin|Cabin number| \n",
    "Embarked|Port of Embarkation|C = Cherbourg, Q = Queenstown, S = Southampton\n",
    "\n",
    "To get started, let's first load and take a look at the data:"
   ]
  },
  {
   "cell_type": "code",
   "execution_count": 0,
   "metadata": {},
   "outputs": [],
   "source": [
    "# load the csv data\n",
    "# column types can be inferred automatically, but can also be specified with col_types argument\n",
    "# run ?read_csv to learn more about reading in data!\n",
    "passengers <- read_csv(\n",
    "    \"titanic.csv\",\n",
    "    col_types = cols(.default = \"d\", Name='c', Sex='f', Ticket='c', Embarked='c', Cabin='f')\n",
    "    )\n",
    "\n",
    "# cleaning some data\n",
    "passengers <- passengers %>% drop_na(Embarked, Age)\n",
    "\n",
    "# Summary of each column\n",
    "summary(passengers)"
   ]
  },
  {
   "cell_type": "markdown",
   "metadata": {},
   "source": [
    "## Introduction to `dplyr` verbs\n",
    "\n",
    "In the world of `dplyr`, a _verb_ is a function that\n",
    "\n",
    "* takes a data frame as its first argument, and\n",
    "* returns another data frame as a result\n",
    "\n",
    "Any function that meets this criteria, even if it's not necessarily a function in the `dplyr` package, can be considered a _verb_.\n",
    "\n",
    "For example, the `head()` function in `R`, if applied to a data frame, will return a first `n` rows of a data frame."
   ]
  },
  {
   "cell_type": "code",
   "execution_count": 0,
   "metadata": {},
   "outputs": [],
   "source": [
    "# Return a data frame that consists of the first three rows of titanic\n",
    "head(passengers, n = 3)"
   ]
  },
  {
   "cell_type": "markdown",
   "metadata": {},
   "source": [
    "In this sense, the base `R` function `head()` is a verb.\n",
    "\n",
    "The **core idea** of `dplyr` is that a vast majority of data manipulation needs can be satisfied through a combination of five verbs.\n",
    "\n",
    "verb                 | action\n",
    "-------------------- | ---------\n",
    "`filter(df, ...)`    | select a subset of _rows_ by some specified condition\n",
    "`select(df, ...)`    | select a subset of _columns_\n",
    "`mutate(df, ...)`    | create a _new column_ (often as a function of existing columns)\n",
    "`arrange(df, ...)`   | reorder (sort) _rows_ according to values of specific _columns_\n",
    "`summarize(df, ...)` | aggregate and reduce a vector (column) to a single value\n",
    "\n",
    "We will explore each of these verbs (and some additional variations within each category) below."
   ]
  },
  {
   "cell_type": "markdown",
   "metadata": {},
   "source": [
    "### Selecting rows (1/5)\n",
    "\n",
    "The `filter(df, ...)` verb is used to select a subset of _rows_ that satisfy the conditions specified in `...`. \n",
    "The conditions must be written in a form that would evaluate to either `TRUE` or `FALSE`.\n",
    "\n",
    "For example, if we want a data frame of passengers in the 3rd clas:"
   ]
  },
  {
   "cell_type": "code",
   "execution_count": 0,
   "metadata": {},
   "outputs": [],
   "source": [
    "filter(passengers, Pclass == 3)"
   ]
  },
  {
   "cell_type": "markdown",
   "metadata": {},
   "source": [
    "Multiple conditions can also be specified.\n",
    "\n",
    "For example, if we want a data frame of all passengers in the 3rd class that are older than 50 years old:"
   ]
  },
  {
   "cell_type": "code",
   "execution_count": 0,
   "metadata": {},
   "outputs": [],
   "source": [
    "filter(passengers, Pclass == 3, Age > 50)"
   ]
  },
  {
   "cell_type": "markdown",
   "metadata": {},
   "source": [
    "By default, `filter()` will combine multiple conditions as `AND` operations.\n",
    "In the example above, we are returned passengers where `Pclass == 3` _**AND**_ `Age > 50`.\n",
    "\n",
    "We can specify an OR condition by using the `|` operator.\n",
    "\n",
    "We can explicitly specify an AND condition using the `&` operator.\n",
    "\n",
    "For example, if we want passengers in the 3rd class who are either younger than 18 years old or older than 50 years old:"
   ]
  },
  {
   "cell_type": "code",
   "execution_count": 0,
   "metadata": {},
   "outputs": [],
   "source": [
    "filter(passengers, Pclass == 3, Age > 50 | Age < 18)"
   ]
  },
  {
   "cell_type": "markdown",
   "metadata": {},
   "source": [
    "Use the `%in%` operator to filter to values that match a collection of values. \n",
    "\n",
    "For example, suppose we want to look at passengers embarked on Queenstown (`Q`) and Southampton (`S`)"
   ]
  },
  {
   "cell_type": "code",
   "execution_count": 0,
   "metadata": {},
   "outputs": [],
   "source": [
    "filter(passengers, \n",
    "       Embarked %in% c(\"Q\", \"S\"))"
   ]
  },
  {
   "cell_type": "markdown",
   "metadata": {},
   "source": [
    "Finally, use `!` to negate any condition. \n",
    "\n",
    "For example, if we wanted to find all passengers who did NOT embark on Queenstown (`Q`) and Southampton (`S`)"
   ]
  },
  {
   "cell_type": "code",
   "execution_count": 0,
   "metadata": {},
   "outputs": [],
   "source": [
    "filter(passengers, \n",
    "       ! (Embarked %in% c(\"Q\", \"S\")))"
   ]
  },
  {
   "cell_type": "markdown",
   "metadata": {},
   "source": [
    "### Exercise: `filter()`\n",
    "Find all pasengers with 2 siblings/spouses and 2 parents/children aboard."
   ]
  },
  {
   "cell_type": "code",
   "execution_count": 0,
   "metadata": {},
   "outputs": [],
   "source": [
    "# YOUR CODE HERE\n"
   ]
  },
  {
   "cell_type": "markdown",
   "metadata": {},
   "source": [
    "### Selecting columns (2/5)\n",
    "\n",
    "Use `select(df, ...)` to either specify which columns to select,"
   ]
  },
  {
   "cell_type": "code",
   "execution_count": 0,
   "metadata": {},
   "outputs": [],
   "source": [
    "select(passengers, Survived, Pclass, Age)"
   ]
  },
  {
   "cell_type": "markdown",
   "metadata": {},
   "source": [
    "or to specify which columns to exclude, using `-`."
   ]
  },
  {
   "cell_type": "code",
   "execution_count": 0,
   "metadata": {},
   "outputs": [],
   "source": [
    "select(passengers, -Name, -SibSp, -Parch)\n",
    "\n",
    "# Equivalently:\n",
    "# select(passengers, -c(Name, SibSp, Parch))"
   ]
  },
  {
   "cell_type": "markdown",
   "metadata": {},
   "source": [
    "`tidyverse` also provides some useful helper functions to `select()` columns that match specific criteria.\n",
    "\n",
    "* `starts_with(x)`: match column names that start with `x`\n",
    "* `ends_with(x)`: match column names that end with `x`\n",
    "* `contains(x)`: match column names that contain `x`\n",
    "* `matches(x)`: match column names that match (the regular expression) `x`\n",
    "\n",
    "where `x` is a string (in either single- or double-quotes).\n",
    "\n",
    "For example, if we want all the columns that start with letter `S`:"
   ]
  },
  {
   "cell_type": "code",
   "execution_count": 0,
   "metadata": {},
   "outputs": [],
   "source": [
    "select(passengers, starts_with('S'))"
   ]
  },
  {
   "cell_type": "markdown",
   "metadata": {},
   "source": [
    "You can see the documentation for `select()` for details.\n",
    "In general, for any `R` function, you can pull-up the documentation (if one exists) by running `?` followed by the function name.\n",
    "For example, to see the documentation for `select()` as provided in the `dplyr` package, uncomment and run the following (warning! the output is long):"
   ]
  },
  {
   "cell_type": "code",
   "execution_count": 0,
   "metadata": {},
   "outputs": [],
   "source": [
    "# ?dplyr::select"
   ]
  },
  {
   "cell_type": "markdown",
   "metadata": {},
   "source": [
    "### Create new columns (3/5)\n",
    "\n",
    "Use `mutate(df, ...)` to create new columns, usually as a function of existing columns.\n",
    "\n",
    "Suppose we wish to create a column called `no_sib`, indicating whether the passenger has no sibling or spouse aboard.\n",
    "We would write,"
   ]
  },
  {
   "cell_type": "code",
   "execution_count": 0,
   "metadata": {},
   "outputs": [],
   "source": [
    "mutate(passengers, no_sib = (SibSp == 0))"
   ]
  },
  {
   "cell_type": "markdown",
   "metadata": {},
   "source": [
    "We note that within a single `mutate()` function, you can refer to the new columns you've created in the previous argument. For example:"
   ]
  },
  {
   "cell_type": "code",
   "execution_count": 0,
   "metadata": {},
   "outputs": [],
   "source": [
    "mutate(passengers, \n",
    "       no_sib = (SibSp == 0),\n",
    "       first_class = (Pclass == 1),\n",
    "       no_sib_and_first_class = no_sib & first_class\n",
    "      )"
   ]
  },
  {
   "cell_type": "markdown",
   "metadata": {},
   "source": [
    "### Exercise: `mutate()`\n",
    "Create a column `num_family` representing the number of family members on board for each passenger (the sum of sibling/spouse number and parent/children number)"
   ]
  },
  {
   "cell_type": "code",
   "execution_count": 0,
   "metadata": {},
   "outputs": [],
   "source": [
    "# YOUR CODE HERE\n"
   ]
  },
  {
   "cell_type": "markdown",
   "metadata": {},
   "source": [
    "### Sorting (4/5)\n",
    "\n",
    "Use `arrange(df, ...)` to reorder the rows of a data frame by the value of specified columns.\n",
    "Multiple conditions are arranged from left to right.\n",
    "\n",
    "Note that `arrange` orders from lowest to highest by default."
   ]
  },
  {
   "cell_type": "code",
   "execution_count": 0,
   "metadata": {},
   "outputs": [],
   "source": [
    "arrange(passengers, Pclass, Name)"
   ]
  },
  {
   "cell_type": "markdown",
   "metadata": {},
   "source": [
    "Use `desc()` around columns that you want to sort in `desc`ending order."
   ]
  },
  {
   "cell_type": "code",
   "execution_count": 0,
   "metadata": {},
   "outputs": [],
   "source": [
    "arrange(passengers, Pclass, desc(Name))"
   ]
  },
  {
   "cell_type": "markdown",
   "metadata": {},
   "source": [
    "### Aggregating (5/5)\n",
    "\n",
    "Use `summarize(df, ...)` to aggregate multiple rows into a single row. Unlike `mutate()`, function that are used in `summarize()` must return a single value (i.e., \"aggregate\" the provided vector)\n",
    "\n",
    "For example, to find the min, mean, and max age of all passengers,"
   ]
  },
  {
   "cell_type": "code",
   "execution_count": 0,
   "metadata": {},
   "outputs": [],
   "source": [
    "summarize(passengers,\n",
    "          min_height = min(Age),\n",
    "          avg_height = mean(Age),\n",
    "          max_height = max(Age)\n",
    "         )"
   ]
  },
  {
   "cell_type": "markdown",
   "metadata": {},
   "source": [
    "`dplyr` also provides a special function `n()` which will evaluate to the number of rows within a `dplyr` verb.\n",
    "\n",
    "For example, to count how many passengers (rows) there are in our dataset in total, "
   ]
  },
  {
   "cell_type": "code",
   "execution_count": 0,
   "metadata": {},
   "outputs": [],
   "source": [
    "summarize(passengers, N = n())"
   ]
  },
  {
   "cell_type": "markdown",
   "metadata": {},
   "source": [
    "### Exercise: `summarize()`\n",
    "Calculate the mean, median and standard deviation of `Fare`.\n",
    "(hint: using `median` and `sd` function for median and standard deviation respectively) "
   ]
  },
  {
   "cell_type": "code",
   "execution_count": 0,
   "metadata": {},
   "outputs": [],
   "source": [
    "# YOUR CODE HERE\n"
   ]
  },
  {
   "cell_type": "markdown",
   "metadata": {},
   "source": [
    "### Grouping (Split-apply-combine)\n",
    "\n",
    "Now that we've covered the five core verbs, we should be able to manipulate data to our heart's desire!\n",
    "\n",
    "Then, how about:\n",
    "\n",
    "* The number of passengers for each `Pclass`?\n",
    "* Survival rates in each `Pclass`?\n",
    "* Number of each `Pclass` for passengers embarked on each port?\n",
    "\n",
    "As an example, let's just consider the number of passengers for each `Pclass`\n",
    "\n",
    "A natural, but _**tedious**_ way to compute this would look something like this:"
   ]
  },
  {
   "cell_type": "code",
   "execution_count": 0,
   "metadata": {},
   "outputs": [],
   "source": [
    "#########\n",
    "# NOTE: Code in this cell is intended to be an example of a BAD way to compute this.\n",
    "# This is purely for illustrative purposes, and should NEVER EVER be re-used, in any context.\n",
    "#########\n",
    "\n",
    "# 1. Split into separate datasets by Pclass\n",
    "class1_passengers <- filter(passengers, Pclass == 1)\n",
    "class2_passengers <- filter(passengers, Pclass == 2)\n",
    "class3_passengers <- filter(passengers, Pclass == 3)\n",
    "\n",
    "# 2. Count the number of rows in each dataset.\n",
    "N_1 <- summarize(class1_passengers, N = n())\n",
    "N_2 <- summarize(class2_passengers, N = n())\n",
    "N_3 <- summarize(class3_passengers, N = n())\n",
    "\n",
    "# 3. Aggregate the counts into a single vector.\n",
    "c(class1_total = N_1$N, \n",
    "  class2_total = N_2$N,\n",
    "  class3_total = N_3$N)\n",
    "\n",
    "# REMINDER: This is a TERRIBLE way to do this and should not be repeated!"
   ]
  },
  {
   "cell_type": "markdown",
   "metadata": {},
   "source": [
    "This style of code can easily get out of hand, and would be a nightmare to maintain! \n",
    "(e.g., what happens if we get a new dataset where we want to count the number of rows for 50 different categories rather than just 3 categories)\n",
    "\n",
    "As horrible as the above code is, it is useful in highlighting a common pattern that emerges when manipulating data:\n",
    "\n",
    "1. **Split**: The data are split into smaller pieces of data, according to one (or more) column. \n",
    "   In this case, we've split the data by the `Pclass` column.\n",
    "1. **Apply**: Some operation is applied to each of the smaller pieces.\n",
    "   In this case, we've simply counted the number of rows of each piece using `summarize()` and `n()`.\n",
    "1. **Combine**: The results of the previous **apply** are combined to some final data structure.\n",
    "   In the above case, for simplicity, we've combinded the result as a vector; but in practice we usually want to keep everything in the form of a data frame."
   ]
  },
  {
   "cell_type": "markdown",
   "metadata": {},
   "source": [
    "This pattern in data manipulation is so common, that there is a `dplyr` verb for it. \n",
    "This is the `group_by` verb.\n",
    "\n",
    "On its own, `group_by` makes no visible changes to a data frame, other than marking the data frame as being \"grouped\".\n",
    "The difference is only made apparent when we apply some other verb to a grouped data frame.\n",
    "\n",
    "Note that none of the `dplyr` verbs make any changes to the original data frame! This is very intentional. \n",
    "So, for now, we need to save the \"grouped\" data as a new variable for our changes to have effect (but we'll see a more convenient approach to this later)."
   ]
  },
  {
   "cell_type": "code",
   "execution_count": 0,
   "metadata": {},
   "outputs": [],
   "source": [
    "passengers_by_class <- group_by(passengers, Pclass)\n",
    "\n",
    "# Note that the two data frames, on the surface, seem identical.\n",
    "passengers\n",
    "passengers_by_class"
   ]
  },
  {
   "cell_type": "code",
   "execution_count": 0,
   "metadata": {},
   "outputs": [],
   "source": [
    "# But we can see a difference when applying, for example, a summarize\n",
    "summarize(passengers, N = n())"
   ]
  },
  {
   "cell_type": "code",
   "execution_count": 0,
   "metadata": {},
   "outputs": [],
   "source": [
    "summarize(passengers_by_class, N = n())"
   ]
  },
  {
   "cell_type": "markdown",
   "metadata": {},
   "source": [
    "Note: For now, don't be too concerned about the warning `summarise() ungrouping output (override with .groups argument)`. To silence the warning, include `.groups=\"drop\"` as an argument to `summarize`. Or, simply ignore the warning for now."
   ]
  },
  {
   "cell_type": "markdown",
   "metadata": {},
   "source": [
    "As shown in the simple example above, when a `dplyr` verb is applied to a \"grouped\" data frame,\n",
    "`dplyr` internally **splits**-**applies**-and **combines** the data, finally returning results for\n",
    "_each of the unique values that are found in the columns by which the data frame is grouped_.\n",
    "\n",
    "This can be a lot to process, if it's the first time you've seen this. \n",
    "But once you get used to it (via trying a bunch of manipulation tasks and seeing some more examples), you'll find it extremely convenient and powerful.\n",
    "\n",
    "Let's try answering the other questions we started this section with."
   ]
  },
  {
   "cell_type": "markdown",
   "metadata": {},
   "source": [
    "* Survival rates in each `Pclass`?"
   ]
  },
  {
   "cell_type": "code",
   "execution_count": 0,
   "metadata": {},
   "outputs": [],
   "source": [
    "passengers_by_class <- group_by(passengers, Pclass)\n",
    "\n",
    "summarize(passengers_by_class, \n",
    "          survival_rate = mean(Survived),\n",
    "          \n",
    "          .groups = \"drop\")"
   ]
  },
  {
   "cell_type": "markdown",
   "metadata": {},
   "source": [
    "* Number of each `Pclass` for passengers embarked on each port?"
   ]
  },
  {
   "cell_type": "code",
   "execution_count": 0,
   "metadata": {},
   "outputs": [],
   "source": [
    "passengers_by_port <- group_by(passengers, Embarked, Pclass)\n",
    "\n",
    "summarize(passengers_by_port, \n",
    "          N = n(),\n",
    "          \n",
    "          .groups = \"drop\")"
   ]
  },
  {
   "cell_type": "markdown",
   "metadata": {},
   "source": [
    "### Exercise: `group_by()`\n",
    "\n",
    "Calculate the mean fare and survival rate for passengers in each Pclass, respectively."
   ]
  },
  {
   "cell_type": "code",
   "execution_count": 0,
   "metadata": {},
   "outputs": [],
   "source": [
    "# YOUR CODE HERE\n"
   ]
  },
  {
   "cell_type": "markdown",
   "metadata": {},
   "source": [
    "### Multiple (chained) operations\n",
    "\n",
    "As we've briefly seen above, we would often like to apply multiple operations (verbs) to a data frame.\n",
    "However, by design, verbs do not save intermediate changes to the original data frame, so for each operation we would have to assign the result to a new data frame.\n",
    "\n",
    "Even for a reasonable number of operations, this can get quite messy (i.e., we'd end up with so many names and data frames that we only use as intermediate steps).\n",
    "\n",
    "Consider the following query:\n",
    "\n",
    "* For each port, what is the proportion of each class?\n",
    "\n",
    "We can think of finding the answer in multiple steps:\n",
    "\n",
    "1. group by `Embarked` and `Pclass`\n",
    "1. find the number of passengers for each of the groups in the previously grouped data frame\n",
    "1. with the computed number of passengers for each class-port pair, re-group by only `Embarked`\n",
    "1. create a new column which computes the proportion of counts for each row, over the sum of rows\n",
    "\n",
    "Using the current method of saving all intermediate results, the implementation would look something like this:"
   ]
  },
  {
   "cell_type": "code",
   "execution_count": 0,
   "metadata": {},
   "outputs": [],
   "source": [
    "###########\n",
    "# NOTE: Code in this cell is intended to be an example of a BAD implementation.\n",
    "#       While this implementation is acceptable, it is intended for illustrative purposes, \n",
    "#       and is best avoided.  \n",
    "###########\n",
    "\n",
    "passengers_by_port_and_class <- group_by(passengers, Embarked, Pclass)\n",
    "counts_by_port_and_class <- summarize(passengers_by_port_and_class, N = n())\n",
    "regroup_by_port <- group_by(counts_by_port_and_class, Embarked)\n",
    "mutate(regroup_by_port, prop = N / sum(N))\n",
    "\n",
    "# REMINDER: This is NOT ideal code. Use the %>% instead (see below)."
   ]
  },
  {
   "cell_type": "markdown",
   "metadata": {},
   "source": [
    "The above code is bad for a multiple reasons. Among others, it's\n",
    "\n",
    "* creating a lot of unnecessary intermediate results that will not be used again\n",
    "* difficult to read, if you don't already know what the end goal is (e.g., you eyes have to wander left-to-right-to-left a few times to see what's going on)\n",
    "\n",
    "A sophisticated, yet quite simple, solution to this problem is the introduction of `%>%`, also called the \"pipe operator\".\n",
    "\n",
    "`%>%` is a _binary operator_ (much like `+` or `-`) which, in words, takes the result of the left-hand side, and uses it as the first argument on the right hand side. \n",
    "This may be confusing at first, but might make more sense in the context of `dplyr` _verbs_. Recall, a _verb_ in `dplyr` is any function that _returns a data frame_ (LHS) and _takes a data frame as its first argument_ (RHS).\n",
    "\n",
    "If further notation is helpful, one could also write the `%>%` as\n",
    "```\n",
    "x %>% f(y) = f(x, y)\n",
    "```\n",
    "\n",
    "What this means from a practical standpoint, however, is that we no longer need to _save_ intermediate results just to use them in the next verb. \n",
    "Instead, we can use `%>%` to send results from a verb down a \"pipe\" to the next verb.\n",
    "Consider our previous example, which involved four verbs, with three intermediate steps.\n",
    "Using `%>%`, the same result can now be achieved in a (conceptually) single line:"
   ]
  },
  {
   "cell_type": "code",
   "execution_count": 0,
   "metadata": {},
   "outputs": [],
   "source": [
    "passengers %>% \n",
    "    group_by(Embarked, Pclass) %>%\n",
    "    summarize(N = n(),\n",
    "              .groups = \"drop\") %>%\n",
    "    group_by(Embarked) %>%\n",
    "    mutate(prop = N / sum(N))"
   ]
  },
  {
   "cell_type": "markdown",
   "metadata": {},
   "source": [
    "Note the intentional style of (1) starting from the data frame (instead of a verb that explicitly includes the data frame) and (2) keeping each verb on its own line. \n",
    "This not only makes it easier to read, but also easier to maintain and modify."
   ]
  },
  {
   "cell_type": "markdown",
   "metadata": {},
   "source": [
    "### Exercise: Putting it all together\n",
    "1. Create a column `age_group` that groups each passenger's age down to the 10s (i.e., 0-9, 10-19, 20-29, etc.)\n",
    "1. Calculate the number of passengers and survival rate for each (`Pclass`, `age_group`) pair\n",
    "\n",
    "What patterns do you observe?\n",
    "\n",
    "(hint1: function `floor` takes in x and returns the largest integers not greater than the corresponding elements of x, e.g., `floor(1.9)` will return `1`)\n",
    "\n",
    "(hint2: you can run `options(repr.matrix.max.rows = 20)` to display more rows at a time)\n"
   ]
  },
  {
   "cell_type": "code",
   "execution_count": 0,
   "metadata": {},
   "outputs": [],
   "source": [
    "options(repr.matrix.max.rows = 20)\n",
    "# YOUR CODE HERE\n"
   ]
  },
  {
   "cell_type": "markdown",
   "metadata": {},
   "source": [
    "## `dplyr` ending notes\n",
    "\n",
    "There are many, MANY more verbs that we simply did not have the time to cover here, but are immensely useful. \n",
    "Some examples are:\n",
    "\n",
    "* `rename(df, ...)`: rename columns\n",
    "* `slice(df, ...)`: select rows of a data frame by index, instead of some condition\n",
    "* `top_n(df, N, col)`: retrieve the top N rows for values in some specified column\n",
    "\n",
    "You are highly recommended to explore more. One great resource for learning about `tidyverse` and using it to work with data is Hadley Wickham's online book: [R for Data Science](https://r4ds.had.co.nz/). \n",
    "\n",
    "Hadley Wickham is also the original author for many of the packages in `tidyverse`. In fact, in the \"early days\" (circa 2016), before the word `tidyverse` was created, the collection of Hadley Wickham's `R` packages were unofficially referred to as the `hadleyverse`, until [Hadley announced tidyverse and explicitly asked people to stop calling it the hadleyverse](https://twitter.com/hadleywickham/status/774008060549312512?lang=en)."
   ]
  },
  {
   "cell_type": "markdown",
   "metadata": {},
   "source": [
    "# `ggplot2` mini-tutorial"
   ]
  },
  {
   "cell_type": "markdown",
   "metadata": {},
   "source": [
    "First off, here are three great ways to become a `ggplot2` pro:\n",
    "- Chapter 3 of R4DS (**I cannot stress this enough!**): https://r4ds.had.co.nz/data-visualisation.html\n",
    "- Look at the sample code for the plots that Sharad showed in lecture\n",
    "- Visualization slides in `extra-materials` folder for this section\n",
    "- Google \"how to do [X] with ggplot\" !\n",
    "\n",
    "Now, consider our final result from the `dplyr` introduction:"
   ]
  },
  {
   "cell_type": "code",
   "execution_count": 0,
   "metadata": {},
   "outputs": [],
   "source": [
    "survival_by_age_group <- \n",
    "    passengers  %>% \n",
    "    mutate(age_group = floor(Age / 10) * 10) %>%\n",
    "    group_by(Pclass, age_group) %>%\n",
    "    summarize(\n",
    "        N = n(),\n",
    "        survival_rate = mean(Survived),\n",
    "        \n",
    "        .groups = \"drop\"\n",
    "    )\n",
    "\n",
    "survival_by_age_group"
   ]
  },
  {
   "cell_type": "markdown",
   "metadata": {},
   "source": [
    "With a some effort, we can glean a story from this table. But, the table imposes a high cognitive load. \n",
    "    \n",
    "Reducing cognitive load is a key goal of data visualization. Let's see if we can tell a richer story with a scatterplot."
   ]
  },
  {
   "cell_type": "markdown",
   "metadata": {},
   "source": [
    "The following formula is a helpful starting point for building a scatterplot with `ggplot2`: \n",
    "\n",
    "``` \n",
    "ggplot(<DATAFRAME>) +\n",
    "    geom_point(aes(x = <X_VARIABLE_NAME>, y = <Y_VARIABLE_NAME>))\n",
    "```\n",
    "\n",
    "Note: Both `dplyr` and `ggplot2` are automatically imported after calling `library(tidyverse)`\n",
    "\n",
    "Here's the formula in action:"
   ]
  },
  {
   "cell_type": "code",
   "execution_count": 0,
   "metadata": {},
   "outputs": [],
   "source": [
    "ggplot(survival_by_age_group) +\n",
    "    geom_point(aes(x = age_group, y = survival_rate))"
   ]
  },
  {
   "cell_type": "markdown",
   "metadata": {},
   "source": [
    "Oof, this is messy. So far, I think I'd rather read the table!\n",
    "\n",
    "To make it easier to distinguish the groups, let's color the points by group."
   ]
  },
  {
   "cell_type": "code",
   "execution_count": 0,
   "metadata": {},
   "outputs": [],
   "source": [
    "ggplot(survival_by_age_group) +\n",
    "    geom_point(aes(x = age_group, y = survival_rate, color = factor(Pclass)))"
   ]
  },
  {
   "cell_type": "markdown",
   "metadata": {},
   "source": [
    "A little better? Notice how ``ggplot`` automatically gave us a legend, that sure is nice.\n",
    "\n",
    "Since age groups are sequential and ordered, it would be helpful to connect our points. Connecting the points will make it easier to see a trend.\n",
    "\n",
    "\n",
    "Note: ``ggplot2`` uses `+` to chain calls, not `%>%`"
   ]
  },
  {
   "cell_type": "code",
   "execution_count": 0,
   "metadata": {},
   "outputs": [],
   "source": [
    "ggplot(survival_by_age_group) +\n",
    "    geom_point(aes(x = age_group, y = survival_rate, color = factor(Pclass))) +\n",
    "    geom_line(aes(x = age_group, y = survival_rate, color = factor(Pclass)))"
   ]
  },
  {
   "cell_type": "markdown",
   "metadata": {},
   "source": [
    "Better! It looks like something funny is going on at the high end of the first class group.\n",
    "\n",
    "After inspecting the table, it looks like the highest age group has few individuals. Let's change the size of our points to reflect this lack of data.\n",
    "\n",
    "Notice how point size is only relevant to the points, not the lines, so we only refer to size inside `geom_point`.\n",
    "\n",
    "Also, `geom_point` and `geom_line` currently share the same call to `aes`, so we can conveniently abstract that code to the main ``ggplot`` call."
   ]
  },
  {
   "cell_type": "code",
   "execution_count": 0,
   "metadata": {},
   "outputs": [],
   "source": [
    "ggplot(survival_by_age_group, aes(x = age_group, y = survival_rate, color = factor(Pclass))) +\n",
    "    geom_point(aes(size = N)) +\n",
    "    geom_line()"
   ]
  },
  {
   "cell_type": "markdown",
   "metadata": {},
   "source": [
    "This plot is looking pretty good. Below are some potential improvements; can you think of any others?\n",
    "- Add better labels and units to the x and y axes\n",
    "- Change the y-axis to percentages\n",
    "- Rename the legends to something more descriptive\n",
    "- Give the plot a title that briefly summarizes the takeaway.\n",
    "- Remove the gridlines (an example of \"chart junk\")\n",
    "- Remove the gray background\n",
    "\n",
    "The code below contains each of these improvements."
   ]
  },
  {
   "cell_type": "code",
   "execution_count": 0,
   "metadata": {},
   "outputs": [],
   "source": [
    "theme_set(theme_bw())\n",
    "\n",
    "ggplot(survival_by_age_group, aes(x = age_group, y = survival_rate, color = factor(Pclass))) +\n",
    "    geom_point(aes(size = N)) +\n",
    "    geom_line() +\n",
    "    scale_x_continuous(\n",
    "        name = \"Age group (years)\"\n",
    "    ) +\n",
    "    scale_y_continuous(\n",
    "        name = \"Survival rate (%)\",\n",
    "        labels = scales::percent_format(accuracy=1)\n",
    "    ) +\n",
    "    scale_size_continuous(\n",
    "        name = \"Number of passengers\"\n",
    "    ) +\n",
    "    scale_color_discrete(\n",
    "        name = \"Passenger class\"\n",
    "    ) +\n",
    "    ggtitle(\"Survival rates differ across age and class\") +\n",
    "    theme(\n",
    "        panel.grid = element_blank()\n",
    "    )\n",
    "    "
   ]
  },
  {
   "cell_type": "markdown",
   "metadata": {},
   "source": [
    "To save a plot, use ``ggsave``. \n",
    "\n",
    "``ggsave`` will automatically save the most recently created plot, unless you specify otherwise. See ``?ggsave`` for more details. "
   ]
  },
  {
   "cell_type": "code",
   "execution_count": 0,
   "metadata": {},
   "outputs": [],
   "source": [
    "ggsave(\"survival_rates.pdf\", width=6, height=4)"
   ]
  },
  {
   "cell_type": "markdown",
   "metadata": {},
   "source": [
    "Finally, I want to again stress three great ways to familiarize yourself with `ggplot2`: \n",
    "- Chapter 3 of R4DS (**I cannot stress this enough!**): https://r4ds.had.co.nz/data-visualisation.html\n",
    "- Look at the sample code for the plots that Sharad showed in lecture\n",
    "- Google \"how to do [X] with ggplot\" !"
   ]
  }
 ],
 "metadata": {
  "kernelspec": {
   "display_name": "R",
   "language": "R",
   "name": "ir"
  },
  "language_info": {
   "codemirror_mode": "r",
   "file_extension": ".r",
   "mimetype": "text/x-r-source",
   "name": "R",
   "pygments_lexer": "r",
   "version": "3.6.3"
  }
 },
 "nbformat": 4,
 "nbformat_minor": 4
}
