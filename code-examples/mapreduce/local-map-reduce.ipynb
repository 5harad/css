{
 "cells": [
  {
   "cell_type": "markdown",
   "metadata": {},
   "source": [
    "# Local example of word counts with Map-Reduce"
   ]
  },
  {
   "cell_type": "markdown",
   "metadata": {},
   "source": [
    "## Mapper"
   ]
  },
  {
   "cell_type": "code",
   "execution_count": null,
   "metadata": {
    "collapsed": true
   },
   "outputs": [],
   "source": [
    "#!/usr/bin/env python2\n",
    "\"\"\"Example mapper module for counting words via map-reduce.\n",
    "\n",
    "This file is saved as wc_mapper.py with execute permission \n",
    "(chmod +x wc_mapper.py)\"\"\"\n",
    "\n",
    "import sys\n",
    "\n",
    "\n",
    "def main():\n",
    "    \"\"\"Take lines from stdin and emit each word with count 1.\n",
    "\n",
    "    This is for illustration purposes, treating any string separated by\n",
    "    whitespace as a 'word'. Additional cleaning (e.g., removing punctuation)\n",
    "    could be added if necessary.\"\"\"\n",
    "    for line in sys.stdin:\n",
    "        words = line.strip().split()\n",
    "        for word in words:\n",
    "            print word + '\\t' + '1'\n",
    "\n",
    "if __name__ == \"__main__\":\n",
    "    main()"
   ]
  },
  {
   "cell_type": "markdown",
   "metadata": {},
   "source": [
    "## Reducer"
   ]
  },
  {
   "cell_type": "code",
   "execution_count": null,
   "metadata": {
    "collapsed": true
   },
   "outputs": [],
   "source": [
    "#!/usr/bin/env python2\n",
    "\"\"\"Example reducer module for counting words via map-reduce.\n",
    "\n",
    "This file is saved as wc_reducer.py with execute permission \n",
    "(chmod +x wc_reducer.py)\"\"\"\n",
    "\n",
    "from itertools import groupby\n",
    "from operator import itemgetter\n",
    "import sys\n",
    "\n",
    "\n",
    "def read_mapper_output(lines):\n",
    "    \"\"\"Returns generator over each line of lines as a list split by tabs.\"\"\"\n",
    "    for line in lines:\n",
    "        yield line.rstrip().split('\\t', 1)\n",
    "\n",
    "\n",
    "def main():\n",
    "    \"\"\"Take lines from stdin and print the sum in each group of words.\"\"\"\n",
    "    data = read_mapper_output(sys.stdin)\n",
    "    for word, group in groupby(data, itemgetter(0)):\n",
    "        total_count = sum([int(count) for _, count in group])\n",
    "        print word + '\\t' + str(total_count)\n",
    "\n",
    "if __name__ == \"__main__\":\n",
    "    main()"
   ]
  },
  {
   "cell_type": "markdown",
   "metadata": {},
   "source": [
    "## Example"
   ]
  },
  {
   "cell_type": "markdown",
   "metadata": {},
   "source": [
    "Count words in the following example text:"
   ]
  },
  {
   "cell_type": "code",
   "execution_count": 1,
   "metadata": {
    "collapsed": false
   },
   "outputs": [
    {
     "name": "stdout",
     "output_type": "stream",
     "text": [
      "one fish two fish\n",
      "red fish blue fish\n",
      "black fish blue fish\n",
      "old fish new fish\n"
     ]
    }
   ],
   "source": [
    "%%bash\n",
    "cat seuss"
   ]
  },
  {
   "cell_type": "markdown",
   "metadata": {},
   "source": [
    "For illustrative purposes, use the `sort` command in `bash` for the shuffle stage."
   ]
  },
  {
   "cell_type": "code",
   "execution_count": 1,
   "metadata": {
    "collapsed": false
   },
   "outputs": [
    {
     "name": "stdout",
     "output_type": "stream",
     "text": [
      "black\t1\n",
      "blue\t2\n",
      "fish\t8\n",
      "new\t1\n",
      "old\t1\n",
      "one\t1\n",
      "red\t1\n",
      "two\t1\n"
     ]
    }
   ],
   "source": [
    "%%bash\n",
    "cat seuss | ./wc_mapper.py | sort | ./wc_reducer.py | head"
   ]
  },
  {
   "cell_type": "markdown",
   "metadata": {},
   "source": [
    "Another example, using a longer text (the full text of Alice in Wonderland), sorted by the total word count"
   ]
  },
  {
   "cell_type": "code",
   "execution_count": 8,
   "metadata": {
    "collapsed": false
   },
   "outputs": [],
   "source": [
    "%%bash\n",
    "cat alice.txt | ./wc_mapper.py | sort | ./wc_reducer.py | sort --key 2 -n --reverse > word_counts.txt"
   ]
  },
  {
   "cell_type": "code",
   "execution_count": 9,
   "metadata": {
    "collapsed": false
   },
   "outputs": [
    {
     "name": "stdout",
     "output_type": "stream",
     "text": [
      "the\t1664\n",
      "and\t780\n",
      "to\t773\n",
      "a\t662\n",
      "of\t596\n",
      "she\t484\n",
      "said\t416\n",
      "in\t401\n",
      "it\t356\n",
      "was\t329\n"
     ]
    }
   ],
   "source": [
    "%%bash\n",
    "cat word_counts.txt | head"
   ]
  }
 ],
 "metadata": {
  "kernelspec": {
   "display_name": "Python 2",
   "language": "python",
   "name": "python2"
  },
  "language_info": {
   "codemirror_mode": {
    "name": "ipython",
    "version": 2
   },
   "file_extension": ".py",
   "mimetype": "text/x-python",
   "name": "python",
   "nbconvert_exporter": "python",
   "pygments_lexer": "ipython2",
   "version": "2.7.12"
  }
 },
 "nbformat": 4,
 "nbformat_minor": 1
}
