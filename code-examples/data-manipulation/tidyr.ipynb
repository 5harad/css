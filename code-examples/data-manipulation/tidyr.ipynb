{
 "cells": [
  {
   "cell_type": "markdown",
   "metadata": {},
   "source": [
    "# Data reshaping in `R` with `tidyr`\n",
    "\n",
    "A \"tidy\" dataset is a dataset in which \n",
    "\n",
    "1. each variable is represented by a column\n",
    "1. each observation is represented as its own row\n",
    "1. each value has its own cell\n",
    "\n",
    "The `R` package `tidyr` implements a handful of simple verbs that help organize data into a \"tidy\" format."
   ]
  },
  {
   "cell_type": "code",
   "execution_count": 2,
   "metadata": {
    "collapsed": false
   },
   "outputs": [
    {
     "data": {
      "text/html": [
       "<table>\n",
       "<thead><tr><th scope=col>ID</th><th scope=col>HW1</th><th scope=col>HW2</th><th scope=col>HW3</th><th scope=col>HW4</th><th scope=col>HW5</th><th scope=col>info</th></tr></thead>\n",
       "<tbody>\n",
       "\t<tr><td>jamie           </td><td>7.922           </td><td>4.843           </td><td>4.012           </td><td>2.345           </td><td>6.429           </td><td>male/lannister  </td></tr>\n",
       "\t<tr><td>cersei          </td><td>6.545           </td><td>1.428           </td><td>4.475           </td><td>8.489           </td><td>6.267           </td><td>female/lannister</td></tr>\n",
       "\t<tr><td>hodor           </td><td>1.080           </td><td>1.886           </td><td>7.811           </td><td>7.035           </td><td>3.228           </td><td>male/stark      </td></tr>\n",
       "</tbody>\n",
       "</table>\n"
      ],
      "text/latex": [
       "\\begin{tabular}{r|lllllll}\n",
       " ID & HW1 & HW2 & HW3 & HW4 & HW5 & info\\\\\n",
       "\\hline\n",
       "\t jamie            & 7.922            & 4.843            & 4.012            & 2.345            & 6.429            & male/lannister  \\\\\n",
       "\t cersei           & 6.545            & 1.428            & 4.475            & 8.489            & 6.267            & female/lannister\\\\\n",
       "\t hodor            & 1.080            & 1.886            & 7.811            & 7.035            & 3.228            & male/stark      \\\\\n",
       "\\end{tabular}\n"
      ],
      "text/plain": [
       "  ID     HW1   HW2   HW3   HW4   HW5   info            \n",
       "1 jamie  7.922 4.843 4.012 2.345 6.429 male/lannister  \n",
       "2 cersei 6.545 1.428 4.475 8.489 6.267 female/lannister\n",
       "3 hodor  1.080 1.886 7.811 7.035 3.228 male/stark      "
      ]
     },
     "metadata": {},
     "output_type": "display_data"
    }
   ],
   "source": [
    "library(tidyr)\n",
    "\n",
    "# An example un-tidy data.frame\n",
    "grades <- data.frame(\n",
    "    ID=c('jamie', 'cersei', 'hodor'),\n",
    "    matrix(runif(15, 1, 10), nrow=3))\n",
    "colnames(grades) <- c('ID', paste0('HW', 1:5))\n",
    "grades$info <- c('male/lannister',\n",
    "                 'female/lannister',\n",
    "                 'male/stark')\n",
    "grades"
   ]
  },
  {
   "cell_type": "markdown",
   "metadata": {},
   "source": [
    "This data frame might seem harmless at first glance, but notice that the homework nubmer (e.g., HW1, HW2, ...), which is a variable in the dataset appears as a subset of the row names, instead of having its own column. Also, the actual score corresponding to each ID/HW pair should be a separate column as well.\n",
    "\n",
    "We can use the `gather()` verb from `tidyr` to collect multiple columns into key-value pairs with the syntax\n",
    "\n",
    "`gather(data, key, value, ...)`\n",
    "\n",
    "where the `...` should be replaced by column specifications"
   ]
  },
  {
   "cell_type": "code",
   "execution_count": 4,
   "metadata": {
    "collapsed": false
   },
   "outputs": [
    {
     "data": {
      "text/html": [
       "<table>\n",
       "<thead><tr><th scope=col>ID</th><th scope=col>info</th><th scope=col>HW</th><th scope=col>score</th></tr></thead>\n",
       "<tbody>\n",
       "\t<tr><td>jamie           </td><td>male/lannister  </td><td>HW1             </td><td>7.922           </td></tr>\n",
       "\t<tr><td>cersei          </td><td>female/lannister</td><td>HW1             </td><td>6.545           </td></tr>\n",
       "\t<tr><td>hodor           </td><td>male/stark      </td><td>HW1             </td><td>1.080           </td></tr>\n",
       "\t<tr><td>jamie           </td><td>male/lannister  </td><td>HW2             </td><td>4.843           </td></tr>\n",
       "\t<tr><td>cersei          </td><td>female/lannister</td><td>HW2             </td><td>1.428           </td></tr>\n",
       "\t<tr><td>hodor           </td><td>male/stark      </td><td>HW2             </td><td>1.886           </td></tr>\n",
       "\t<tr><td>jamie           </td><td>male/lannister  </td><td>HW3             </td><td>4.012           </td></tr>\n",
       "\t<tr><td>cersei          </td><td>female/lannister</td><td>HW3             </td><td>4.475           </td></tr>\n",
       "\t<tr><td>hodor           </td><td>male/stark      </td><td>HW3             </td><td>7.811           </td></tr>\n",
       "\t<tr><td>jamie           </td><td>male/lannister  </td><td>HW4             </td><td>2.345           </td></tr>\n",
       "\t<tr><td>cersei          </td><td>female/lannister</td><td>HW4             </td><td>8.489           </td></tr>\n",
       "\t<tr><td>hodor           </td><td>male/stark      </td><td>HW4             </td><td>7.035           </td></tr>\n",
       "\t<tr><td>jamie           </td><td>male/lannister  </td><td>HW5             </td><td>6.429           </td></tr>\n",
       "\t<tr><td>cersei          </td><td>female/lannister</td><td>HW5             </td><td>6.267           </td></tr>\n",
       "\t<tr><td>hodor           </td><td>male/stark      </td><td>HW5             </td><td>3.228           </td></tr>\n",
       "</tbody>\n",
       "</table>\n"
      ],
      "text/latex": [
       "\\begin{tabular}{r|llll}\n",
       " ID & info & HW & score\\\\\n",
       "\\hline\n",
       "\t jamie            & male/lannister   & HW1              & 7.922           \\\\\n",
       "\t cersei           & female/lannister & HW1              & 6.545           \\\\\n",
       "\t hodor            & male/stark       & HW1              & 1.080           \\\\\n",
       "\t jamie            & male/lannister   & HW2              & 4.843           \\\\\n",
       "\t cersei           & female/lannister & HW2              & 1.428           \\\\\n",
       "\t hodor            & male/stark       & HW2              & 1.886           \\\\\n",
       "\t jamie            & male/lannister   & HW3              & 4.012           \\\\\n",
       "\t cersei           & female/lannister & HW3              & 4.475           \\\\\n",
       "\t hodor            & male/stark       & HW3              & 7.811           \\\\\n",
       "\t jamie            & male/lannister   & HW4              & 2.345           \\\\\n",
       "\t cersei           & female/lannister & HW4              & 8.489           \\\\\n",
       "\t hodor            & male/stark       & HW4              & 7.035           \\\\\n",
       "\t jamie            & male/lannister   & HW5              & 6.429           \\\\\n",
       "\t cersei           & female/lannister & HW5              & 6.267           \\\\\n",
       "\t hodor            & male/stark       & HW5              & 3.228           \\\\\n",
       "\\end{tabular}\n"
      ],
      "text/plain": [
       "   ID     info             HW  score\n",
       "1  jamie  male/lannister   HW1 7.922\n",
       "2  cersei female/lannister HW1 6.545\n",
       "3  hodor  male/stark       HW1 1.080\n",
       "4  jamie  male/lannister   HW2 4.843\n",
       "5  cersei female/lannister HW2 1.428\n",
       "6  hodor  male/stark       HW2 1.886\n",
       "7  jamie  male/lannister   HW3 4.012\n",
       "8  cersei female/lannister HW3 4.475\n",
       "9  hodor  male/stark       HW3 7.811\n",
       "10 jamie  male/lannister   HW4 2.345\n",
       "11 cersei female/lannister HW4 8.489\n",
       "12 hodor  male/stark       HW4 7.035\n",
       "13 jamie  male/lannister   HW5 6.429\n",
       "14 cersei female/lannister HW5 6.267\n",
       "15 hodor  male/stark       HW5 3.228"
      ]
     },
     "metadata": {},
     "output_type": "display_data"
    }
   ],
   "source": [
    "grades.tidy <- gather(grades, HW, score, HW1:HW5)\n",
    "grades.tidy"
   ]
  },
  {
   "cell_type": "markdown",
   "metadata": {},
   "source": [
    "Still, the `info` column of `grades.tidy` contains a pair of values. Truly \"tidy\" data frames will have one cell assigned to one value. In this case, we can use the `separate()` verb to split the `info` column into two columns."
   ]
  },
  {
   "cell_type": "code",
   "execution_count": 6,
   "metadata": {
    "collapsed": false
   },
   "outputs": [
    {
     "data": {
      "text/html": [
       "<table>\n",
       "<thead><tr><th scope=col>ID</th><th scope=col>sex</th><th scope=col>house</th><th scope=col>HW</th><th scope=col>score</th></tr></thead>\n",
       "<tbody>\n",
       "\t<tr><td>jamie    </td><td>male     </td><td>lannister</td><td>HW1      </td><td>7.922    </td></tr>\n",
       "\t<tr><td>cersei   </td><td>female   </td><td>lannister</td><td>HW1      </td><td>6.545    </td></tr>\n",
       "\t<tr><td>hodor    </td><td>male     </td><td>stark    </td><td>HW1      </td><td>1.080    </td></tr>\n",
       "\t<tr><td>jamie    </td><td>male     </td><td>lannister</td><td>HW2      </td><td>4.843    </td></tr>\n",
       "\t<tr><td>cersei   </td><td>female   </td><td>lannister</td><td>HW2      </td><td>1.428    </td></tr>\n",
       "\t<tr><td>hodor    </td><td>male     </td><td>stark    </td><td>HW2      </td><td>1.886    </td></tr>\n",
       "\t<tr><td>jamie    </td><td>male     </td><td>lannister</td><td>HW3      </td><td>4.012    </td></tr>\n",
       "\t<tr><td>cersei   </td><td>female   </td><td>lannister</td><td>HW3      </td><td>4.475    </td></tr>\n",
       "\t<tr><td>hodor    </td><td>male     </td><td>stark    </td><td>HW3      </td><td>7.811    </td></tr>\n",
       "\t<tr><td>jamie    </td><td>male     </td><td>lannister</td><td>HW4      </td><td>2.345    </td></tr>\n",
       "\t<tr><td>cersei   </td><td>female   </td><td>lannister</td><td>HW4      </td><td>8.489    </td></tr>\n",
       "\t<tr><td>hodor    </td><td>male     </td><td>stark    </td><td>HW4      </td><td>7.035    </td></tr>\n",
       "\t<tr><td>jamie    </td><td>male     </td><td>lannister</td><td>HW5      </td><td>6.429    </td></tr>\n",
       "\t<tr><td>cersei   </td><td>female   </td><td>lannister</td><td>HW5      </td><td>6.267    </td></tr>\n",
       "\t<tr><td>hodor    </td><td>male     </td><td>stark    </td><td>HW5      </td><td>3.228    </td></tr>\n",
       "</tbody>\n",
       "</table>\n"
      ],
      "text/latex": [
       "\\begin{tabular}{r|lllll}\n",
       " ID & sex & house & HW & score\\\\\n",
       "\\hline\n",
       "\t jamie     & male      & lannister & HW1       & 7.922    \\\\\n",
       "\t cersei    & female    & lannister & HW1       & 6.545    \\\\\n",
       "\t hodor     & male      & stark     & HW1       & 1.080    \\\\\n",
       "\t jamie     & male      & lannister & HW2       & 4.843    \\\\\n",
       "\t cersei    & female    & lannister & HW2       & 1.428    \\\\\n",
       "\t hodor     & male      & stark     & HW2       & 1.886    \\\\\n",
       "\t jamie     & male      & lannister & HW3       & 4.012    \\\\\n",
       "\t cersei    & female    & lannister & HW3       & 4.475    \\\\\n",
       "\t hodor     & male      & stark     & HW3       & 7.811    \\\\\n",
       "\t jamie     & male      & lannister & HW4       & 2.345    \\\\\n",
       "\t cersei    & female    & lannister & HW4       & 8.489    \\\\\n",
       "\t hodor     & male      & stark     & HW4       & 7.035    \\\\\n",
       "\t jamie     & male      & lannister & HW5       & 6.429    \\\\\n",
       "\t cersei    & female    & lannister & HW5       & 6.267    \\\\\n",
       "\t hodor     & male      & stark     & HW5       & 3.228    \\\\\n",
       "\\end{tabular}\n"
      ],
      "text/plain": [
       "   ID     sex    house     HW  score\n",
       "1  jamie  male   lannister HW1 7.922\n",
       "2  cersei female lannister HW1 6.545\n",
       "3  hodor  male   stark     HW1 1.080\n",
       "4  jamie  male   lannister HW2 4.843\n",
       "5  cersei female lannister HW2 1.428\n",
       "6  hodor  male   stark     HW2 1.886\n",
       "7  jamie  male   lannister HW3 4.012\n",
       "8  cersei female lannister HW3 4.475\n",
       "9  hodor  male   stark     HW3 7.811\n",
       "10 jamie  male   lannister HW4 2.345\n",
       "11 cersei female lannister HW4 8.489\n",
       "12 hodor  male   stark     HW4 7.035\n",
       "13 jamie  male   lannister HW5 6.429\n",
       "14 cersei female lannister HW5 6.267\n",
       "15 hodor  male   stark     HW5 3.228"
      ]
     },
     "metadata": {},
     "output_type": "display_data"
    }
   ],
   "source": [
    "grades.split <- separate(grades.tidy, info, into = c('sex', 'house'), sep='/')\n",
    "grades.split"
   ]
  }
 ],
 "metadata": {
  "kernelspec": {
   "display_name": "R",
   "language": "R",
   "name": "ir"
  },
  "language_info": {
   "codemirror_mode": "r",
   "file_extension": ".r",
   "mimetype": "text/x-r-source",
   "name": "R",
   "pygments_lexer": "r",
   "version": "3.3.1"
  }
 },
 "nbformat": 4,
 "nbformat_minor": 1
}
