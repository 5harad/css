{
 "cells": [
  {
   "cell_type": "markdown",
   "metadata": {
    "collapsed": false
   },
   "source": [
    "# Data manipulation in `R` with `dplyr`\n"
   ]
  },
  {
   "cell_type": "markdown",
   "metadata": {},
   "source": [
    "First, load `dplyr` and create an example data frame"
   ]
  },
  {
   "cell_type": "code",
   "execution_count": 15,
   "metadata": {
    "collapsed": false
   },
   "outputs": [
    {
     "data": {
      "text/html": [
       "<table>\n",
       "<thead><tr><th scope=col>precinct</th><th scope=col>location.housing</th><th scope=col>count</th><th scope=col>black</th><th scope=col>white</th></tr></thead>\n",
       "<tbody>\n",
       "\t<tr><td>1      </td><td>neither</td><td>400    </td><td>0.05285</td><td>0.09740</td></tr>\n",
       "\t<tr><td>1      </td><td>transit</td><td>398    </td><td>0.16350</td><td>0.45185</td></tr>\n",
       "\t<tr><td>5      </td><td>housing</td><td>295    </td><td>0.00738</td><td>0.04167</td></tr>\n",
       "\t<tr><td>5      </td><td>neither</td><td>608    </td><td>0.05804</td><td>0.15000</td></tr>\n",
       "\t<tr><td>5      </td><td>transit</td><td>230    </td><td>0.16084</td><td>0.43678</td></tr>\n",
       "\t<tr><td>6      </td><td>neither</td><td>866    </td><td>0.05031</td><td>0.10000</td></tr>\n",
       "</tbody>\n",
       "</table>\n"
      ],
      "text/latex": [
       "\\begin{tabular}{r|lllll}\n",
       " precinct & location.housing & count & black & white\\\\\n",
       "\\hline\n",
       "\t 1       & neither & 400     & 0.05285 & 0.09740\\\\\n",
       "\t 1       & transit & 398     & 0.16350 & 0.45185\\\\\n",
       "\t 5       & housing & 295     & 0.00738 & 0.04167\\\\\n",
       "\t 5       & neither & 608     & 0.05804 & 0.15000\\\\\n",
       "\t 5       & transit & 230     & 0.16084 & 0.43678\\\\\n",
       "\t 6       & neither & 866     & 0.05031 & 0.10000\\\\\n",
       "\\end{tabular}\n"
      ],
      "text/plain": [
       "  precinct location.housing count black   white  \n",
       "1 1        neither          400   0.05285 0.09740\n",
       "2 1        transit          398   0.16350 0.45185\n",
       "3 5        housing          295   0.00738 0.04167\n",
       "4 5        neither          608   0.05804 0.15000\n",
       "5 5        transit          230   0.16084 0.43678\n",
       "6 6        neither          866   0.05031 0.10000"
      ]
     },
     "metadata": {},
     "output_type": "display_data"
    },
    {
     "data": {
      "text/html": [
       "<ol class=list-inline>\n",
       "\t<li>'hitrate_by_location'</li>\n",
       "\t<li>'hitrate_by_precinct'</li>\n",
       "\t<li>'overall_hitrate_by_race'</li>\n",
       "</ol>\n"
      ],
      "text/latex": [
       "\\begin{enumerate*}\n",
       "\\item 'hitrate\\_by\\_location'\n",
       "\\item 'hitrate\\_by\\_precinct'\n",
       "\\item 'overall\\_hitrate\\_by\\_race'\n",
       "\\end{enumerate*}\n"
      ],
      "text/markdown": [
       "1. 'hitrate_by_location'\n",
       "2. 'hitrate_by_precinct'\n",
       "3. 'overall_hitrate_by_race'\n",
       "\n",
       "\n"
      ],
      "text/plain": [
       "[1] \"hitrate_by_location\"     \"hitrate_by_precinct\"    \n",
       "[3] \"overall_hitrate_by_race\""
      ]
     },
     "metadata": {},
     "output_type": "display_data"
    }
   ],
   "source": [
    "library(dplyr)\n",
    "\n",
    "load('../data/sqf.Rdata')\n",
    "\n",
    "head(hitrate_by_location)"
   ]
  },
  {
   "cell_type": "markdown",
   "metadata": {},
   "source": [
    "## Filter"
   ]
  },
  {
   "cell_type": "code",
   "execution_count": 8,
   "metadata": {
    "collapsed": false
   },
   "outputs": [
    {
     "data": {
      "text/html": [
       "<table>\n",
       "<thead><tr><th scope=col>precinct</th><th scope=col>location.housing</th><th scope=col>count</th><th scope=col>black</th><th scope=col>white</th></tr></thead>\n",
       "<tbody>\n",
       "\t<tr><td>5      </td><td>housing</td><td>295    </td><td>0.00738</td><td>0.04167</td></tr>\n",
       "\t<tr><td>5      </td><td>neither</td><td>608    </td><td>0.05804</td><td>0.15000</td></tr>\n",
       "\t<tr><td>5      </td><td>transit</td><td>230    </td><td>0.16084</td><td>0.43678</td></tr>\n",
       "</tbody>\n",
       "</table>\n"
      ],
      "text/latex": [
       "\\begin{tabular}{r|lllll}\n",
       " precinct & location.housing & count & black & white\\\\\n",
       "\\hline\n",
       "\t 5       & housing & 295     & 0.00738 & 0.04167\\\\\n",
       "\t 5       & neither & 608     & 0.05804 & 0.15000\\\\\n",
       "\t 5       & transit & 230     & 0.16084 & 0.43678\\\\\n",
       "\\end{tabular}\n"
      ],
      "text/plain": [
       "  precinct location.housing count black   white  \n",
       "1 5        housing          295   0.00738 0.04167\n",
       "2 5        neither          608   0.05804 0.15000\n",
       "3 5        transit          230   0.16084 0.43678"
      ]
     },
     "metadata": {},
     "output_type": "display_data"
    }
   ],
   "source": [
    "hitrate_by_location %>%\n",
    "  filter(precinct == 5) "
   ]
  },
  {
   "cell_type": "markdown",
   "metadata": {},
   "source": [
    "## Select"
   ]
  },
  {
   "cell_type": "code",
   "execution_count": 10,
   "metadata": {
    "collapsed": false
   },
   "outputs": [
    {
     "data": {
      "text/html": [
       "<table>\n",
       "<thead><tr><th scope=col>precinct</th><th scope=col>count</th></tr></thead>\n",
       "<tbody>\n",
       "\t<tr><td>1  </td><td>400</td></tr>\n",
       "\t<tr><td>1  </td><td>398</td></tr>\n",
       "\t<tr><td>5  </td><td>295</td></tr>\n",
       "\t<tr><td>5  </td><td>608</td></tr>\n",
       "\t<tr><td>5  </td><td>230</td></tr>\n",
       "\t<tr><td>6  </td><td>866</td></tr>\n",
       "</tbody>\n",
       "</table>\n"
      ],
      "text/latex": [
       "\\begin{tabular}{r|ll}\n",
       " precinct & count\\\\\n",
       "\\hline\n",
       "\t 1   & 400\\\\\n",
       "\t 1   & 398\\\\\n",
       "\t 5   & 295\\\\\n",
       "\t 5   & 608\\\\\n",
       "\t 5   & 230\\\\\n",
       "\t 6   & 866\\\\\n",
       "\\end{tabular}\n"
      ],
      "text/plain": [
       "  precinct count\n",
       "1 1        400  \n",
       "2 1        398  \n",
       "3 5        295  \n",
       "4 5        608  \n",
       "5 5        230  \n",
       "6 6        866  "
      ]
     },
     "metadata": {},
     "output_type": "display_data"
    }
   ],
   "source": [
    "hitrate_by_location %>%\n",
    "  select(precinct, count) %>%\n",
    "  head"
   ]
  },
  {
   "cell_type": "markdown",
   "metadata": {},
   "source": [
    "## Transform"
   ]
  },
  {
   "cell_type": "code",
   "execution_count": 16,
   "metadata": {
    "collapsed": false
   },
   "outputs": [
    {
     "data": {
      "text/html": [
       "<table>\n",
       "<thead><tr><th scope=col>precinct</th><th scope=col>location.housing</th><th scope=col>count</th><th scope=col>black</th><th scope=col>white</th><th scope=col>more_black</th></tr></thead>\n",
       "<tbody>\n",
       "\t<tr><td>1      </td><td>neither</td><td>400    </td><td>0.05285</td><td>0.09740</td><td>FALSE  </td></tr>\n",
       "\t<tr><td>1      </td><td>transit</td><td>398    </td><td>0.16350</td><td>0.45185</td><td>FALSE  </td></tr>\n",
       "\t<tr><td>5      </td><td>housing</td><td>295    </td><td>0.00738</td><td>0.04167</td><td>FALSE  </td></tr>\n",
       "\t<tr><td>5      </td><td>neither</td><td>608    </td><td>0.05804</td><td>0.15000</td><td>FALSE  </td></tr>\n",
       "\t<tr><td>5      </td><td>transit</td><td>230    </td><td>0.16084</td><td>0.43678</td><td>FALSE  </td></tr>\n",
       "\t<tr><td>6      </td><td>neither</td><td>866    </td><td>0.05031</td><td>0.10000</td><td>FALSE  </td></tr>\n",
       "</tbody>\n",
       "</table>\n"
      ],
      "text/latex": [
       "\\begin{tabular}{r|llllll}\n",
       " precinct & location.housing & count & black & white & more\\_black\\\\\n",
       "\\hline\n",
       "\t 1       & neither & 400     & 0.05285 & 0.09740 & FALSE  \\\\\n",
       "\t 1       & transit & 398     & 0.16350 & 0.45185 & FALSE  \\\\\n",
       "\t 5       & housing & 295     & 0.00738 & 0.04167 & FALSE  \\\\\n",
       "\t 5       & neither & 608     & 0.05804 & 0.15000 & FALSE  \\\\\n",
       "\t 5       & transit & 230     & 0.16084 & 0.43678 & FALSE  \\\\\n",
       "\t 6       & neither & 866     & 0.05031 & 0.10000 & FALSE  \\\\\n",
       "\\end{tabular}\n"
      ],
      "text/plain": [
       "  precinct location.housing count black   white   more_black\n",
       "1 1        neither          400   0.05285 0.09740 FALSE     \n",
       "2 1        transit          398   0.16350 0.45185 FALSE     \n",
       "3 5        housing          295   0.00738 0.04167 FALSE     \n",
       "4 5        neither          608   0.05804 0.15000 FALSE     \n",
       "5 5        transit          230   0.16084 0.43678 FALSE     \n",
       "6 6        neither          866   0.05031 0.10000 FALSE     "
      ]
     },
     "metadata": {},
     "output_type": "display_data"
    }
   ],
   "source": [
    "hitrate_by_location %>%\n",
    "  mutate(more_black=ifelse(black > white, TRUE, FALSE)) %>%\n",
    "  head"
   ]
  },
  {
   "cell_type": "markdown",
   "metadata": {},
   "source": [
    "## Aggregate"
   ]
  },
  {
   "cell_type": "code",
   "execution_count": 18,
   "metadata": {
    "collapsed": false
   },
   "outputs": [
    {
     "data": {
      "text/html": [
       "<table>\n",
       "<thead><tr><th scope=col>high_black_rate</th></tr></thead>\n",
       "<tbody>\n",
       "\t<tr><td>0.2289</td></tr>\n",
       "</tbody>\n",
       "</table>\n"
      ],
      "text/latex": [
       "\\begin{tabular}{r|l}\n",
       " high\\_black\\_rate\\\\\n",
       "\\hline\n",
       "\t 0.2289\\\\\n",
       "\\end{tabular}\n"
      ],
      "text/plain": [
       "  high_black_rate\n",
       "1 0.2289         "
      ]
     },
     "metadata": {},
     "output_type": "display_data"
    }
   ],
   "source": [
    "hitrate_by_location %>%\n",
    "  mutate(more_black=ifelse(black > white, TRUE, FALSE)) %>%\n",
    "  summarize(high_black_rate=mean(more_black))"
   ]
  },
  {
   "cell_type": "markdown",
   "metadata": {},
   "source": [
    "## Sort"
   ]
  },
  {
   "cell_type": "code",
   "execution_count": 20,
   "metadata": {
    "collapsed": false
   },
   "outputs": [
    {
     "data": {
      "text/html": [
       "<table>\n",
       "<thead><tr><th scope=col>precinct</th><th scope=col>location.housing</th><th scope=col>count</th><th scope=col>black</th><th scope=col>white</th></tr></thead>\n",
       "<tbody>\n",
       "\t<tr><td>112    </td><td>housing</td><td> 5     </td><td>0.00000</td><td>0      </td></tr>\n",
       "\t<tr><td>121    </td><td>housing</td><td> 8     </td><td>0.00000</td><td>0      </td></tr>\n",
       "\t<tr><td>33     </td><td>housing</td><td>15     </td><td>0.07143</td><td>0      </td></tr>\n",
       "\t<tr><td>115    </td><td>housing</td><td>16     </td><td>0.10000</td><td>0      </td></tr>\n",
       "\t<tr><td>70     </td><td>housing</td><td>17     </td><td>0.00000</td><td>0      </td></tr>\n",
       "\t<tr><td>13     </td><td>housing</td><td>24     </td><td>0.00000</td><td>0      </td></tr>\n",
       "</tbody>\n",
       "</table>\n"
      ],
      "text/latex": [
       "\\begin{tabular}{r|lllll}\n",
       " precinct & location.housing & count & black & white\\\\\n",
       "\\hline\n",
       "\t 112     & housing &  5      & 0.00000 & 0      \\\\\n",
       "\t 121     & housing &  8      & 0.00000 & 0      \\\\\n",
       "\t 33      & housing & 15      & 0.07143 & 0      \\\\\n",
       "\t 115     & housing & 16      & 0.10000 & 0      \\\\\n",
       "\t 70      & housing & 17      & 0.00000 & 0      \\\\\n",
       "\t 13      & housing & 24      & 0.00000 & 0      \\\\\n",
       "\\end{tabular}\n"
      ],
      "text/plain": [
       "  precinct location.housing count black   white\n",
       "1 112      housing           5    0.00000 0    \n",
       "2 121      housing           8    0.00000 0    \n",
       "3 33       housing          15    0.07143 0    \n",
       "4 115      housing          16    0.10000 0    \n",
       "5 70       housing          17    0.00000 0    \n",
       "6 13       housing          24    0.00000 0    "
      ]
     },
     "metadata": {},
     "output_type": "display_data"
    }
   ],
   "source": [
    "hitrate_by_location %>%\n",
    "  arrange(count) %>%\n",
    "  head"
   ]
  },
  {
   "cell_type": "markdown",
   "metadata": {},
   "source": [
    "## Group-wise operations"
   ]
  },
  {
   "cell_type": "code",
   "execution_count": 21,
   "metadata": {
    "collapsed": false
   },
   "outputs": [
    {
     "data": {
      "text/html": [
       "<table>\n",
       "<thead><tr><th scope=col>location.housing</th><th scope=col>hit_rate_black</th><th scope=col>hit_rate_white</th></tr></thead>\n",
       "<tbody>\n",
       "\t<tr><td>housing</td><td>0.01346</td><td>0.01940</td></tr>\n",
       "\t<tr><td>neither</td><td>0.03448</td><td>0.06592</td></tr>\n",
       "\t<tr><td>transit</td><td>0.17082</td><td>0.36224</td></tr>\n",
       "</tbody>\n",
       "</table>\n"
      ],
      "text/latex": [
       "\\begin{tabular}{r|lll}\n",
       " location.housing & hit\\_rate\\_black & hit\\_rate\\_white\\\\\n",
       "\\hline\n",
       "\t housing & 0.01346 & 0.01940\\\\\n",
       "\t neither & 0.03448 & 0.06592\\\\\n",
       "\t transit & 0.17082 & 0.36224\\\\\n",
       "\\end{tabular}\n"
      ],
      "text/plain": [
       "  location.housing hit_rate_black hit_rate_white\n",
       "1 housing          0.01346        0.01940       \n",
       "2 neither          0.03448        0.06592       \n",
       "3 transit          0.17082        0.36224       "
      ]
     },
     "metadata": {},
     "output_type": "display_data"
    }
   ],
   "source": [
    "hitrate_by_location %>% \n",
    "  group_by(location.housing) %>%\n",
    "  summarize(hit_rate_black=mean(black), hit_rate_white=mean(white))"
   ]
  },
  {
   "cell_type": "code",
   "execution_count": 23,
   "metadata": {
    "collapsed": false
   },
   "outputs": [
    {
     "data": {
      "text/html": [
       "<table>\n",
       "<thead><tr><th scope=col>precinct</th><th scope=col>location.housing</th><th scope=col>hit_rate_black</th><th scope=col>hit_rate_white</th></tr></thead>\n",
       "<tbody>\n",
       "\t<tr><td>1      </td><td>neither</td><td>0.05285</td><td>0.09740</td></tr>\n",
       "\t<tr><td>1      </td><td>transit</td><td>0.16350</td><td>0.45185</td></tr>\n",
       "\t<tr><td>5      </td><td>housing</td><td>0.00738</td><td>0.04167</td></tr>\n",
       "\t<tr><td>5      </td><td>neither</td><td>0.05804</td><td>0.15000</td></tr>\n",
       "\t<tr><td>5      </td><td>transit</td><td>0.16084</td><td>0.43678</td></tr>\n",
       "\t<tr><td>6      </td><td>neither</td><td>0.05031</td><td>0.10000</td></tr>\n",
       "</tbody>\n",
       "</table>\n"
      ],
      "text/latex": [
       "\\begin{tabular}{r|llll}\n",
       " precinct & location.housing & hit\\_rate\\_black & hit\\_rate\\_white\\\\\n",
       "\\hline\n",
       "\t 1       & neither & 0.05285 & 0.09740\\\\\n",
       "\t 1       & transit & 0.16350 & 0.45185\\\\\n",
       "\t 5       & housing & 0.00738 & 0.04167\\\\\n",
       "\t 5       & neither & 0.05804 & 0.15000\\\\\n",
       "\t 5       & transit & 0.16084 & 0.43678\\\\\n",
       "\t 6       & neither & 0.05031 & 0.10000\\\\\n",
       "\\end{tabular}\n"
      ],
      "text/plain": [
       "  precinct location.housing hit_rate_black hit_rate_white\n",
       "1 1        neither          0.05285        0.09740       \n",
       "2 1        transit          0.16350        0.45185       \n",
       "3 5        housing          0.00738        0.04167       \n",
       "4 5        neither          0.05804        0.15000       \n",
       "5 5        transit          0.16084        0.43678       \n",
       "6 6        neither          0.05031        0.10000       "
      ]
     },
     "metadata": {},
     "output_type": "display_data"
    }
   ],
   "source": [
    "hitrate_by_location %>% \n",
    "  group_by(precinct, location.housing) %>%\n",
    "  summarize(hit_rate_black=mean(black), hit_rate_white=mean(white)) %>%\n",
    "  head"
   ]
  },
  {
   "cell_type": "markdown",
   "metadata": {},
   "source": [
    "## Joins"
   ]
  },
  {
   "cell_type": "code",
   "execution_count": 38,
   "metadata": {
    "collapsed": false
   },
   "outputs": [
    {
     "data": {
      "text/html": [
       "<table>\n",
       "<thead><tr><th scope=col>user</th><th scope=col>sex</th></tr></thead>\n",
       "<tbody>\n",
       "\t<tr><td> 23   </td><td>male  </td></tr>\n",
       "\t<tr><td>789   </td><td>female</td></tr>\n",
       "\t<tr><td>234   </td><td>female</td></tr>\n",
       "\t<tr><td>  7   </td><td>male  </td></tr>\n",
       "\t<tr><td> 26   </td><td>male  </td></tr>\n",
       "\t<tr><td>567   </td><td>female</td></tr>\n",
       "\t<tr><td>  2   </td><td>female</td></tr>\n",
       "</tbody>\n",
       "</table>\n"
      ],
      "text/latex": [
       "\\begin{tabular}{r|ll}\n",
       " user & sex\\\\\n",
       "\\hline\n",
       "\t  23    & male  \\\\\n",
       "\t 789    & female\\\\\n",
       "\t 234    & female\\\\\n",
       "\t   7    & male  \\\\\n",
       "\t  26    & male  \\\\\n",
       "\t 567    & female\\\\\n",
       "\t   2    & female\\\\\n",
       "\\end{tabular}\n"
      ],
      "text/plain": [
       "  user sex   \n",
       "1  23  male  \n",
       "2 789  female\n",
       "3 234  female\n",
       "4   7  male  \n",
       "5  26  male  \n",
       "6 567  female\n",
       "7   2  female"
      ]
     },
     "metadata": {},
     "output_type": "display_data"
    },
    {
     "data": {
      "text/html": [
       "<table>\n",
       "<thead><tr><th scope=col>user</th><th scope=col>activity</th></tr></thead>\n",
       "<tbody>\n",
       "\t<tr><td> 23</td><td>3  </td></tr>\n",
       "\t<tr><td>789</td><td>2  </td></tr>\n",
       "\t<tr><td>234</td><td>1  </td></tr>\n",
       "\t<tr><td>  7</td><td>1  </td></tr>\n",
       "\t<tr><td>  2</td><td>1  </td></tr>\n",
       "\t<tr><td>  8</td><td>3  </td></tr>\n",
       "</tbody>\n",
       "</table>\n"
      ],
      "text/latex": [
       "\\begin{tabular}{r|ll}\n",
       " user & activity\\\\\n",
       "\\hline\n",
       "\t  23 & 3  \\\\\n",
       "\t 789 & 2  \\\\\n",
       "\t 234 & 1  \\\\\n",
       "\t   7 & 1  \\\\\n",
       "\t   2 & 1  \\\\\n",
       "\t   8 & 3  \\\\\n",
       "\\end{tabular}\n"
      ],
      "text/plain": [
       "  user activity\n",
       "1  23  3       \n",
       "2 789  2       \n",
       "3 234  1       \n",
       "4   7  1       \n",
       "5   2  1       \n",
       "6   8  3       "
      ]
     },
     "metadata": {},
     "output_type": "display_data"
    }
   ],
   "source": [
    "users <- data.frame(\n",
    "  user=c(23, 789, 234, 7, 26, 567, 2),\n",
    "  sex=c('male', 'female', 'female', 'male', 'male', 'female', 'female')\n",
    ")\n",
    "\n",
    "activity <- data.frame(\n",
    "  user=c(23, 789, 234, 7, 2, 8),\n",
    "  activity=c(3, 2, 1, 1, 1, 3)\n",
    ")\n",
    "\n",
    "users\n",
    "activity"
   ]
  },
  {
   "cell_type": "markdown",
   "metadata": {},
   "source": [
    "### *Left* join"
   ]
  },
  {
   "cell_type": "code",
   "execution_count": 39,
   "metadata": {
    "collapsed": false
   },
   "outputs": [
    {
     "name": "stderr",
     "output_type": "stream",
     "text": [
      "Joining, by = \"user\"\n"
     ]
    },
    {
     "data": {
      "text/html": [
       "<table>\n",
       "<thead><tr><th scope=col>user</th><th scope=col>sex</th><th scope=col>activity</th></tr></thead>\n",
       "<tbody>\n",
       "\t<tr><td> 23   </td><td>male  </td><td> 3    </td></tr>\n",
       "\t<tr><td>789   </td><td>female</td><td> 2    </td></tr>\n",
       "\t<tr><td>234   </td><td>female</td><td> 1    </td></tr>\n",
       "\t<tr><td>  7   </td><td>male  </td><td> 1    </td></tr>\n",
       "\t<tr><td> 26   </td><td>male  </td><td>NA    </td></tr>\n",
       "\t<tr><td>567   </td><td>female</td><td>NA    </td></tr>\n",
       "\t<tr><td>  2   </td><td>female</td><td> 1    </td></tr>\n",
       "</tbody>\n",
       "</table>\n"
      ],
      "text/latex": [
       "\\begin{tabular}{r|lll}\n",
       " user & sex & activity\\\\\n",
       "\\hline\n",
       "\t  23    & male   &  3    \\\\\n",
       "\t 789    & female &  2    \\\\\n",
       "\t 234    & female &  1    \\\\\n",
       "\t   7    & male   &  1    \\\\\n",
       "\t  26    & male   & NA    \\\\\n",
       "\t 567    & female & NA    \\\\\n",
       "\t   2    & female &  1    \\\\\n",
       "\\end{tabular}\n"
      ],
      "text/plain": [
       "  user sex    activity\n",
       "1  23  male    3      \n",
       "2 789  female  2      \n",
       "3 234  female  1      \n",
       "4   7  male    1      \n",
       "5  26  male   NA      \n",
       "6 567  female NA      \n",
       "7   2  female  1      "
      ]
     },
     "metadata": {},
     "output_type": "display_data"
    }
   ],
   "source": [
    "left_join(users, activity)"
   ]
  },
  {
   "cell_type": "markdown",
   "metadata": {},
   "source": [
    "### *Inner* join"
   ]
  },
  {
   "cell_type": "code",
   "execution_count": 40,
   "metadata": {
    "collapsed": false
   },
   "outputs": [
    {
     "name": "stderr",
     "output_type": "stream",
     "text": [
      "Joining, by = \"user\"\n"
     ]
    },
    {
     "data": {
      "text/html": [
       "<table>\n",
       "<thead><tr><th scope=col>user</th><th scope=col>sex</th><th scope=col>activity</th></tr></thead>\n",
       "<tbody>\n",
       "\t<tr><td> 23   </td><td>male  </td><td>3     </td></tr>\n",
       "\t<tr><td>789   </td><td>female</td><td>2     </td></tr>\n",
       "\t<tr><td>234   </td><td>female</td><td>1     </td></tr>\n",
       "\t<tr><td>  7   </td><td>male  </td><td>1     </td></tr>\n",
       "\t<tr><td>  2   </td><td>female</td><td>1     </td></tr>\n",
       "</tbody>\n",
       "</table>\n"
      ],
      "text/latex": [
       "\\begin{tabular}{r|lll}\n",
       " user & sex & activity\\\\\n",
       "\\hline\n",
       "\t  23    & male   & 3     \\\\\n",
       "\t 789    & female & 2     \\\\\n",
       "\t 234    & female & 1     \\\\\n",
       "\t   7    & male   & 1     \\\\\n",
       "\t   2    & female & 1     \\\\\n",
       "\\end{tabular}\n"
      ],
      "text/plain": [
       "  user sex    activity\n",
       "1  23  male   3       \n",
       "2 789  female 2       \n",
       "3 234  female 1       \n",
       "4   7  male   1       \n",
       "5   2  female 1       "
      ]
     },
     "metadata": {},
     "output_type": "display_data"
    }
   ],
   "source": [
    "inner_join(users, activity)"
   ]
  },
  {
   "cell_type": "markdown",
   "metadata": {},
   "source": [
    "### *Full* join"
   ]
  },
  {
   "cell_type": "code",
   "execution_count": 41,
   "metadata": {
    "collapsed": false
   },
   "outputs": [
    {
     "name": "stderr",
     "output_type": "stream",
     "text": [
      "Joining, by = \"user\"\n"
     ]
    },
    {
     "data": {
      "text/html": [
       "<table>\n",
       "<thead><tr><th scope=col>user</th><th scope=col>sex</th><th scope=col>activity</th></tr></thead>\n",
       "<tbody>\n",
       "\t<tr><td> 23   </td><td>male  </td><td> 3    </td></tr>\n",
       "\t<tr><td>789   </td><td>female</td><td> 2    </td></tr>\n",
       "\t<tr><td>234   </td><td>female</td><td> 1    </td></tr>\n",
       "\t<tr><td>  7   </td><td>male  </td><td> 1    </td></tr>\n",
       "\t<tr><td> 26   </td><td>male  </td><td>NA    </td></tr>\n",
       "\t<tr><td>567   </td><td>female</td><td>NA    </td></tr>\n",
       "\t<tr><td>  2   </td><td>female</td><td> 1    </td></tr>\n",
       "\t<tr><td>  8   </td><td>NA    </td><td> 3    </td></tr>\n",
       "</tbody>\n",
       "</table>\n"
      ],
      "text/latex": [
       "\\begin{tabular}{r|lll}\n",
       " user & sex & activity\\\\\n",
       "\\hline\n",
       "\t  23    & male   &  3    \\\\\n",
       "\t 789    & female &  2    \\\\\n",
       "\t 234    & female &  1    \\\\\n",
       "\t   7    & male   &  1    \\\\\n",
       "\t  26    & male   & NA    \\\\\n",
       "\t 567    & female & NA    \\\\\n",
       "\t   2    & female &  1    \\\\\n",
       "\t   8    & NA     &  3    \\\\\n",
       "\\end{tabular}\n"
      ],
      "text/plain": [
       "  user sex    activity\n",
       "1  23  male    3      \n",
       "2 789  female  2      \n",
       "3 234  female  1      \n",
       "4   7  male    1      \n",
       "5  26  male   NA      \n",
       "6 567  female NA      \n",
       "7   2  female  1      \n",
       "8   8  NA      3      "
      ]
     },
     "metadata": {},
     "output_type": "display_data"
    }
   ],
   "source": [
    "full_join(users, activity)"
   ]
  }
 ],
 "metadata": {
  "kernelspec": {
   "display_name": "R",
   "language": "R",
   "name": "ir"
  },
  "language_info": {
   "codemirror_mode": "r",
   "file_extension": ".r",
   "mimetype": "text/x-r-source",
   "name": "R",
   "pygments_lexer": "r",
   "version": "3.3.1"
  }
 },
 "nbformat": 4,
 "nbformat_minor": 1
}
