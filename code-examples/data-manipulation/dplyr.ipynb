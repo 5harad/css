{
 "cells": [
  {
   "cell_type": "markdown",
   "metadata": {
    "collapsed": false
   },
   "source": [
    "# Data manipulation in `R` with `dplyr`\n"
   ]
  },
  {
   "cell_type": "markdown",
   "metadata": {},
   "source": [
    "First, load `dplyr` and create an example data frame"
   ]
  },
  {
   "cell_type": "code",
   "execution_count": 21,
   "metadata": {
    "collapsed": false
   },
   "outputs": [
    {
     "data": {
      "text/html": [
       "<table>\n",
       "<thead><tr><th scope=col>date</th><th scope=col>precinct</th><th scope=col>race</th><th scope=col>weapon</th><th scope=col>age</th></tr></thead>\n",
       "<tbody>\n",
       "\t<tr><td>2012-07-15</td><td>72        </td><td>black     </td><td>FALSE     </td><td>26        </td></tr>\n",
       "\t<tr><td>2012-07-15</td><td>10        </td><td>white     </td><td> TRUE     </td><td>62        </td></tr>\n",
       "\t<tr><td>2012-07-15</td><td>10        </td><td>black     </td><td>FALSE     </td><td>18        </td></tr>\n",
       "\t<tr><td>2012-07-15</td><td>72        </td><td>black     </td><td>FALSE     </td><td>37        </td></tr>\n",
       "\t<tr><td>2012-07-15</td><td> 3        </td><td>black     </td><td> TRUE     </td><td>54        </td></tr>\n",
       "\t<tr><td>2012-07-15</td><td>72        </td><td>white     </td><td>FALSE     </td><td>47        </td></tr>\n",
       "\t<tr><td>2012-07-15</td><td> 3        </td><td>black     </td><td>FALSE     </td><td>34        </td></tr>\n",
       "\t<tr><td>2012-07-15</td><td> 3        </td><td>black     </td><td>FALSE     </td><td>29        </td></tr>\n",
       "\t<tr><td>2012-07-15</td><td> 3        </td><td>black     </td><td>FALSE     </td><td>17        </td></tr>\n",
       "</tbody>\n",
       "</table>\n"
      ],
      "text/latex": [
       "\\begin{tabular}{r|lllll}\n",
       " date & precinct & race & weapon & age\\\\\n",
       "\\hline\n",
       "\t 2012-07-15 & 72         & black      & FALSE      & 26        \\\\\n",
       "\t 2012-07-15 & 10         & white      &  TRUE      & 62        \\\\\n",
       "\t 2012-07-15 & 10         & black      & FALSE      & 18        \\\\\n",
       "\t 2012-07-15 & 72         & black      & FALSE      & 37        \\\\\n",
       "\t 2012-07-15 &  3         & black      &  TRUE      & 54        \\\\\n",
       "\t 2012-07-15 & 72         & white      & FALSE      & 47        \\\\\n",
       "\t 2012-07-15 &  3         & black      & FALSE      & 34        \\\\\n",
       "\t 2012-07-15 &  3         & black      & FALSE      & 29        \\\\\n",
       "\t 2012-07-15 &  3         & black      & FALSE      & 17        \\\\\n",
       "\\end{tabular}\n"
      ],
      "text/plain": [
       "  date       precinct race  weapon age\n",
       "1 2012-07-15 72       black FALSE  26 \n",
       "2 2012-07-15 10       white  TRUE  62 \n",
       "3 2012-07-15 10       black FALSE  18 \n",
       "4 2012-07-15 72       black FALSE  37 \n",
       "5 2012-07-15  3       black  TRUE  54 \n",
       "6 2012-07-15 72       white FALSE  47 \n",
       "7 2012-07-15  3       black FALSE  34 \n",
       "8 2012-07-15  3       black FALSE  29 \n",
       "9 2012-07-15  3       black FALSE  17 "
      ]
     },
     "metadata": {},
     "output_type": "display_data"
    }
   ],
   "source": [
    "library(dplyr)\n",
    "\n",
    "stop_data <- data.frame(\n",
    "    date=as.Date(rep('2012-07-15', 9)),\n",
    "    precinct=c(72, 10, 10, 72, 3, 72, 3, 3, 3),\n",
    "    race=c('black', 'white', 'black', 'black', 'black', 'white', 'black', 'black', 'black'),\n",
    "    weapon=c(FALSE, TRUE, FALSE, FALSE, TRUE, FALSE, FALSE, FALSE, FALSE),\n",
    "    age=c(26, 62, 18, 37, 54, 47, 34, 29, 17)\n",
    ")\n",
    "\n",
    "stop_data"
   ]
  },
  {
   "cell_type": "markdown",
   "metadata": {},
   "source": [
    "## Filter"
   ]
  },
  {
   "cell_type": "code",
   "execution_count": 19,
   "metadata": {
    "collapsed": false
   },
   "outputs": [
    {
     "data": {
      "text/html": [
       "<table>\n",
       "<thead><tr><th scope=col>date</th><th scope=col>precinct</th><th scope=col>race</th><th scope=col>weapon</th></tr></thead>\n",
       "<tbody>\n",
       "\t<tr><td>2012-07-15</td><td>3         </td><td>black     </td><td> TRUE     </td></tr>\n",
       "\t<tr><td>2012-07-15</td><td>3         </td><td>black     </td><td>FALSE     </td></tr>\n",
       "\t<tr><td>2012-07-15</td><td>3         </td><td>black     </td><td>FALSE     </td></tr>\n",
       "\t<tr><td>2012-07-15</td><td>3         </td><td>black     </td><td>FALSE     </td></tr>\n",
       "</tbody>\n",
       "</table>\n"
      ],
      "text/latex": [
       "\\begin{tabular}{r|llll}\n",
       " date & precinct & race & weapon\\\\\n",
       "\\hline\n",
       "\t 2012-07-15 & 3          & black      &  TRUE     \\\\\n",
       "\t 2012-07-15 & 3          & black      & FALSE     \\\\\n",
       "\t 2012-07-15 & 3          & black      & FALSE     \\\\\n",
       "\t 2012-07-15 & 3          & black      & FALSE     \\\\\n",
       "\\end{tabular}\n"
      ],
      "text/plain": [
       "  date       precinct race  weapon\n",
       "1 2012-07-15 3        black  TRUE \n",
       "2 2012-07-15 3        black FALSE \n",
       "3 2012-07-15 3        black FALSE \n",
       "4 2012-07-15 3        black FALSE "
      ]
     },
     "metadata": {},
     "output_type": "display_data"
    }
   ],
   "source": [
    "stop_data %>%\n",
    "  filter(precinct == 3)"
   ]
  },
  {
   "cell_type": "markdown",
   "metadata": {},
   "source": [
    "## Select"
   ]
  },
  {
   "cell_type": "code",
   "execution_count": 20,
   "metadata": {
    "collapsed": false
   },
   "outputs": [
    {
     "data": {
      "text/html": [
       "<table>\n",
       "<thead><tr><th scope=col>date</th><th scope=col>precinct</th></tr></thead>\n",
       "<tbody>\n",
       "\t<tr><td>2012-07-15</td><td>72        </td></tr>\n",
       "\t<tr><td>2012-07-15</td><td>10        </td></tr>\n",
       "\t<tr><td>2012-07-15</td><td>10        </td></tr>\n",
       "\t<tr><td>2012-07-15</td><td>72        </td></tr>\n",
       "\t<tr><td>2012-07-15</td><td> 3        </td></tr>\n",
       "\t<tr><td>2012-07-15</td><td>72        </td></tr>\n",
       "\t<tr><td>2012-07-15</td><td> 3        </td></tr>\n",
       "\t<tr><td>2012-07-15</td><td> 3        </td></tr>\n",
       "\t<tr><td>2012-07-15</td><td> 3        </td></tr>\n",
       "</tbody>\n",
       "</table>\n"
      ],
      "text/latex": [
       "\\begin{tabular}{r|ll}\n",
       " date & precinct\\\\\n",
       "\\hline\n",
       "\t 2012-07-15 & 72        \\\\\n",
       "\t 2012-07-15 & 10        \\\\\n",
       "\t 2012-07-15 & 10        \\\\\n",
       "\t 2012-07-15 & 72        \\\\\n",
       "\t 2012-07-15 &  3        \\\\\n",
       "\t 2012-07-15 & 72        \\\\\n",
       "\t 2012-07-15 &  3        \\\\\n",
       "\t 2012-07-15 &  3        \\\\\n",
       "\t 2012-07-15 &  3        \\\\\n",
       "\\end{tabular}\n"
      ],
      "text/plain": [
       "  date       precinct\n",
       "1 2012-07-15 72      \n",
       "2 2012-07-15 10      \n",
       "3 2012-07-15 10      \n",
       "4 2012-07-15 72      \n",
       "5 2012-07-15  3      \n",
       "6 2012-07-15 72      \n",
       "7 2012-07-15  3      \n",
       "8 2012-07-15  3      \n",
       "9 2012-07-15  3      "
      ]
     },
     "metadata": {},
     "output_type": "display_data"
    }
   ],
   "source": [
    "stop_data %>%\n",
    "  select(date, precinct)"
   ]
  },
  {
   "cell_type": "markdown",
   "metadata": {},
   "source": [
    "## Transform"
   ]
  },
  {
   "cell_type": "code",
   "execution_count": 23,
   "metadata": {
    "collapsed": false
   },
   "outputs": [
    {
     "data": {
      "text/html": [
       "<table>\n",
       "<thead><tr><th scope=col>date</th><th scope=col>precinct</th><th scope=col>race</th><th scope=col>weapon</th><th scope=col>age</th><th scope=col>teen</th></tr></thead>\n",
       "<tbody>\n",
       "\t<tr><td>2012-07-15</td><td>72        </td><td>black     </td><td>FALSE     </td><td>26        </td><td>FALSE     </td></tr>\n",
       "\t<tr><td>2012-07-15</td><td>10        </td><td>white     </td><td> TRUE     </td><td>62        </td><td>FALSE     </td></tr>\n",
       "\t<tr><td>2012-07-15</td><td>10        </td><td>black     </td><td>FALSE     </td><td>18        </td><td> TRUE     </td></tr>\n",
       "\t<tr><td>2012-07-15</td><td>72        </td><td>black     </td><td>FALSE     </td><td>37        </td><td>FALSE     </td></tr>\n",
       "\t<tr><td>2012-07-15</td><td> 3        </td><td>black     </td><td> TRUE     </td><td>54        </td><td>FALSE     </td></tr>\n",
       "\t<tr><td>2012-07-15</td><td>72        </td><td>white     </td><td>FALSE     </td><td>47        </td><td>FALSE     </td></tr>\n",
       "\t<tr><td>2012-07-15</td><td> 3        </td><td>black     </td><td>FALSE     </td><td>34        </td><td>FALSE     </td></tr>\n",
       "\t<tr><td>2012-07-15</td><td> 3        </td><td>black     </td><td>FALSE     </td><td>29        </td><td>FALSE     </td></tr>\n",
       "\t<tr><td>2012-07-15</td><td> 3        </td><td>black     </td><td>FALSE     </td><td>17        </td><td> TRUE     </td></tr>\n",
       "</tbody>\n",
       "</table>\n"
      ],
      "text/latex": [
       "\\begin{tabular}{r|llllll}\n",
       " date & precinct & race & weapon & age & teen\\\\\n",
       "\\hline\n",
       "\t 2012-07-15 & 72         & black      & FALSE      & 26         & FALSE     \\\\\n",
       "\t 2012-07-15 & 10         & white      &  TRUE      & 62         & FALSE     \\\\\n",
       "\t 2012-07-15 & 10         & black      & FALSE      & 18         &  TRUE     \\\\\n",
       "\t 2012-07-15 & 72         & black      & FALSE      & 37         & FALSE     \\\\\n",
       "\t 2012-07-15 &  3         & black      &  TRUE      & 54         & FALSE     \\\\\n",
       "\t 2012-07-15 & 72         & white      & FALSE      & 47         & FALSE     \\\\\n",
       "\t 2012-07-15 &  3         & black      & FALSE      & 34         & FALSE     \\\\\n",
       "\t 2012-07-15 &  3         & black      & FALSE      & 29         & FALSE     \\\\\n",
       "\t 2012-07-15 &  3         & black      & FALSE      & 17         &  TRUE     \\\\\n",
       "\\end{tabular}\n"
      ],
      "text/plain": [
       "  date       precinct race  weapon age teen \n",
       "1 2012-07-15 72       black FALSE  26  FALSE\n",
       "2 2012-07-15 10       white  TRUE  62  FALSE\n",
       "3 2012-07-15 10       black FALSE  18   TRUE\n",
       "4 2012-07-15 72       black FALSE  37  FALSE\n",
       "5 2012-07-15  3       black  TRUE  54  FALSE\n",
       "6 2012-07-15 72       white FALSE  47  FALSE\n",
       "7 2012-07-15  3       black FALSE  34  FALSE\n",
       "8 2012-07-15  3       black FALSE  29  FALSE\n",
       "9 2012-07-15  3       black FALSE  17   TRUE"
      ]
     },
     "metadata": {},
     "output_type": "display_data"
    }
   ],
   "source": [
    "stop_data %>%\n",
    "  mutate(teen=ifelse(age < 20 & age > 12, TRUE, FALSE))"
   ]
  },
  {
   "cell_type": "markdown",
   "metadata": {},
   "source": [
    "## Aggregate"
   ]
  },
  {
   "cell_type": "code",
   "execution_count": 24,
   "metadata": {
    "collapsed": false
   },
   "outputs": [
    {
     "data": {
      "text/html": [
       "<table>\n",
       "<thead><tr><th scope=col>hit_rate</th></tr></thead>\n",
       "<tbody>\n",
       "\t<tr><td>0.2222</td></tr>\n",
       "</tbody>\n",
       "</table>\n"
      ],
      "text/latex": [
       "\\begin{tabular}{r|l}\n",
       " hit\\_rate\\\\\n",
       "\\hline\n",
       "\t 0.2222\\\\\n",
       "\\end{tabular}\n"
      ],
      "text/plain": [
       "  hit_rate\n",
       "1 0.2222  "
      ]
     },
     "metadata": {},
     "output_type": "display_data"
    }
   ],
   "source": [
    "stop_data %>%\n",
    "  summarize(hit_rate=mean(weapon))"
   ]
  },
  {
   "cell_type": "markdown",
   "metadata": {},
   "source": [
    "## Sort"
   ]
  },
  {
   "cell_type": "code",
   "execution_count": 25,
   "metadata": {
    "collapsed": false
   },
   "outputs": [
    {
     "data": {
      "text/html": [
       "<table>\n",
       "<thead><tr><th scope=col>date</th><th scope=col>precinct</th><th scope=col>race</th><th scope=col>weapon</th><th scope=col>age</th></tr></thead>\n",
       "<tbody>\n",
       "\t<tr><td>2012-07-15</td><td> 3        </td><td>black     </td><td>FALSE     </td><td>17        </td></tr>\n",
       "\t<tr><td>2012-07-15</td><td>10        </td><td>black     </td><td>FALSE     </td><td>18        </td></tr>\n",
       "\t<tr><td>2012-07-15</td><td>72        </td><td>black     </td><td>FALSE     </td><td>26        </td></tr>\n",
       "\t<tr><td>2012-07-15</td><td> 3        </td><td>black     </td><td>FALSE     </td><td>29        </td></tr>\n",
       "\t<tr><td>2012-07-15</td><td> 3        </td><td>black     </td><td>FALSE     </td><td>34        </td></tr>\n",
       "\t<tr><td>2012-07-15</td><td>72        </td><td>black     </td><td>FALSE     </td><td>37        </td></tr>\n",
       "\t<tr><td>2012-07-15</td><td>72        </td><td>white     </td><td>FALSE     </td><td>47        </td></tr>\n",
       "\t<tr><td>2012-07-15</td><td> 3        </td><td>black     </td><td> TRUE     </td><td>54        </td></tr>\n",
       "\t<tr><td>2012-07-15</td><td>10        </td><td>white     </td><td> TRUE     </td><td>62        </td></tr>\n",
       "</tbody>\n",
       "</table>\n"
      ],
      "text/latex": [
       "\\begin{tabular}{r|lllll}\n",
       " date & precinct & race & weapon & age\\\\\n",
       "\\hline\n",
       "\t 2012-07-15 &  3         & black      & FALSE      & 17        \\\\\n",
       "\t 2012-07-15 & 10         & black      & FALSE      & 18        \\\\\n",
       "\t 2012-07-15 & 72         & black      & FALSE      & 26        \\\\\n",
       "\t 2012-07-15 &  3         & black      & FALSE      & 29        \\\\\n",
       "\t 2012-07-15 &  3         & black      & FALSE      & 34        \\\\\n",
       "\t 2012-07-15 & 72         & black      & FALSE      & 37        \\\\\n",
       "\t 2012-07-15 & 72         & white      & FALSE      & 47        \\\\\n",
       "\t 2012-07-15 &  3         & black      &  TRUE      & 54        \\\\\n",
       "\t 2012-07-15 & 10         & white      &  TRUE      & 62        \\\\\n",
       "\\end{tabular}\n"
      ],
      "text/plain": [
       "  date       precinct race  weapon age\n",
       "1 2012-07-15  3       black FALSE  17 \n",
       "2 2012-07-15 10       black FALSE  18 \n",
       "3 2012-07-15 72       black FALSE  26 \n",
       "4 2012-07-15  3       black FALSE  29 \n",
       "5 2012-07-15  3       black FALSE  34 \n",
       "6 2012-07-15 72       black FALSE  37 \n",
       "7 2012-07-15 72       white FALSE  47 \n",
       "8 2012-07-15  3       black  TRUE  54 \n",
       "9 2012-07-15 10       white  TRUE  62 "
      ]
     },
     "metadata": {},
     "output_type": "display_data"
    }
   ],
   "source": [
    "stop_data %>%\n",
    "  arrange(age)"
   ]
  },
  {
   "cell_type": "markdown",
   "metadata": {},
   "source": [
    "## Group-wise operations"
   ]
  },
  {
   "cell_type": "code",
   "execution_count": 27,
   "metadata": {
    "collapsed": false
   },
   "outputs": [
    {
     "data": {
      "text/html": [
       "<table>\n",
       "<thead><tr><th scope=col>race</th><th scope=col>hit_rate</th></tr></thead>\n",
       "<tbody>\n",
       "\t<tr><td>black </td><td>0.1429</td></tr>\n",
       "\t<tr><td>white </td><td>0.5000</td></tr>\n",
       "</tbody>\n",
       "</table>\n"
      ],
      "text/latex": [
       "\\begin{tabular}{r|ll}\n",
       " race & hit\\_rate\\\\\n",
       "\\hline\n",
       "\t black  & 0.1429\\\\\n",
       "\t white  & 0.5000\\\\\n",
       "\\end{tabular}\n"
      ],
      "text/plain": [
       "  race  hit_rate\n",
       "1 black 0.1429  \n",
       "2 white 0.5000  "
      ]
     },
     "metadata": {},
     "output_type": "display_data"
    }
   ],
   "source": [
    "stop_data %>% \n",
    "  group_by(race) %>%\n",
    "  summarize(hit_rate=mean(weapon))"
   ]
  },
  {
   "cell_type": "code",
   "execution_count": 28,
   "metadata": {
    "collapsed": false
   },
   "outputs": [
    {
     "data": {
      "text/html": [
       "<table>\n",
       "<thead><tr><th scope=col>precinct</th><th scope=col>hit_rate</th></tr></thead>\n",
       "<tbody>\n",
       "\t<tr><td> 3  </td><td>0.25</td></tr>\n",
       "\t<tr><td>10  </td><td>0.50</td></tr>\n",
       "\t<tr><td>72  </td><td>0.00</td></tr>\n",
       "</tbody>\n",
       "</table>\n"
      ],
      "text/latex": [
       "\\begin{tabular}{r|ll}\n",
       " precinct & hit\\_rate\\\\\n",
       "\\hline\n",
       "\t  3   & 0.25\\\\\n",
       "\t 10   & 0.50\\\\\n",
       "\t 72   & 0.00\\\\\n",
       "\\end{tabular}\n"
      ],
      "text/plain": [
       "  precinct hit_rate\n",
       "1  3       0.25    \n",
       "2 10       0.50    \n",
       "3 72       0.00    "
      ]
     },
     "metadata": {},
     "output_type": "display_data"
    }
   ],
   "source": [
    "stop_data %>% \n",
    "  group_by(precinct) %>%\n",
    "  summarize(hit_rate=mean(weapon))"
   ]
  },
  {
   "cell_type": "code",
   "execution_count": 29,
   "metadata": {
    "collapsed": false
   },
   "outputs": [
    {
     "data": {
      "text/html": [
       "<table>\n",
       "<thead><tr><th scope=col>precinct</th><th scope=col>race</th><th scope=col>hit_rate</th></tr></thead>\n",
       "<tbody>\n",
       "\t<tr><td> 3   </td><td>black</td><td>0.25 </td></tr>\n",
       "\t<tr><td>10   </td><td>black</td><td>0.00 </td></tr>\n",
       "\t<tr><td>10   </td><td>white</td><td>1.00 </td></tr>\n",
       "\t<tr><td>72   </td><td>black</td><td>0.00 </td></tr>\n",
       "\t<tr><td>72   </td><td>white</td><td>0.00 </td></tr>\n",
       "</tbody>\n",
       "</table>\n"
      ],
      "text/latex": [
       "\\begin{tabular}{r|lll}\n",
       " precinct & race & hit\\_rate\\\\\n",
       "\\hline\n",
       "\t  3    & black & 0.25 \\\\\n",
       "\t 10    & black & 0.00 \\\\\n",
       "\t 10    & white & 1.00 \\\\\n",
       "\t 72    & black & 0.00 \\\\\n",
       "\t 72    & white & 0.00 \\\\\n",
       "\\end{tabular}\n"
      ],
      "text/plain": [
       "  precinct race  hit_rate\n",
       "1  3       black 0.25    \n",
       "2 10       black 0.00    \n",
       "3 10       white 1.00    \n",
       "4 72       black 0.00    \n",
       "5 72       white 0.00    "
      ]
     },
     "metadata": {},
     "output_type": "display_data"
    }
   ],
   "source": [
    "stop_data %>%\n",
    "  group_by(precinct, race) %>%\n",
    "  summarize(hit_rate=mean(weapon))"
   ]
  },
  {
   "cell_type": "markdown",
   "metadata": {},
   "source": [
    "## Joins"
   ]
  },
  {
   "cell_type": "code",
   "execution_count": 38,
   "metadata": {
    "collapsed": false
   },
   "outputs": [
    {
     "data": {
      "text/html": [
       "<table>\n",
       "<thead><tr><th scope=col>user</th><th scope=col>sex</th></tr></thead>\n",
       "<tbody>\n",
       "\t<tr><td> 23   </td><td>male  </td></tr>\n",
       "\t<tr><td>789   </td><td>female</td></tr>\n",
       "\t<tr><td>234   </td><td>female</td></tr>\n",
       "\t<tr><td>  7   </td><td>male  </td></tr>\n",
       "\t<tr><td> 26   </td><td>male  </td></tr>\n",
       "\t<tr><td>567   </td><td>female</td></tr>\n",
       "\t<tr><td>  2   </td><td>female</td></tr>\n",
       "</tbody>\n",
       "</table>\n"
      ],
      "text/latex": [
       "\\begin{tabular}{r|ll}\n",
       " user & sex\\\\\n",
       "\\hline\n",
       "\t  23    & male  \\\\\n",
       "\t 789    & female\\\\\n",
       "\t 234    & female\\\\\n",
       "\t   7    & male  \\\\\n",
       "\t  26    & male  \\\\\n",
       "\t 567    & female\\\\\n",
       "\t   2    & female\\\\\n",
       "\\end{tabular}\n"
      ],
      "text/plain": [
       "  user sex   \n",
       "1  23  male  \n",
       "2 789  female\n",
       "3 234  female\n",
       "4   7  male  \n",
       "5  26  male  \n",
       "6 567  female\n",
       "7   2  female"
      ]
     },
     "metadata": {},
     "output_type": "display_data"
    },
    {
     "data": {
      "text/html": [
       "<table>\n",
       "<thead><tr><th scope=col>user</th><th scope=col>activity</th></tr></thead>\n",
       "<tbody>\n",
       "\t<tr><td> 23</td><td>3  </td></tr>\n",
       "\t<tr><td>789</td><td>2  </td></tr>\n",
       "\t<tr><td>234</td><td>1  </td></tr>\n",
       "\t<tr><td>  7</td><td>1  </td></tr>\n",
       "\t<tr><td>  2</td><td>1  </td></tr>\n",
       "\t<tr><td>  8</td><td>3  </td></tr>\n",
       "</tbody>\n",
       "</table>\n"
      ],
      "text/latex": [
       "\\begin{tabular}{r|ll}\n",
       " user & activity\\\\\n",
       "\\hline\n",
       "\t  23 & 3  \\\\\n",
       "\t 789 & 2  \\\\\n",
       "\t 234 & 1  \\\\\n",
       "\t   7 & 1  \\\\\n",
       "\t   2 & 1  \\\\\n",
       "\t   8 & 3  \\\\\n",
       "\\end{tabular}\n"
      ],
      "text/plain": [
       "  user activity\n",
       "1  23  3       \n",
       "2 789  2       \n",
       "3 234  1       \n",
       "4   7  1       \n",
       "5   2  1       \n",
       "6   8  3       "
      ]
     },
     "metadata": {},
     "output_type": "display_data"
    }
   ],
   "source": [
    "users <- data.frame(\n",
    "  user=c(23, 789, 234, 7, 26, 567, 2),\n",
    "  sex=c('male', 'female', 'female', 'male', 'male', 'female', 'female')\n",
    ")\n",
    "\n",
    "activity <- data.frame(\n",
    "  user=c(23, 789, 234, 7, 2, 8),\n",
    "  activity=c(3, 2, 1, 1, 1, 3)\n",
    ")\n",
    "\n",
    "users\n",
    "activity"
   ]
  },
  {
   "cell_type": "markdown",
   "metadata": {},
   "source": [
    "### *Left* join"
   ]
  },
  {
   "cell_type": "code",
   "execution_count": 39,
   "metadata": {
    "collapsed": false
   },
   "outputs": [
    {
     "name": "stderr",
     "output_type": "stream",
     "text": [
      "Joining, by = \"user\"\n"
     ]
    },
    {
     "data": {
      "text/html": [
       "<table>\n",
       "<thead><tr><th scope=col>user</th><th scope=col>sex</th><th scope=col>activity</th></tr></thead>\n",
       "<tbody>\n",
       "\t<tr><td> 23   </td><td>male  </td><td> 3    </td></tr>\n",
       "\t<tr><td>789   </td><td>female</td><td> 2    </td></tr>\n",
       "\t<tr><td>234   </td><td>female</td><td> 1    </td></tr>\n",
       "\t<tr><td>  7   </td><td>male  </td><td> 1    </td></tr>\n",
       "\t<tr><td> 26   </td><td>male  </td><td>NA    </td></tr>\n",
       "\t<tr><td>567   </td><td>female</td><td>NA    </td></tr>\n",
       "\t<tr><td>  2   </td><td>female</td><td> 1    </td></tr>\n",
       "</tbody>\n",
       "</table>\n"
      ],
      "text/latex": [
       "\\begin{tabular}{r|lll}\n",
       " user & sex & activity\\\\\n",
       "\\hline\n",
       "\t  23    & male   &  3    \\\\\n",
       "\t 789    & female &  2    \\\\\n",
       "\t 234    & female &  1    \\\\\n",
       "\t   7    & male   &  1    \\\\\n",
       "\t  26    & male   & NA    \\\\\n",
       "\t 567    & female & NA    \\\\\n",
       "\t   2    & female &  1    \\\\\n",
       "\\end{tabular}\n"
      ],
      "text/plain": [
       "  user sex    activity\n",
       "1  23  male    3      \n",
       "2 789  female  2      \n",
       "3 234  female  1      \n",
       "4   7  male    1      \n",
       "5  26  male   NA      \n",
       "6 567  female NA      \n",
       "7   2  female  1      "
      ]
     },
     "metadata": {},
     "output_type": "display_data"
    }
   ],
   "source": [
    "left_join(users, activity)"
   ]
  },
  {
   "cell_type": "markdown",
   "metadata": {},
   "source": [
    "### *Inner* join"
   ]
  },
  {
   "cell_type": "code",
   "execution_count": 40,
   "metadata": {
    "collapsed": false
   },
   "outputs": [
    {
     "name": "stderr",
     "output_type": "stream",
     "text": [
      "Joining, by = \"user\"\n"
     ]
    },
    {
     "data": {
      "text/html": [
       "<table>\n",
       "<thead><tr><th scope=col>user</th><th scope=col>sex</th><th scope=col>activity</th></tr></thead>\n",
       "<tbody>\n",
       "\t<tr><td> 23   </td><td>male  </td><td>3     </td></tr>\n",
       "\t<tr><td>789   </td><td>female</td><td>2     </td></tr>\n",
       "\t<tr><td>234   </td><td>female</td><td>1     </td></tr>\n",
       "\t<tr><td>  7   </td><td>male  </td><td>1     </td></tr>\n",
       "\t<tr><td>  2   </td><td>female</td><td>1     </td></tr>\n",
       "</tbody>\n",
       "</table>\n"
      ],
      "text/latex": [
       "\\begin{tabular}{r|lll}\n",
       " user & sex & activity\\\\\n",
       "\\hline\n",
       "\t  23    & male   & 3     \\\\\n",
       "\t 789    & female & 2     \\\\\n",
       "\t 234    & female & 1     \\\\\n",
       "\t   7    & male   & 1     \\\\\n",
       "\t   2    & female & 1     \\\\\n",
       "\\end{tabular}\n"
      ],
      "text/plain": [
       "  user sex    activity\n",
       "1  23  male   3       \n",
       "2 789  female 2       \n",
       "3 234  female 1       \n",
       "4   7  male   1       \n",
       "5   2  female 1       "
      ]
     },
     "metadata": {},
     "output_type": "display_data"
    }
   ],
   "source": [
    "inner_join(users, activity)"
   ]
  },
  {
   "cell_type": "markdown",
   "metadata": {},
   "source": [
    "### *Full* join"
   ]
  },
  {
   "cell_type": "code",
   "execution_count": 41,
   "metadata": {
    "collapsed": false
   },
   "outputs": [
    {
     "name": "stderr",
     "output_type": "stream",
     "text": [
      "Joining, by = \"user\"\n"
     ]
    },
    {
     "data": {
      "text/html": [
       "<table>\n",
       "<thead><tr><th scope=col>user</th><th scope=col>sex</th><th scope=col>activity</th></tr></thead>\n",
       "<tbody>\n",
       "\t<tr><td> 23   </td><td>male  </td><td> 3    </td></tr>\n",
       "\t<tr><td>789   </td><td>female</td><td> 2    </td></tr>\n",
       "\t<tr><td>234   </td><td>female</td><td> 1    </td></tr>\n",
       "\t<tr><td>  7   </td><td>male  </td><td> 1    </td></tr>\n",
       "\t<tr><td> 26   </td><td>male  </td><td>NA    </td></tr>\n",
       "\t<tr><td>567   </td><td>female</td><td>NA    </td></tr>\n",
       "\t<tr><td>  2   </td><td>female</td><td> 1    </td></tr>\n",
       "\t<tr><td>  8   </td><td>NA    </td><td> 3    </td></tr>\n",
       "</tbody>\n",
       "</table>\n"
      ],
      "text/latex": [
       "\\begin{tabular}{r|lll}\n",
       " user & sex & activity\\\\\n",
       "\\hline\n",
       "\t  23    & male   &  3    \\\\\n",
       "\t 789    & female &  2    \\\\\n",
       "\t 234    & female &  1    \\\\\n",
       "\t   7    & male   &  1    \\\\\n",
       "\t  26    & male   & NA    \\\\\n",
       "\t 567    & female & NA    \\\\\n",
       "\t   2    & female &  1    \\\\\n",
       "\t   8    & NA     &  3    \\\\\n",
       "\\end{tabular}\n"
      ],
      "text/plain": [
       "  user sex    activity\n",
       "1  23  male    3      \n",
       "2 789  female  2      \n",
       "3 234  female  1      \n",
       "4   7  male    1      \n",
       "5  26  male   NA      \n",
       "6 567  female NA      \n",
       "7   2  female  1      \n",
       "8   8  NA      3      "
      ]
     },
     "metadata": {},
     "output_type": "display_data"
    }
   ],
   "source": [
    "full_join(users, activity)"
   ]
  }
 ],
 "metadata": {
  "kernelspec": {
   "display_name": "R",
   "language": "R",
   "name": "ir"
  },
  "language_info": {
   "codemirror_mode": "r",
   "file_extension": ".r",
   "mimetype": "text/x-r-source",
   "name": "R",
   "pygments_lexer": "r",
   "version": "3.3.1"
  }
 },
 "nbformat": 4,
 "nbformat_minor": 1
}
